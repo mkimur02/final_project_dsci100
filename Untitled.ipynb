{
 "cells": [
  {
   "cell_type": "markdown",
   "id": "6c778e7e-063a-401d-980f-2539b808ab37",
   "metadata": {},
   "source": [
    "# Speed Dating Analysis Report\n",
    "<img src=\"https://images.seattletimes.com/wp-content/uploads/2018/12/speeddating-1205-RGB-1.jpg?d=1200x630\" width = \"600\"/>\n",
    "\n",
    "Source: https://www.seattletimes.com/life/lifestyle/speed-dating-in-the-age-of-swiping-the-irl-dating-trend-is-still-ringing-bells/\n",
    "\n",
    "#### Can we predict whether two heterosexual people matched or not based on 6 attributes after 4 minutes of speed dating? \n",
    "\n",
    "### Introduction:\n",
    "\"Speed dating\" is a matchmaking process that involves two people getting to know one another within a very short time frame (usually less than 10 minutes), and then switching to another person once the time is up. This speedy and energetic approach to meeting other single people may result in a match between two individuals where they both choose to pursue dating. But what factors influence whether or not two people match? <b> Is there a way to predict whether two people will match or not in a speed date based on certain attributes? </b> \n",
    "The Speed Dating dataset posted by Ulrik Thyge Pedersen gathered data from participants in a four-minute speed dating experiment where they were asked to rate their date on six different attributes: attractiveness, sincerity, intelligence, fun, ambition, and shared interests. Using this data, we will attempt to predict whether or not two people will match based on these attributes."
   ]
  },
  {
   "cell_type": "code",
   "execution_count": 1,
   "id": "4628e9f2-c357-49f8-ae3a-12fca0e95580",
   "metadata": {},
   "outputs": [],
   "source": [
    "#Run this cell to import program\n",
    "import altair as alt\n",
    "import pandas as pd\n",
    "import numpy as np\n",
    "import seaborn as sns\n",
    "import matplotlib.pyplot as plt\n",
    "%matplotlib inline\n",
    "import sklearn\n",
    "from sklearn.compose import make_column_transformer\n",
    "from sklearn.metrics.pairwise import euclidean_distances\n",
    "from sklearn.neighbors import KNeighborsClassifier\n",
    "from sklearn.pipeline import Pipeline, make_pipeline\n",
    "from sklearn.preprocessing import OneHotEncoder, StandardScaler\n",
    "from sklearn.model_selection import GridSearchCV, cross_validate, train_test_split"
   ]
  },
  {
   "cell_type": "markdown",
   "id": "6456a3f7-3d8b-49cd-a3cb-e0ebbf6b8ed1",
   "metadata": {},
   "source": [
    "#### Speed Dating Dataframe\n",
    "\n",
    "To begin, we read in the raw data."
   ]
  },
  {
   "cell_type": "code",
   "execution_count": 2,
   "id": "b9cb0691-9acc-4445-97c3-66f90682fbc7",
   "metadata": {},
   "outputs": [
    {
     "data": {
      "text/html": [
       "<div>\n",
       "<style scoped>\n",
       "    .dataframe tbody tr th:only-of-type {\n",
       "        vertical-align: middle;\n",
       "    }\n",
       "\n",
       "    .dataframe tbody tr th {\n",
       "        vertical-align: top;\n",
       "    }\n",
       "\n",
       "    .dataframe thead th {\n",
       "        text-align: right;\n",
       "    }\n",
       "</style>\n",
       "<table border=\"1\" class=\"dataframe\">\n",
       "  <thead>\n",
       "    <tr style=\"text-align: right;\">\n",
       "      <th></th>\n",
       "      <th>has_null</th>\n",
       "      <th>wave</th>\n",
       "      <th>gender</th>\n",
       "      <th>age</th>\n",
       "      <th>age_o</th>\n",
       "      <th>d_age</th>\n",
       "      <th>d_d_age</th>\n",
       "      <th>race</th>\n",
       "      <th>race_o</th>\n",
       "      <th>samerace</th>\n",
       "      <th>...</th>\n",
       "      <th>d_expected_num_interested_in_me</th>\n",
       "      <th>d_expected_num_matches</th>\n",
       "      <th>like</th>\n",
       "      <th>guess_prob_liked</th>\n",
       "      <th>d_like</th>\n",
       "      <th>d_guess_prob_liked</th>\n",
       "      <th>met</th>\n",
       "      <th>decision</th>\n",
       "      <th>decision_o</th>\n",
       "      <th>match</th>\n",
       "    </tr>\n",
       "  </thead>\n",
       "  <tbody>\n",
       "    <tr>\n",
       "      <th>0</th>\n",
       "      <td>b''</td>\n",
       "      <td>1.0</td>\n",
       "      <td>b'female'</td>\n",
       "      <td>21.0</td>\n",
       "      <td>27.0</td>\n",
       "      <td>6.0</td>\n",
       "      <td>b'[4-6]'</td>\n",
       "      <td>b'Asian/Pacific Islander/Asian-American'</td>\n",
       "      <td>b'European/Caucasian-American'</td>\n",
       "      <td>b'0'</td>\n",
       "      <td>...</td>\n",
       "      <td>b'[0-3]'</td>\n",
       "      <td>b'[3-5]'</td>\n",
       "      <td>7.0</td>\n",
       "      <td>6.0</td>\n",
       "      <td>b'[6-8]'</td>\n",
       "      <td>b'[5-6]'</td>\n",
       "      <td>0.0</td>\n",
       "      <td>b'1'</td>\n",
       "      <td>b'0'</td>\n",
       "      <td>b'0'</td>\n",
       "    </tr>\n",
       "    <tr>\n",
       "      <th>1</th>\n",
       "      <td>b''</td>\n",
       "      <td>1.0</td>\n",
       "      <td>b'female'</td>\n",
       "      <td>21.0</td>\n",
       "      <td>22.0</td>\n",
       "      <td>1.0</td>\n",
       "      <td>b'[0-1]'</td>\n",
       "      <td>b'Asian/Pacific Islander/Asian-American'</td>\n",
       "      <td>b'European/Caucasian-American'</td>\n",
       "      <td>b'0'</td>\n",
       "      <td>...</td>\n",
       "      <td>b'[0-3]'</td>\n",
       "      <td>b'[3-5]'</td>\n",
       "      <td>7.0</td>\n",
       "      <td>5.0</td>\n",
       "      <td>b'[6-8]'</td>\n",
       "      <td>b'[5-6]'</td>\n",
       "      <td>1.0</td>\n",
       "      <td>b'1'</td>\n",
       "      <td>b'0'</td>\n",
       "      <td>b'0'</td>\n",
       "    </tr>\n",
       "    <tr>\n",
       "      <th>2</th>\n",
       "      <td>b''</td>\n",
       "      <td>1.0</td>\n",
       "      <td>b'female'</td>\n",
       "      <td>21.0</td>\n",
       "      <td>22.0</td>\n",
       "      <td>1.0</td>\n",
       "      <td>b'[0-1]'</td>\n",
       "      <td>b'Asian/Pacific Islander/Asian-American'</td>\n",
       "      <td>b'Asian/Pacific Islander/Asian-American'</td>\n",
       "      <td>b'1'</td>\n",
       "      <td>...</td>\n",
       "      <td>b'[0-3]'</td>\n",
       "      <td>b'[3-5]'</td>\n",
       "      <td>7.0</td>\n",
       "      <td>NaN</td>\n",
       "      <td>b'[6-8]'</td>\n",
       "      <td>b'[0-4]'</td>\n",
       "      <td>1.0</td>\n",
       "      <td>b'1'</td>\n",
       "      <td>b'1'</td>\n",
       "      <td>b'1'</td>\n",
       "    </tr>\n",
       "    <tr>\n",
       "      <th>3</th>\n",
       "      <td>b''</td>\n",
       "      <td>1.0</td>\n",
       "      <td>b'female'</td>\n",
       "      <td>21.0</td>\n",
       "      <td>23.0</td>\n",
       "      <td>2.0</td>\n",
       "      <td>b'[2-3]'</td>\n",
       "      <td>b'Asian/Pacific Islander/Asian-American'</td>\n",
       "      <td>b'European/Caucasian-American'</td>\n",
       "      <td>b'0'</td>\n",
       "      <td>...</td>\n",
       "      <td>b'[0-3]'</td>\n",
       "      <td>b'[3-5]'</td>\n",
       "      <td>7.0</td>\n",
       "      <td>6.0</td>\n",
       "      <td>b'[6-8]'</td>\n",
       "      <td>b'[5-6]'</td>\n",
       "      <td>0.0</td>\n",
       "      <td>b'1'</td>\n",
       "      <td>b'1'</td>\n",
       "      <td>b'1'</td>\n",
       "    </tr>\n",
       "    <tr>\n",
       "      <th>4</th>\n",
       "      <td>b''</td>\n",
       "      <td>1.0</td>\n",
       "      <td>b'female'</td>\n",
       "      <td>21.0</td>\n",
       "      <td>24.0</td>\n",
       "      <td>3.0</td>\n",
       "      <td>b'[2-3]'</td>\n",
       "      <td>b'Asian/Pacific Islander/Asian-American'</td>\n",
       "      <td>b'Latino/Hispanic American'</td>\n",
       "      <td>b'0'</td>\n",
       "      <td>...</td>\n",
       "      <td>b'[0-3]'</td>\n",
       "      <td>b'[3-5]'</td>\n",
       "      <td>6.0</td>\n",
       "      <td>6.0</td>\n",
       "      <td>b'[6-8]'</td>\n",
       "      <td>b'[5-6]'</td>\n",
       "      <td>0.0</td>\n",
       "      <td>b'1'</td>\n",
       "      <td>b'1'</td>\n",
       "      <td>b'1'</td>\n",
       "    </tr>\n",
       "  </tbody>\n",
       "</table>\n",
       "<p>5 rows × 123 columns</p>\n",
       "</div>"
      ],
      "text/plain": [
       "  has_null  wave     gender   age  age_o  d_age   d_d_age  \\\n",
       "0      b''   1.0  b'female'  21.0   27.0    6.0  b'[4-6]'   \n",
       "1      b''   1.0  b'female'  21.0   22.0    1.0  b'[0-1]'   \n",
       "2      b''   1.0  b'female'  21.0   22.0    1.0  b'[0-1]'   \n",
       "3      b''   1.0  b'female'  21.0   23.0    2.0  b'[2-3]'   \n",
       "4      b''   1.0  b'female'  21.0   24.0    3.0  b'[2-3]'   \n",
       "\n",
       "                                       race  \\\n",
       "0  b'Asian/Pacific Islander/Asian-American'   \n",
       "1  b'Asian/Pacific Islander/Asian-American'   \n",
       "2  b'Asian/Pacific Islander/Asian-American'   \n",
       "3  b'Asian/Pacific Islander/Asian-American'   \n",
       "4  b'Asian/Pacific Islander/Asian-American'   \n",
       "\n",
       "                                     race_o samerace  ...  \\\n",
       "0            b'European/Caucasian-American'     b'0'  ...   \n",
       "1            b'European/Caucasian-American'     b'0'  ...   \n",
       "2  b'Asian/Pacific Islander/Asian-American'     b'1'  ...   \n",
       "3            b'European/Caucasian-American'     b'0'  ...   \n",
       "4               b'Latino/Hispanic American'     b'0'  ...   \n",
       "\n",
       "   d_expected_num_interested_in_me  d_expected_num_matches like  \\\n",
       "0                         b'[0-3]'                b'[3-5]'  7.0   \n",
       "1                         b'[0-3]'                b'[3-5]'  7.0   \n",
       "2                         b'[0-3]'                b'[3-5]'  7.0   \n",
       "3                         b'[0-3]'                b'[3-5]'  7.0   \n",
       "4                         b'[0-3]'                b'[3-5]'  6.0   \n",
       "\n",
       "  guess_prob_liked    d_like  d_guess_prob_liked  met  decision  decision_o  \\\n",
       "0              6.0  b'[6-8]'            b'[5-6]'  0.0      b'1'        b'0'   \n",
       "1              5.0  b'[6-8]'            b'[5-6]'  1.0      b'1'        b'0'   \n",
       "2              NaN  b'[6-8]'            b'[0-4]'  1.0      b'1'        b'1'   \n",
       "3              6.0  b'[6-8]'            b'[5-6]'  0.0      b'1'        b'1'   \n",
       "4              6.0  b'[6-8]'            b'[5-6]'  0.0      b'1'        b'1'   \n",
       "\n",
       "   match  \n",
       "0   b'0'  \n",
       "1   b'0'  \n",
       "2   b'1'  \n",
       "3   b'1'  \n",
       "4   b'1'  \n",
       "\n",
       "[5 rows x 123 columns]"
      ]
     },
     "execution_count": 2,
     "metadata": {},
     "output_type": "execute_result"
    }
   ],
   "source": [
    "import matplotlib.pyplot as plt\n",
    "\n",
    "df_speeddating = pd.read_csv(\"speeddating.csv\")\n",
    "\n",
    "df_speeddating.head(5)"
   ]
  },
  {
   "cell_type": "markdown",
   "id": "66fa8c0a-0ebf-402f-9a54-3548c72ad6e6",
   "metadata": {},
   "source": [
    "#### Cleaning and wrangling data\n",
    "Next, we shall make our speed dating data suitable for our analysis. First, we extract the six attributes (attractive_partner, sincere_partner, intelligence_partner, funny_partner, ambition_partner, shared_interests_partner) columns and the class column (match) that are required for this analysis using square brackets. Then, by using .dropna(), we remove the rows that contain NULL value, \"NaN\". We will also rename the values of the class column \"match\" from b'0' to \"fail\" and b'1' to \"success\". Moreover, we must convert the \"match\" column stored as an object type to a categorical type. \n"
   ]
  },
  {
   "cell_type": "code",
   "execution_count": 3,
   "id": "fa9a9fbb-f4c4-4d5f-a0f7-e097bbf41b62",
   "metadata": {},
   "outputs": [
    {
     "data": {
      "text/html": [
       "<div>\n",
       "<style scoped>\n",
       "    .dataframe tbody tr th:only-of-type {\n",
       "        vertical-align: middle;\n",
       "    }\n",
       "\n",
       "    .dataframe tbody tr th {\n",
       "        vertical-align: top;\n",
       "    }\n",
       "\n",
       "    .dataframe thead th {\n",
       "        text-align: right;\n",
       "    }\n",
       "</style>\n",
       "<table border=\"1\" class=\"dataframe\">\n",
       "  <thead>\n",
       "    <tr style=\"text-align: right;\">\n",
       "      <th></th>\n",
       "      <th>match</th>\n",
       "      <th>attractive_partner</th>\n",
       "      <th>sincere_partner</th>\n",
       "      <th>intelligence_partner</th>\n",
       "      <th>funny_partner</th>\n",
       "      <th>ambition_partner</th>\n",
       "      <th>shared_interests_partner</th>\n",
       "    </tr>\n",
       "  </thead>\n",
       "  <tbody>\n",
       "    <tr>\n",
       "      <th>3852</th>\n",
       "      <td>fail</td>\n",
       "      <td>9.0</td>\n",
       "      <td>8.0</td>\n",
       "      <td>8.0</td>\n",
       "      <td>8.0</td>\n",
       "      <td>6.0</td>\n",
       "      <td>2.0</td>\n",
       "    </tr>\n",
       "    <tr>\n",
       "      <th>1938</th>\n",
       "      <td>fail</td>\n",
       "      <td>5.0</td>\n",
       "      <td>5.0</td>\n",
       "      <td>6.0</td>\n",
       "      <td>6.0</td>\n",
       "      <td>5.0</td>\n",
       "      <td>5.0</td>\n",
       "    </tr>\n",
       "    <tr>\n",
       "      <th>4879</th>\n",
       "      <td>fail</td>\n",
       "      <td>7.0</td>\n",
       "      <td>5.0</td>\n",
       "      <td>6.0</td>\n",
       "      <td>4.0</td>\n",
       "      <td>5.0</td>\n",
       "      <td>5.0</td>\n",
       "    </tr>\n",
       "    <tr>\n",
       "      <th>1619</th>\n",
       "      <td>fail</td>\n",
       "      <td>7.0</td>\n",
       "      <td>10.0</td>\n",
       "      <td>8.0</td>\n",
       "      <td>7.0</td>\n",
       "      <td>7.0</td>\n",
       "      <td>3.0</td>\n",
       "    </tr>\n",
       "    <tr>\n",
       "      <th>3151</th>\n",
       "      <td>fail</td>\n",
       "      <td>7.0</td>\n",
       "      <td>6.0</td>\n",
       "      <td>7.0</td>\n",
       "      <td>6.0</td>\n",
       "      <td>6.0</td>\n",
       "      <td>5.0</td>\n",
       "    </tr>\n",
       "  </tbody>\n",
       "</table>\n",
       "</div>"
      ],
      "text/plain": [
       "     match  attractive_partner  sincere_partner  intelligence_partner  \\\n",
       "3852  fail                 9.0              8.0                   8.0   \n",
       "1938  fail                 5.0              5.0                   6.0   \n",
       "4879  fail                 7.0              5.0                   6.0   \n",
       "1619  fail                 7.0             10.0                   8.0   \n",
       "3151  fail                 7.0              6.0                   7.0   \n",
       "\n",
       "      funny_partner  ambition_partner  shared_interests_partner  \n",
       "3852            8.0               6.0                       2.0  \n",
       "1938            6.0               5.0                       5.0  \n",
       "4879            4.0               5.0                       5.0  \n",
       "1619            7.0               7.0                       3.0  \n",
       "3151            6.0               6.0                       5.0  "
      ]
     },
     "execution_count": 3,
     "metadata": {},
     "output_type": "execute_result"
    }
   ],
   "source": [
    "speeddating = df_speeddating[[\"match\",\"attractive_partner\", \"sincere_partner\",\"intelligence_partner\", \"funny_partner\", \"ambition_partner\", \"shared_interests_partner\"]]\n",
    "\n",
    "speeddating = speeddating.sample(n=1000, random_state=2023).dropna()\n",
    "\n",
    "speeddating[\"match\"] = speeddating[\"match\"].replace({\"b'0'\":\"fail\",\"b'1'\":\"success\"}).astype(\"category\")\n",
    "# speeddating.set_title(\"\")\n",
    "speeddating.head(5)"
   ]
  },
  {
   "cell_type": "markdown",
   "id": "01f847d2-f522-423e-b11f-83c8c3a93499",
   "metadata": {},
   "source": [
    "#### Summary of Speeddating Data\n",
    "With seven columns, one category type, and six numeric types, we can see that our data is now organised and prepared to be divided into train and test sets using the info function. "
   ]
  },
  {
   "cell_type": "code",
   "execution_count": 4,
   "id": "554bbdfa-f316-4ad1-b0bb-79623b926c53",
   "metadata": {},
   "outputs": [
    {
     "name": "stdout",
     "output_type": "stream",
     "text": [
      "<class 'pandas.core.frame.DataFrame'>\n",
      "Int64Index: 826 entries, 3852 to 58\n",
      "Data columns (total 7 columns):\n",
      " #   Column                    Non-Null Count  Dtype   \n",
      "---  ------                    --------------  -----   \n",
      " 0   match                     826 non-null    category\n",
      " 1   attractive_partner        826 non-null    float64 \n",
      " 2   sincere_partner           826 non-null    float64 \n",
      " 3   intelligence_partner      826 non-null    float64 \n",
      " 4   funny_partner             826 non-null    float64 \n",
      " 5   ambition_partner          826 non-null    float64 \n",
      " 6   shared_interests_partner  826 non-null    float64 \n",
      "dtypes: category(1), float64(6)\n",
      "memory usage: 46.1 KB\n"
     ]
    }
   ],
   "source": [
    "speeddating.info()"
   ]
  },
  {
   "cell_type": "markdown",
   "id": "04318dda-8a50-4a2c-b43e-51832dd2e9db",
   "metadata": {
    "tags": []
   },
   "source": [
    "#### Creating the training and test sets\n",
    "Next, we will split the cleaned speed-dating data into a training and testing set. We will then use the training set to perform an exploratory analysis on the six variables and to explore the dataset. After making the classifier to predict the \"match\" of speed-dating with training set, we use the test set to evaluate the accuracy of the model to predict the \"match\" on new observation. "
   ]
  },
  {
   "cell_type": "code",
   "execution_count": 5,
   "id": "d9065991-1e29-4949-b18e-5030e9738391",
   "metadata": {},
   "outputs": [
    {
     "data": {
      "text/html": [
       "<div>\n",
       "<style scoped>\n",
       "    .dataframe tbody tr th:only-of-type {\n",
       "        vertical-align: middle;\n",
       "    }\n",
       "\n",
       "    .dataframe tbody tr th {\n",
       "        vertical-align: top;\n",
       "    }\n",
       "\n",
       "    .dataframe thead th {\n",
       "        text-align: right;\n",
       "    }\n",
       "</style>\n",
       "<table border=\"1\" class=\"dataframe\">\n",
       "  <thead>\n",
       "    <tr style=\"text-align: right;\">\n",
       "      <th></th>\n",
       "      <th>match</th>\n",
       "      <th>attractive_partner</th>\n",
       "      <th>sincere_partner</th>\n",
       "      <th>intelligence_partner</th>\n",
       "      <th>funny_partner</th>\n",
       "      <th>ambition_partner</th>\n",
       "      <th>shared_interests_partner</th>\n",
       "    </tr>\n",
       "  </thead>\n",
       "  <tbody>\n",
       "    <tr>\n",
       "      <th>1219</th>\n",
       "      <td>success</td>\n",
       "      <td>8.0</td>\n",
       "      <td>10.0</td>\n",
       "      <td>8.0</td>\n",
       "      <td>9.0</td>\n",
       "      <td>8.0</td>\n",
       "      <td>8.0</td>\n",
       "    </tr>\n",
       "    <tr>\n",
       "      <th>446</th>\n",
       "      <td>fail</td>\n",
       "      <td>2.0</td>\n",
       "      <td>5.0</td>\n",
       "      <td>4.0</td>\n",
       "      <td>3.0</td>\n",
       "      <td>4.0</td>\n",
       "      <td>2.0</td>\n",
       "    </tr>\n",
       "    <tr>\n",
       "      <th>1214</th>\n",
       "      <td>fail</td>\n",
       "      <td>2.0</td>\n",
       "      <td>3.0</td>\n",
       "      <td>4.0</td>\n",
       "      <td>5.0</td>\n",
       "      <td>4.0</td>\n",
       "      <td>2.0</td>\n",
       "    </tr>\n",
       "    <tr>\n",
       "      <th>6729</th>\n",
       "      <td>fail</td>\n",
       "      <td>5.0</td>\n",
       "      <td>5.0</td>\n",
       "      <td>8.0</td>\n",
       "      <td>6.0</td>\n",
       "      <td>9.0</td>\n",
       "      <td>3.0</td>\n",
       "    </tr>\n",
       "    <tr>\n",
       "      <th>6186</th>\n",
       "      <td>fail</td>\n",
       "      <td>8.0</td>\n",
       "      <td>7.0</td>\n",
       "      <td>6.0</td>\n",
       "      <td>8.0</td>\n",
       "      <td>6.0</td>\n",
       "      <td>7.0</td>\n",
       "    </tr>\n",
       "  </tbody>\n",
       "</table>\n",
       "</div>"
      ],
      "text/plain": [
       "        match  attractive_partner  sincere_partner  intelligence_partner  \\\n",
       "1219  success                 8.0             10.0                   8.0   \n",
       "446      fail                 2.0              5.0                   4.0   \n",
       "1214     fail                 2.0              3.0                   4.0   \n",
       "6729     fail                 5.0              5.0                   8.0   \n",
       "6186     fail                 8.0              7.0                   6.0   \n",
       "\n",
       "      funny_partner  ambition_partner  shared_interests_partner  \n",
       "1219            9.0               8.0                       8.0  \n",
       "446             3.0               4.0                       2.0  \n",
       "1214            5.0               4.0                       2.0  \n",
       "6729            6.0               9.0                       3.0  \n",
       "6186            8.0               6.0                       7.0  "
      ]
     },
     "execution_count": 5,
     "metadata": {},
     "output_type": "execute_result"
    }
   ],
   "source": [
    "speeddating_training, speeddating_testing = train_test_split(\n",
    "   speeddating, train_size=0.75, random_state=2023 # do not change the random_state\n",
    ")\n",
    "speeddating_training = pd.DataFrame(speeddating_training)\n",
    "speeddating_training.head(5)"
   ]
  },
  {
   "cell_type": "markdown",
   "id": "9970fee5-965f-4e9c-b4cf-b7c29341cddc",
   "metadata": {},
   "source": [
    "#### Checking the \"match\" data distribution"
   ]
  },
  {
   "cell_type": "code",
   "execution_count": 6,
   "id": "2d484f99-a4e2-469b-8a81-00d8f2e74eb0",
   "metadata": {},
   "outputs": [
    {
     "data": {
      "text/html": [
       "<div>\n",
       "<style scoped>\n",
       "    .dataframe tbody tr th:only-of-type {\n",
       "        vertical-align: middle;\n",
       "    }\n",
       "\n",
       "    .dataframe tbody tr th {\n",
       "        vertical-align: top;\n",
       "    }\n",
       "\n",
       "    .dataframe thead th {\n",
       "        text-align: right;\n",
       "    }\n",
       "</style>\n",
       "<table border=\"1\" class=\"dataframe\">\n",
       "  <thead>\n",
       "    <tr style=\"text-align: right;\">\n",
       "      <th></th>\n",
       "      <th>count</th>\n",
       "      <th>percentage</th>\n",
       "    </tr>\n",
       "    <tr>\n",
       "      <th>match</th>\n",
       "      <th></th>\n",
       "      <th></th>\n",
       "    </tr>\n",
       "  </thead>\n",
       "  <tbody>\n",
       "    <tr>\n",
       "      <th>fail</th>\n",
       "      <td>514</td>\n",
       "      <td>83.037157</td>\n",
       "    </tr>\n",
       "    <tr>\n",
       "      <th>success</th>\n",
       "      <td>105</td>\n",
       "      <td>16.962843</td>\n",
       "    </tr>\n",
       "  </tbody>\n",
       "</table>\n",
       "</div>"
      ],
      "text/plain": [
       "         count  percentage\n",
       "match                     \n",
       "fail       514   83.037157\n",
       "success    105   16.962843"
      ]
     },
     "execution_count": 6,
     "metadata": {},
     "output_type": "execute_result"
    }
   ],
   "source": [
    "speeddating_training_dd = speeddating_training.assign(row_number=range(len(speeddating_training)))\n",
    "\n",
    "explore_speeddating = pd.DataFrame()\n",
    "\n",
    "explore_speeddating['count'] = speeddating_training_dd.groupby('match')['row_number'].count()\n",
    "explore_speeddating['percentage'] = 100 * explore_speeddating['count']/len(speeddating_training_dd)\n",
    "\n",
    "explore_speeddating"
   ]
  },
  {
   "cell_type": "markdown",
   "id": "48bd9acc-254e-4acb-bf55-e0c616e831eb",
   "metadata": {},
   "source": [
    "We can see from this table that there is an imbalance in the match class; where 83.0% failed to match and 18.2% was successful. This would be a limitation for our model and its accuracy. Since 83.0% of speed dates failed, our model may have a high accuracy (around 80 percent) because it will correctly predict a lot of failed dates but it will not be very accurate in predicting successful dates."
   ]
  },
  {
   "cell_type": "markdown",
   "id": "802591b3-a4b1-44b1-a03b-b192c5c5afd0",
   "metadata": {},
   "source": [
    "#### Creating Boxplots \n",
    "The distribution of attribute ratings may be viewed using a box plot, which also makes it possible to compare and contrast match outcomes. To determine the impact of each property on the match outcomes, we produced six boxplots for each attribute using seaborn.boxplot."
   ]
  },
  {
   "cell_type": "code",
   "execution_count": 7,
   "id": "f004cfcd-a30c-41cc-8646-b54b1d7e038b",
   "metadata": {},
   "outputs": [
    {
     "data": {
      "text/plain": [
       "[Text(0.5, 1.0, 'Figure 1: Comparison of match results for Attraction Attribute'),\n",
       " Text(0, 0.5, \"Rating of Partner's Attractiveness\"),\n",
       " Text(0.5, 0, 'Match')]"
      ]
     },
     "execution_count": 7,
     "metadata": {},
     "output_type": "execute_result"
    },
    {
     "data": {
      "image/png": "[encoded data removed]",
      "text/plain": [
       "<Figure size 640x480 with 1 Axes>"
      ]
     },
     "metadata": {},
     "output_type": "display_data"
    }
   ],
   "source": [
    "sns.boxplot(x='match', y='attractive_partner', width=0.25, data=speeddating_training).set(title='Figure 1: Comparison of match results for Attraction Attribute', ylabel=\"Rating of Partner's Attractiveness\", xlabel=\"Match\")"
   ]
  },
  {
   "cell_type": "markdown",
   "id": "907eaea8-5a34-4e71-9924-9c702880cf1e",
   "metadata": {},
   "source": [
    "Interpretation of Figure 1: This boxplot compares the explantory variable \"Partner's Attractiveness\", and the response variable of \"match outcome\". The median shows that on average partner's attractiveness score was two ratings higher for successful matches than failed matches. In this rating scale between 1-10, the category of success having two rating higher than fail suggests that the partner's attractiveness has an influence on match results.  "
   ]
  },
  {
   "cell_type": "code",
   "execution_count": 8,
   "id": "013b34bf-346a-479d-bea0-6fcdb9eebf8a",
   "metadata": {},
   "outputs": [
    {
     "data": {
      "text/plain": [
       "[Text(0.5, 1.0, 'Figure 2: Comparison of match results for Sincere Attribute'),\n",
       " Text(0, 0.5, \"Rating of Partner's Sincerity\"),\n",
       " Text(0.5, 0, 'Match')]"
      ]
     },
     "execution_count": 8,
     "metadata": {},
     "output_type": "execute_result"
    },
    {
     "data": {
      "image/png": "[encoded data removed]",
      "text/plain": [
       "<Figure size 640x480 with 1 Axes>"
      ]
     },
     "metadata": {},
     "output_type": "display_data"
    }
   ],
   "source": [
    "sns.boxplot(x='match', y='sincere_partner', width=0.25, data=speeddating_training).set(title='Figure 2: Comparison of match results for Sincere Attribute', ylabel=\"Rating of Partner's Sincerity\", xlabel=\"Match\")\n",
    "#this plot looks at explantory vairble \"like\"... we see that there is seperation, if they liked their partner they successfully dataset.\n",
    "# we wont include this in the model, it is the same... no impact... "
   ]
  },
  {
   "cell_type": "markdown",
   "id": "1e313b04-bbc9-40c0-917c-bdf061dd8aab",
   "metadata": {},
   "source": [
    "Interpretation of Figure 2: This boxplot compares the explantory variable \"Partner's Sincerity\", and the response variable of \"match outcome\". There is not a lot of overlap between category of fail and category of match success, thus the two groups are different. Rating of Partner's sincerity seems to have influence on match results."
   ]
  },
  {
   "cell_type": "code",
   "execution_count": 9,
   "id": "ca7d270d-cffc-4011-961e-4003d13f2004",
   "metadata": {},
   "outputs": [
    {
     "data": {
      "text/plain": [
       "[Text(0.5, 1.0, 'Figure 3: Comparison of match results for Intelligence Attribute'),\n",
       " Text(0, 0.5, \"Rating of Partner's Intelligence\"),\n",
       " Text(0.5, 0, 'Match')]"
      ]
     },
     "execution_count": 9,
     "metadata": {},
     "output_type": "execute_result"
    },
    {
     "data": {
      "image/png": "[encoded data removed]",
      "text/plain": [
       "<Figure size 640x480 with 1 Axes>"
      ]
     },
     "metadata": {},
     "output_type": "display_data"
    }
   ],
   "source": [
    "sns.boxplot(x='match', y='intelligence_partner', width=0.25, data=speeddating_training).set(title='Figure 3: Comparison of match results for Intelligence Attribute', ylabel=\"Rating of Partner's Intelligence\", xlabel=\"Match\")\n",
    "\n",
    "\n",
    "# some overlap but not exact, not include age "
   ]
  },
  {
   "cell_type": "markdown",
   "id": "2f2d63a7-6027-41a9-85dc-645464f228e9",
   "metadata": {},
   "source": [
    "Interpretation of Figure 3: The explanatory variable \"Partner's Intelligence\" and the response variable \"match outcome\" are compared in this boxplot. Similar to figure 2, these non-overlapping boxes and the narrow interquartile range of the success boxplot indicate that higher intellect ratings result in successful matches.  "
   ]
  },
  {
   "cell_type": "code",
   "execution_count": 10,
   "id": "d655e1f5-4508-41c9-ad59-c1d5d55e48db",
   "metadata": {},
   "outputs": [
    {
     "data": {
      "text/plain": [
       "[Text(0.5, 1.0, 'Figure 4: Comparison of match results for Fun Attribute'),\n",
       " Text(0, 0.5, 'Rating of Partner being funny'),\n",
       " Text(0.5, 0, 'Match')]"
      ]
     },
     "execution_count": 10,
     "metadata": {},
     "output_type": "execute_result"
    },
    {
     "data": {
      "image/png": "[encoded data removed]",
      "text/plain": [
       "<Figure size 640x480 with 1 Axes>"
      ]
     },
     "metadata": {},
     "output_type": "display_data"
    }
   ],
   "source": [
    "sns.boxplot(x='match', y='funny_partner', width=0.25, data=speeddating_training).set(title='Figure 4: Comparison of match results for Fun Attribute', ylabel=\"Rating of Partner being funny\", xlabel=\"Match\")"
   ]
  },
  {
   "cell_type": "markdown",
   "id": "382e369e-0e5b-4056-a4b4-9fbea8d15b75",
   "metadata": {},
   "source": [
    "Interpretation of Figure 4: median signficant... keep? "
   ]
  },
  {
   "cell_type": "code",
   "execution_count": 11,
   "id": "e07a6226-47ce-4d6a-b5c9-f0876b903e0b",
   "metadata": {},
   "outputs": [
    {
     "data": {
      "text/plain": [
       "[Text(0.5, 1.0, 'Figure 5: Comparison of match results for Ambition Attribute'),\n",
       " Text(0, 0.5, \"Rating of Partner's Ambition\"),\n",
       " Text(0.5, 0, 'Match')]"
      ]
     },
     "execution_count": 11,
     "metadata": {},
     "output_type": "execute_result"
    },
    {
     "data": {
      "image/png": "[encoded data removed]",
      "text/plain": [
       "<Figure size 640x480 with 1 Axes>"
      ]
     },
     "metadata": {},
     "output_type": "display_data"
    }
   ],
   "source": [
    "sns.boxplot(x='match', y='ambition_partner', width=0.25, data=speeddating_training).set(title='Figure 5: Comparison of match results for Ambition Attribute', ylabel=\"Rating of Partner's Ambition\", xlabel=\"Match\")"
   ]
  },
  {
   "cell_type": "markdown",
   "id": "0f2cbb2e-dda6-462f-ad04-4cd77b8e2e1f",
   "metadata": {},
   "source": [
    "Interpretation of Figure 5: low outlier for success.. drop?"
   ]
  },
  {
   "cell_type": "code",
   "execution_count": 12,
   "id": "dde90f3e-0c38-4455-a195-c74669f7f775",
   "metadata": {},
   "outputs": [
    {
     "data": {
      "text/plain": [
       "[Text(0.5, 1.0, 'Figure 6: Comparison of match results for Shared Interests Attribute'),\n",
       " Text(0, 0.5, \"Rating of Partner's Shared Interests\"),\n",
       " Text(0.5, 0, 'Match')]"
      ]
     },
     "execution_count": 12,
     "metadata": {},
     "output_type": "execute_result"
    },
    {
     "data": {
      "image/png": "[encoded data removed]",
      "text/plain": [
       "<Figure size 640x480 with 1 Axes>"
      ]
     },
     "metadata": {},
     "output_type": "display_data"
    }
   ],
   "source": [
    "sns.boxplot(x='match', y='shared_interests_partner', width=0.25, data=speeddating_training).set(title='Figure 6: Comparison of match results for Shared Interests Attribute', ylabel=\"Rating of Partner's Shared Interests\", xlabel=\"Match\")"
   ]
  },
  {
   "cell_type": "markdown",
   "id": "aa8bee2f-ea49-41bf-aa4f-6f2e9fc188da",
   "metadata": {},
   "source": [
    "Interpretation of Figure 6: median difference is significant... keep ? "
   ]
  },
  {
   "cell_type": "code",
   "execution_count": 13,
   "id": "6615dbdf-4be9-427f-ba33-99ee2b9861c4",
   "metadata": {},
   "outputs": [],
   "source": [
    "#hard to interpret... cannot interpret, \n",
    "#correlation of interests and difference in age by matching, we cannot distingusih classes "
   ]
  },
  {
   "cell_type": "code",
   "execution_count": 14,
   "id": "1c719574-3129-4adc-9861-08908fd47c28",
   "metadata": {},
   "outputs": [],
   "source": [
    "#after we build model... cross validation, k-nearest neighbours, set seeds in every cell, \n",
    "#for visualization classfication metrix, even if we have high level of accuracy\n",
    "#we see a lot of false negative due to class imabalance. out side scope of course \n",
    "#research about topic and cite\n",
    "#disccussion(summarize, what impact)\n",
    "\n",
    "# Deciding which columns are significant"
   ]
  },
  {
   "cell_type": "markdown",
   "id": "a4ba6e41-63a2-41f1-affb-dcaa1b504ae5",
   "metadata": {},
   "source": [
    "#### first combination: attractiveness, intelligence, funny, sincere"
   ]
  },
  {
   "cell_type": "markdown",
   "id": "ffda7403-6824-45c5-8d1d-978ed7bf4a83",
   "metadata": {},
   "source": [
    "To preserve the higher proportions of \"fail\" categories, we used the parameter\n",
    "\"stratitfy\" in the train_test_split, which ensures the same proportions of \"success\" and \"fail\" categories are split into the training and testing splits."
   ]
  },
  {
   "cell_type": "code",
   "execution_count": 15,
   "id": "5365eda2-af41-4e8d-b1a6-ac2a347913e6",
   "metadata": {},
   "outputs": [
    {
     "name": "stdout",
     "output_type": "stream",
     "text": [
      "<class 'pandas.core.frame.DataFrame'>\n",
      "Int64Index: 619 entries, 2778 to 5556\n",
      "Data columns (total 7 columns):\n",
      " #   Column                    Non-Null Count  Dtype   \n",
      "---  ------                    --------------  -----   \n",
      " 0   match                     619 non-null    category\n",
      " 1   attractive_partner        619 non-null    float64 \n",
      " 2   sincere_partner           619 non-null    float64 \n",
      " 3   intelligence_partner      619 non-null    float64 \n",
      " 4   funny_partner             619 non-null    float64 \n",
      " 5   ambition_partner          619 non-null    float64 \n",
      " 6   shared_interests_partner  619 non-null    float64 \n",
      "dtypes: category(1), float64(6)\n",
      "memory usage: 34.6 KB\n"
     ]
    },
    {
     "data": {
      "text/html": [
       "<div>\n",
       "<style scoped>\n",
       "    .dataframe tbody tr th:only-of-type {\n",
       "        vertical-align: middle;\n",
       "    }\n",
       "\n",
       "    .dataframe tbody tr th {\n",
       "        vertical-align: top;\n",
       "    }\n",
       "\n",
       "    .dataframe thead th {\n",
       "        text-align: right;\n",
       "    }\n",
       "</style>\n",
       "<table border=\"1\" class=\"dataframe\">\n",
       "  <thead>\n",
       "    <tr style=\"text-align: right;\">\n",
       "      <th></th>\n",
       "      <th>n_neighbors</th>\n",
       "      <th>mean_test_score</th>\n",
       "      <th>sem_test_score</th>\n",
       "    </tr>\n",
       "  </thead>\n",
       "  <tbody>\n",
       "    <tr>\n",
       "      <th>3</th>\n",
       "      <td>16</td>\n",
       "      <td>0.833712</td>\n",
       "      <td>0.009846</td>\n",
       "    </tr>\n",
       "    <tr>\n",
       "      <th>2</th>\n",
       "      <td>11</td>\n",
       "      <td>0.832073</td>\n",
       "      <td>0.009628</td>\n",
       "    </tr>\n",
       "    <tr>\n",
       "      <th>1</th>\n",
       "      <td>6</td>\n",
       "      <td>0.830407</td>\n",
       "      <td>0.007578</td>\n",
       "    </tr>\n",
       "    <tr>\n",
       "      <th>4</th>\n",
       "      <td>21</td>\n",
       "      <td>0.825595</td>\n",
       "      <td>0.010057</td>\n",
       "    </tr>\n",
       "    <tr>\n",
       "      <th>6</th>\n",
       "      <td>31</td>\n",
       "      <td>0.822343</td>\n",
       "      <td>0.012434</td>\n",
       "    </tr>\n",
       "  </tbody>\n",
       "</table>\n",
       "</div>"
      ],
      "text/plain": [
       "  n_neighbors  mean_test_score  sem_test_score\n",
       "3          16         0.833712        0.009846\n",
       "2          11         0.832073        0.009628\n",
       "1           6         0.830407        0.007578\n",
       "4          21         0.825595        0.010057\n",
       "6          31         0.822343        0.012434"
      ]
     },
     "execution_count": 15,
     "metadata": {},
     "output_type": "execute_result"
    }
   ],
   "source": [
    "# first combination: attractiveness, intelligence, funny, sincere\n",
    "np.random.seed(1000)\n",
    "\n",
    "speeddating_train, speeddating_test = train_test_split(\n",
    "    speeddating, train_size=0.75,\n",
    "    stratify=speeddating[\"match\"]\n",
    ")\n",
    "speeddating_train.info()\n",
    "\n",
    "speeddating_train[\"match\"].value_counts(normalize=True)\n",
    "\n",
    "# preprocess data\n",
    "speeddating_preprocessor = make_column_transformer(\n",
    "    (StandardScaler(), [\"attractive_partner\", \"intelligence_partner\", \n",
    "                        \"funny_partner\", \"sincere_partner\"])\n",
    ")\n",
    "\n",
    "# make a dataframe for finding the highest accuracy\n",
    "# accuracies grid\n",
    "knn = KNeighborsClassifier()\n",
    "speeddating_tune_pipe = make_pipeline(speeddating_preprocessor, knn)\n",
    "\n",
    "\n",
    "parameter_grid = {\n",
    "    \"kneighborsclassifier__n_neighbors\": range(1, 100, 5),\n",
    "}\n",
    "\n",
    "speeddating_tune_grid = GridSearchCV(\n",
    "    estimator=speeddating_tune_pipe,\n",
    "    param_grid=parameter_grid,\n",
    "    cv=10\n",
    ")\n",
    "\n",
    "accuracies_grid = pd.DataFrame(\n",
    "             speeddating_tune_grid\n",
    "             .fit(speeddating_train.loc[:, [\"attractive_partner\", \"intelligence_partner\",\n",
    "                                            \"funny_partner\", \"sincere_partner\"]],\n",
    "                  speeddating_train[\"match\"]\n",
    "            ).cv_results_)\n",
    "\n",
    "\n",
    "accuracies_grid = accuracies_grid[[\"param_kneighborsclassifier__n_neighbors\", \n",
    "                                   \"mean_test_score\", \"std_test_score\"]\n",
    "              ].assign(\n",
    "                  sem_test_score = accuracies_grid[\"std_test_score\"] / 10**(1/2)\n",
    "              ).rename(\n",
    "                  columns = {\"param_kneighborsclassifier__n_neighbors\" : \"n_neighbors\"}\n",
    "              ).drop(\n",
    "                  columns = [\"std_test_score\"]\n",
    "              )\n",
    "accuracies_grid.sort_values(by=\"mean_test_score\",ascending=False).head(5)"
   ]
  },
  {
   "cell_type": "markdown",
   "id": "e90fc383-977c-420b-95f2-bbbd2dfb0417",
   "metadata": {},
   "source": [
    "After splitting the training data into another subtraining and validation sets, a preprocessor was made and GridSearchCV was used to tune the data.\n",
    "\n",
    "Using the tuned grid, an accuracies grid was made with the columns for the k value ordered in descending order in terms of mean test score. The k value with the highest accuracy is 16 for the first combination."
   ]
  },
  {
   "cell_type": "code",
   "execution_count": 16,
   "id": "46e1d776-2712-4f4e-a592-e835e324dfe0",
   "metadata": {},
   "outputs": [
    {
     "data": {
      "text/plain": [
       "0.8"
      ]
     },
     "execution_count": 16,
     "metadata": {},
     "output_type": "execute_result"
    }
   ],
   "source": [
    "np.random.seed(1000)\n",
    "# now use k=16 to tune data and test accuracy of model\n",
    "# use a split of the training set for validation set\n",
    "# create the 25/75 split of the *training data* into sub-training and validation\n",
    "speeddating_subtrain, speeddating_validation = train_test_split(\n",
    "    speeddating_train, test_size=0.25\n",
    ")\n",
    "\n",
    "# fit the model on the sub-training data\n",
    "knn = KNeighborsClassifier(n_neighbors=6) \n",
    "X = speeddating_subtrain.loc[:, [\"attractive_partner\",\"intelligence_partner\",\n",
    "                                 \"funny_partner\", \"sincere_partner\"]]\n",
    "y = speeddating_subtrain[\"match\"]\n",
    "knn_fit = make_pipeline(speeddating_preprocessor, knn).fit(X, y)\n",
    "\n",
    "# compute the score on validation data\n",
    "acc = knn_fit.score(\n",
    "    speeddating_validation.loc[:, [\"attractive_partner\",\"intelligence_partner\",\n",
    "                                   \"funny_partner\", \"sincere_partner\"]],\n",
    "    speeddating_validation[\"match\"]\n",
    ")\n",
    "acc"
   ]
  },
  {
   "cell_type": "markdown",
   "id": "314beb1a-8380-455f-82d7-da458d75c294",
   "metadata": {},
   "source": [
    "We get an accuracy score of 0.8 which is not a low score, but we will try other combinations of predictors to see if they have a higher accuracy score."
   ]
  },
  {
   "cell_type": "markdown",
   "id": "79afc8ad-22bb-4f7d-bc1b-c8477d3bc42a",
   "metadata": {},
   "source": [
    "#### second combination: sincere, intelligence, shared interests, ambition "
   ]
  },
  {
   "cell_type": "code",
   "execution_count": 17,
   "id": "8269c9ed-cccd-461d-901d-47786b83403c",
   "metadata": {},
   "outputs": [
    {
     "data": {
      "text/html": [
       "<div>\n",
       "<style scoped>\n",
       "    .dataframe tbody tr th:only-of-type {\n",
       "        vertical-align: middle;\n",
       "    }\n",
       "\n",
       "    .dataframe tbody tr th {\n",
       "        vertical-align: top;\n",
       "    }\n",
       "\n",
       "    .dataframe thead th {\n",
       "        text-align: right;\n",
       "    }\n",
       "</style>\n",
       "<table border=\"1\" class=\"dataframe\">\n",
       "  <thead>\n",
       "    <tr style=\"text-align: right;\">\n",
       "      <th></th>\n",
       "      <th>n_neighbors</th>\n",
       "      <th>mean_test_score</th>\n",
       "      <th>sem_test_score</th>\n",
       "    </tr>\n",
       "  </thead>\n",
       "  <tbody>\n",
       "    <tr>\n",
       "      <th>11</th>\n",
       "      <td>56</td>\n",
       "      <td>0.822290</td>\n",
       "      <td>0.003238</td>\n",
       "    </tr>\n",
       "    <tr>\n",
       "      <th>1</th>\n",
       "      <td>6</td>\n",
       "      <td>0.820730</td>\n",
       "      <td>0.007617</td>\n",
       "    </tr>\n",
       "    <tr>\n",
       "      <th>10</th>\n",
       "      <td>51</td>\n",
       "      <td>0.820677</td>\n",
       "      <td>0.002743</td>\n",
       "    </tr>\n",
       "    <tr>\n",
       "      <th>12</th>\n",
       "      <td>61</td>\n",
       "      <td>0.820677</td>\n",
       "      <td>0.002743</td>\n",
       "    </tr>\n",
       "    <tr>\n",
       "      <th>18</th>\n",
       "      <td>91</td>\n",
       "      <td>0.819064</td>\n",
       "      <td>0.002013</td>\n",
       "    </tr>\n",
       "  </tbody>\n",
       "</table>\n",
       "</div>"
      ],
      "text/plain": [
       "   n_neighbors  mean_test_score  sem_test_score\n",
       "11          56         0.822290        0.003238\n",
       "1            6         0.820730        0.007617\n",
       "10          51         0.820677        0.002743\n",
       "12          61         0.820677        0.002743\n",
       "18          91         0.819064        0.002013"
      ]
     },
     "execution_count": 17,
     "metadata": {},
     "output_type": "execute_result"
    }
   ],
   "source": [
    "# second combination: sincere, intelligence, shared interests, ambition \n",
    "np.random.seed(1000)\n",
    "\n",
    "# preprocess data\n",
    "speeddating_preprocessor = make_column_transformer(\n",
    "    (StandardScaler(), [\"sincere_partner\",\"intelligence_partner\",\n",
    "                        \"shared_interests_partner\", \"ambition_partner\"])\n",
    ")\n",
    "\n",
    "# make a dataframe for finding the highest accuracy\n",
    "# accuracies grid\n",
    "knn = KNeighborsClassifier()\n",
    "speeddating_tune_pipe = make_pipeline(speeddating_preprocessor, knn)\n",
    "\n",
    "\n",
    "parameter_grid = {\n",
    "    \"kneighborsclassifier__n_neighbors\": range(1, 100, 5),\n",
    "}\n",
    "\n",
    "speeddating_tune_grid = GridSearchCV(\n",
    "    estimator=speeddating_tune_pipe,\n",
    "    param_grid=parameter_grid,\n",
    "    cv=10\n",
    ")\n",
    "\n",
    "accuracies_grid = pd.DataFrame(\n",
    "             speeddating_tune_grid\n",
    "             .fit(speeddating_train.loc[:, [\"sincere_partner\",\"intelligence_partner\",\n",
    "                                            \"shared_interests_partner\", \"ambition_partner\"]],\n",
    "                  speeddating_train[\"match\"]\n",
    "            ).cv_results_)\n",
    "\n",
    "\n",
    "accuracies_grid = accuracies_grid[[\"param_kneighborsclassifier__n_neighbors\", \n",
    "                                   \"mean_test_score\", \"std_test_score\"]\n",
    "              ].assign(\n",
    "                  sem_test_score = accuracies_grid[\"std_test_score\"] / 10**(1/2)\n",
    "              ).rename(\n",
    "                  columns = {\"param_kneighborsclassifier__n_neighbors\" : \"n_neighbors\"}\n",
    "              ).drop(\n",
    "                  columns = [\"std_test_score\"]\n",
    "              )\n",
    "accuracies_grid.sort_values(by=\"mean_test_score\",ascending=False).head(5)"
   ]
  },
  {
   "cell_type": "markdown",
   "id": "842934a1-94ec-4b6f-be56-03e5e8506da3",
   "metadata": {},
   "source": [
    "Our second combination of the predictors \"\"sincere_partner\",\"intelligence_partner\",\"shared_interests_partner\", and \"ambition_partner\" was found to have the k value of 56 for the highest accuracy. It is a rather large number compared to the previous k value of 16, but it was found to have a better accuracy than k=6 when we tune the data and test the model. "
   ]
  },
  {
   "cell_type": "code",
   "execution_count": 18,
   "id": "c3a2012e-1142-4821-a310-d5be812b189c",
   "metadata": {},
   "outputs": [
    {
     "data": {
      "text/plain": [
       "0.8064516129032258"
      ]
     },
     "execution_count": 18,
     "metadata": {},
     "output_type": "execute_result"
    }
   ],
   "source": [
    "np.random.seed(1000)\n",
    "# k=56 has the highest accuracy\n",
    "# k=6 had accuracy of 0.8 and k=56 has 0.845\n",
    "# use a split of the training set for validation set\n",
    "# create the 25/75 split of the *training data* into sub-training and validation\n",
    "speeddating_subtrain, speeddating_validation = train_test_split(\n",
    "    speeddating_train, test_size=0.25\n",
    ")\n",
    "\n",
    "# fit the model on the sub-training data\n",
    "knn = KNeighborsClassifier(n_neighbors=56) \n",
    "X = speeddating_subtrain.loc[:, [\"sincere_partner\",\"intelligence_partner\",\n",
    "                                 \"shared_interests_partner\", \"ambition_partner\"]]\n",
    "y = speeddating_subtrain[\"match\"]\n",
    "knn_fit = make_pipeline(speeddating_preprocessor, knn).fit(X, y)\n",
    "\n",
    "# compute the score on validation data\n",
    "acc = knn_fit.score(\n",
    "    speeddating_validation.loc[:, [\"sincere_partner\",\"intelligence_partner\",\n",
    "                                   \"shared_interests_partner\", \"ambition_partner\"]],\n",
    "    speeddating_validation[\"match\"]\n",
    ")\n",
    "acc"
   ]
  },
  {
   "cell_type": "markdown",
   "id": "0ca03443-d7d6-4ca8-81c2-742ade876ad3",
   "metadata": {},
   "source": [
    "The second combination gives us the accuracy of 0.845, which is higher than the first combination."
   ]
  },
  {
   "cell_type": "markdown",
   "id": "fbfcf97b-1a99-4d8e-936d-2b5db1bc2404",
   "metadata": {},
   "source": [
    "#### third combination: attractiveness, funny, shared_interests, intelligence"
   ]
  },
  {
   "cell_type": "code",
   "execution_count": 51,
   "id": "27a8c87f-a33d-4c8f-b2b1-54c4ef216986",
   "metadata": {},
   "outputs": [
    {
     "data": {
      "text/html": [
       "<div>\n",
       "<style scoped>\n",
       "    .dataframe tbody tr th:only-of-type {\n",
       "        vertical-align: middle;\n",
       "    }\n",
       "\n",
       "    .dataframe tbody tr th {\n",
       "        vertical-align: top;\n",
       "    }\n",
       "\n",
       "    .dataframe thead th {\n",
       "        text-align: right;\n",
       "    }\n",
       "</style>\n",
       "<table border=\"1\" class=\"dataframe\">\n",
       "  <thead>\n",
       "    <tr style=\"text-align: right;\">\n",
       "      <th></th>\n",
       "      <th>n_neighbors</th>\n",
       "      <th>mean_test_score</th>\n",
       "      <th>sem_test_score</th>\n",
       "    </tr>\n",
       "  </thead>\n",
       "  <tbody>\n",
       "    <tr>\n",
       "      <th>1</th>\n",
       "      <td>6</td>\n",
       "      <td>0.812718</td>\n",
       "      <td>0.013237</td>\n",
       "    </tr>\n",
       "    <tr>\n",
       "      <th>18</th>\n",
       "      <td>91</td>\n",
       "      <td>0.812612</td>\n",
       "      <td>0.002399</td>\n",
       "    </tr>\n",
       "    <tr>\n",
       "      <th>2</th>\n",
       "      <td>11</td>\n",
       "      <td>0.811132</td>\n",
       "      <td>0.014152</td>\n",
       "    </tr>\n",
       "    <tr>\n",
       "      <th>19</th>\n",
       "      <td>96</td>\n",
       "      <td>0.810999</td>\n",
       "      <td>0.002210</td>\n",
       "    </tr>\n",
       "    <tr>\n",
       "      <th>17</th>\n",
       "      <td>86</td>\n",
       "      <td>0.810999</td>\n",
       "      <td>0.002210</td>\n",
       "    </tr>\n",
       "  </tbody>\n",
       "</table>\n",
       "</div>"
      ],
      "text/plain": [
       "   n_neighbors  mean_test_score  sem_test_score\n",
       "1            6         0.812718        0.013237\n",
       "18          91         0.812612        0.002399\n",
       "2           11         0.811132        0.014152\n",
       "19          96         0.810999        0.002210\n",
       "17          86         0.810999        0.002210"
      ]
     },
     "execution_count": 51,
     "metadata": {},
     "output_type": "execute_result"
    }
   ],
   "source": [
    "# third combination: attractiveness, funny, shared_interests, intelligence\n",
    "np.random.seed(1000)\n",
    "\n",
    "# preprocess data\n",
    "speeddating_preprocessor = make_column_transformer(\n",
    "    (StandardScaler(), [\"attractive_partner\",\"intelligence_partner\",\n",
    "                        \"funny_partner\", \"shared_interests_partner\"])\n",
    ")\n",
    "\n",
    "# make a dataframe for finding the highest accuracy\n",
    "# accuracies grid\n",
    "knn = KNeighborsClassifier()\n",
    "speeddating_tune_pipe = make_pipeline(speeddating_preprocessor, knn)\n",
    "\n",
    "\n",
    "parameter_grid = {\n",
    "    \"kneighborsclassifier__n_neighbors\": range(1, 100, 5),\n",
    "}\n",
    "\n",
    "speeddating_tune_grid = GridSearchCV(\n",
    "    estimator=speeddating_tune_pipe,\n",
    "    param_grid=parameter_grid,\n",
    "    cv=10\n",
    ")\n",
    "\n",
    "accuracies_grid = pd.DataFrame(\n",
    "             speeddating_tune_grid\n",
    "             .fit(speeddating_train.loc[:, [\"attractive_partner\", \"intelligence_partner\",\n",
    "                                            \"funny_partner\", \"shared_interests_partner\"]],\n",
    "                  speeddating_train[\"match\"]\n",
    "            ).cv_results_)\n",
    "\n",
    "\n",
    "accuracies_grid = accuracies_grid[[\"param_kneighborsclassifier__n_neighbors\", \n",
    "                                   \"mean_test_score\", \"std_test_score\"]\n",
    "              ].assign(\n",
    "                  sem_test_score = accuracies_grid[\"std_test_score\"] / 10**(1/2)\n",
    "              ).rename(\n",
    "                  columns = {\"param_kneighborsclassifier__n_neighbors\" : \"n_neighbors\"}\n",
    "              ).drop(\n",
    "                  columns = [\"std_test_score\"]\n",
    "              )\n",
    "accuracies_grid.sort_values(by=\"mean_test_score\",ascending=False).head(5)"
   ]
  },
  {
   "cell_type": "code",
   "execution_count": 52,
   "id": "c8949f13-26a8-4df1-a758-a9b4fa7ee963",
   "metadata": {},
   "outputs": [
    {
     "data": {
      "text/plain": [
       "0.7806451612903226"
      ]
     },
     "execution_count": 52,
     "metadata": {},
     "output_type": "execute_result"
    }
   ],
   "source": [
    "np.random.seed(1000)\n",
    "# k=6 has the highest accuracy\n",
    "speeddating_subtrain, speeddating_validation = train_test_split(\n",
    "    speeddating_train, test_size=0.25\n",
    ")\n",
    "\n",
    "# fit the model on the sub-training data\n",
    "knn = KNeighborsClassifier(n_neighbors=6) \n",
    "X = speeddating_subtrain.loc[:, [\"attractive_partner\",\"intelligence_partner\",\n",
    "                                \"funny_partner\", \"shared_interests_partner\"]]\n",
    "y = speeddating_subtrain[\"match\"]\n",
    "knn_fit = make_pipeline(speeddating_preprocessor, knn).fit(X, y)\n",
    "\n",
    "# compute the score on validation data\n",
    "acc = knn_fit.score(\n",
    "    speeddating_validation.loc[:, [\"attractive_partner\",\"intelligence_partner\",\n",
    "                                    \"funny_partner\", \"shared_interests_partner\"]],\n",
    "    speeddating_validation[\"match\"]\n",
    ")\n",
    "acc"
   ]
  },
  {
   "cell_type": "markdown",
   "id": "60168e0c-f34b-49b2-ad80-8de69a7a3327",
   "metadata": {},
   "source": [
    "The third combination gives us an accuracy that is lower than the second group, but higher than the first combination."
   ]
  },
  {
   "cell_type": "markdown",
   "id": "d8f83e55-8054-489a-9a6b-cf79e6465a72",
   "metadata": {},
   "source": [
    "#### fourth combination: attractiveness, intelligence, funny, sincere, shared interests"
   ]
  },
  {
   "cell_type": "code",
   "execution_count": 21,
   "id": "82ba3624-39d8-4d9f-be02-cf27b2f25411",
   "metadata": {},
   "outputs": [
    {
     "data": {
      "text/html": [
       "<div>\n",
       "<style scoped>\n",
       "    .dataframe tbody tr th:only-of-type {\n",
       "        vertical-align: middle;\n",
       "    }\n",
       "\n",
       "    .dataframe tbody tr th {\n",
       "        vertical-align: top;\n",
       "    }\n",
       "\n",
       "    .dataframe thead th {\n",
       "        text-align: right;\n",
       "    }\n",
       "</style>\n",
       "<table border=\"1\" class=\"dataframe\">\n",
       "  <thead>\n",
       "    <tr style=\"text-align: right;\">\n",
       "      <th></th>\n",
       "      <th>n_neighbors</th>\n",
       "      <th>mean_test_score</th>\n",
       "      <th>sem_test_score</th>\n",
       "    </tr>\n",
       "  </thead>\n",
       "  <tbody>\n",
       "    <tr>\n",
       "      <th>1</th>\n",
       "      <td>6</td>\n",
       "      <td>0.838498</td>\n",
       "      <td>0.007477</td>\n",
       "    </tr>\n",
       "    <tr>\n",
       "      <th>2</th>\n",
       "      <td>11</td>\n",
       "      <td>0.832047</td>\n",
       "      <td>0.007866</td>\n",
       "    </tr>\n",
       "    <tr>\n",
       "      <th>3</th>\n",
       "      <td>16</td>\n",
       "      <td>0.819090</td>\n",
       "      <td>0.010357</td>\n",
       "    </tr>\n",
       "    <tr>\n",
       "      <th>19</th>\n",
       "      <td>96</td>\n",
       "      <td>0.819064</td>\n",
       "      <td>0.002013</td>\n",
       "    </tr>\n",
       "    <tr>\n",
       "      <th>15</th>\n",
       "      <td>76</td>\n",
       "      <td>0.819064</td>\n",
       "      <td>0.002013</td>\n",
       "    </tr>\n",
       "  </tbody>\n",
       "</table>\n",
       "</div>"
      ],
      "text/plain": [
       "   n_neighbors  mean_test_score  sem_test_score\n",
       "1            6         0.838498        0.007477\n",
       "2           11         0.832047        0.007866\n",
       "3           16         0.819090        0.010357\n",
       "19          96         0.819064        0.002013\n",
       "15          76         0.819064        0.002013"
      ]
     },
     "execution_count": 21,
     "metadata": {},
     "output_type": "execute_result"
    }
   ],
   "source": [
    "# fourth combination: attractiveness, intelligence, funny, sincere, shared interests\n",
    "np.random.seed(1000)\n",
    "\n",
    "# preprocess data\n",
    "speeddating_preprocessor = make_column_transformer(\n",
    "    (StandardScaler(), [\"attractive_partner\",  \"sincere_partner\",\"intelligence_partner\", \n",
    "                        \"funny_partner\",\"shared_interests_partner\"])\n",
    ")\n",
    "\n",
    "# make a dataframe for finding the highest accuracy\n",
    "# accuracies grid\n",
    "knn = KNeighborsClassifier()\n",
    "speeddating_tune_pipe = make_pipeline(speeddating_preprocessor, knn)\n",
    "\n",
    "\n",
    "parameter_grid = {\n",
    "    \"kneighborsclassifier__n_neighbors\": range(1, 100, 5),\n",
    "}\n",
    "\n",
    "speeddating_tune_grid = GridSearchCV(\n",
    "    estimator=speeddating_tune_pipe,\n",
    "    param_grid=parameter_grid,\n",
    "    cv=10\n",
    ")\n",
    "\n",
    "accuracies_grid = pd.DataFrame(\n",
    "             speeddating_tune_grid\n",
    "             .fit(speeddating_train.loc[:, [\"attractive_partner\",  \"sincere_partner\",\"intelligence_partner\", \n",
    "                                            \"funny_partner\",\"shared_interests_partner\"]],\n",
    "                  speeddating_train[\"match\"]\n",
    "            ).cv_results_)\n",
    "\n",
    "\n",
    "accuracies_grid = accuracies_grid[[\"param_kneighborsclassifier__n_neighbors\", \n",
    "                                   \"mean_test_score\", \"std_test_score\"]\n",
    "              ].assign(\n",
    "                  sem_test_score = accuracies_grid[\"std_test_score\"] / 10**(1/2)\n",
    "              ).rename(\n",
    "                  columns = {\"param_kneighborsclassifier__n_neighbors\" : \"n_neighbors\"}\n",
    "              ).drop(\n",
    "                  columns = [\"std_test_score\"]\n",
    "              )\n",
    "accuracies_grid.sort_values(by=\"mean_test_score\",ascending=False).head(5)"
   ]
  },
  {
   "cell_type": "code",
   "execution_count": 48,
   "id": "6b19fd9a-8f8c-4419-b8aa-2533e2bfe4cc",
   "metadata": {},
   "outputs": [
    {
     "data": {
      "text/plain": [
       "0.7935483870967742"
      ]
     },
     "execution_count": 48,
     "metadata": {},
     "output_type": "execute_result"
    }
   ],
   "source": [
    "np.random.seed(1000)\n",
    "# now use k=6 to find accuracy of model?\n",
    "# use a split of the training set for validation set\n",
    "# create the 25/75 split of the *training data* into sub-training and validation\n",
    "speeddating_subtrain, speeddating_validation = train_test_split(\n",
    "    speeddating_train, test_size=0.25\n",
    ")\n",
    "\n",
    "# fit the model on the sub-training data\n",
    "knn = KNeighborsClassifier(n_neighbors=6) \n",
    "X = speeddating_subtrain.loc[:, [\"attractive_partner\",  \"sincere_partner\",\"intelligence_partner\", \n",
    "                                 \"funny_partner\",\"shared_interests_partner\"]]\n",
    "y = speeddating_subtrain[\"match\"]\n",
    "knn_fit = make_pipeline(speeddating_preprocessor, knn).fit(X, y)\n",
    "\n",
    "# compute the score on validation data\n",
    "acc = knn_fit.score(\n",
    "    speeddating_validation.loc[:, [\"attractive_partner\",  \"sincere_partner\",\"intelligence_partner\", \n",
    "                                   \"funny_partner\",\"shared_interests_partner\"]],\n",
    "    speeddating_validation[\"match\"]\n",
    ")\n",
    "acc"
   ]
  },
  {
   "cell_type": "markdown",
   "id": "0707b563-2d02-4137-a321-a10ef73ee5b4",
   "metadata": {},
   "source": [
    "#### fifth combination: attractiveness, intelligence, funny, sincere, shared interests, ambition (all six attributes)"
   ]
  },
  {
   "cell_type": "code",
   "execution_count": 23,
   "id": "4cfe29ef-3d1e-4109-b8ff-e414ccf87cb7",
   "metadata": {},
   "outputs": [
    {
     "data": {
      "text/html": [
       "<div>\n",
       "<style scoped>\n",
       "    .dataframe tbody tr th:only-of-type {\n",
       "        vertical-align: middle;\n",
       "    }\n",
       "\n",
       "    .dataframe tbody tr th {\n",
       "        vertical-align: top;\n",
       "    }\n",
       "\n",
       "    .dataframe thead th {\n",
       "        text-align: right;\n",
       "    }\n",
       "</style>\n",
       "<table border=\"1\" class=\"dataframe\">\n",
       "  <thead>\n",
       "    <tr style=\"text-align: right;\">\n",
       "      <th></th>\n",
       "      <th>n_neighbors</th>\n",
       "      <th>mean_test_score</th>\n",
       "      <th>sem_test_score</th>\n",
       "    </tr>\n",
       "  </thead>\n",
       "  <tbody>\n",
       "    <tr>\n",
       "      <th>1</th>\n",
       "      <td>6</td>\n",
       "      <td>0.836832</td>\n",
       "      <td>0.005323</td>\n",
       "    </tr>\n",
       "    <tr>\n",
       "      <th>2</th>\n",
       "      <td>11</td>\n",
       "      <td>0.832047</td>\n",
       "      <td>0.009375</td>\n",
       "    </tr>\n",
       "    <tr>\n",
       "      <th>4</th>\n",
       "      <td>21</td>\n",
       "      <td>0.832020</td>\n",
       "      <td>0.008225</td>\n",
       "    </tr>\n",
       "    <tr>\n",
       "      <th>6</th>\n",
       "      <td>31</td>\n",
       "      <td>0.828768</td>\n",
       "      <td>0.007604</td>\n",
       "    </tr>\n",
       "    <tr>\n",
       "      <th>3</th>\n",
       "      <td>16</td>\n",
       "      <td>0.825542</td>\n",
       "      <td>0.009859</td>\n",
       "    </tr>\n",
       "  </tbody>\n",
       "</table>\n",
       "</div>"
      ],
      "text/plain": [
       "  n_neighbors  mean_test_score  sem_test_score\n",
       "1           6         0.836832        0.005323\n",
       "2          11         0.832047        0.009375\n",
       "4          21         0.832020        0.008225\n",
       "6          31         0.828768        0.007604\n",
       "3          16         0.825542        0.009859"
      ]
     },
     "execution_count": 23,
     "metadata": {},
     "output_type": "execute_result"
    }
   ],
   "source": [
    "# fifth combination: attractiveness, intelligence, funny, sincere, shared interests, ambition (all six attributes)\n",
    "np.random.seed(1000)\n",
    "\n",
    "# preprocess data\n",
    "speeddating_preprocessor = make_column_transformer(\n",
    "    (StandardScaler(), [\"attractive_partner\",  \"sincere_partner\",\"intelligence_partner\", \n",
    "                        \"funny_partner\", \"ambition_partner\", \"shared_interests_partner\"])\n",
    ")\n",
    "\n",
    "# make a dataframe for finding the highest accuracy\n",
    "# accuracies grid\n",
    "knn = KNeighborsClassifier()\n",
    "speeddating_tune_pipe = make_pipeline(speeddating_preprocessor, knn)\n",
    "\n",
    "\n",
    "parameter_grid = {\n",
    "    \"kneighborsclassifier__n_neighbors\": range(1, 100, 5),\n",
    "}\n",
    "\n",
    "speeddating_tune_grid = GridSearchCV(\n",
    "    estimator=speeddating_tune_pipe,\n",
    "    param_grid=parameter_grid,\n",
    "    cv=10\n",
    ")\n",
    "\n",
    "accuracies_grid = pd.DataFrame(\n",
    "             speeddating_tune_grid\n",
    "             .fit(speeddating_train.loc[:, [\"attractive_partner\",  \"sincere_partner\",\"intelligence_partner\", \n",
    "                                            \"funny_partner\",\"ambition_partner\",\"shared_interests_partner\"]],\n",
    "                  speeddating_train[\"match\"]\n",
    "            ).cv_results_)\n",
    "\n",
    "\n",
    "accuracies_grid = accuracies_grid[[\"param_kneighborsclassifier__n_neighbors\", \n",
    "                                   \"mean_test_score\", \"std_test_score\"]\n",
    "              ].assign(\n",
    "                  sem_test_score = accuracies_grid[\"std_test_score\"] / 10**(1/2)\n",
    "              ).rename(\n",
    "                  columns = {\"param_kneighborsclassifier__n_neighbors\" : \"n_neighbors\"}\n",
    "              ).drop(\n",
    "                  columns = [\"std_test_score\"]\n",
    "              )\n",
    "accuracies_grid.sort_values(by=\"mean_test_score\",ascending=False).head(5)"
   ]
  },
  {
   "cell_type": "code",
   "execution_count": 49,
   "id": "a380a2cc-fccd-4463-ab40-465f739e31b9",
   "metadata": {},
   "outputs": [
    {
     "data": {
      "text/plain": [
       "0.7935483870967742"
      ]
     },
     "execution_count": 49,
     "metadata": {},
     "output_type": "execute_result"
    }
   ],
   "source": [
    "np.random.seed(1000)\n",
    "# now use k=6 to find accuracy of model\n",
    "# use a split of the training set for validation set\n",
    "# create the 25/75 split of the *training data* into sub-training and validation\n",
    "speeddating_subtrain, speeddating_validation = train_test_split(\n",
    "    speeddating_train, test_size=0.25\n",
    ")\n",
    "\n",
    "# fit the model on the sub-training data\n",
    "knn = KNeighborsClassifier(n_neighbors=6) \n",
    "X = speeddating_subtrain.loc[:, [\"attractive_partner\",  \"sincere_partner\",\"intelligence_partner\", \n",
    "                                 \"funny_partner\",\"ambition_partner\", \"shared_interests_partner\"]]\n",
    "y = speeddating_subtrain[\"match\"]\n",
    "knn_fit = make_pipeline(speeddating_preprocessor, knn).fit(X, y)\n",
    "\n",
    "# compute the score on validation data\n",
    "acc = knn_fit.score(\n",
    "    speeddating_validation.loc[:, [\"attractive_partner\",  \"sincere_partner\",\"intelligence_partner\", \n",
    "                                   \"funny_partner\",\"ambition_partner\", \"shared_interests_partner\"]],\n",
    "    speeddating_validation[\"match\"]\n",
    ")\n",
    "acc"
   ]
  },
  {
   "cell_type": "code",
   "execution_count": 25,
   "id": "f2c712d0-5840-4336-bcc5-dece30e8aabd",
   "metadata": {},
   "outputs": [
    {
     "data": {
      "text/plain": [
       "<sklearn.metrics._plot.confusion_matrix.ConfusionMatrixDisplay at 0x7fb8a1c9c4c0>"
      ]
     },
     "execution_count": 25,
     "metadata": {},
     "output_type": "execute_result"
    },
    {
     "data": {
      "image/png": "[encoded data removed]",
      "text/plain": [
       "<Figure size 640x480 with 2 Axes>"
      ]
     },
     "metadata": {},
     "output_type": "display_data"
    }
   ],
   "source": [
    "# confusion matrix with selected variables\n",
    "# speeddating_train, speeddating_test = train_test_split(speeddating, test_size=0.25, random_state=123) # set the random state to be 123\n",
    "np.random.seed(1000)\n",
    "speeddating_preprocessor = make_column_transformer(\n",
    "    (StandardScaler(), [\n",
    "       \"sincere_partner\",\"intelligence_partner\",\"shared_interests_partner\", \"ambition_partner\"]),\n",
    ")\n",
    "\n",
    "knn_spec = KNeighborsClassifier(n_neighbors=6)\n",
    "\n",
    "X = speeddating_train[[\n",
    "    \"sincere_partner\",\"intelligence_partner\",\"shared_interests_partner\", \"ambition_partner\"]]\n",
    "y = speeddating_train[\"match\"]\n",
    "\n",
    "speeddating_fit = make_pipeline(speeddating_preprocessor, knn_spec).fit(X, y)\n",
    "\n",
    "speeddating_test_predictions = speeddating_fit.predict(speeddating_test)\n",
    "speeddating_test_predictions = pd.concat(\n",
    "    [\n",
    "        speeddating_test.reset_index(drop=True),\n",
    "        pd.DataFrame(speeddating_test_predictions, columns=[\"predicted\"]),\n",
    "    ],\n",
    "    axis=1,\n",
    ")\n",
    "\n",
    "speeddating_test_predictions\n",
    "\n",
    "\n",
    "speeddating_mat = sklearn.metrics.confusion_matrix(\n",
    "    speeddating_test_predictions[\"match\"],\n",
    "    speeddating_test_predictions[\"predicted\"],\n",
    "    labels=speeddating_fit.classes_,\n",
    ")\n",
    "\n",
    "from sklearn.metrics import ConfusionMatrixDisplay\n",
    "\n",
    "disp = ConfusionMatrixDisplay(\n",
    "    confusion_matrix=speeddating_mat, display_labels=speeddating_fit.classes_\n",
    ")\n",
    "disp.plot()"
   ]
  },
  {
   "cell_type": "code",
   "execution_count": 26,
   "id": "06c6791b-e6dc-4e68-a77a-bfde418687b2",
   "metadata": {},
   "outputs": [],
   "source": [
    "# speeddating_train, speeddating_test = train_test_split(speeddating, test_size=0.25, random_state=2023) # set the random state to be 123\n",
    "\n",
    "# speeddating_preprocessor = make_column_transformer(\n",
    "#     (StandardScaler(), [\n",
    "#         \"attractive_partner\", \"sincere_partner\",\"intelligence_partner\", \"funny_partner\", \"shared_interests_partner\",\"ambition_partner\"]),\n",
    "#     (OneHotEncoder(), [\"match\"])\n",
    "# )\n",
    "\n",
    "# knn_spec = KNeighborsClassifier(n_neighbors=3)\n",
    "\n",
    "# X = speeddating_train[[\n",
    "#     \"attractive_partner\", \"sincere_partner\",\"intelligence_partner\", \"funny_partner\", \"shared_interests_partner\",\"ambition_partner\"]]\n",
    "# y = speeddating_train[\"match\"]\n",
    "\n",
    "# speeddating_fit = make_pipeline(speeddating_preprocessor, knn_spec).fit(X, y)\n",
    "\n",
    "# speeddating_test_predictions = speeddating_fit.predict(speeddating_test)\n",
    "# speeddating_test_predictions = pd.concat(\n",
    "#     [\n",
    "#         speeddating_test.reset_index(drop=True),\n",
    "#         pd.DataFrame(speeddating_test_predictions, columns=[\"predicted\"]),\n",
    "#     ],\n",
    "#     axis=1,\n",
    "# )\n",
    "\n",
    "# speeddating_test_predictions"
   ]
  },
  {
   "cell_type": "code",
   "execution_count": 27,
   "id": "74079344-8e82-482f-8367-99219a18e62a",
   "metadata": {},
   "outputs": [],
   "source": [
    "# X_test = speeddating_test[[\n",
    "#     \"attractive_partner\", \"sincere_partner\",\"intelligence_partner\", \"funny_partner\", \"shared_interests_partner\",\"ambition_partner\"]]\n",
    "# y_test = speeddating_test[\"match\"]\n",
    "\n",
    "# speeddating_prediction_accuracy = speeddating_fit.score(X_test, y_test)\n",
    "\n",
    "# speeddating_prediction_accuracy"
   ]
  },
  {
   "cell_type": "code",
   "execution_count": 28,
   "id": "bd45c91f-f849-44c3-b99f-f50615455c4a",
   "metadata": {},
   "outputs": [],
   "source": [
    "# speeddating_mat = sklearn.metrics.confusion_matrix(\n",
    "#     speeddating_test_predictions[\"match\"],\n",
    "#     speeddating_test_predictions[\"predicted\"],\n",
    "#     labels=speeddating_fit.classes_,\n",
    "# )\n",
    "\n",
    "# from sklearn.metrics import ConfusionMatrixDisplay\n",
    "\n",
    "# disp = ConfusionMatrixDisplay(\n",
    "#     confusion_matrix=speeddating_mat, display_labels=speeddating_fit.classes_\n",
    "# )\n",
    "# disp.plot()"
   ]
  },
  {
   "cell_type": "code",
   "execution_count": 29,
   "id": "b53f5283-5a6d-40ed-b8a0-6ac374349c08",
   "metadata": {},
   "outputs": [],
   "source": [
    "# X_val = speeddating_train[[\n",
    "#     \"attractive_partner\", \"sincere_partner\",\"intelligence_partner\", \"funny_partner\", \"shared_interests_partner\",\"ambition_partner\"]]\n",
    "# y_val = speeddating_train[\"match\"]\n",
    "\n",
    "# speeddating_pipe = make_pipeline(speeddating_preprocessor, knn_spec)\n",
    "\n",
    "# speeddating_vfold_score = cross_validate(estimator=speeddating_pipe,  cv=5, X=X_val, y=y_val, return_train_score=True,)\n",
    "\n",
    "# pd.DataFrame(speeddating_vfold_score)\n",
    "\n",
    "# speeddating_metrics_mean = pd.DataFrame(speeddating_vfold_score).mean()\n",
    "# speeddating_metrics_std = pd.DataFrame(speeddating_vfold_score).std()"
   ]
  },
  {
   "cell_type": "code",
   "execution_count": 30,
   "id": "b4577fa1-aa37-4a21-85d8-c5b9c9518368",
   "metadata": {},
   "outputs": [
    {
     "name": "stderr",
     "output_type": "stream",
     "text": [
      "/opt/conda/lib/python3.10/site-packages/altair/utils/core.py:317: FutureWarning: iteritems is deprecated and will be removed in a future version. Use .items instead.\n",
      "  for col_name, dtype in df.dtypes.iteritems():\n"
     ]
    },
    {
     "data": {
      "text/html": [
       "\n",
       "<div id=\"altair-viz-b0d6f9cc3b2940ed84ea5d207575fb23\"></div>\n",
       "<script type=\"text/javascript\">\n",
       "  var VEGA_DEBUG = (typeof VEGA_DEBUG == \"undefined\") ? {} : VEGA_DEBUG;\n",
       "  (function(spec, embedOpt){\n",
       "    let outputDiv = document.currentScript.previousElementSibling;\n",
       "    if (outputDiv.id !== \"altair-viz-b0d6f9cc3b2940ed84ea5d207575fb23\") {\n",
       "      outputDiv = document.getElementById(\"altair-viz-b0d6f9cc3b2940ed84ea5d207575fb23\");\n",
       "    }\n",
       "    const paths = {\n",
       "      \"vega\": \"https://cdn.jsdelivr.net/npm//vega@5?noext\",\n",
       "      \"vega-lib\": \"https://cdn.jsdelivr.net/npm//vega-lib?noext\",\n",
       "      \"vega-lite\": \"https://cdn.jsdelivr.net/npm//vega-lite@4.17.0?noext\",\n",
       "      \"vega-embed\": \"https://cdn.jsdelivr.net/npm//vega-embed@6?noext\",\n",
       "    };\n",
       "\n",
       "    function maybeLoadScript(lib, version) {\n",
       "      var key = `${lib.replace(\"-\", \"\")}_version`;\n",
       "      return (VEGA_DEBUG[key] == version) ?\n",
       "        Promise.resolve(paths[lib]) :\n",
       "        new Promise(function(resolve, reject) {\n",
       "          var s = document.createElement('script');\n",
       "          document.getElementsByTagName(\"head\")[0].appendChild(s);\n",
       "          s.async = true;\n",
       "          s.onload = () => {\n",
       "            VEGA_DEBUG[key] = version;\n",
       "            return resolve(paths[lib]);\n",
       "          };\n",
       "          s.onerror = () => reject(`Error loading script: ${paths[lib]}`);\n",
       "          s.src = paths[lib];\n",
       "        });\n",
       "    }\n",
       "\n",
       "    function showError(err) {\n",
       "      outputDiv.innerHTML = `<div class=\"error\" style=\"color:red;\">${err}</div>`;\n",
       "      throw err;\n",
       "    }\n",
       "\n",
       "    function displayChart(vegaEmbed) {\n",
       "      vegaEmbed(outputDiv, spec, embedOpt)\n",
       "        .catch(err => showError(`Javascript Error: ${err.message}<br>This usually means there's a typo in your chart specification. See the javascript console for the full traceback.`));\n",
       "    }\n",
       "\n",
       "    if(typeof define === \"function\" && define.amd) {\n",
       "      requirejs.config({paths});\n",
       "      require([\"vega-embed\"], displayChart, err => showError(`Error loading script: ${err.message}`));\n",
       "    } else {\n",
       "      maybeLoadScript(\"vega\", \"5\")\n",
       "        .then(() => maybeLoadScript(\"vega-lite\", \"4.17.0\"))\n",
       "        .then(() => maybeLoadScript(\"vega-embed\", \"6\"))\n",
       "        .catch(showError)\n",
       "        .then(() => displayChart(vegaEmbed));\n",
       "    }\n",
       "  })({\"config\": {\"view\": {\"continuousWidth\": 400, \"continuousHeight\": 300}, \"axis\": {\"labelFontSize\": 10, \"titleFontSize\": 15}}, \"data\": {\"name\": \"data-bd03edadb191cc767a3eb0592f2323e1\"}, \"mark\": {\"type\": \"line\", \"point\": true}, \"encoding\": {\"x\": {\"field\": \"param_kneighborsclassifier__n_neighbors\", \"scale\": {\"zero\": false}, \"title\": \"Neighbors\", \"type\": \"quantitative\"}, \"y\": {\"field\": \"mean_test_score\", \"scale\": {\"zero\": false}, \"title\": \"Mean Test Score\", \"type\": \"quantitative\"}}, \"height\": 300, \"title\": \"Grid Search\", \"width\": 400, \"$schema\": \"https://vega.github.io/schema/vega-lite/v4.17.0.json\", \"datasets\": {\"data-bd03edadb191cc767a3eb0592f2323e1\": [{\"mean_fit_time\": 0.008059263229370117, \"std_fit_time\": 0.00044971728103687105, \"mean_score_time\": 0.03455061912536621, \"std_score_time\": 0.02689025765338206, \"param_kneighborsclassifier__n_neighbors\": 2, \"params\": {\"kneighborsclassifier__n_neighbors\": 2}, \"split0_test_score\": 0.7903225806451613, \"split1_test_score\": 0.8387096774193549, \"split2_test_score\": 0.8306451612903226, \"split3_test_score\": 0.8145161290322581, \"split4_test_score\": 0.8292682926829268, \"mean_test_score\": 0.8206923682140047, \"std_test_score\": 0.017074530323992365, \"rank_test_score\": 11}, {\"mean_fit_time\": 0.018447160720825195, \"std_fit_time\": 0.021078115143976752, \"mean_score_time\": 0.013458967208862305, \"std_score_time\": 0.0002227855462378633, \"param_kneighborsclassifier__n_neighbors\": 3, \"params\": {\"kneighborsclassifier__n_neighbors\": 3}, \"split0_test_score\": 0.8064516129032258, \"split1_test_score\": 0.8387096774193549, \"split2_test_score\": 0.7983870967741935, \"split3_test_score\": 0.8064516129032258, \"split4_test_score\": 0.8373983739837398, \"mean_test_score\": 0.8174796747967481, \"std_test_score\": 0.017060072816138916, \"rank_test_score\": 12}, {\"mean_fit_time\": 0.007709646224975586, \"std_fit_time\": 0.00025506146623741196, \"mean_score_time\": 0.013289403915405274, \"std_score_time\": 0.00015473974859537746, \"param_kneighborsclassifier__n_neighbors\": 4, \"params\": {\"kneighborsclassifier__n_neighbors\": 4}, \"split0_test_score\": 0.8145161290322581, \"split1_test_score\": 0.8467741935483871, \"split2_test_score\": 0.8145161290322581, \"split3_test_score\": 0.8225806451612904, \"split4_test_score\": 0.8373983739837398, \"mean_test_score\": 0.8271570941515869, \"std_test_score\": 0.012886010127276496, \"rank_test_score\": 9}, {\"mean_fit_time\": 0.007838773727416991, \"std_fit_time\": 0.00026954771572558684, \"mean_score_time\": 0.013799142837524415, \"std_score_time\": 0.0007691273892469694, \"param_kneighborsclassifier__n_neighbors\": 5, \"params\": {\"kneighborsclassifier__n_neighbors\": 5}, \"split0_test_score\": 0.8145161290322581, \"split1_test_score\": 0.8548387096774194, \"split2_test_score\": 0.7903225806451613, \"split3_test_score\": 0.8145161290322581, \"split4_test_score\": 0.8048780487804879, \"mean_test_score\": 0.8158143194335169, \"std_test_score\": 0.021427572857392368, \"rank_test_score\": 13}, {\"mean_fit_time\": 0.02014474868774414, \"std_fit_time\": 0.0006189716126748245, \"mean_score_time\": 0.03576483726501465, \"std_score_time\": 0.0004733590497452411, \"param_kneighborsclassifier__n_neighbors\": 6, \"params\": {\"kneighborsclassifier__n_neighbors\": 6}, \"split0_test_score\": 0.8306451612903226, \"split1_test_score\": 0.8467741935483871, \"split2_test_score\": 0.8387096774193549, \"split3_test_score\": 0.8387096774193549, \"split4_test_score\": 0.8211382113821138, \"mean_test_score\": 0.8351953842119066, \"std_test_score\": 0.008684215286934962, \"rank_test_score\": 7}, {\"mean_fit_time\": 0.021178388595581056, \"std_fit_time\": 0.0005705001519516257, \"mean_score_time\": 0.03700742721557617, \"std_score_time\": 0.0007486456457122396, \"param_kneighborsclassifier__n_neighbors\": 7, \"params\": {\"kneighborsclassifier__n_neighbors\": 7}, \"split0_test_score\": 0.8225806451612904, \"split1_test_score\": 0.8629032258064516, \"split2_test_score\": 0.8225806451612904, \"split3_test_score\": 0.8225806451612904, \"split4_test_score\": 0.7967479674796748, \"mean_test_score\": 0.8254786257539996, \"std_test_score\": 0.021219077682638227, \"rank_test_score\": 10}, {\"mean_fit_time\": 0.018728160858154298, \"std_fit_time\": 0.005260419976332094, \"mean_score_time\": 0.02769775390625, \"std_score_time\": 0.011558853370991783, \"param_kneighborsclassifier__n_neighbors\": 8, \"params\": {\"kneighborsclassifier__n_neighbors\": 8}, \"split0_test_score\": 0.8225806451612904, \"split1_test_score\": 0.8467741935483871, \"split2_test_score\": 0.8387096774193549, \"split3_test_score\": 0.8225806451612904, \"split4_test_score\": 0.8455284552845529, \"mean_test_score\": 0.8352347233149752, \"std_test_score\": 0.01069062191826068, \"rank_test_score\": 5}, {\"mean_fit_time\": 0.0065974235534667965, \"std_fit_time\": 0.000501919404286239, \"mean_score_time\": 0.011556434631347656, \"std_score_time\": 0.0002991596831316387, \"param_kneighborsclassifier__n_neighbors\": 9, \"params\": {\"kneighborsclassifier__n_neighbors\": 9}, \"split0_test_score\": 0.8225806451612904, \"split1_test_score\": 0.8467741935483871, \"split2_test_score\": 0.8225806451612904, \"split3_test_score\": 0.8387096774193549, \"split4_test_score\": 0.8292682926829268, \"mean_test_score\": 0.8319826907946499, \"std_test_score\": 0.009467901394239923, \"rank_test_score\": 8}, {\"mean_fit_time\": 0.006663322448730469, \"std_fit_time\": 0.0003629863163812552, \"mean_score_time\": 0.013711786270141602, \"std_score_time\": 0.0023721489547324256, \"param_kneighborsclassifier__n_neighbors\": 10, \"params\": {\"kneighborsclassifier__n_neighbors\": 10}, \"split0_test_score\": 0.8306451612903226, \"split1_test_score\": 0.8467741935483871, \"split2_test_score\": 0.8387096774193549, \"split3_test_score\": 0.8387096774193549, \"split4_test_score\": 0.8292682926829268, \"mean_test_score\": 0.8368214004720693, \"std_test_score\": 0.006346410597871026, \"rank_test_score\": 3}, {\"mean_fit_time\": 0.006696224212646484, \"std_fit_time\": 0.0002879850111779266, \"mean_score_time\": 0.012563753128051757, \"std_score_time\": 0.0013735970629633375, \"param_kneighborsclassifier__n_neighbors\": 11, \"params\": {\"kneighborsclassifier__n_neighbors\": 11}, \"split0_test_score\": 0.8387096774193549, \"split1_test_score\": 0.8467741935483871, \"split2_test_score\": 0.8387096774193549, \"split3_test_score\": 0.8467741935483871, \"split4_test_score\": 0.8130081300813008, \"mean_test_score\": 0.8367951744033568, \"std_test_score\": 0.012428320621626653, \"rank_test_score\": 4}, {\"mean_fit_time\": 0.00706324577331543, \"std_fit_time\": 0.000668477442356321, \"mean_score_time\": 0.01207427978515625, \"std_score_time\": 0.0005211482730116551, \"param_kneighborsclassifier__n_neighbors\": 12, \"params\": {\"kneighborsclassifier__n_neighbors\": 12}, \"split0_test_score\": 0.8387096774193549, \"split1_test_score\": 0.8467741935483871, \"split2_test_score\": 0.8306451612903226, \"split3_test_score\": 0.8306451612903226, \"split4_test_score\": 0.8292682926829268, \"mean_test_score\": 0.8352084972462628, \"std_test_score\": 0.006677689628984806, \"rank_test_score\": 6}, {\"mean_fit_time\": 0.0069278240203857425, \"std_fit_time\": 0.0003199137275098856, \"mean_score_time\": 0.012346649169921875, \"std_score_time\": 0.0004232537964651827, \"param_kneighborsclassifier__n_neighbors\": 13, \"params\": {\"kneighborsclassifier__n_neighbors\": 13}, \"split0_test_score\": 0.8387096774193549, \"split1_test_score\": 0.8467741935483871, \"split2_test_score\": 0.8306451612903226, \"split3_test_score\": 0.8306451612903226, \"split4_test_score\": 0.8373983739837398, \"mean_test_score\": 0.8368345135064252, \"std_test_score\": 0.005987446523932472, \"rank_test_score\": 2}, {\"mean_fit_time\": 0.007037687301635742, \"std_fit_time\": 0.0003046464576348593, \"mean_score_time\": 0.012953615188598633, \"std_score_time\": 0.0003631276229162596, \"param_kneighborsclassifier__n_neighbors\": 14, \"params\": {\"kneighborsclassifier__n_neighbors\": 14}, \"split0_test_score\": 0.8387096774193549, \"split1_test_score\": 0.8467741935483871, \"split2_test_score\": 0.8467741935483871, \"split3_test_score\": 0.8306451612903226, \"split4_test_score\": 0.8373983739837398, \"mean_test_score\": 0.8400603199580383, \"std_test_score\": 0.006127113538200732, \"rank_test_score\": 1}]}}, {\"mode\": \"vega-lite\"});\n",
       "</script>"
      ],
      "text/plain": [
       "alt.Chart(...)"
      ]
     },
     "execution_count": 30,
     "metadata": {},
     "output_type": "execute_result"
    }
   ],
   "source": [
    "# hyperparameter opitmization\n",
    "from sklearn.model_selection import (\n",
    "    GridSearchCV,\n",
    "    RandomizedSearchCV,\n",
    "    cross_validate,\n",
    "    train_test_split,\n",
    "    ParameterGrid)\n",
    "\n",
    "# specify a particular value for the n_neighbors argument\n",
    "# pass the set of values for each parameters you would like to tune\n",
    "param_grid = {\n",
    "  \"kneighborsclassifier__n_neighbors\": range(2,15,1),\n",
    "}\n",
    "\n",
    "# redefine the pipeline to use default values for parameters\n",
    "speeddating_tune_pipe = make_pipeline(\n",
    "  speeddating_preprocessor,\n",
    "  KNeighborsClassifier())\n",
    "\n",
    "# run 5-fold-cross-validations to tune hyperparameters\n",
    "knn_tune_grid = GridSearchCV(\n",
    "  estimator=speeddating_tune_pipe,\n",
    "  param_grid=param_grid,\n",
    "  cv=5\n",
    ")\n",
    "\n",
    "\n",
    "# fit the models to the data\n",
    "# predictors and target\n",
    "X_tune=speeddating_training[[\"attractive_partner\", \"sincere_partner\",\"intelligence_partner\", \"funny_partner\", \"shared_interests_partner\",\"ambition_partner\"]]\n",
    "y_tune=speeddating_training[\"match\"]\n",
    "\n",
    "# assign tuned models\n",
    "knn_model_grid = knn_tune_grid.fit(X_tune, y_tune)\n",
    "\n",
    "\n",
    "# find the cv_results_ and save in dataframe\n",
    "accuracies_grid = pd.DataFrame(knn_model_grid.cv_results_)\n",
    "\n",
    "\n",
    "# use a line plot to find the best value of the number of neighbors\n",
    "accuracy_versus_k_grid = (\n",
    "    alt.Chart(accuracies_grid, title=\"Grid Search\")\n",
    "    .mark_line(point=True)\n",
    "    .encode(\n",
    "        x=alt.X(\n",
    "            \"param_kneighborsclassifier__n_neighbors\",\n",
    "            title=\"Neighbors\",\n",
    "            scale=alt.Scale(zero=False),\n",
    "        ),\n",
    "        y=alt.Y(\n",
    "            \"mean_test_score\", \n",
    "            title=\"Mean Test Score\", \n",
    "            scale=alt.Scale(zero=False)\n",
    "        ),\n",
    "    )\n",
    "    .configure_axis(labelFontSize=10, titleFontSize=15)\n",
    "    .properties(width=400, height=300)\n",
    ")\n",
    "accuracy_versus_k_grid\n"
   ]
  },
  {
   "cell_type": "markdown",
   "id": "2e4494aa-48e4-4fad-980e-4754db450768",
   "metadata": {},
   "source": [
    "The grid search plot shows us that n=6 has the highest accuracy while n=3 has the lowest. Therefore, we will use 6 as the k value for our KNeighborsClassifier"
   ]
  },
  {
   "cell_type": "markdown",
   "id": "ebf041bd-1f2e-42cd-b304-74f129dc090f",
   "metadata": {},
   "source": [
    "#### Cross Validation (CV)"
   ]
  },
  {
   "cell_type": "code",
   "execution_count": 31,
   "id": "f67daa3b-1b58-4f9d-9805-b1723f317a17",
   "metadata": {},
   "outputs": [],
   "source": [
    "# we would need to find the best k for each of these as well -> just use the combinations instead\n",
    "# delete?"
   ]
  },
  {
   "cell_type": "markdown",
   "id": "916cbe69-a969-4ee6-ba42-705a759403e4",
   "metadata": {},
   "source": [
    "##### CV Accuracy: Attractive of the Partner & Match"
   ]
  },
  {
   "cell_type": "code",
   "execution_count": 32,
   "id": "5c6b11a4-5270-45f3-860c-21bb2d7ad88c",
   "metadata": {},
   "outputs": [
    {
     "data": {
      "text/plain": [
       "0.8387096774193549"
      ]
     },
     "execution_count": 32,
     "metadata": {},
     "output_type": "execute_result"
    }
   ],
   "source": [
    "np.random.seed(1000)\n",
    "speeddating_preprocessor = make_column_transformer(\n",
    "    (StandardScaler(), [\"attractive_partner\"]),\n",
    ")\n",
    "\n",
    "# create the 25/75 split of the *training data* into sub-training and validation\n",
    "speeddating_subtrain, speeddating_validation = train_test_split(\n",
    "    speeddating_training, test_size=0.25\n",
    ")\n",
    "\n",
    "# fit the model on the sub-training data\n",
    "knn = KNeighborsClassifier(n_neighbors=6) \n",
    "X = speeddating_subtrain.loc[:, [\"attractive_partner\"]]\n",
    "y = speeddating_subtrain[\"match\"]\n",
    "knn_fit = make_pipeline(speeddating_preprocessor, knn).fit(X, y)\n",
    "\n",
    "# compute the score on validation data\n",
    "acc = knn_fit.score(\n",
    "    speeddating_validation.loc[:, [\"attractive_partner\"]],\n",
    "    speeddating_validation[\"match\"]\n",
    ")\n",
    "acc"
   ]
  },
  {
   "cell_type": "markdown",
   "id": "8878d27a-65e4-4e37-b4ee-6cee99aed242",
   "metadata": {},
   "source": [
    "##### CV Accuracy: Intelligence of the Partner & Match"
   ]
  },
  {
   "cell_type": "code",
   "execution_count": 33,
   "id": "681b163f-3cc8-46ab-8381-af17808a3083",
   "metadata": {},
   "outputs": [
    {
     "data": {
      "text/plain": [
       "0.8516129032258064"
      ]
     },
     "execution_count": 33,
     "metadata": {},
     "output_type": "execute_result"
    }
   ],
   "source": [
    "np.random.seed(1000)\n",
    "speeddating_preprocessor = make_column_transformer(\n",
    "    (StandardScaler(), [\"intelligence_partner\"]),\n",
    ")\n",
    "\n",
    "# create the 25/75 split of the *training data* into sub-training and validation\n",
    "speeddating_subtrain, speeddating_validation = train_test_split(\n",
    "    speeddating_training, test_size=0.25\n",
    ")\n",
    "\n",
    "# fit the model on the sub-training data\n",
    "knn = KNeighborsClassifier(n_neighbors=6) \n",
    "X = speeddating_subtrain.loc[:, [\"intelligence_partner\"]]\n",
    "y = speeddating_subtrain[\"match\"]\n",
    "knn_fit = make_pipeline(speeddating_preprocessor, knn).fit(X, y)\n",
    "\n",
    "# compute the score on validation data\n",
    "acc = knn_fit.score(\n",
    "    speeddating_validation.loc[:, [\"intelligence_partner\"]],\n",
    "    speeddating_validation[\"match\"]\n",
    ")\n",
    "acc"
   ]
  },
  {
   "cell_type": "markdown",
   "id": "18227c4b-2ca9-447b-8e13-1f828e2b9ac8",
   "metadata": {},
   "source": [
    "##### CV Accuracy: Funny attribute of Partner & Match"
   ]
  },
  {
   "cell_type": "code",
   "execution_count": 34,
   "id": "1518a3c4-5302-4a4d-9806-f2d76cbbe147",
   "metadata": {},
   "outputs": [
    {
     "data": {
      "text/plain": [
       "0.8193548387096774"
      ]
     },
     "execution_count": 34,
     "metadata": {},
     "output_type": "execute_result"
    }
   ],
   "source": [
    "np.random.seed(1000)\n",
    "speeddating_preprocessor = make_column_transformer(\n",
    "    (StandardScaler(), [\"funny_partner\"]),\n",
    ")\n",
    "\n",
    "# create the 25/75 split of the *training data* into sub-training and validation\n",
    "speeddating_subtrain, speeddating_validation = train_test_split(\n",
    "    speeddating_training, test_size=0.25\n",
    ")\n",
    "\n",
    "# fit the model on the sub-training data\n",
    "knn = KNeighborsClassifier(n_neighbors=6) \n",
    "X = speeddating_subtrain.loc[:, [\"funny_partner\"]]\n",
    "y = speeddating_subtrain[\"match\"]\n",
    "knn_fit = make_pipeline(speeddating_preprocessor, knn).fit(X, y)\n",
    "\n",
    "# compute the score on validation data\n",
    "acc = knn_fit.score(\n",
    "    speeddating_validation.loc[:, [\"funny_partner\"]],\n",
    "    speeddating_validation[\"match\"]\n",
    ")\n",
    "acc"
   ]
  },
  {
   "cell_type": "markdown",
   "id": "c6c599e5-04ff-453b-a376-94c986071c31",
   "metadata": {},
   "source": [
    "##### CV Accuracy: Shared Interests attribute of Partner & Match"
   ]
  },
  {
   "cell_type": "code",
   "execution_count": 35,
   "id": "ac18b279-7b88-4357-aa43-b917a412a79f",
   "metadata": {},
   "outputs": [
    {
     "data": {
      "text/plain": [
       "0.864516129032258"
      ]
     },
     "execution_count": 35,
     "metadata": {},
     "output_type": "execute_result"
    }
   ],
   "source": [
    "np.random.seed(1000)\n",
    "speeddating_preprocessor = make_column_transformer(\n",
    "    (StandardScaler(), [\"shared_interests_partner\"]),\n",
    ")\n",
    "\n",
    "# create the 25/75 split of the *training data* into sub-training and validation\n",
    "speeddating_subtrain, speeddating_validation = train_test_split(\n",
    "    speeddating_training, test_size=0.25\n",
    ")\n",
    "\n",
    "# fit the model on the sub-training data\n",
    "knn = KNeighborsClassifier(n_neighbors=6) \n",
    "X = speeddating_subtrain.loc[:, [\"shared_interests_partner\"]]\n",
    "y = speeddating_subtrain[\"match\"]\n",
    "knn_fit = make_pipeline(speeddating_preprocessor, knn).fit(X, y)\n",
    "\n",
    "# compute the score on validation data\n",
    "acc = knn_fit.score(\n",
    "    speeddating_validation.loc[:, [\"shared_interests_partner\"]],\n",
    "    speeddating_validation[\"match\"]\n",
    ")\n",
    "acc"
   ]
  },
  {
   "cell_type": "markdown",
   "id": "74e02afc-8a42-47f9-907a-2b29abecb5b3",
   "metadata": {},
   "source": [
    "##### CV Accuracy: Ambition attribute of Partner & Match"
   ]
  },
  {
   "cell_type": "code",
   "execution_count": 36,
   "id": "fe2ada54-5b73-4cc2-8ce2-f70ede00195b",
   "metadata": {},
   "outputs": [
    {
     "data": {
      "text/plain": [
       "0.8516129032258064"
      ]
     },
     "execution_count": 36,
     "metadata": {},
     "output_type": "execute_result"
    }
   ],
   "source": [
    "np.random.seed(1000)\n",
    "# fit the model on the sub-training data\n",
    "speeddating_preprocessor = make_column_transformer(\n",
    "    (StandardScaler(), [\"ambition_partner\"]),\n",
    ")\n",
    "\n",
    "# create the 25/75 split of the *training data* into sub-training and validation\n",
    "speeddating_subtrain, speeddating_validation = train_test_split(\n",
    "    speeddating_training, test_size=0.25\n",
    ")\n",
    "\n",
    "knn = KNeighborsClassifier(n_neighbors=6) \n",
    "X = speeddating_subtrain.loc[:, [\"ambition_partner\"]]\n",
    "y = speeddating_subtrain[\"match\"]\n",
    "knn_fit = make_pipeline(speeddating_preprocessor, knn).fit(X, y)\n",
    "\n",
    "# compute the score on validation data\n",
    "acc = knn_fit.score(\n",
    "    speeddating_validation.loc[:, [\"ambition_partner\"]],\n",
    "    speeddating_validation[\"match\"]\n",
    ")\n",
    "acc"
   ]
  },
  {
   "cell_type": "markdown",
   "id": "48dd4543-e791-4e27-8ff6-6a906b492d9a",
   "metadata": {},
   "source": [
    "##### CV Accuracy: Sincere attribute of Partner & Match"
   ]
  },
  {
   "cell_type": "code",
   "execution_count": 37,
   "id": "09c115b9-d3a4-4b7e-8ab8-ae8399947283",
   "metadata": {},
   "outputs": [
    {
     "data": {
      "text/plain": [
       "0.8516129032258064"
      ]
     },
     "execution_count": 37,
     "metadata": {},
     "output_type": "execute_result"
    }
   ],
   "source": [
    "np.random.seed(1000)\n",
    "speeddating_preprocessor = make_column_transformer(\n",
    "    (StandardScaler(), [\"sincere_partner\"]),\n",
    ")\n",
    "\n",
    "# create the 25/75 split of the *training data* into sub-training and validation\n",
    "speeddating_subtrain, speeddating_validation = train_test_split(\n",
    "    speeddating_training, test_size=0.25\n",
    ")\n",
    "\n",
    "# fit the model on the sub-training data\n",
    "knn = KNeighborsClassifier(n_neighbors=6) \n",
    "X = speeddating_subtrain.loc[:, [\"sincere_partner\"]]\n",
    "y = speeddating_subtrain[\"match\"]\n",
    "knn_fit = make_pipeline(speeddating_preprocessor, knn).fit(X, y)\n",
    "\n",
    "# compute the score on validation data\n",
    "acc = knn_fit.score(\n",
    "    speeddating_validation.loc[:, [\"sincere_partner\"]],\n",
    "    speeddating_validation[\"match\"]\n",
    ")\n",
    "acc"
   ]
  },
  {
   "cell_type": "markdown",
   "id": "2b640215-098e-4319-9da3-6e45b2a7ea47",
   "metadata": {},
   "source": [
    "##### CV Accuracy: Sincere, intelligence, ambition, and shared interests attributes of Partner & Match"
   ]
  },
  {
   "cell_type": "code",
   "execution_count": 38,
   "id": "4690a17d-d698-407a-b2b6-d5e09688344a",
   "metadata": {},
   "outputs": [
    {
     "data": {
      "text/plain": [
       "0.8709677419354839"
      ]
     },
     "execution_count": 38,
     "metadata": {},
     "output_type": "execute_result"
    }
   ],
   "source": [
    "np.random.seed(1000)\n",
    "# fit the model on the sub-training data\n",
    "speeddating_preprocessor = make_column_transformer(\n",
    "    (StandardScaler(), [\"sincere_partner\",\"intelligence_partner\", \"shared_interests_partner\", \"ambition_partner\"]),\n",
    ")\n",
    "\n",
    "# create the 25/75 split of the *training data* into sub-training and validation\n",
    "speeddating_subtrain, speeddating_validation = train_test_split(\n",
    "    speeddating_training, test_size=0.25\n",
    ")\n",
    "\n",
    "knn = KNeighborsClassifier(n_neighbors=6) \n",
    "X = speeddating_subtrain.loc[:, [\"sincere_partner\",\"intelligence_partner\", \"shared_interests_partner\", \"ambition_partner\"]]\n",
    "y = speeddating_subtrain[\"match\"]\n",
    "knn_fit = make_pipeline(speeddating_preprocessor, knn).fit(X, y)\n",
    "\n",
    "# compute the score on validation data\n",
    "acc = knn_fit.score(\n",
    "    speeddating_validation.loc[:, [\"sincere_partner\",\"intelligence_partner\", \"shared_interests_partner\", \"ambition_partner\"]],\n",
    "    speeddating_validation[\"match\"]\n",
    ")\n",
    "acc"
   ]
  },
  {
   "cell_type": "markdown",
   "id": "39405852-3538-4dd4-a7c5-dac4064b2442",
   "metadata": {},
   "source": [
    "When we test the accuracy of the model after dropping the columns of \"attractive_partner\" and \"funny_partner\", leaving us to use the predictors of sincerity, intelligence, ambition, and shared interests, the score was 0.87. This is a fairly high score but since we have found that attractiveness is a strong predictor and shared interests a weak predictor for matching, we will try another model using the additional predictor of \"attractive_partner\" while taking out \"shared_interests_partner\"."
   ]
  },
  {
   "cell_type": "code",
   "execution_count": 39,
   "id": "0921649e-1139-4d92-a3eb-8903cc965283",
   "metadata": {},
   "outputs": [
    {
     "data": {
      "text/plain": [
       "0.832258064516129"
      ]
     },
     "execution_count": 39,
     "metadata": {},
     "output_type": "execute_result"
    }
   ],
   "source": [
    "np.random.seed(1000)\n",
    "# fit the model on the sub-training data\n",
    "speeddating_preprocessor = make_column_transformer(\n",
    "    (StandardScaler(), [\"attractive_partner\",\"sincere_partner\",\"intelligence_partner\", \"ambition_partner\"]),\n",
    ")\n",
    "\n",
    "# create the 25/75 split of the *training data* into sub-training and validation\n",
    "speeddating_subtrain, speeddating_validation = train_test_split(\n",
    "    speeddating_training, test_size=0.25\n",
    ")\n",
    "\n",
    "knn = KNeighborsClassifier(n_neighbors=6) \n",
    "X = speeddating_subtrain.loc[:, [\"attractive_partner\", \"sincere_partner\",\"intelligence_partner\", \"ambition_partner\"]]\n",
    "y = speeddating_subtrain[\"match\"]\n",
    "knn_fit = make_pipeline(speeddating_preprocessor, knn).fit(X, y)\n",
    "\n",
    "# compute the score on validation data\n",
    "acc = knn_fit.score(\n",
    "    speeddating_validation.loc[:, [\"attractive_partner\",\"sincere_partner\",\"intelligence_partner\", \"ambition_partner\"]],\n",
    "    speeddating_validation[\"match\"]\n",
    ")\n",
    "acc"
   ]
  },
  {
   "cell_type": "code",
   "execution_count": 40,
   "id": "f91461df-83e4-4af4-9112-22cee200e34e",
   "metadata": {},
   "outputs": [
    {
     "data": {
      "text/html": [
       "<div>\n",
       "<style scoped>\n",
       "    .dataframe tbody tr th:only-of-type {\n",
       "        vertical-align: middle;\n",
       "    }\n",
       "\n",
       "    .dataframe tbody tr th {\n",
       "        vertical-align: top;\n",
       "    }\n",
       "\n",
       "    .dataframe thead th {\n",
       "        text-align: right;\n",
       "    }\n",
       "</style>\n",
       "<table border=\"1\" class=\"dataframe\">\n",
       "  <thead>\n",
       "    <tr style=\"text-align: right;\">\n",
       "      <th></th>\n",
       "      <th>sincere_partner</th>\n",
       "      <th>intelligence_partner</th>\n",
       "      <th>shared_interests_partner</th>\n",
       "      <th>ambition_partner</th>\n",
       "      <th>match</th>\n",
       "    </tr>\n",
       "  </thead>\n",
       "  <tbody>\n",
       "    <tr>\n",
       "      <th>3852</th>\n",
       "      <td>8.0</td>\n",
       "      <td>8.0</td>\n",
       "      <td>2.0</td>\n",
       "      <td>6.0</td>\n",
       "      <td>fail</td>\n",
       "    </tr>\n",
       "    <tr>\n",
       "      <th>1938</th>\n",
       "      <td>5.0</td>\n",
       "      <td>6.0</td>\n",
       "      <td>5.0</td>\n",
       "      <td>5.0</td>\n",
       "      <td>fail</td>\n",
       "    </tr>\n",
       "    <tr>\n",
       "      <th>4879</th>\n",
       "      <td>5.0</td>\n",
       "      <td>6.0</td>\n",
       "      <td>5.0</td>\n",
       "      <td>5.0</td>\n",
       "      <td>fail</td>\n",
       "    </tr>\n",
       "    <tr>\n",
       "      <th>1619</th>\n",
       "      <td>10.0</td>\n",
       "      <td>8.0</td>\n",
       "      <td>3.0</td>\n",
       "      <td>7.0</td>\n",
       "      <td>fail</td>\n",
       "    </tr>\n",
       "    <tr>\n",
       "      <th>3151</th>\n",
       "      <td>6.0</td>\n",
       "      <td>7.0</td>\n",
       "      <td>5.0</td>\n",
       "      <td>6.0</td>\n",
       "      <td>fail</td>\n",
       "    </tr>\n",
       "  </tbody>\n",
       "</table>\n",
       "</div>"
      ],
      "text/plain": [
       "      sincere_partner  intelligence_partner  shared_interests_partner  \\\n",
       "3852              8.0                   8.0                       2.0   \n",
       "1938              5.0                   6.0                       5.0   \n",
       "4879              5.0                   6.0                       5.0   \n",
       "1619             10.0                   8.0                       3.0   \n",
       "3151              6.0                   7.0                       5.0   \n",
       "\n",
       "      ambition_partner match  \n",
       "3852               6.0  fail  \n",
       "1938               5.0  fail  \n",
       "4879               5.0  fail  \n",
       "1619               7.0  fail  \n",
       "3151               6.0  fail  "
      ]
     },
     "execution_count": 40,
     "metadata": {},
     "output_type": "execute_result"
    }
   ],
   "source": [
    "final_speeddating = speeddating[[\"sincere_partner\",\"intelligence_partner\", \"shared_interests_partner\", \"ambition_partner\", \"match\"]]\n",
    "final_speeddating.head(5)"
   ]
  },
  {
   "cell_type": "code",
   "execution_count": 41,
   "id": "0f1219a9-75a7-4e86-8423-25721097c08a",
   "metadata": {},
   "outputs": [],
   "source": [
    "final_speeddating_train, final_speeddating_test = train_test_split(final_speeddating, test_size=0.25, random_state=123) # set the random state to be 123\n"
   ]
  },
  {
   "cell_type": "markdown",
   "id": "96b66435-6140-4e7b-8582-846cb764cc5e",
   "metadata": {},
   "source": [
    "## Discussion"
   ]
  },
  {
   "cell_type": "markdown",
   "id": "c00c657f-2f1f-4f5c-b4be-1aa0957b0402",
   "metadata": {},
   "source": [
    "#### Summary of results:"
   ]
  },
  {
   "cell_type": "markdown",
   "id": "7f2cec9d-2f65-494f-aab6-f45def93d71e",
   "metadata": {},
   "source": [
    "#### Expectations and impacts of results:"
   ]
  },
  {
   "cell_type": "markdown",
   "id": "ce0c2a10-02c7-4aad-8c84-a6d0586d96c1",
   "metadata": {},
   "source": [
    "#### Future questions"
   ]
  },
  {
   "cell_type": "code",
   "execution_count": null,
   "id": "502f2db5-b2bd-487e-baa6-a32d2b3e4a94",
   "metadata": {},
   "outputs": [],
   "source": []
  },
  {
   "cell_type": "markdown",
   "id": "5423e538-4ad2-4558-9fc1-4d76fb74c43f",
   "metadata": {},
   "source": [
    "### Sources/ Citation "
   ]
  },
  {
   "cell_type": "code",
   "execution_count": null,
   "id": "cc8ba639-e9cf-402a-83dc-872826803ffd",
   "metadata": {},
   "outputs": [],
   "source": []
  },
  {
   "cell_type": "markdown",
   "id": "5d5dae9f-cc28-4420-a94d-25f7ae9a44d2",
   "metadata": {},
   "source": [
    "#### messy data wrangling, clean up later"
   ]
  },
  {
   "cell_type": "code",
   "execution_count": 42,
   "id": "4d18b2ee-de33-4bfb-b4f7-53e6d0e0d4c7",
   "metadata": {},
   "outputs": [
    {
     "name": "stdout",
     "output_type": "stream",
     "text": [
      "<class 'pandas.core.frame.DataFrame'>\n",
      "Int64Index: 619 entries, 7267 to 5562\n",
      "Data columns (total 7 columns):\n",
      " #   Column                    Non-Null Count  Dtype   \n",
      "---  ------                    --------------  -----   \n",
      " 0   match                     619 non-null    category\n",
      " 1   attractive_partner        619 non-null    float64 \n",
      " 2   sincere_partner           619 non-null    float64 \n",
      " 3   intelligence_partner      619 non-null    float64 \n",
      " 4   funny_partner             619 non-null    float64 \n",
      " 5   ambition_partner          619 non-null    float64 \n",
      " 6   shared_interests_partner  619 non-null    float64 \n",
      "dtypes: category(1), float64(6)\n",
      "memory usage: 34.6 KB\n"
     ]
    },
    {
     "data": {
      "text/plain": [
       "0.8129032258064516"
      ]
     },
     "execution_count": 42,
     "metadata": {},
     "output_type": "execute_result"
    }
   ],
   "source": [
    "# first combination: attractiveness, intelligence, funny, sincere\n",
    "np.random.seed(1000)\n",
    "\n",
    "speeddating_train, speeddating_test = train_test_split(\n",
    "    speeddating, train_size=0.75,\n",
    "    # stratify=speeddating[\"match\"]\n",
    ")\n",
    "speeddating_train.info()\n",
    "\n",
    "speeddating_train[\"match\"].value_counts(normalize=True)\n",
    "\n",
    "# preprocess data\n",
    "speeddating_preprocessor = make_column_transformer(\n",
    "    (StandardScaler(), [\"attractive_partner\", \"intelligence_partner\", \n",
    "                        \"funny_partner\", \"sincere_partner\"])\n",
    ")\n",
    "\n",
    "# make a dataframe for finding the highest accuracy\n",
    "# accuracies grid\n",
    "knn = KNeighborsClassifier()\n",
    "speeddating_tune_pipe = make_pipeline(speeddating_preprocessor, knn)\n",
    "\n",
    "\n",
    "parameter_grid = {\n",
    "    \"kneighborsclassifier__n_neighbors\": range(1, 100, 5),\n",
    "}\n",
    "\n",
    "speeddating_tune_grid = GridSearchCV(\n",
    "    estimator=speeddating_tune_pipe,\n",
    "    param_grid=parameter_grid,\n",
    "    cv=10\n",
    ")\n",
    "\n",
    "accuracies_grid = pd.DataFrame(\n",
    "             speeddating_tune_grid\n",
    "             .fit(speeddating_train.loc[:, [\"attractive_partner\", \"intelligence_partner\",\n",
    "                                            \"funny_partner\", \"sincere_partner\"]],\n",
    "                  speeddating_train[\"match\"]\n",
    "            ).cv_results_)\n",
    "\n",
    "\n",
    "accuracies_grid = accuracies_grid[[\"param_kneighborsclassifier__n_neighbors\", \n",
    "                                   \"mean_test_score\", \"std_test_score\"]\n",
    "              ].assign(\n",
    "                  sem_test_score = accuracies_grid[\"std_test_score\"] / 10**(1/2)\n",
    "              ).rename(\n",
    "                  columns = {\"param_kneighborsclassifier__n_neighbors\" : \"n_neighbors\"}\n",
    "              ).drop(\n",
    "                  columns = [\"std_test_score\"]\n",
    "              )\n",
    "accuracies_grid\n",
    "\n",
    "\n",
    "\n",
    "\n",
    "# now use k=6 to find accuracy of model?\n",
    "# use a split of the training set for validation set\n",
    "# create the 25/75 split of the *training data* into sub-training and validation\n",
    "speeddating_subtrain, speeddating_validation = train_test_split(\n",
    "    speeddating_train, test_size=0.25\n",
    ")\n",
    "\n",
    "# fit the model on the sub-training data\n",
    "knn = KNeighborsClassifier(n_neighbors=6) \n",
    "X = speeddating_subtrain.loc[:, [\"attractive_partner\",\"intelligence_partner\",\n",
    "                                 \"funny_partner\", \"sincere_partner\"]]\n",
    "y = speeddating_subtrain[\"match\"]\n",
    "knn_fit = make_pipeline(speeddating_preprocessor, knn).fit(X, y)\n",
    "\n",
    "# compute the score on validation data\n",
    "acc = knn_fit.score(\n",
    "    speeddating_validation.loc[:, [\"attractive_partner\",\"intelligence_partner\",\n",
    "                                   \"funny_partner\", \"sincere_partner\"]],\n",
    "    speeddating_validation[\"match\"]\n",
    ")\n",
    "acc"
   ]
  },
  {
   "cell_type": "code",
   "execution_count": 43,
   "id": "dd015419-ccf1-459e-b2b6-bb7476b15d5b",
   "metadata": {},
   "outputs": [
    {
     "data": {
      "text/plain": [
       "0.7935483870967742"
      ]
     },
     "execution_count": 43,
     "metadata": {},
     "output_type": "execute_result"
    }
   ],
   "source": [
    "# second combination: sincere, intelligence, shared interests, ambition \n",
    "np.random.seed(1000)\n",
    "\n",
    "# preprocess data\n",
    "speeddating_preprocessor = make_column_transformer(\n",
    "    (StandardScaler(), [\"sincere_partner\",\"intelligence_partner\",\n",
    "                        \"shared_interests_partner\", \"ambition_partner\"])\n",
    ")\n",
    "\n",
    "# make a dataframe for finding the highest accuracy\n",
    "# accuracies grid\n",
    "knn = KNeighborsClassifier()\n",
    "speeddating_tune_pipe = make_pipeline(speeddating_preprocessor, knn)\n",
    "\n",
    "\n",
    "parameter_grid = {\n",
    "    \"kneighborsclassifier__n_neighbors\": range(1, 100, 5),\n",
    "}\n",
    "\n",
    "speeddating_tune_grid = GridSearchCV(\n",
    "    estimator=speeddating_tune_pipe,\n",
    "    param_grid=parameter_grid,\n",
    "    cv=10\n",
    ")\n",
    "\n",
    "accuracies_grid = pd.DataFrame(\n",
    "             speeddating_tune_grid\n",
    "             .fit(speeddating_train.loc[:, [\"sincere_partner\",\"intelligence_partner\",\n",
    "                                            \"shared_interests_partner\", \"ambition_partner\"]],\n",
    "                  speeddating_train[\"match\"]\n",
    "            ).cv_results_)\n",
    "\n",
    "\n",
    "accuracies_grid = accuracies_grid[[\"param_kneighborsclassifier__n_neighbors\", \n",
    "                                   \"mean_test_score\", \"std_test_score\"]\n",
    "              ].assign(\n",
    "                  sem_test_score = accuracies_grid[\"std_test_score\"] / 10**(1/2)\n",
    "              ).rename(\n",
    "                  columns = {\"param_kneighborsclassifier__n_neighbors\" : \"n_neighbors\"}\n",
    "              ).drop(\n",
    "                  columns = [\"std_test_score\"]\n",
    "              )\n",
    "accuracies_grid\n",
    "\n",
    "\n",
    "\n",
    "\n",
    "# k=56 has the highest accuracy :O\n",
    "# k=6 had accuracy of 0.787 and k=56 has 0.794\n",
    "# use a split of the training set for validation set\n",
    "# create the 25/75 split of the *training data* into sub-training and validation\n",
    "speeddating_subtrain, speeddating_validation = train_test_split(\n",
    "    speeddating_train, test_size=0.25\n",
    ")\n",
    "\n",
    "# fit the model on the sub-training data\n",
    "knn = KNeighborsClassifier(n_neighbors=56) \n",
    "X = speeddating_subtrain.loc[:, [\"sincere_partner\",\"intelligence_partner\",\n",
    "                                 \"shared_interests_partner\", \"ambition_partner\"]]\n",
    "y = speeddating_subtrain[\"match\"]\n",
    "knn_fit = make_pipeline(speeddating_preprocessor, knn).fit(X, y)\n",
    "\n",
    "# compute the score on validation data\n",
    "acc = knn_fit.score(\n",
    "    speeddating_validation.loc[:, [\"sincere_partner\",\"intelligence_partner\",\n",
    "                                   \"shared_interests_partner\", \"ambition_partner\"]],\n",
    "    speeddating_validation[\"match\"]\n",
    ")\n",
    "acc\n",
    "# with stratify: 0.794\n",
    "# without stratify: 0.806"
   ]
  },
  {
   "cell_type": "code",
   "execution_count": 44,
   "id": "9f09ca7a-0550-4f16-8eec-55dae7592296",
   "metadata": {},
   "outputs": [
    {
     "data": {
      "text/plain": [
       "0.7612903225806451"
      ]
     },
     "execution_count": 44,
     "metadata": {},
     "output_type": "execute_result"
    }
   ],
   "source": [
    "# third combination: attractiveness, funny, shared_interests, intelligence\n",
    "np.random.seed(1000)\n",
    "\n",
    "# preprocess data\n",
    "speeddating_preprocessor = make_column_transformer(\n",
    "    (StandardScaler(), [\"intelligence_partner\",\n",
    "                        \"funny_partner\", \"shared_interests_partner\"])\n",
    ")\n",
    "\n",
    "# make a dataframe for finding the highest accuracy\n",
    "# accuracies grid\n",
    "knn = KNeighborsClassifier()\n",
    "speeddating_tune_pipe = make_pipeline(speeddating_preprocessor, knn)\n",
    "\n",
    "\n",
    "parameter_grid = {\n",
    "    \"kneighborsclassifier__n_neighbors\": range(1, 100, 5),\n",
    "}\n",
    "\n",
    "speeddating_tune_grid = GridSearchCV(\n",
    "    estimator=speeddating_tune_pipe,\n",
    "    param_grid=parameter_grid,\n",
    "    cv=10\n",
    ")\n",
    "\n",
    "accuracies_grid = pd.DataFrame(\n",
    "             speeddating_tune_grid\n",
    "             .fit(speeddating_train.loc[:, [\"intelligence_partner\",\n",
    "                                            \"funny_partner\", \"shared_interests_partner\"]],\n",
    "                  speeddating_train[\"match\"]\n",
    "            ).cv_results_)\n",
    "\n",
    "\n",
    "accuracies_grid = accuracies_grid[[\"param_kneighborsclassifier__n_neighbors\", \n",
    "                                   \"mean_test_score\", \"std_test_score\"]\n",
    "              ].assign(\n",
    "                  sem_test_score = accuracies_grid[\"std_test_score\"] / 10**(1/2)\n",
    "              ).rename(\n",
    "                  columns = {\"param_kneighborsclassifier__n_neighbors\" : \"n_neighbors\"}\n",
    "              ).drop(\n",
    "                  columns = [\"std_test_score\"]\n",
    "              )\n",
    "accuracies_grid\n",
    "\n",
    "\n",
    "\n",
    "\n",
    "# k=6 has the highest accuracy\n",
    "\n",
    "# use a split of the training set for validation set\n",
    "# create the 25/75 split of the *training data* into sub-training and validation\n",
    "speeddating_subtrain, speeddating_validation = train_test_split(\n",
    "    speeddating_train, test_size=0.25\n",
    ")\n",
    "\n",
    "# fit the model on the sub-training data\n",
    "knn = KNeighborsClassifier(n_neighbors=6) \n",
    "X = speeddating_subtrain.loc[:, [\"intelligence_partner\",\n",
    "                                \"funny_partner\", \"shared_interests_partner\"]]\n",
    "y = speeddating_subtrain[\"match\"]\n",
    "knn_fit = make_pipeline(speeddating_preprocessor, knn).fit(X, y)\n",
    "\n",
    "# compute the score on validation data\n",
    "acc = knn_fit.score(\n",
    "    speeddating_validation.loc[:, [\"intelligence_partner\",\n",
    "                                    \"funny_partner\", \"shared_interests_partner\"]],\n",
    "    speeddating_validation[\"match\"]\n",
    ")\n",
    "acc\n",
    "# with stratify: 0.8\n",
    "# without stratify: 0.813"
   ]
  },
  {
   "cell_type": "code",
   "execution_count": 45,
   "id": "0278a0bd-3f75-41d9-a06c-f502ea8e5525",
   "metadata": {},
   "outputs": [
    {
     "data": {
      "text/plain": [
       "0.7935483870967742"
      ]
     },
     "execution_count": 45,
     "metadata": {},
     "output_type": "execute_result"
    }
   ],
   "source": [
    "# fourth combination: attractiveness, intelligence, funny, sincere, shared interests\n",
    "np.random.seed(1000)\n",
    "\n",
    "# preprocess data\n",
    "speeddating_preprocessor = make_column_transformer(\n",
    "    (StandardScaler(), [\"attractive_partner\",  \"sincere_partner\",\"intelligence_partner\", \n",
    "                        \"funny_partner\",\"shared_interests_partner\"])\n",
    ")\n",
    "\n",
    "# make a dataframe for finding the highest accuracy\n",
    "# accuracies grid\n",
    "knn = KNeighborsClassifier()\n",
    "speeddating_tune_pipe = make_pipeline(speeddating_preprocessor, knn)\n",
    "\n",
    "\n",
    "parameter_grid = {\n",
    "    \"kneighborsclassifier__n_neighbors\": range(1, 100, 5),\n",
    "}\n",
    "\n",
    "speeddating_tune_grid = GridSearchCV(\n",
    "    estimator=speeddating_tune_pipe,\n",
    "    param_grid=parameter_grid,\n",
    "    cv=10\n",
    ")\n",
    "\n",
    "accuracies_grid = pd.DataFrame(\n",
    "             speeddating_tune_grid\n",
    "             .fit(speeddating_train.loc[:, [\"attractive_partner\",  \"sincere_partner\",\"intelligence_partner\", \n",
    "                                            \"funny_partner\",\"shared_interests_partner\"]],\n",
    "                  speeddating_train[\"match\"]\n",
    "            ).cv_results_)\n",
    "\n",
    "\n",
    "accuracies_grid = accuracies_grid[[\"param_kneighborsclassifier__n_neighbors\", \n",
    "                                   \"mean_test_score\", \"std_test_score\"]\n",
    "              ].assign(\n",
    "                  sem_test_score = accuracies_grid[\"std_test_score\"] / 10**(1/2)\n",
    "              ).rename(\n",
    "                  columns = {\"param_kneighborsclassifier__n_neighbors\" : \"n_neighbors\"}\n",
    "              ).drop(\n",
    "                  columns = [\"std_test_score\"]\n",
    "              )\n",
    "accuracies_grid\n",
    "\n",
    "\n",
    "\n",
    "\n",
    "# now use k=6 to find accuracy of model?\n",
    "# use a split of the training set for validation set\n",
    "# create the 25/75 split of the *training data* into sub-training and validation\n",
    "speeddating_subtrain, speeddating_validation = train_test_split(\n",
    "    speeddating_train, test_size=0.25\n",
    ")\n",
    "\n",
    "# fit the model on the sub-training data\n",
    "knn = KNeighborsClassifier(n_neighbors=6) \n",
    "X = speeddating_subtrain.loc[:, [\"attractive_partner\",  \"sincere_partner\",\"intelligence_partner\", \n",
    "                                 \"funny_partner\",\"shared_interests_partner\"]]\n",
    "y = speeddating_subtrain[\"match\"]\n",
    "knn_fit = make_pipeline(speeddating_preprocessor, knn).fit(X, y)\n",
    "\n",
    "# compute the score on validation data\n",
    "acc = knn_fit.score(\n",
    "    speeddating_validation.loc[:, [\"attractive_partner\",  \"sincere_partner\",\"intelligence_partner\", \n",
    "                                   \"funny_partner\",\"shared_interests_partner\"]],\n",
    "    speeddating_validation[\"match\"]\n",
    ")\n",
    "acc\n",
    "# with stratify: 0.832\n",
    "# without stratify: 0.839"
   ]
  },
  {
   "cell_type": "code",
   "execution_count": 46,
   "id": "3e1ec534-5f8a-4775-bf6e-82eccfa85cee",
   "metadata": {},
   "outputs": [
    {
     "data": {
      "text/plain": [
       "0.7806451612903226"
      ]
     },
     "execution_count": 46,
     "metadata": {},
     "output_type": "execute_result"
    }
   ],
   "source": [
    "# fifth combination: attractiveness, intelligence, funny, sincere, shared interests, ambition (all six attributes)\n",
    "np.random.seed(1000)\n",
    "\n",
    "# preprocess data\n",
    "speeddating_preprocessor = make_column_transformer(\n",
    "    (StandardScaler(), [\"attractive_partner\",  \"sincere_partner\",\"intelligence_partner\", \n",
    "                        \"funny_partner\", \"ambition_partner\", \"shared_interests_partner\"])\n",
    ")\n",
    "\n",
    "# make a dataframe for finding the highest accuracy\n",
    "# accuracies grid\n",
    "knn = KNeighborsClassifier()\n",
    "speeddating_tune_pipe = make_pipeline(speeddating_preprocessor, knn)\n",
    "\n",
    "\n",
    "parameter_grid = {\n",
    "    \"kneighborsclassifier__n_neighbors\": range(1, 100, 5),\n",
    "}\n",
    "\n",
    "speeddating_tune_grid = GridSearchCV(\n",
    "    estimator=speeddating_tune_pipe,\n",
    "    param_grid=parameter_grid,\n",
    "    cv=10\n",
    ")\n",
    "\n",
    "accuracies_grid = pd.DataFrame(\n",
    "             speeddating_tune_grid\n",
    "             .fit(speeddating_train.loc[:, [\"attractive_partner\",  \"sincere_partner\",\"intelligence_partner\", \n",
    "                                            \"funny_partner\",\"ambition_partner\",\"shared_interests_partner\"]],\n",
    "                  speeddating_train[\"match\"]\n",
    "            ).cv_results_)\n",
    "\n",
    "\n",
    "accuracies_grid = accuracies_grid[[\"param_kneighborsclassifier__n_neighbors\", \n",
    "                                   \"mean_test_score\", \"std_test_score\"]\n",
    "              ].assign(\n",
    "                  sem_test_score = accuracies_grid[\"std_test_score\"] / 10**(1/2)\n",
    "              ).rename(\n",
    "                  columns = {\"param_kneighborsclassifier__n_neighbors\" : \"n_neighbors\"}\n",
    "              ).drop(\n",
    "                  columns = [\"std_test_score\"]\n",
    "              )\n",
    "accuracies_grid\n",
    "\n",
    "\n",
    "\n",
    "\n",
    "# now use k=6 to find accuracy of model\n",
    "# use a split of the training set for validation set\n",
    "# create the 25/75 split of the *training data* into sub-training and validation\n",
    "speeddating_subtrain, speeddating_validation = train_test_split(\n",
    "    speeddating_train, test_size=0.25\n",
    ")\n",
    "\n",
    "# fit the model on the sub-training data\n",
    "knn = KNeighborsClassifier(n_neighbors=6) \n",
    "X = speeddating_subtrain.loc[:, [\"attractive_partner\",  \"sincere_partner\",\"intelligence_partner\", \n",
    "                                 \"funny_partner\",\"ambition_partner\", \"shared_interests_partner\"]]\n",
    "y = speeddating_subtrain[\"match\"]\n",
    "knn_fit = make_pipeline(speeddating_preprocessor, knn).fit(X, y)\n",
    "\n",
    "# compute the score on validation data\n",
    "acc = knn_fit.score(\n",
    "    speeddating_validation.loc[:, [\"attractive_partner\",  \"sincere_partner\",\"intelligence_partner\", \n",
    "                                   \"funny_partner\",\"ambition_partner\", \"shared_interests_partner\"]],\n",
    "    speeddating_validation[\"match\"]\n",
    ")\n",
    "acc"
   ]
  },
  {
   "cell_type": "code",
   "execution_count": 47,
   "id": "7b2a79fd-a0b2-4801-a598-3b43be15eba3",
   "metadata": {},
   "outputs": [
    {
     "data": {
      "text/plain": [
       "<sklearn.metrics._plot.confusion_matrix.ConfusionMatrixDisplay at 0x7fb8a02d9cf0>"
      ]
     },
     "execution_count": 47,
     "metadata": {},
     "output_type": "execute_result"
    },
    {
     "data": {
      "image/png": "[encoded data removed]",
      "text/plain": [
       "<Figure size 640x480 with 2 Axes>"
      ]
     },
     "metadata": {},
     "output_type": "display_data"
    }
   ],
   "source": [
    "# confusion matrix with selected variables\n",
    "# speeddating_train, speeddating_test = train_test_split(speeddating, test_size=0.25, random_state=123) # set the random state to be 123\n",
    "np.random.seed(1000)\n",
    "speeddating_preprocessor = make_column_transformer(\n",
    "    (StandardScaler(), [\n",
    "        \"attractive_partner\", \"sincere_partner\",\"intelligence_partner\", \"funny_partner\", \"shared_interests_partner\"]),\n",
    ")\n",
    "\n",
    "knn_spec = KNeighborsClassifier(n_neighbors=6)\n",
    "\n",
    "X = speeddating_train[[\n",
    "   \"attractive_partner\",  \"sincere_partner\",\"intelligence_partner\", \"funny_partner\",\"shared_interests_partner\"]]\n",
    "y = speeddating_train[\"match\"]\n",
    "\n",
    "speeddating_fit = make_pipeline(speeddating_preprocessor, knn_spec).fit(X, y)\n",
    "\n",
    "speeddating_test_predictions = speeddating_fit.predict(speeddating_test)\n",
    "speeddating_test_predictions = pd.concat(\n",
    "    [\n",
    "        speeddating_test.reset_index(drop=True),\n",
    "        pd.DataFrame(speeddating_test_predictions, columns=[\"predicted\"]),\n",
    "    ],\n",
    "    axis=1,\n",
    ")\n",
    "\n",
    "speeddating_test_predictions\n",
    "\n",
    "\n",
    "speeddating_mat = sklearn.metrics.confusion_matrix(\n",
    "    speeddating_test_predictions[\"match\"],\n",
    "    speeddating_test_predictions[\"predicted\"],\n",
    "    labels=speeddating_fit.classes_,\n",
    ")\n",
    "\n",
    "from sklearn.metrics import ConfusionMatrixDisplay\n",
    "\n",
    "disp = ConfusionMatrixDisplay(\n",
    "    confusion_matrix=speeddating_mat, display_labels=speeddating_fit.classes_\n",
    ")\n",
    "disp.plot()"
   ]
  },
  {
   "cell_type": "code",
   "execution_count": null,
   "id": "decf7c68-70d8-40cc-a2c5-6be4bf66d39f",
   "metadata": {},
   "outputs": [],
   "source": []
  }
 ],
 "metadata": {
  "kernelspec": {
   "display_name": "Python 3 (ipykernel)",
   "language": "python",
   "name": "python3"
  },
  "language_info": {
   "codemirror_mode": {
    "name": "ipython",
    "version": 3
   },
   "file_extension": ".py",
   "mimetype": "text/x-python",
   "name": "python",
   "nbconvert_exporter": "python",
   "pygments_lexer": "ipython3",
   "version": "3.10.8"
  }
 },
 "nbformat": 4,
 "nbformat_minor": 5
}
