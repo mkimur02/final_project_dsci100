{
 "cells": [
  {
   "cell_type": "markdown",
   "id": "6c778e7e-063a-401d-980f-2539b808ab37",
   "metadata": {},
   "source": [
    "# Speed Dating Analysis Report\n",
    "#### Can we predict whether two heterosexual people matched or not based on 6 attributes after 4 minutes of speed dating? \n",
    "\n",
    "### Introduction:\n",
    "\"Speed dating\" is a matchmaking process that involves two people getting to know each other within a very short time frame (usually less than 10 minutes), and then switching to another person once the time is up. This fast-paced and energetic way of meeting other single people can potentially lead to a match between two people, where they both wish to continue dating. But what factors influence wether or not two people match? <b> Is there a way to predict wether two people will match or not in a speed date based on certain attributes? </b> The Speed Dating dataset posted by Ulrik Thyge Pedersen gathered data from participants in a four minute speed dating experiment where they were asked to rate their date on six different attributes: attractiveness, sincerity, intelligence, fun, ambition, and shared interests. Using this data, we will attempt to predict wether or not two people will match based on these attributes.\n",
    "\n",
    "\n",
    "### Methods:\n",
    "list method EDA? narrate code, interpret. \n",
    "\n",
    "#### Disscussion: \n",
    "add limitation: algorithum and metric accuracy, imbalance of class balance.\n",
    "future ideas:... \n",
    "#### Sources/ Citation \n"
   ]
  },
  {
   "cell_type": "code",
   "execution_count": 2,
   "id": "4628e9f2-c357-49f8-ae3a-12fca0e95580",
   "metadata": {},
   "outputs": [],
   "source": [
    "#Run this cell to import program\n",
    "import altair as alt\n",
    "import pandas as pd\n",
    "import numpy as np\n",
    "import seaborn as sns\n",
    "import matplotlib.pyplot as plt\n",
    "%matplotlib inline\n",
    "import sklearn\n",
    "from sklearn.compose import make_column_transformer\n",
    "from sklearn.metrics.pairwise import euclidean_distances\n",
    "from sklearn.neighbors import KNeighborsClassifier\n",
    "from sklearn.pipeline import Pipeline, make_pipeline\n",
    "from sklearn.preprocessing import OneHotEncoder, StandardScaler\n",
    "from sklearn.model_selection import GridSearchCV, cross_validate, train_test_split"
   ]
  },
  {
   "cell_type": "markdown",
   "id": "6456a3f7-3d8b-49cd-a3cb-e0ebbf6b8ed1",
   "metadata": {},
   "source": [
    "#### Unclean Speed Dating Dataframe"
   ]
  },
  {
   "cell_type": "code",
   "execution_count": 3,
   "id": "b9cb0691-9acc-4445-97c3-66f90682fbc7",
   "metadata": {},
   "outputs": [
    {
     "data": {
      "text/html": [
       "<div>\n",
       "<style scoped>\n",
       "    .dataframe tbody tr th:only-of-type {\n",
       "        vertical-align: middle;\n",
       "    }\n",
       "\n",
       "    .dataframe tbody tr th {\n",
       "        vertical-align: top;\n",
       "    }\n",
       "\n",
       "    .dataframe thead th {\n",
       "        text-align: right;\n",
       "    }\n",
       "</style>\n",
       "<table border=\"1\" class=\"dataframe\">\n",
       "  <thead>\n",
       "    <tr style=\"text-align: right;\">\n",
       "      <th></th>\n",
       "      <th>has_null</th>\n",
       "      <th>wave</th>\n",
       "      <th>gender</th>\n",
       "      <th>age</th>\n",
       "      <th>age_o</th>\n",
       "      <th>d_age</th>\n",
       "      <th>d_d_age</th>\n",
       "      <th>race</th>\n",
       "      <th>race_o</th>\n",
       "      <th>samerace</th>\n",
       "      <th>...</th>\n",
       "      <th>d_expected_num_interested_in_me</th>\n",
       "      <th>d_expected_num_matches</th>\n",
       "      <th>like</th>\n",
       "      <th>guess_prob_liked</th>\n",
       "      <th>d_like</th>\n",
       "      <th>d_guess_prob_liked</th>\n",
       "      <th>met</th>\n",
       "      <th>decision</th>\n",
       "      <th>decision_o</th>\n",
       "      <th>match</th>\n",
       "    </tr>\n",
       "  </thead>\n",
       "  <tbody>\n",
       "    <tr>\n",
       "      <th>0</th>\n",
       "      <td>b''</td>\n",
       "      <td>1.0</td>\n",
       "      <td>b'female'</td>\n",
       "      <td>21.0</td>\n",
       "      <td>27.0</td>\n",
       "      <td>6.0</td>\n",
       "      <td>b'[4-6]'</td>\n",
       "      <td>b'Asian/Pacific Islander/Asian-American'</td>\n",
       "      <td>b'European/Caucasian-American'</td>\n",
       "      <td>b'0'</td>\n",
       "      <td>...</td>\n",
       "      <td>b'[0-3]'</td>\n",
       "      <td>b'[3-5]'</td>\n",
       "      <td>7.0</td>\n",
       "      <td>6.0</td>\n",
       "      <td>b'[6-8]'</td>\n",
       "      <td>b'[5-6]'</td>\n",
       "      <td>0.0</td>\n",
       "      <td>b'1'</td>\n",
       "      <td>b'0'</td>\n",
       "      <td>b'0'</td>\n",
       "    </tr>\n",
       "    <tr>\n",
       "      <th>1</th>\n",
       "      <td>b''</td>\n",
       "      <td>1.0</td>\n",
       "      <td>b'female'</td>\n",
       "      <td>21.0</td>\n",
       "      <td>22.0</td>\n",
       "      <td>1.0</td>\n",
       "      <td>b'[0-1]'</td>\n",
       "      <td>b'Asian/Pacific Islander/Asian-American'</td>\n",
       "      <td>b'European/Caucasian-American'</td>\n",
       "      <td>b'0'</td>\n",
       "      <td>...</td>\n",
       "      <td>b'[0-3]'</td>\n",
       "      <td>b'[3-5]'</td>\n",
       "      <td>7.0</td>\n",
       "      <td>5.0</td>\n",
       "      <td>b'[6-8]'</td>\n",
       "      <td>b'[5-6]'</td>\n",
       "      <td>1.0</td>\n",
       "      <td>b'1'</td>\n",
       "      <td>b'0'</td>\n",
       "      <td>b'0'</td>\n",
       "    </tr>\n",
       "    <tr>\n",
       "      <th>2</th>\n",
       "      <td>b''</td>\n",
       "      <td>1.0</td>\n",
       "      <td>b'female'</td>\n",
       "      <td>21.0</td>\n",
       "      <td>22.0</td>\n",
       "      <td>1.0</td>\n",
       "      <td>b'[0-1]'</td>\n",
       "      <td>b'Asian/Pacific Islander/Asian-American'</td>\n",
       "      <td>b'Asian/Pacific Islander/Asian-American'</td>\n",
       "      <td>b'1'</td>\n",
       "      <td>...</td>\n",
       "      <td>b'[0-3]'</td>\n",
       "      <td>b'[3-5]'</td>\n",
       "      <td>7.0</td>\n",
       "      <td>NaN</td>\n",
       "      <td>b'[6-8]'</td>\n",
       "      <td>b'[0-4]'</td>\n",
       "      <td>1.0</td>\n",
       "      <td>b'1'</td>\n",
       "      <td>b'1'</td>\n",
       "      <td>b'1'</td>\n",
       "    </tr>\n",
       "    <tr>\n",
       "      <th>3</th>\n",
       "      <td>b''</td>\n",
       "      <td>1.0</td>\n",
       "      <td>b'female'</td>\n",
       "      <td>21.0</td>\n",
       "      <td>23.0</td>\n",
       "      <td>2.0</td>\n",
       "      <td>b'[2-3]'</td>\n",
       "      <td>b'Asian/Pacific Islander/Asian-American'</td>\n",
       "      <td>b'European/Caucasian-American'</td>\n",
       "      <td>b'0'</td>\n",
       "      <td>...</td>\n",
       "      <td>b'[0-3]'</td>\n",
       "      <td>b'[3-5]'</td>\n",
       "      <td>7.0</td>\n",
       "      <td>6.0</td>\n",
       "      <td>b'[6-8]'</td>\n",
       "      <td>b'[5-6]'</td>\n",
       "      <td>0.0</td>\n",
       "      <td>b'1'</td>\n",
       "      <td>b'1'</td>\n",
       "      <td>b'1'</td>\n",
       "    </tr>\n",
       "    <tr>\n",
       "      <th>4</th>\n",
       "      <td>b''</td>\n",
       "      <td>1.0</td>\n",
       "      <td>b'female'</td>\n",
       "      <td>21.0</td>\n",
       "      <td>24.0</td>\n",
       "      <td>3.0</td>\n",
       "      <td>b'[2-3]'</td>\n",
       "      <td>b'Asian/Pacific Islander/Asian-American'</td>\n",
       "      <td>b'Latino/Hispanic American'</td>\n",
       "      <td>b'0'</td>\n",
       "      <td>...</td>\n",
       "      <td>b'[0-3]'</td>\n",
       "      <td>b'[3-5]'</td>\n",
       "      <td>6.0</td>\n",
       "      <td>6.0</td>\n",
       "      <td>b'[6-8]'</td>\n",
       "      <td>b'[5-6]'</td>\n",
       "      <td>0.0</td>\n",
       "      <td>b'1'</td>\n",
       "      <td>b'1'</td>\n",
       "      <td>b'1'</td>\n",
       "    </tr>\n",
       "  </tbody>\n",
       "</table>\n",
       "<p>5 rows × 123 columns</p>\n",
       "</div>"
      ],
      "text/plain": [
       "  has_null  wave     gender   age  age_o  d_age   d_d_age  \\\n",
       "0      b''   1.0  b'female'  21.0   27.0    6.0  b'[4-6]'   \n",
       "1      b''   1.0  b'female'  21.0   22.0    1.0  b'[0-1]'   \n",
       "2      b''   1.0  b'female'  21.0   22.0    1.0  b'[0-1]'   \n",
       "3      b''   1.0  b'female'  21.0   23.0    2.0  b'[2-3]'   \n",
       "4      b''   1.0  b'female'  21.0   24.0    3.0  b'[2-3]'   \n",
       "\n",
       "                                       race  \\\n",
       "0  b'Asian/Pacific Islander/Asian-American'   \n",
       "1  b'Asian/Pacific Islander/Asian-American'   \n",
       "2  b'Asian/Pacific Islander/Asian-American'   \n",
       "3  b'Asian/Pacific Islander/Asian-American'   \n",
       "4  b'Asian/Pacific Islander/Asian-American'   \n",
       "\n",
       "                                     race_o samerace  ...  \\\n",
       "0            b'European/Caucasian-American'     b'0'  ...   \n",
       "1            b'European/Caucasian-American'     b'0'  ...   \n",
       "2  b'Asian/Pacific Islander/Asian-American'     b'1'  ...   \n",
       "3            b'European/Caucasian-American'     b'0'  ...   \n",
       "4               b'Latino/Hispanic American'     b'0'  ...   \n",
       "\n",
       "   d_expected_num_interested_in_me  d_expected_num_matches like  \\\n",
       "0                         b'[0-3]'                b'[3-5]'  7.0   \n",
       "1                         b'[0-3]'                b'[3-5]'  7.0   \n",
       "2                         b'[0-3]'                b'[3-5]'  7.0   \n",
       "3                         b'[0-3]'                b'[3-5]'  7.0   \n",
       "4                         b'[0-3]'                b'[3-5]'  6.0   \n",
       "\n",
       "  guess_prob_liked    d_like  d_guess_prob_liked  met  decision  decision_o  \\\n",
       "0              6.0  b'[6-8]'            b'[5-6]'  0.0      b'1'        b'0'   \n",
       "1              5.0  b'[6-8]'            b'[5-6]'  1.0      b'1'        b'0'   \n",
       "2              NaN  b'[6-8]'            b'[0-4]'  1.0      b'1'        b'1'   \n",
       "3              6.0  b'[6-8]'            b'[5-6]'  0.0      b'1'        b'1'   \n",
       "4              6.0  b'[6-8]'            b'[5-6]'  0.0      b'1'        b'1'   \n",
       "\n",
       "   match  \n",
       "0   b'0'  \n",
       "1   b'0'  \n",
       "2   b'1'  \n",
       "3   b'1'  \n",
       "4   b'1'  \n",
       "\n",
       "[5 rows x 123 columns]"
      ]
     },
     "execution_count": 3,
     "metadata": {},
     "output_type": "execute_result"
    }
   ],
   "source": [
    "df_speeddating = pd.read_csv(\"speeddating.csv\")\n",
    "df_speeddating.head(5)"
   ]
  },
  {
   "cell_type": "markdown",
   "id": "66fa8c0a-0ebf-402f-9a54-3548c72ad6e6",
   "metadata": {},
   "source": [
    "#### Cleaned Speed Dating Dataset\n",
    "First, we are selecting the 6 attributes (attractive_partner, sincere_partner, intelligence_partner, funny_partner, ambition_partner, shared_interests_partner) column and class column (match). Then, removing of \"NaN\" through .dropna(). Moreover, rename the class column from b'0' to \"fail\" and b'1' to \"success\", while also changing the data type to cateforical. **Add"
   ]
  },
  {
   "cell_type": "code",
   "execution_count": 4,
   "id": "fa9a9fbb-f4c4-4d5f-a0f7-e097bbf41b62",
   "metadata": {},
   "outputs": [
    {
     "data": {
      "text/html": [
       "<div>\n",
       "<style scoped>\n",
       "    .dataframe tbody tr th:only-of-type {\n",
       "        vertical-align: middle;\n",
       "    }\n",
       "\n",
       "    .dataframe tbody tr th {\n",
       "        vertical-align: top;\n",
       "    }\n",
       "\n",
       "    .dataframe thead th {\n",
       "        text-align: right;\n",
       "    }\n",
       "</style>\n",
       "<table border=\"1\" class=\"dataframe\">\n",
       "  <thead>\n",
       "    <tr style=\"text-align: right;\">\n",
       "      <th></th>\n",
       "      <th>match</th>\n",
       "      <th>attractive_partner</th>\n",
       "      <th>sincere_partner</th>\n",
       "      <th>intelligence_partner</th>\n",
       "      <th>funny_partner</th>\n",
       "      <th>ambition_partner</th>\n",
       "      <th>shared_interests_partner</th>\n",
       "    </tr>\n",
       "  </thead>\n",
       "  <tbody>\n",
       "    <tr>\n",
       "      <th>3852</th>\n",
       "      <td>fail</td>\n",
       "      <td>9.0</td>\n",
       "      <td>8.0</td>\n",
       "      <td>8.0</td>\n",
       "      <td>8.0</td>\n",
       "      <td>6.0</td>\n",
       "      <td>2.0</td>\n",
       "    </tr>\n",
       "    <tr>\n",
       "      <th>1938</th>\n",
       "      <td>fail</td>\n",
       "      <td>5.0</td>\n",
       "      <td>5.0</td>\n",
       "      <td>6.0</td>\n",
       "      <td>6.0</td>\n",
       "      <td>5.0</td>\n",
       "      <td>5.0</td>\n",
       "    </tr>\n",
       "    <tr>\n",
       "      <th>4879</th>\n",
       "      <td>fail</td>\n",
       "      <td>7.0</td>\n",
       "      <td>5.0</td>\n",
       "      <td>6.0</td>\n",
       "      <td>4.0</td>\n",
       "      <td>5.0</td>\n",
       "      <td>5.0</td>\n",
       "    </tr>\n",
       "    <tr>\n",
       "      <th>1619</th>\n",
       "      <td>fail</td>\n",
       "      <td>7.0</td>\n",
       "      <td>10.0</td>\n",
       "      <td>8.0</td>\n",
       "      <td>7.0</td>\n",
       "      <td>7.0</td>\n",
       "      <td>3.0</td>\n",
       "    </tr>\n",
       "    <tr>\n",
       "      <th>3151</th>\n",
       "      <td>fail</td>\n",
       "      <td>7.0</td>\n",
       "      <td>6.0</td>\n",
       "      <td>7.0</td>\n",
       "      <td>6.0</td>\n",
       "      <td>6.0</td>\n",
       "      <td>5.0</td>\n",
       "    </tr>\n",
       "    <tr>\n",
       "      <th>56</th>\n",
       "      <td>fail</td>\n",
       "      <td>8.0</td>\n",
       "      <td>8.0</td>\n",
       "      <td>8.0</td>\n",
       "      <td>8.0</td>\n",
       "      <td>3.0</td>\n",
       "      <td>4.0</td>\n",
       "    </tr>\n",
       "    <tr>\n",
       "      <th>1798</th>\n",
       "      <td>fail</td>\n",
       "      <td>5.0</td>\n",
       "      <td>7.0</td>\n",
       "      <td>7.0</td>\n",
       "      <td>2.0</td>\n",
       "      <td>5.0</td>\n",
       "      <td>2.0</td>\n",
       "    </tr>\n",
       "    <tr>\n",
       "      <th>5185</th>\n",
       "      <td>fail</td>\n",
       "      <td>6.0</td>\n",
       "      <td>6.0</td>\n",
       "      <td>6.0</td>\n",
       "      <td>6.0</td>\n",
       "      <td>5.0</td>\n",
       "      <td>6.0</td>\n",
       "    </tr>\n",
       "    <tr>\n",
       "      <th>6065</th>\n",
       "      <td>fail</td>\n",
       "      <td>7.0</td>\n",
       "      <td>8.0</td>\n",
       "      <td>8.0</td>\n",
       "      <td>7.0</td>\n",
       "      <td>8.0</td>\n",
       "      <td>6.0</td>\n",
       "    </tr>\n",
       "    <tr>\n",
       "      <th>6800</th>\n",
       "      <td>fail</td>\n",
       "      <td>5.0</td>\n",
       "      <td>4.0</td>\n",
       "      <td>6.0</td>\n",
       "      <td>4.0</td>\n",
       "      <td>6.0</td>\n",
       "      <td>6.0</td>\n",
       "    </tr>\n",
       "  </tbody>\n",
       "</table>\n",
       "</div>"
      ],
      "text/plain": [
       "     match  attractive_partner  sincere_partner  intelligence_partner  \\\n",
       "3852  fail                 9.0              8.0                   8.0   \n",
       "1938  fail                 5.0              5.0                   6.0   \n",
       "4879  fail                 7.0              5.0                   6.0   \n",
       "1619  fail                 7.0             10.0                   8.0   \n",
       "3151  fail                 7.0              6.0                   7.0   \n",
       "56    fail                 8.0              8.0                   8.0   \n",
       "1798  fail                 5.0              7.0                   7.0   \n",
       "5185  fail                 6.0              6.0                   6.0   \n",
       "6065  fail                 7.0              8.0                   8.0   \n",
       "6800  fail                 5.0              4.0                   6.0   \n",
       "\n",
       "      funny_partner  ambition_partner  shared_interests_partner  \n",
       "3852            8.0               6.0                       2.0  \n",
       "1938            6.0               5.0                       5.0  \n",
       "4879            4.0               5.0                       5.0  \n",
       "1619            7.0               7.0                       3.0  \n",
       "3151            6.0               6.0                       5.0  \n",
       "56              8.0               3.0                       4.0  \n",
       "1798            2.0               5.0                       2.0  \n",
       "5185            6.0               5.0                       6.0  \n",
       "6065            7.0               8.0                       6.0  \n",
       "6800            4.0               6.0                       6.0  "
      ]
     },
     "execution_count": 4,
     "metadata": {},
     "output_type": "execute_result"
    }
   ],
   "source": [
    "speeddating = df_speeddating[[\"match\",\"attractive_partner\", \"sincere_partner\",\"intelligence_partner\", \"funny_partner\", \"ambition_partner\", \"shared_interests_partner\"]]\n",
    "speeddating = speeddating.sample(n=1000, random_state=2023).dropna()\n",
    "speeddating[\"match\"] = speeddating[\"match\"].replace({\"b'0'\":\"fail\",\"b'1'\":\"success\"}).astype(\"category\")\n",
    "\n",
    "speeddating.head(10)"
   ]
  },
  {
   "cell_type": "markdown",
   "id": "9970fee5-965f-4e9c-b4cf-b7c29341cddc",
   "metadata": {},
   "source": [
    "#### Checking the \"match\" data distribution. "
   ]
  },
  {
   "cell_type": "code",
   "execution_count": 5,
   "id": "2d484f99-a4e2-469b-8a81-00d8f2e74eb0",
   "metadata": {},
   "outputs": [
    {
     "data": {
      "text/html": [
       "<div>\n",
       "<style scoped>\n",
       "    .dataframe tbody tr th:only-of-type {\n",
       "        vertical-align: middle;\n",
       "    }\n",
       "\n",
       "    .dataframe tbody tr th {\n",
       "        vertical-align: top;\n",
       "    }\n",
       "\n",
       "    .dataframe thead th {\n",
       "        text-align: right;\n",
       "    }\n",
       "</style>\n",
       "<table border=\"1\" class=\"dataframe\">\n",
       "  <thead>\n",
       "    <tr style=\"text-align: right;\">\n",
       "      <th></th>\n",
       "      <th>count</th>\n",
       "      <th>percentage</th>\n",
       "    </tr>\n",
       "    <tr>\n",
       "      <th>match</th>\n",
       "      <th></th>\n",
       "      <th></th>\n",
       "    </tr>\n",
       "  </thead>\n",
       "  <tbody>\n",
       "    <tr>\n",
       "      <th>fail</th>\n",
       "      <td>676</td>\n",
       "      <td>81.840194</td>\n",
       "    </tr>\n",
       "    <tr>\n",
       "      <th>success</th>\n",
       "      <td>150</td>\n",
       "      <td>18.159806</td>\n",
       "    </tr>\n",
       "  </tbody>\n",
       "</table>\n",
       "</div>"
      ],
      "text/plain": [
       "         count  percentage\n",
       "match                     \n",
       "fail       676   81.840194\n",
       "success    150   18.159806"
      ]
     },
     "execution_count": 5,
     "metadata": {},
     "output_type": "execute_result"
    }
   ],
   "source": [
    "speeddating = speeddating.assign(row_number=range(len(speeddating)))\n",
    "\n",
    "explore_speeddating = pd.DataFrame()\n",
    "\n",
    "explore_speeddating['count'] = speeddating.groupby('match')['row_number'].count()\n",
    "explore_speeddating['percentage'] = 100 * explore_speeddating['count']/len(speeddating)\n",
    "\n",
    "explore_speeddating"
   ]
  },
  {
   "cell_type": "markdown",
   "id": "48bd9acc-254e-4acb-bf55-e0c616e831eb",
   "metadata": {},
   "source": [
    "We can see from this table that there is an imbalance in the match class; where 81.8% failed to match and 18.2% was successful."
   ]
  },
  {
   "cell_type": "code",
   "execution_count": null,
   "id": "222df991-dda9-4b22-b171-a75ab1c8cd0d",
   "metadata": {},
   "outputs": [],
   "source": []
  },
  {
   "cell_type": "markdown",
   "id": "802591b3-a4b1-44b1-a03b-b192c5c5afd0",
   "metadata": {},
   "source": [
    "#### Boxplot\n",
    "6 boxplot for each attribute is made to observe how data attribute impact the match result. "
   ]
  },
  {
   "cell_type": "code",
   "execution_count": 22,
   "id": "f004cfcd-a30c-41cc-8646-b54b1d7e038b",
   "metadata": {},
   "outputs": [
    {
     "data": {
      "text/plain": [
       "[Text(0.5, 1.0, 'Figure 1: Comparison of match results for Attraction Attribute'),\n",
       " Text(0, 0.5, \"Rating of Partner's Attractiveness\"),\n",
       " Text(0.5, 0, 'Match')]"
      ]
     },
     "execution_count": 22,
     "metadata": {},
     "output_type": "execute_result"
    },
    {
     "data": {
      "image/png": "[encoded data removed]",
      "text/plain": [
       "<Figure size 640x480 with 1 Axes>"
      ]
     },
     "metadata": {},
     "output_type": "display_data"
    }
   ],
   "source": [
    "sns.boxplot(x='match', y='attractive_partner', width=0.25, data=speeddating).set(title='Figure 1: Comparison of match results for Attraction Attribute', ylabel=\"Rating of Partner's Attractiveness\", xlabel=\"Match\")"
   ]
  },
  {
   "cell_type": "markdown",
   "id": "907eaea8-5a34-4e71-9924-9c702880cf1e",
   "metadata": {},
   "source": [
    "Interpretation of Figure 1: This model looks at explantory variable \"Partner's Attractiveness\""
   ]
  },
  {
   "cell_type": "code",
   "execution_count": 23,
   "id": "013b34bf-346a-479d-bea0-6fcdb9eebf8a",
   "metadata": {},
   "outputs": [
    {
     "data": {
      "text/plain": [
       "[Text(0.5, 1.0, 'Figure 2: Comparison of match results for Sincere Attribute'),\n",
       " Text(0, 0.5, \"Rating of Partner's Sincerity\"),\n",
       " Text(0.5, 0, 'Match')]"
      ]
     },
     "execution_count": 23,
     "metadata": {},
     "output_type": "execute_result"
    },
    {
     "data": {
      "image/png": "[encoded data removed]",
      "text/plain": [
       "<Figure size 640x480 with 1 Axes>"
      ]
     },
     "metadata": {},
     "output_type": "display_data"
    }
   ],
   "source": [
    "sns.boxplot(x='match', y='sincere_partner', width=0.25, data=speeddating).set(title='Figure 2: Comparison of match results for Sincere Attribute', ylabel=\"Rating of Partner's Sincerity\", xlabel=\"Match\")\n",
    "# interpretation (1-2 sentence), how to make the model, \n",
    "#this plot looks at explantory vairble \"like\"... we see that there is seperation, if they liked their partner they successfully dataset.\n",
    "# we wont include this in the model, it is the same... no impact... "
   ]
  },
  {
   "cell_type": "markdown",
   "id": "1e313b04-bbc9-40c0-917c-bdf061dd8aab",
   "metadata": {},
   "source": [
    "Interpretation of Figure 2: "
   ]
  },
  {
   "cell_type": "code",
   "execution_count": 24,
   "id": "ca7d270d-cffc-4011-961e-4003d13f2004",
   "metadata": {},
   "outputs": [
    {
     "data": {
      "text/plain": [
       "[Text(0.5, 1.0, 'Figure 3: Comparison of match results for Intelligence Attribute'),\n",
       " Text(0, 0.5, \"Rating of Partner's Intelligence\"),\n",
       " Text(0.5, 0, 'Match')]"
      ]
     },
     "execution_count": 24,
     "metadata": {},
     "output_type": "execute_result"
    },
    {
     "data": {
      "image/png": "[encoded data removed]",
      "text/plain": [
       "<Figure size 640x480 with 1 Axes>"
      ]
     },
     "metadata": {},
     "output_type": "display_data"
    }
   ],
   "source": [
    "sns.boxplot(x='match', y='intelligence_partner', width=0.25, data=speeddating).set(title='Figure 3: Comparison of match results for Intelligence Attribute', ylabel=\"Rating of Partner's Intelligence\", xlabel=\"Match\")\n",
    "\n",
    "\n",
    "# some overlap but not exact, not include age "
   ]
  },
  {
   "cell_type": "markdown",
   "id": "2f2d63a7-6027-41a9-85dc-645464f228e9",
   "metadata": {},
   "source": [
    "Interpretation of Figure 3: "
   ]
  },
  {
   "cell_type": "code",
   "execution_count": 25,
   "id": "d655e1f5-4508-41c9-ad59-c1d5d55e48db",
   "metadata": {},
   "outputs": [
    {
     "data": {
      "text/plain": [
       "[Text(0.5, 1.0, 'Figure 4: Comparison of match results for Fun Attribute'),\n",
       " Text(0, 0.5, 'Rating of Partner being funny'),\n",
       " Text(0.5, 0, 'Match')]"
      ]
     },
     "execution_count": 25,
     "metadata": {},
     "output_type": "execute_result"
    },
    {
     "data": {
      "image/png": "[encoded data removed]",
      "text/plain": [
       "<Figure size 640x480 with 1 Axes>"
      ]
     },
     "metadata": {},
     "output_type": "display_data"
    }
   ],
   "source": [
    "sns.boxplot(x='match', y='funny_partner', width=0.25, data=speeddating).set(title='Figure 4: Comparison of match results for Fun Attribute', ylabel=\"Rating of Partner being funny\", xlabel=\"Match\")\n",
    "\n"
   ]
  },
  {
   "cell_type": "markdown",
   "id": "382e369e-0e5b-4056-a4b4-9fbea8d15b75",
   "metadata": {},
   "source": [
    "Interpretation of Figure 4: "
   ]
  },
  {
   "cell_type": "code",
   "execution_count": 26,
   "id": "e07a6226-47ce-4d6a-b5c9-f0876b903e0b",
   "metadata": {},
   "outputs": [
    {
     "data": {
      "text/plain": [
       "[Text(0.5, 1.0, 'Figure 5: Comparison of match results for Ambition Attribute'),\n",
       " Text(0, 0.5, \"Rating of Partner's Ambition\"),\n",
       " Text(0.5, 0, 'Match')]"
      ]
     },
     "execution_count": 26,
     "metadata": {},
     "output_type": "execute_result"
    },
    {
     "data": {
      "image/png": "[encoded data removed]",
      "text/plain": [
       "<Figure size 640x480 with 1 Axes>"
      ]
     },
     "metadata": {},
     "output_type": "display_data"
    }
   ],
   "source": [
    "sns.boxplot(x='match', y='ambition_partner', width=0.25, data=speeddating).set(title='Figure 5: Comparison of match results for Ambition Attribute', ylabel=\"Rating of Partner's Ambition\", xlabel=\"Match\")\n",
    "\n",
    "\n"
   ]
  },
  {
   "cell_type": "markdown",
   "id": "0f2cbb2e-dda6-462f-ad04-4cd77b8e2e1f",
   "metadata": {},
   "source": [
    "Interpretation of Figure 5: "
   ]
  },
  {
   "cell_type": "code",
   "execution_count": 27,
   "id": "dde90f3e-0c38-4455-a195-c74669f7f775",
   "metadata": {},
   "outputs": [
    {
     "data": {
      "text/plain": [
       "[Text(0.5, 1.0, 'Figure 6: Comparison of match results for Shared Interests Attribute'),\n",
       " Text(0, 0.5, \"Rating of Partner's Shared Interests\"),\n",
       " Text(0.5, 0, 'Match')]"
      ]
     },
     "execution_count": 27,
     "metadata": {},
     "output_type": "execute_result"
    },
    {
     "data": {
      "image/png": "[encoded data removed]",
      "text/plain": [
       "<Figure size 640x480 with 1 Axes>"
      ]
     },
     "metadata": {},
     "output_type": "display_data"
    }
   ],
   "source": [
    "sns.boxplot(x='match', y='shared_interests_partner', width=0.25, data=speeddating).set(title='Figure 6: Comparison of match results for Shared Interests Attribute', ylabel=\"Rating of Partner's Shared Interests\", xlabel=\"Match\")\n",
    "\n"
   ]
  },
  {
   "cell_type": "markdown",
   "id": "aa8bee2f-ea49-41bf-aa4f-6f2e9fc188da",
   "metadata": {},
   "source": [
    "Interpretation of Figure 6: "
   ]
  },
  {
   "cell_type": "code",
   "execution_count": null,
   "id": "2aecceeb-4982-46ad-976b-615661802127",
   "metadata": {},
   "outputs": [],
   "source": []
  },
  {
   "cell_type": "markdown",
   "id": "d43b7b7f-763a-4cc0-bbd5-ab93b60f1af1",
   "metadata": {},
   "source": [
    "##### Hence, relevant attributes include ... will be used for the model."
   ]
  },
  {
   "cell_type": "code",
   "execution_count": 30,
   "id": "285c13b1-76c0-454a-aba3-67b5c2f8d320",
   "metadata": {},
   "outputs": [
    {
     "data": {
      "text/html": [
       "<div>\n",
       "<style scoped>\n",
       "    .dataframe tbody tr th:only-of-type {\n",
       "        vertical-align: middle;\n",
       "    }\n",
       "\n",
       "    .dataframe tbody tr th {\n",
       "        vertical-align: top;\n",
       "    }\n",
       "\n",
       "    .dataframe thead th {\n",
       "        text-align: right;\n",
       "    }\n",
       "</style>\n",
       "<table border=\"1\" class=\"dataframe\">\n",
       "  <thead>\n",
       "    <tr style=\"text-align: right;\">\n",
       "      <th></th>\n",
       "      <th>match</th>\n",
       "      <th>attractive_partner</th>\n",
       "      <th>sincere_partner</th>\n",
       "      <th>intelligence_partner</th>\n",
       "      <th>funny_partner</th>\n",
       "      <th>shared_interests_partner</th>\n",
       "    </tr>\n",
       "  </thead>\n",
       "  <tbody>\n",
       "    <tr>\n",
       "      <th>3852</th>\n",
       "      <td>fail</td>\n",
       "      <td>9.0</td>\n",
       "      <td>8.0</td>\n",
       "      <td>8.0</td>\n",
       "      <td>8.0</td>\n",
       "      <td>2.0</td>\n",
       "    </tr>\n",
       "    <tr>\n",
       "      <th>1938</th>\n",
       "      <td>fail</td>\n",
       "      <td>5.0</td>\n",
       "      <td>5.0</td>\n",
       "      <td>6.0</td>\n",
       "      <td>6.0</td>\n",
       "      <td>5.0</td>\n",
       "    </tr>\n",
       "    <tr>\n",
       "      <th>4879</th>\n",
       "      <td>fail</td>\n",
       "      <td>7.0</td>\n",
       "      <td>5.0</td>\n",
       "      <td>6.0</td>\n",
       "      <td>4.0</td>\n",
       "      <td>5.0</td>\n",
       "    </tr>\n",
       "    <tr>\n",
       "      <th>1619</th>\n",
       "      <td>fail</td>\n",
       "      <td>7.0</td>\n",
       "      <td>10.0</td>\n",
       "      <td>8.0</td>\n",
       "      <td>7.0</td>\n",
       "      <td>3.0</td>\n",
       "    </tr>\n",
       "    <tr>\n",
       "      <th>3151</th>\n",
       "      <td>fail</td>\n",
       "      <td>7.0</td>\n",
       "      <td>6.0</td>\n",
       "      <td>7.0</td>\n",
       "      <td>6.0</td>\n",
       "      <td>5.0</td>\n",
       "    </tr>\n",
       "  </tbody>\n",
       "</table>\n",
       "</div>"
      ],
      "text/plain": [
       "     match  attractive_partner  sincere_partner  intelligence_partner  \\\n",
       "3852  fail                 9.0              8.0                   8.0   \n",
       "1938  fail                 5.0              5.0                   6.0   \n",
       "4879  fail                 7.0              5.0                   6.0   \n",
       "1619  fail                 7.0             10.0                   8.0   \n",
       "3151  fail                 7.0              6.0                   7.0   \n",
       "\n",
       "      funny_partner  shared_interests_partner  \n",
       "3852            8.0                       2.0  \n",
       "1938            6.0                       5.0  \n",
       "4879            4.0                       5.0  \n",
       "1619            7.0                       3.0  \n",
       "3151            6.0                       5.0  "
      ]
     },
     "execution_count": 30,
     "metadata": {},
     "output_type": "execute_result"
    }
   ],
   "source": [
    "speeddating_cleaned = speeddating[[\"match\", \"attractive_partner\", \"sincere_partner\", \"intelligence_partner\", \"funny_partner\", \"shared_interests_partner\"]]\n",
    "speeddating_cleaned.head(5)"
   ]
  },
  {
   "cell_type": "code",
   "execution_count": 31,
   "id": "071c6d50-7136-4cb2-8bc2-127cd1b317a3",
   "metadata": {},
   "outputs": [
    {
     "data": {
      "text/html": [
       "<div>\n",
       "<style scoped>\n",
       "    .dataframe tbody tr th:only-of-type {\n",
       "        vertical-align: middle;\n",
       "    }\n",
       "\n",
       "    .dataframe tbody tr th {\n",
       "        vertical-align: top;\n",
       "    }\n",
       "\n",
       "    .dataframe thead th {\n",
       "        text-align: right;\n",
       "    }\n",
       "</style>\n",
       "<table border=\"1\" class=\"dataframe\">\n",
       "  <thead>\n",
       "    <tr style=\"text-align: right;\">\n",
       "      <th></th>\n",
       "      <th>match</th>\n",
       "      <th>attractive_partner</th>\n",
       "      <th>sincere_partner</th>\n",
       "      <th>intelligence_partner</th>\n",
       "      <th>funny_partner</th>\n",
       "      <th>shared_interests_partner</th>\n",
       "    </tr>\n",
       "  </thead>\n",
       "  <tbody>\n",
       "    <tr>\n",
       "      <th>1219</th>\n",
       "      <td>success</td>\n",
       "      <td>8.0</td>\n",
       "      <td>10.0</td>\n",
       "      <td>8.0</td>\n",
       "      <td>9.0</td>\n",
       "      <td>8.0</td>\n",
       "    </tr>\n",
       "    <tr>\n",
       "      <th>446</th>\n",
       "      <td>fail</td>\n",
       "      <td>2.0</td>\n",
       "      <td>5.0</td>\n",
       "      <td>4.0</td>\n",
       "      <td>3.0</td>\n",
       "      <td>2.0</td>\n",
       "    </tr>\n",
       "    <tr>\n",
       "      <th>1214</th>\n",
       "      <td>fail</td>\n",
       "      <td>2.0</td>\n",
       "      <td>3.0</td>\n",
       "      <td>4.0</td>\n",
       "      <td>5.0</td>\n",
       "      <td>2.0</td>\n",
       "    </tr>\n",
       "    <tr>\n",
       "      <th>6729</th>\n",
       "      <td>fail</td>\n",
       "      <td>5.0</td>\n",
       "      <td>5.0</td>\n",
       "      <td>8.0</td>\n",
       "      <td>6.0</td>\n",
       "      <td>3.0</td>\n",
       "    </tr>\n",
       "    <tr>\n",
       "      <th>6186</th>\n",
       "      <td>fail</td>\n",
       "      <td>8.0</td>\n",
       "      <td>7.0</td>\n",
       "      <td>6.0</td>\n",
       "      <td>8.0</td>\n",
       "      <td>7.0</td>\n",
       "    </tr>\n",
       "    <tr>\n",
       "      <th>5734</th>\n",
       "      <td>fail</td>\n",
       "      <td>8.0</td>\n",
       "      <td>7.0</td>\n",
       "      <td>7.0</td>\n",
       "      <td>6.0</td>\n",
       "      <td>4.0</td>\n",
       "    </tr>\n",
       "    <tr>\n",
       "      <th>5224</th>\n",
       "      <td>success</td>\n",
       "      <td>6.0</td>\n",
       "      <td>8.0</td>\n",
       "      <td>8.0</td>\n",
       "      <td>7.0</td>\n",
       "      <td>8.0</td>\n",
       "    </tr>\n",
       "    <tr>\n",
       "      <th>4187</th>\n",
       "      <td>fail</td>\n",
       "      <td>6.0</td>\n",
       "      <td>7.0</td>\n",
       "      <td>9.0</td>\n",
       "      <td>5.0</td>\n",
       "      <td>5.0</td>\n",
       "    </tr>\n",
       "    <tr>\n",
       "      <th>7281</th>\n",
       "      <td>fail</td>\n",
       "      <td>8.0</td>\n",
       "      <td>7.0</td>\n",
       "      <td>9.0</td>\n",
       "      <td>6.0</td>\n",
       "      <td>10.0</td>\n",
       "    </tr>\n",
       "    <tr>\n",
       "      <th>7847</th>\n",
       "      <td>fail</td>\n",
       "      <td>3.0</td>\n",
       "      <td>1.0</td>\n",
       "      <td>2.0</td>\n",
       "      <td>2.0</td>\n",
       "      <td>1.0</td>\n",
       "    </tr>\n",
       "  </tbody>\n",
       "</table>\n",
       "</div>"
      ],
      "text/plain": [
       "        match  attractive_partner  sincere_partner  intelligence_partner  \\\n",
       "1219  success                 8.0             10.0                   8.0   \n",
       "446      fail                 2.0              5.0                   4.0   \n",
       "1214     fail                 2.0              3.0                   4.0   \n",
       "6729     fail                 5.0              5.0                   8.0   \n",
       "6186     fail                 8.0              7.0                   6.0   \n",
       "5734     fail                 8.0              7.0                   7.0   \n",
       "5224  success                 6.0              8.0                   8.0   \n",
       "4187     fail                 6.0              7.0                   9.0   \n",
       "7281     fail                 8.0              7.0                   9.0   \n",
       "7847     fail                 3.0              1.0                   2.0   \n",
       "\n",
       "      funny_partner  shared_interests_partner  \n",
       "1219            9.0                       8.0  \n",
       "446             3.0                       2.0  \n",
       "1214            5.0                       2.0  \n",
       "6729            6.0                       3.0  \n",
       "6186            8.0                       7.0  \n",
       "5734            6.0                       4.0  \n",
       "5224            7.0                       8.0  \n",
       "4187            5.0                       5.0  \n",
       "7281            6.0                      10.0  \n",
       "7847            2.0                       1.0  "
      ]
     },
     "execution_count": 31,
     "metadata": {},
     "output_type": "execute_result"
    }
   ],
   "source": [
    "speeddating_training, speeddating_testing = train_test_split(\n",
    "   speeddating_cleaned, train_size=0.75, random_state=2023 # do not change the random_state\n",
    ")\n",
    "speeddating_training = pd.DataFrame(speeddating_training)\n",
    "speeddating_training.head(10)"
   ]
  },
  {
   "cell_type": "code",
   "execution_count": 32,
   "id": "50aa331f-1f77-4377-a0c5-3fbfc0e9073a",
   "metadata": {},
   "outputs": [],
   "source": [
    "# create the KNN model\n",
    "knn = KNeighborsClassifier(n_neighbors=5)\n",
    "\n",
    "knn.fit(X=speeddating_training[[\"attractive_partner\", \"sincere_partner\", \"intelligence_partner\", \"funny_partner\", \"shared_interests_partner\"]], y=speeddating_training[\"match\"]);"
   ]
  },
  {
   "cell_type": "code",
   "execution_count": 14,
   "id": "b53abbd9-ec7f-42e8-8c16-2bc22388f17c",
   "metadata": {},
   "outputs": [
    {
     "data": {
      "text/html": [
       "<div>\n",
       "<style scoped>\n",
       "    .dataframe tbody tr th:only-of-type {\n",
       "        vertical-align: middle;\n",
       "    }\n",
       "\n",
       "    .dataframe tbody tr th {\n",
       "        vertical-align: top;\n",
       "    }\n",
       "\n",
       "    .dataframe thead th {\n",
       "        text-align: right;\n",
       "    }\n",
       "</style>\n",
       "<table border=\"1\" class=\"dataframe\">\n",
       "  <thead>\n",
       "    <tr style=\"text-align: right;\">\n",
       "      <th></th>\n",
       "      <th>match</th>\n",
       "      <th>attractive_partner</th>\n",
       "      <th>sincere_partner</th>\n",
       "      <th>intelligence_partner</th>\n",
       "      <th>funny_partner</th>\n",
       "      <th>shared_interests_partner</th>\n",
       "    </tr>\n",
       "  </thead>\n",
       "  <tbody>\n",
       "    <tr>\n",
       "      <th>0</th>\n",
       "      <td>success</td>\n",
       "      <td>0.935498</td>\n",
       "      <td>1.620771</td>\n",
       "      <td>0.369219</td>\n",
       "      <td>1.333533</td>\n",
       "      <td>1.119742</td>\n",
       "    </tr>\n",
       "    <tr>\n",
       "      <th>1</th>\n",
       "      <td>fail</td>\n",
       "      <td>-2.179196</td>\n",
       "      <td>-1.377607</td>\n",
       "      <td>-2.224218</td>\n",
       "      <td>-1.811065</td>\n",
       "      <td>-1.745378</td>\n",
       "    </tr>\n",
       "    <tr>\n",
       "      <th>2</th>\n",
       "      <td>fail</td>\n",
       "      <td>-2.179196</td>\n",
       "      <td>-2.576958</td>\n",
       "      <td>-2.224218</td>\n",
       "      <td>-0.762865</td>\n",
       "      <td>-1.745378</td>\n",
       "    </tr>\n",
       "    <tr>\n",
       "      <th>3</th>\n",
       "      <td>fail</td>\n",
       "      <td>-0.621849</td>\n",
       "      <td>-1.377607</td>\n",
       "      <td>0.369219</td>\n",
       "      <td>-0.238766</td>\n",
       "      <td>-1.267858</td>\n",
       "    </tr>\n",
       "    <tr>\n",
       "      <th>4</th>\n",
       "      <td>fail</td>\n",
       "      <td>0.935498</td>\n",
       "      <td>-0.178256</td>\n",
       "      <td>-0.927499</td>\n",
       "      <td>0.809433</td>\n",
       "      <td>0.642222</td>\n",
       "    </tr>\n",
       "  </tbody>\n",
       "</table>\n",
       "</div>"
      ],
      "text/plain": [
       "     match attractive_partner sincere_partner intelligence_partner  \\\n",
       "0  success           0.935498        1.620771             0.369219   \n",
       "1     fail          -2.179196       -1.377607            -2.224218   \n",
       "2     fail          -2.179196       -2.576958            -2.224218   \n",
       "3     fail          -0.621849       -1.377607             0.369219   \n",
       "4     fail           0.935498       -0.178256            -0.927499   \n",
       "\n",
       "  funny_partner shared_interests_partner  \n",
       "0      1.333533                 1.119742  \n",
       "1     -1.811065                -1.745378  \n",
       "2     -0.762865                -1.745378  \n",
       "3     -0.238766                -1.267858  \n",
       "4      0.809433                 0.642222  "
      ]
     },
     "execution_count": 14,
     "metadata": {},
     "output_type": "execute_result"
    }
   ],
   "source": [
    "# create the centering/ scaling preprocessor\n",
    "speeddating_preprocessor = make_column_transformer(\n",
    "    (\n",
    "        \"passthrough\",\n",
    "        [\n",
    "            \"match\",\n",
    "        ],\n",
    "    ),\n",
    "    (StandardScaler(), [\"attractive_partner\", \"sincere_partner\",\"intelligence_partner\", \"funny_partner\", \"shared_interests_partner\"]),\n",
    ")\n",
    "speeddating_scaled = pd.DataFrame(\n",
    "    speeddating_preprocessor.fit_transform(speeddating_training),\n",
    "    columns=[\"match\",\n",
    "             \"attractive_partner\", \n",
    "             \"sincere_partner\",\n",
    "             \"intelligence_partner\", \n",
    "             \"funny_partner\",\n",
    "             \"shared_interests_partner\"\n",
    "    ],\n",
    ")\n",
    "speeddating_scaled.head()"
   ]
  },
  {
   "cell_type": "code",
   "execution_count": 13,
   "id": "6615dbdf-4be9-427f-ba33-99ee2b9861c4",
   "metadata": {},
   "outputs": [],
   "source": [
    "#hard to interpret... cannot interpret, \n",
    "#correlation of interests and difference in age by matching, we cannot distingusih classes "
   ]
  },
  {
   "cell_type": "code",
   "execution_count": 14,
   "id": "72a95342-efe4-472d-9f5d-fd4991467124",
   "metadata": {},
   "outputs": [],
   "source": [
    "# preprocessor = make_column_transformer(\n",
    "#     (StandardScaler(), [\"attractive_partner\t\", \"interests_correlate\t\"]),\n",
    "# )\n",
    "# preprocessor"
   ]
  },
  {
   "cell_type": "code",
   "execution_count": 16,
   "id": "4f74195a-b36e-49f9-9c33-995e0e4b00af",
   "metadata": {},
   "outputs": [],
   "source": [
    "# preprocessor.fit(speeddating)\n",
    "# scaled_speeddating = preprocessor.transform(speeddating)\n",
    "# scaled_speeddating"
   ]
  },
  {
   "cell_type": "code",
   "execution_count": null,
   "id": "4c52f84e-aba5-4374-a467-bbc51a4d91ec",
   "metadata": {},
   "outputs": [],
   "source": []
  },
  {
   "cell_type": "code",
   "execution_count": 15,
   "id": "0df355be-5326-4562-bcca-3f4c93fe51ba",
   "metadata": {},
   "outputs": [
    {
     "ename": "NameError",
     "evalue": "name 'knn_spec' is not defined",
     "output_type": "error",
     "traceback": [
      "\u001b[0;31m---------------------------------------------------------------------------\u001b[0m",
      "\u001b[0;31mNameError\u001b[0m                                 Traceback (most recent call last)",
      "Cell \u001b[0;32mIn[15], line 6\u001b[0m\n\u001b[1;32m      3\u001b[0m X \u001b[38;5;241m=\u001b[39m speeddating_training[[\u001b[38;5;124m\"\u001b[39m\u001b[38;5;124mattractive_partner\u001b[39m\u001b[38;5;124m\"\u001b[39m, \u001b[38;5;124m\"\u001b[39m\u001b[38;5;124msincere_partner\u001b[39m\u001b[38;5;124m\"\u001b[39m, \u001b[38;5;124m\"\u001b[39m\u001b[38;5;124mintelligence_partner\u001b[39m\u001b[38;5;124m\"\u001b[39m, \u001b[38;5;124m\"\u001b[39m\u001b[38;5;124mfunny_partner\u001b[39m\u001b[38;5;124m\"\u001b[39m, \u001b[38;5;124m\"\u001b[39m\u001b[38;5;124mshared_interests_partner\u001b[39m\u001b[38;5;124m\"\u001b[39m]]\n\u001b[1;32m      4\u001b[0m y \u001b[38;5;241m=\u001b[39m speeddating_training[\u001b[38;5;124m\"\u001b[39m\u001b[38;5;124mmatch\u001b[39m\u001b[38;5;124m\"\u001b[39m]\n\u001b[0;32m----> 6\u001b[0m speeddating_fit \u001b[38;5;241m=\u001b[39m make_pipeline(speeddating_preprocessor, \u001b[43mknn_spec\u001b[49m)\u001b[38;5;241m.\u001b[39mfit(X, y)\n\u001b[1;32m      7\u001b[0m speeddating_fit\n",
      "\u001b[0;31mNameError\u001b[0m: name 'knn_spec' is not defined"
     ]
    }
   ],
   "source": [
    "knn = KNeighborsClassifier(n_neighbors=5)\n",
    "\n",
    "X = speeddating_training[[\"attractive_partner\", \"sincere_partner\", \"intelligence_partner\", \"funny_partner\", \"shared_interests_partner\"]]\n",
    "y = speeddating_training[\"match\"]\n",
    "\n",
    "speeddating_fit = make_pipeline(speeddating_preprocessor, knn_spec).fit(X, y)\n",
    "speeddating_fit"
   ]
  },
  {
   "cell_type": "code",
   "execution_count": null,
   "id": "1c719574-3129-4adc-9861-08908fd47c28",
   "metadata": {},
   "outputs": [],
   "source": [
    "#after we build model... cross validation, k-nearest neighbours, set seeds in every cell, \n",
    "#for visualization classfication metrix, even if we have high level of accuracy\n",
    "#we see a lot of false negative due to class imabalance. out side scope of course \n",
    "#research about topic and cite\n",
    "#disccussion(summarize, what impact) "
   ]
  }
 ],
 "metadata": {
  "kernelspec": {
   "display_name": "Python 3 (ipykernel)",
   "language": "python",
   "name": "python3"
  },
  "language_info": {
   "codemirror_mode": {
    "name": "ipython",
    "version": 3
   },
   "file_extension": ".py",
   "mimetype": "text/x-python",
   "name": "python",
   "nbconvert_exporter": "python",
   "pygments_lexer": "ipython3",
   "version": "3.10.8"
  }
 },
 "nbformat": 4,
 "nbformat_minor": 5
}
