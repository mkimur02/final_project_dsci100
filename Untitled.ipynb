{
 "cells": [
  {
   "cell_type": "markdown",
   "id": "6c778e7e-063a-401d-980f-2539b808ab37",
   "metadata": {},
   "source": [
    "# Speed Dating Analysis Report\n",
    "<img src=\"https://images.seattletimes.com/wp-content/uploads/2018/12/speeddating-1205-RGB-1.jpg?d=1200x630\" width = \"600\"/>\n",
    "\n",
    "Source: https://www.seattletimes.com/life/lifestyle/speed-dating-in-the-age-of-swiping-the-irl-dating-trend-is-still-ringing-bells/\n",
    "\n",
    "#### Can we predict whether two heterosexual people matched or not based on 6 attributes after 4 minutes of speed dating? \n",
    "\n",
    "### Introduction:\n",
    "\"Speed dating\" is a matchmaking process that involves two people getting to know one another within a very short time frame (usually less than 10 minutes), and then switching to another person once the time is up. This speedy and energetic approach to meeting other single people may result in a match between two individuals where they both choose to pursue dating. But what factors influence whether or not two people match? <b> Is there a way to predict whether two people will match or not in a speed date based on certain attributes? </b> \n",
    "The Speed Dating dataset posted by Ulrik Thyge Pedersen gathered data from participants in a four-minute speed dating experiment where they were asked to rate their date on six different attributes: attractiveness, sincerity, intelligence, fun, ambition, and shared interests. Using this data, we will attempt to predict whether or not two people will match based on these attributes."
   ]
  },
  {
   "cell_type": "code",
   "execution_count": 1,
   "id": "4628e9f2-c357-49f8-ae3a-12fca0e95580",
   "metadata": {},
   "outputs": [],
   "source": [
    "#Run this cell to import program\n",
    "import altair as alt\n",
    "import pandas as pd\n",
    "import numpy as np\n",
    "import seaborn as sns\n",
    "import matplotlib.pyplot as plt\n",
    "%matplotlib inline\n",
    "import sklearn\n",
    "from sklearn.compose import make_column_transformer\n",
    "from sklearn.metrics.pairwise import euclidean_distances\n",
    "from sklearn.neighbors import KNeighborsClassifier\n",
    "from sklearn.pipeline import Pipeline, make_pipeline\n",
    "from sklearn.preprocessing import OneHotEncoder, StandardScaler\n",
    "from sklearn.model_selection import GridSearchCV, cross_validate, train_test_split"
   ]
  },
  {
   "cell_type": "markdown",
   "id": "6456a3f7-3d8b-49cd-a3cb-e0ebbf6b8ed1",
   "metadata": {},
   "source": [
    "#### Speed Dating Dataframe\n",
    "\n",
    "To begin, we read in the raw data."
   ]
  },
  {
   "cell_type": "code",
   "execution_count": 2,
   "id": "b9cb0691-9acc-4445-97c3-66f90682fbc7",
   "metadata": {},
   "outputs": [
    {
     "data": {
      "text/html": [
       "<div>\n",
       "<style scoped>\n",
       "    .dataframe tbody tr th:only-of-type {\n",
       "        vertical-align: middle;\n",
       "    }\n",
       "\n",
       "    .dataframe tbody tr th {\n",
       "        vertical-align: top;\n",
       "    }\n",
       "\n",
       "    .dataframe thead th {\n",
       "        text-align: right;\n",
       "    }\n",
       "</style>\n",
       "<table border=\"1\" class=\"dataframe\">\n",
       "  <thead>\n",
       "    <tr style=\"text-align: right;\">\n",
       "      <th></th>\n",
       "      <th>has_null</th>\n",
       "      <th>wave</th>\n",
       "      <th>gender</th>\n",
       "      <th>age</th>\n",
       "      <th>age_o</th>\n",
       "      <th>d_age</th>\n",
       "      <th>d_d_age</th>\n",
       "      <th>race</th>\n",
       "      <th>race_o</th>\n",
       "      <th>samerace</th>\n",
       "      <th>...</th>\n",
       "      <th>d_expected_num_interested_in_me</th>\n",
       "      <th>d_expected_num_matches</th>\n",
       "      <th>like</th>\n",
       "      <th>guess_prob_liked</th>\n",
       "      <th>d_like</th>\n",
       "      <th>d_guess_prob_liked</th>\n",
       "      <th>met</th>\n",
       "      <th>decision</th>\n",
       "      <th>decision_o</th>\n",
       "      <th>match</th>\n",
       "    </tr>\n",
       "  </thead>\n",
       "  <tbody>\n",
       "    <tr>\n",
       "      <th>0</th>\n",
       "      <td>b''</td>\n",
       "      <td>1.0</td>\n",
       "      <td>b'female'</td>\n",
       "      <td>21.0</td>\n",
       "      <td>27.0</td>\n",
       "      <td>6.0</td>\n",
       "      <td>b'[4-6]'</td>\n",
       "      <td>b'Asian/Pacific Islander/Asian-American'</td>\n",
       "      <td>b'European/Caucasian-American'</td>\n",
       "      <td>b'0'</td>\n",
       "      <td>...</td>\n",
       "      <td>b'[0-3]'</td>\n",
       "      <td>b'[3-5]'</td>\n",
       "      <td>7.0</td>\n",
       "      <td>6.0</td>\n",
       "      <td>b'[6-8]'</td>\n",
       "      <td>b'[5-6]'</td>\n",
       "      <td>0.0</td>\n",
       "      <td>b'1'</td>\n",
       "      <td>b'0'</td>\n",
       "      <td>b'0'</td>\n",
       "    </tr>\n",
       "    <tr>\n",
       "      <th>1</th>\n",
       "      <td>b''</td>\n",
       "      <td>1.0</td>\n",
       "      <td>b'female'</td>\n",
       "      <td>21.0</td>\n",
       "      <td>22.0</td>\n",
       "      <td>1.0</td>\n",
       "      <td>b'[0-1]'</td>\n",
       "      <td>b'Asian/Pacific Islander/Asian-American'</td>\n",
       "      <td>b'European/Caucasian-American'</td>\n",
       "      <td>b'0'</td>\n",
       "      <td>...</td>\n",
       "      <td>b'[0-3]'</td>\n",
       "      <td>b'[3-5]'</td>\n",
       "      <td>7.0</td>\n",
       "      <td>5.0</td>\n",
       "      <td>b'[6-8]'</td>\n",
       "      <td>b'[5-6]'</td>\n",
       "      <td>1.0</td>\n",
       "      <td>b'1'</td>\n",
       "      <td>b'0'</td>\n",
       "      <td>b'0'</td>\n",
       "    </tr>\n",
       "    <tr>\n",
       "      <th>2</th>\n",
       "      <td>b''</td>\n",
       "      <td>1.0</td>\n",
       "      <td>b'female'</td>\n",
       "      <td>21.0</td>\n",
       "      <td>22.0</td>\n",
       "      <td>1.0</td>\n",
       "      <td>b'[0-1]'</td>\n",
       "      <td>b'Asian/Pacific Islander/Asian-American'</td>\n",
       "      <td>b'Asian/Pacific Islander/Asian-American'</td>\n",
       "      <td>b'1'</td>\n",
       "      <td>...</td>\n",
       "      <td>b'[0-3]'</td>\n",
       "      <td>b'[3-5]'</td>\n",
       "      <td>7.0</td>\n",
       "      <td>NaN</td>\n",
       "      <td>b'[6-8]'</td>\n",
       "      <td>b'[0-4]'</td>\n",
       "      <td>1.0</td>\n",
       "      <td>b'1'</td>\n",
       "      <td>b'1'</td>\n",
       "      <td>b'1'</td>\n",
       "    </tr>\n",
       "    <tr>\n",
       "      <th>3</th>\n",
       "      <td>b''</td>\n",
       "      <td>1.0</td>\n",
       "      <td>b'female'</td>\n",
       "      <td>21.0</td>\n",
       "      <td>23.0</td>\n",
       "      <td>2.0</td>\n",
       "      <td>b'[2-3]'</td>\n",
       "      <td>b'Asian/Pacific Islander/Asian-American'</td>\n",
       "      <td>b'European/Caucasian-American'</td>\n",
       "      <td>b'0'</td>\n",
       "      <td>...</td>\n",
       "      <td>b'[0-3]'</td>\n",
       "      <td>b'[3-5]'</td>\n",
       "      <td>7.0</td>\n",
       "      <td>6.0</td>\n",
       "      <td>b'[6-8]'</td>\n",
       "      <td>b'[5-6]'</td>\n",
       "      <td>0.0</td>\n",
       "      <td>b'1'</td>\n",
       "      <td>b'1'</td>\n",
       "      <td>b'1'</td>\n",
       "    </tr>\n",
       "    <tr>\n",
       "      <th>4</th>\n",
       "      <td>b''</td>\n",
       "      <td>1.0</td>\n",
       "      <td>b'female'</td>\n",
       "      <td>21.0</td>\n",
       "      <td>24.0</td>\n",
       "      <td>3.0</td>\n",
       "      <td>b'[2-3]'</td>\n",
       "      <td>b'Asian/Pacific Islander/Asian-American'</td>\n",
       "      <td>b'Latino/Hispanic American'</td>\n",
       "      <td>b'0'</td>\n",
       "      <td>...</td>\n",
       "      <td>b'[0-3]'</td>\n",
       "      <td>b'[3-5]'</td>\n",
       "      <td>6.0</td>\n",
       "      <td>6.0</td>\n",
       "      <td>b'[6-8]'</td>\n",
       "      <td>b'[5-6]'</td>\n",
       "      <td>0.0</td>\n",
       "      <td>b'1'</td>\n",
       "      <td>b'1'</td>\n",
       "      <td>b'1'</td>\n",
       "    </tr>\n",
       "  </tbody>\n",
       "</table>\n",
       "<p>5 rows × 123 columns</p>\n",
       "</div>"
      ],
      "text/plain": [
       "  has_null  wave     gender   age  age_o  d_age   d_d_age  \\\n",
       "0      b''   1.0  b'female'  21.0   27.0    6.0  b'[4-6]'   \n",
       "1      b''   1.0  b'female'  21.0   22.0    1.0  b'[0-1]'   \n",
       "2      b''   1.0  b'female'  21.0   22.0    1.0  b'[0-1]'   \n",
       "3      b''   1.0  b'female'  21.0   23.0    2.0  b'[2-3]'   \n",
       "4      b''   1.0  b'female'  21.0   24.0    3.0  b'[2-3]'   \n",
       "\n",
       "                                       race  \\\n",
       "0  b'Asian/Pacific Islander/Asian-American'   \n",
       "1  b'Asian/Pacific Islander/Asian-American'   \n",
       "2  b'Asian/Pacific Islander/Asian-American'   \n",
       "3  b'Asian/Pacific Islander/Asian-American'   \n",
       "4  b'Asian/Pacific Islander/Asian-American'   \n",
       "\n",
       "                                     race_o samerace  ...  \\\n",
       "0            b'European/Caucasian-American'     b'0'  ...   \n",
       "1            b'European/Caucasian-American'     b'0'  ...   \n",
       "2  b'Asian/Pacific Islander/Asian-American'     b'1'  ...   \n",
       "3            b'European/Caucasian-American'     b'0'  ...   \n",
       "4               b'Latino/Hispanic American'     b'0'  ...   \n",
       "\n",
       "   d_expected_num_interested_in_me  d_expected_num_matches like  \\\n",
       "0                         b'[0-3]'                b'[3-5]'  7.0   \n",
       "1                         b'[0-3]'                b'[3-5]'  7.0   \n",
       "2                         b'[0-3]'                b'[3-5]'  7.0   \n",
       "3                         b'[0-3]'                b'[3-5]'  7.0   \n",
       "4                         b'[0-3]'                b'[3-5]'  6.0   \n",
       "\n",
       "  guess_prob_liked    d_like  d_guess_prob_liked  met  decision  decision_o  \\\n",
       "0              6.0  b'[6-8]'            b'[5-6]'  0.0      b'1'        b'0'   \n",
       "1              5.0  b'[6-8]'            b'[5-6]'  1.0      b'1'        b'0'   \n",
       "2              NaN  b'[6-8]'            b'[0-4]'  1.0      b'1'        b'1'   \n",
       "3              6.0  b'[6-8]'            b'[5-6]'  0.0      b'1'        b'1'   \n",
       "4              6.0  b'[6-8]'            b'[5-6]'  0.0      b'1'        b'1'   \n",
       "\n",
       "   match  \n",
       "0   b'0'  \n",
       "1   b'0'  \n",
       "2   b'1'  \n",
       "3   b'1'  \n",
       "4   b'1'  \n",
       "\n",
       "[5 rows x 123 columns]"
      ]
     },
     "execution_count": 2,
     "metadata": {},
     "output_type": "execute_result"
    }
   ],
   "source": [
    "import matplotlib.pyplot as plt\n",
    "\n",
    "df_speeddating = pd.read_csv(\"speeddating.csv\")\n",
    "\n",
    "df_speeddating.head(5)"
   ]
  },
  {
   "cell_type": "markdown",
   "id": "66fa8c0a-0ebf-402f-9a54-3548c72ad6e6",
   "metadata": {},
   "source": [
    "#### Cleaning and wrangling data\n",
    "Next, we shall make our speed dating data suitable for our analysis. First, we extract the six attributes (attractive_partner, sincere_partner, intelligence_partner, funny_partner, ambition_partner, shared_interests_partner) columns and the class column (match) that are required for this analysis using square brackets. Then, by using .dropna(), we remove the rows that contain NULL value, \"NaN\". We will also rename the values of the class column \"match\" from b'0' to \"fail\" and b'1' to \"success\". Moreover, we must convert the \"match\" column stored as an object type to a categorical type. \n"
   ]
  },
  {
   "cell_type": "code",
   "execution_count": 3,
   "id": "fa9a9fbb-f4c4-4d5f-a0f7-e097bbf41b62",
   "metadata": {},
   "outputs": [
    {
     "data": {
      "text/html": [
       "<div>\n",
       "<style scoped>\n",
       "    .dataframe tbody tr th:only-of-type {\n",
       "        vertical-align: middle;\n",
       "    }\n",
       "\n",
       "    .dataframe tbody tr th {\n",
       "        vertical-align: top;\n",
       "    }\n",
       "\n",
       "    .dataframe thead th {\n",
       "        text-align: right;\n",
       "    }\n",
       "</style>\n",
       "<table border=\"1\" class=\"dataframe\">\n",
       "  <thead>\n",
       "    <tr style=\"text-align: right;\">\n",
       "      <th></th>\n",
       "      <th>match</th>\n",
       "      <th>attractive_partner</th>\n",
       "      <th>sincere_partner</th>\n",
       "      <th>intelligence_partner</th>\n",
       "      <th>funny_partner</th>\n",
       "      <th>ambition_partner</th>\n",
       "      <th>shared_interests_partner</th>\n",
       "    </tr>\n",
       "  </thead>\n",
       "  <tbody>\n",
       "    <tr>\n",
       "      <th>3852</th>\n",
       "      <td>fail</td>\n",
       "      <td>9.0</td>\n",
       "      <td>8.0</td>\n",
       "      <td>8.0</td>\n",
       "      <td>8.0</td>\n",
       "      <td>6.0</td>\n",
       "      <td>2.0</td>\n",
       "    </tr>\n",
       "    <tr>\n",
       "      <th>1938</th>\n",
       "      <td>fail</td>\n",
       "      <td>5.0</td>\n",
       "      <td>5.0</td>\n",
       "      <td>6.0</td>\n",
       "      <td>6.0</td>\n",
       "      <td>5.0</td>\n",
       "      <td>5.0</td>\n",
       "    </tr>\n",
       "    <tr>\n",
       "      <th>4879</th>\n",
       "      <td>fail</td>\n",
       "      <td>7.0</td>\n",
       "      <td>5.0</td>\n",
       "      <td>6.0</td>\n",
       "      <td>4.0</td>\n",
       "      <td>5.0</td>\n",
       "      <td>5.0</td>\n",
       "    </tr>\n",
       "    <tr>\n",
       "      <th>1619</th>\n",
       "      <td>fail</td>\n",
       "      <td>7.0</td>\n",
       "      <td>10.0</td>\n",
       "      <td>8.0</td>\n",
       "      <td>7.0</td>\n",
       "      <td>7.0</td>\n",
       "      <td>3.0</td>\n",
       "    </tr>\n",
       "    <tr>\n",
       "      <th>3151</th>\n",
       "      <td>fail</td>\n",
       "      <td>7.0</td>\n",
       "      <td>6.0</td>\n",
       "      <td>7.0</td>\n",
       "      <td>6.0</td>\n",
       "      <td>6.0</td>\n",
       "      <td>5.0</td>\n",
       "    </tr>\n",
       "  </tbody>\n",
       "</table>\n",
       "</div>"
      ],
      "text/plain": [
       "     match  attractive_partner  sincere_partner  intelligence_partner  \\\n",
       "3852  fail                 9.0              8.0                   8.0   \n",
       "1938  fail                 5.0              5.0                   6.0   \n",
       "4879  fail                 7.0              5.0                   6.0   \n",
       "1619  fail                 7.0             10.0                   8.0   \n",
       "3151  fail                 7.0              6.0                   7.0   \n",
       "\n",
       "      funny_partner  ambition_partner  shared_interests_partner  \n",
       "3852            8.0               6.0                       2.0  \n",
       "1938            6.0               5.0                       5.0  \n",
       "4879            4.0               5.0                       5.0  \n",
       "1619            7.0               7.0                       3.0  \n",
       "3151            6.0               6.0                       5.0  "
      ]
     },
     "execution_count": 3,
     "metadata": {},
     "output_type": "execute_result"
    }
   ],
   "source": [
    "speeddating = df_speeddating[[\"match\",\"attractive_partner\", \"sincere_partner\",\"intelligence_partner\", \"funny_partner\", \"ambition_partner\", \"shared_interests_partner\"]]\n",
    "\n",
    "speeddating = speeddating.sample(n=1000, random_state=2023).dropna()\n",
    "\n",
    "speeddating[\"match\"] = speeddating[\"match\"].replace({\"b'0'\":\"fail\",\"b'1'\":\"success\"}).astype(\"category\")\n",
    "# speeddating.set_title(\"\")\n",
    "speeddating.head(5)"
   ]
  },
  {
   "cell_type": "markdown",
   "id": "01f847d2-f522-423e-b11f-83c8c3a93499",
   "metadata": {},
   "source": [
    "#### Summary of Speeddating Data\n",
    "With seven columns, one category type, and six numeric types, we can see that our data is now organised and prepared to be divided into train and test sets using the info function. "
   ]
  },
  {
   "cell_type": "code",
   "execution_count": 4,
   "id": "554bbdfa-f316-4ad1-b0bb-79623b926c53",
   "metadata": {},
   "outputs": [
    {
     "name": "stdout",
     "output_type": "stream",
     "text": [
      "<class 'pandas.core.frame.DataFrame'>\n",
      "Int64Index: 826 entries, 3852 to 58\n",
      "Data columns (total 7 columns):\n",
      " #   Column                    Non-Null Count  Dtype   \n",
      "---  ------                    --------------  -----   \n",
      " 0   match                     826 non-null    category\n",
      " 1   attractive_partner        826 non-null    float64 \n",
      " 2   sincere_partner           826 non-null    float64 \n",
      " 3   intelligence_partner      826 non-null    float64 \n",
      " 4   funny_partner             826 non-null    float64 \n",
      " 5   ambition_partner          826 non-null    float64 \n",
      " 6   shared_interests_partner  826 non-null    float64 \n",
      "dtypes: category(1), float64(6)\n",
      "memory usage: 46.1 KB\n"
     ]
    }
   ],
   "source": [
    "speeddating.info()"
   ]
  },
  {
   "cell_type": "markdown",
   "id": "04318dda-8a50-4a2c-b43e-51832dd2e9db",
   "metadata": {
    "tags": []
   },
   "source": [
    "#### Creating the training and test sets\n",
    "Next, we will split the cleaned speed-dating data into a training and testing set. We will then use the training set to perform an exploratory analysis on the six variables and to explore the dataset. After making the classifier to predict the \"match\" of speed-dating with training set, we use the test set to evaluate the accuracy of the model to predict the \"match\" on new observation. \n",
    "\n",
    "\n",
    "To preserve the higher proportions of \"fail\" categories, we used the parameter \"stratitfy\" in the train_test_split, which ensures the same proportions of \"success\" and \"fail\" categories are split into the training and testing sets."
   ]
  },
  {
   "cell_type": "code",
   "execution_count": 5,
   "id": "d9065991-1e29-4949-b18e-5030e9738391",
   "metadata": {},
   "outputs": [
    {
     "data": {
      "text/html": [
       "<div>\n",
       "<style scoped>\n",
       "    .dataframe tbody tr th:only-of-type {\n",
       "        vertical-align: middle;\n",
       "    }\n",
       "\n",
       "    .dataframe tbody tr th {\n",
       "        vertical-align: top;\n",
       "    }\n",
       "\n",
       "    .dataframe thead th {\n",
       "        text-align: right;\n",
       "    }\n",
       "</style>\n",
       "<table border=\"1\" class=\"dataframe\">\n",
       "  <thead>\n",
       "    <tr style=\"text-align: right;\">\n",
       "      <th></th>\n",
       "      <th>match</th>\n",
       "      <th>attractive_partner</th>\n",
       "      <th>sincere_partner</th>\n",
       "      <th>intelligence_partner</th>\n",
       "      <th>funny_partner</th>\n",
       "      <th>ambition_partner</th>\n",
       "      <th>shared_interests_partner</th>\n",
       "    </tr>\n",
       "  </thead>\n",
       "  <tbody>\n",
       "    <tr>\n",
       "      <th>8042</th>\n",
       "      <td>fail</td>\n",
       "      <td>5.0</td>\n",
       "      <td>8.0</td>\n",
       "      <td>7.0</td>\n",
       "      <td>8.0</td>\n",
       "      <td>5.0</td>\n",
       "      <td>4.0</td>\n",
       "    </tr>\n",
       "    <tr>\n",
       "      <th>6043</th>\n",
       "      <td>fail</td>\n",
       "      <td>9.5</td>\n",
       "      <td>7.0</td>\n",
       "      <td>7.0</td>\n",
       "      <td>8.0</td>\n",
       "      <td>9.0</td>\n",
       "      <td>6.0</td>\n",
       "    </tr>\n",
       "    <tr>\n",
       "      <th>1340</th>\n",
       "      <td>fail</td>\n",
       "      <td>6.0</td>\n",
       "      <td>7.0</td>\n",
       "      <td>6.0</td>\n",
       "      <td>6.0</td>\n",
       "      <td>6.0</td>\n",
       "      <td>5.0</td>\n",
       "    </tr>\n",
       "    <tr>\n",
       "      <th>3089</th>\n",
       "      <td>fail</td>\n",
       "      <td>6.0</td>\n",
       "      <td>7.0</td>\n",
       "      <td>7.0</td>\n",
       "      <td>5.0</td>\n",
       "      <td>6.0</td>\n",
       "      <td>6.0</td>\n",
       "    </tr>\n",
       "    <tr>\n",
       "      <th>7741</th>\n",
       "      <td>success</td>\n",
       "      <td>3.0</td>\n",
       "      <td>9.0</td>\n",
       "      <td>9.0</td>\n",
       "      <td>5.0</td>\n",
       "      <td>7.0</td>\n",
       "      <td>3.0</td>\n",
       "    </tr>\n",
       "  </tbody>\n",
       "</table>\n",
       "</div>"
      ],
      "text/plain": [
       "        match  attractive_partner  sincere_partner  intelligence_partner  \\\n",
       "8042     fail                 5.0              8.0                   7.0   \n",
       "6043     fail                 9.5              7.0                   7.0   \n",
       "1340     fail                 6.0              7.0                   6.0   \n",
       "3089     fail                 6.0              7.0                   7.0   \n",
       "7741  success                 3.0              9.0                   9.0   \n",
       "\n",
       "      funny_partner  ambition_partner  shared_interests_partner  \n",
       "8042            8.0               5.0                       4.0  \n",
       "6043            8.0               9.0                       6.0  \n",
       "1340            6.0               6.0                       5.0  \n",
       "3089            5.0               6.0                       6.0  \n",
       "7741            5.0               7.0                       3.0  "
      ]
     },
     "execution_count": 5,
     "metadata": {},
     "output_type": "execute_result"
    }
   ],
   "source": [
    "speeddating_training, speeddating_testing = train_test_split(\n",
    "   speeddating, train_size=0.75, random_state=2023, stratify=speeddating[[\"match\"]] # do not change the random_state\n",
    ")\n",
    "speeddating_training = pd.DataFrame(speeddating_training)\n",
    "speeddating_training.head(5)"
   ]
  },
  {
   "cell_type": "markdown",
   "id": "9970fee5-965f-4e9c-b4cf-b7c29341cddc",
   "metadata": {},
   "source": [
    "#### Checking the \"match\" data distribution"
   ]
  },
  {
   "cell_type": "code",
   "execution_count": 6,
   "id": "2d484f99-a4e2-469b-8a81-00d8f2e74eb0",
   "metadata": {},
   "outputs": [
    {
     "data": {
      "text/html": [
       "<div>\n",
       "<style scoped>\n",
       "    .dataframe tbody tr th:only-of-type {\n",
       "        vertical-align: middle;\n",
       "    }\n",
       "\n",
       "    .dataframe tbody tr th {\n",
       "        vertical-align: top;\n",
       "    }\n",
       "\n",
       "    .dataframe thead th {\n",
       "        text-align: right;\n",
       "    }\n",
       "</style>\n",
       "<table border=\"1\" class=\"dataframe\">\n",
       "  <thead>\n",
       "    <tr style=\"text-align: right;\">\n",
       "      <th></th>\n",
       "      <th>count</th>\n",
       "      <th>percentage</th>\n",
       "    </tr>\n",
       "    <tr>\n",
       "      <th>match</th>\n",
       "      <th></th>\n",
       "      <th></th>\n",
       "    </tr>\n",
       "  </thead>\n",
       "  <tbody>\n",
       "    <tr>\n",
       "      <th>fail</th>\n",
       "      <td>507</td>\n",
       "      <td>81.9063</td>\n",
       "    </tr>\n",
       "    <tr>\n",
       "      <th>success</th>\n",
       "      <td>112</td>\n",
       "      <td>18.0937</td>\n",
       "    </tr>\n",
       "  </tbody>\n",
       "</table>\n",
       "</div>"
      ],
      "text/plain": [
       "         count  percentage\n",
       "match                     \n",
       "fail       507     81.9063\n",
       "success    112     18.0937"
      ]
     },
     "execution_count": 6,
     "metadata": {},
     "output_type": "execute_result"
    }
   ],
   "source": [
    "speeddating_training_dd = speeddating_training.assign(row_number=range(len(speeddating_training)))\n",
    "\n",
    "explore_speeddating = pd.DataFrame()\n",
    "\n",
    "explore_speeddating['count'] = speeddating_training_dd.groupby('match')['row_number'].count()\n",
    "explore_speeddating['percentage'] = 100 * explore_speeddating['count']/len(speeddating_training_dd)\n",
    "\n",
    "explore_speeddating"
   ]
  },
  {
   "cell_type": "markdown",
   "id": "48bd9acc-254e-4acb-bf55-e0c616e831eb",
   "metadata": {},
   "source": [
    "We can see from this table that there is an imbalance in the match class; where 83.0% failed to match and 18.2% was successful. This would be a limitation for our model and its accuracy. Since 83.0% of speed dates failed, our model may have a high accuracy (around 80 percent) because it will correctly predict a lot of failed dates but it will not be very accurate in predicting successful dates."
   ]
  },
  {
   "cell_type": "markdown",
   "id": "802591b3-a4b1-44b1-a03b-b192c5c5afd0",
   "metadata": {},
   "source": [
    "#### Creating Boxplots \n",
    "The distribution of attribute ratings may be viewed using a box plot, which also makes it possible to compare and contrast match outcomes. To determine the impact of each property on the match outcomes, we produced six boxplots for each attribute using seaborn.boxplot."
   ]
  },
  {
   "cell_type": "code",
   "execution_count": 7,
   "id": "f004cfcd-a30c-41cc-8646-b54b1d7e038b",
   "metadata": {},
   "outputs": [
    {
     "data": {
      "text/plain": [
       "[Text(0.5, 1.0, 'Figure 1: Comparison of match results for Attraction Attribute'),\n",
       " Text(0, 0.5, \"Rating of Partner's Attractiveness\"),\n",
       " Text(0.5, 0, 'Match')]"
      ]
     },
     "execution_count": 7,
     "metadata": {},
     "output_type": "execute_result"
    },
    {
     "data": {
      "image/png": "[encoded data removed]",
      "text/plain": [
       "<Figure size 640x480 with 1 Axes>"
      ]
     },
     "metadata": {},
     "output_type": "display_data"
    }
   ],
   "source": [
    "sns.boxplot(x='match', y='attractive_partner', width=0.25, data=speeddating_training).set(title='Figure 1: Comparison of match results for Attraction Attribute', ylabel=\"Rating of Partner's Attractiveness\", xlabel=\"Match\")"
   ]
  },
  {
   "cell_type": "markdown",
   "id": "907eaea8-5a34-4e71-9924-9c702880cf1e",
   "metadata": {},
   "source": [
    "Interpretation of Figure 1: This boxplot compares the explantory variable \"Partner's Attractiveness\", and the response variable of \"match outcome\". The median shows that on average partner's attractiveness score was two ratings higher for successful matches than failed matches. In this rating scale between 1-10, the category of success having two rating higher than fail suggests that the partner's attractiveness has an influence on match results.  "
   ]
  },
  {
   "cell_type": "code",
   "execution_count": 8,
   "id": "013b34bf-346a-479d-bea0-6fcdb9eebf8a",
   "metadata": {},
   "outputs": [
    {
     "data": {
      "text/plain": [
       "[Text(0.5, 1.0, 'Figure 2: Comparison of match results for Sincere Attribute'),\n",
       " Text(0, 0.5, \"Rating of Partner's Sincerity\"),\n",
       " Text(0.5, 0, 'Match')]"
      ]
     },
     "execution_count": 8,
     "metadata": {},
     "output_type": "execute_result"
    },
    {
     "data": {
      "image/png": "[encoded data removed]",
      "text/plain": [
       "<Figure size 640x480 with 1 Axes>"
      ]
     },
     "metadata": {},
     "output_type": "display_data"
    }
   ],
   "source": [
    "sns.boxplot(x='match', y='sincere_partner', width=0.25, data=speeddating_training).set(title='Figure 2: Comparison of match results for Sincere Attribute', ylabel=\"Rating of Partner's Sincerity\", xlabel=\"Match\")\n",
    "#this plot looks at explantory vairble \"like\"... we see that there is seperation, if they liked their partner they successfully dataset.\n",
    "# we wont include this in the model, it is the same... no impact... "
   ]
  },
  {
   "cell_type": "markdown",
   "id": "1e313b04-bbc9-40c0-917c-bdf061dd8aab",
   "metadata": {},
   "source": [
    "Interpretation of Figure 2: This boxplot compares the explantory variable \"Partner's Sincerity\", and the response variable of \"match outcome\". There is not a lot of overlap between category of fail and category of match success, thus the two groups are different. Rating of Partner's sincerity seems to have influence on match results."
   ]
  },
  {
   "cell_type": "code",
   "execution_count": 9,
   "id": "ca7d270d-cffc-4011-961e-4003d13f2004",
   "metadata": {},
   "outputs": [
    {
     "data": {
      "text/plain": [
       "[Text(0.5, 1.0, 'Figure 3: Comparison of match results for Intelligence Attribute'),\n",
       " Text(0, 0.5, \"Rating of Partner's Intelligence\"),\n",
       " Text(0.5, 0, 'Match')]"
      ]
     },
     "execution_count": 9,
     "metadata": {},
     "output_type": "execute_result"
    },
    {
     "data": {
      "image/png": "[encoded data removed]",
      "text/plain": [
       "<Figure size 640x480 with 1 Axes>"
      ]
     },
     "metadata": {},
     "output_type": "display_data"
    }
   ],
   "source": [
    "sns.boxplot(x='match', y='intelligence_partner', width=0.25, data=speeddating_training).set(title='Figure 3: Comparison of match results for Intelligence Attribute', ylabel=\"Rating of Partner's Intelligence\", xlabel=\"Match\")\n",
    "\n",
    "\n",
    "# some overlap but not exact, not include age "
   ]
  },
  {
   "cell_type": "markdown",
   "id": "2f2d63a7-6027-41a9-85dc-645464f228e9",
   "metadata": {},
   "source": [
    "Interpretation of Figure 3: The explanatory variable \"Partner's Intelligence\" and the response variable \"match outcome\" are compared in this boxplot. Similar to figure 2, these non-overlapping boxes and the narrow interquartile range of the success boxplot indicate that higher intellect ratings result in successful matches.  "
   ]
  },
  {
   "cell_type": "code",
   "execution_count": 10,
   "id": "d655e1f5-4508-41c9-ad59-c1d5d55e48db",
   "metadata": {},
   "outputs": [
    {
     "data": {
      "text/plain": [
       "[Text(0.5, 1.0, 'Figure 4: Comparison of match results for Fun Attribute'),\n",
       " Text(0, 0.5, 'Rating of Partner being funny'),\n",
       " Text(0.5, 0, 'Match')]"
      ]
     },
     "execution_count": 10,
     "metadata": {},
     "output_type": "execute_result"
    },
    {
     "data": {
      "image/png": "[encoded data removed]",
      "text/plain": [
       "<Figure size 640x480 with 1 Axes>"
      ]
     },
     "metadata": {},
     "output_type": "display_data"
    }
   ],
   "source": [
    "sns.boxplot(x='match', y='funny_partner', width=0.25, data=speeddating_training).set(title='Figure 4: Comparison of match results for Fun Attribute', ylabel=\"Rating of Partner being funny\", xlabel=\"Match\")"
   ]
  },
  {
   "cell_type": "markdown",
   "id": "382e369e-0e5b-4056-a4b4-9fbea8d15b75",
   "metadata": {},
   "source": [
    "Interpretation of Figure 4: median signficant... keep? "
   ]
  },
  {
   "cell_type": "code",
   "execution_count": 11,
   "id": "e07a6226-47ce-4d6a-b5c9-f0876b903e0b",
   "metadata": {},
   "outputs": [
    {
     "data": {
      "text/plain": [
       "[Text(0.5, 1.0, 'Figure 5: Comparison of match results for Ambition Attribute'),\n",
       " Text(0, 0.5, \"Rating of Partner's Ambition\"),\n",
       " Text(0.5, 0, 'Match')]"
      ]
     },
     "execution_count": 11,
     "metadata": {},
     "output_type": "execute_result"
    },
    {
     "data": {
      "image/png": "[encoded data removed]",
      "text/plain": [
       "<Figure size 640x480 with 1 Axes>"
      ]
     },
     "metadata": {},
     "output_type": "display_data"
    }
   ],
   "source": [
    "sns.boxplot(x='match', y='ambition_partner', width=0.25, data=speeddating_training).set(title='Figure 5: Comparison of match results for Ambition Attribute', ylabel=\"Rating of Partner's Ambition\", xlabel=\"Match\")"
   ]
  },
  {
   "cell_type": "markdown",
   "id": "0f2cbb2e-dda6-462f-ad04-4cd77b8e2e1f",
   "metadata": {},
   "source": [
    "Interpretation of Figure 5: low outlier for success.. drop?"
   ]
  },
  {
   "cell_type": "code",
   "execution_count": 12,
   "id": "dde90f3e-0c38-4455-a195-c74669f7f775",
   "metadata": {},
   "outputs": [
    {
     "data": {
      "text/plain": [
       "[Text(0.5, 1.0, 'Figure 6: Comparison of match results for Shared Interests Attribute'),\n",
       " Text(0, 0.5, \"Rating of Partner's Shared Interests\"),\n",
       " Text(0.5, 0, 'Match')]"
      ]
     },
     "execution_count": 12,
     "metadata": {},
     "output_type": "execute_result"
    },
    {
     "data": {
      "image/png": "[encoded data removed]",
      "text/plain": [
       "<Figure size 640x480 with 1 Axes>"
      ]
     },
     "metadata": {},
     "output_type": "display_data"
    }
   ],
   "source": [
    "sns.boxplot(x='match', y='shared_interests_partner', width=0.25, data=speeddating_training).set(title='Figure 6: Comparison of match results for Shared Interests Attribute', ylabel=\"Rating of Partner's Shared Interests\", xlabel=\"Match\")"
   ]
  },
  {
   "cell_type": "markdown",
   "id": "aa8bee2f-ea49-41bf-aa4f-6f2e9fc188da",
   "metadata": {},
   "source": [
    "Interpretation of Figure 6: median difference is significant... keep ? "
   ]
  },
  {
   "cell_type": "markdown",
   "id": "3ab029a9-d5a7-4320-9675-f0c5f7ae9df9",
   "metadata": {},
   "source": [
    "Now that we have investigated how each attribute of the participants relates with their success or failure in speed dating, we will make different combinations of the attributes to see which ones predict the match most accurately. "
   ]
  },
  {
   "cell_type": "markdown",
   "id": "a4ba6e41-63a2-41f1-affb-dcaa1b504ae5",
   "metadata": {
    "tags": []
   },
   "source": [
    "#### first combination: attractiveness, intelligence, humour, sincerity"
   ]
  },
  {
   "cell_type": "markdown",
   "id": "ffda7403-6824-45c5-8d1d-978ed7bf4a83",
   "metadata": {},
   "source": [
    "We used the \"stratify\" parameter in the train_test_split here as well to preserve the higher proportions of \"fail\" categories, since \"stratify\" ensures the same proportions of \"success\" and \"fail\" categories are split into the training and testing splits."
   ]
  },
  {
   "cell_type": "code",
   "execution_count": 33,
   "id": "5365eda2-af41-4e8d-b1a6-ac2a347913e6",
   "metadata": {},
   "outputs": [
    {
     "name": "stdout",
     "output_type": "stream",
     "text": [
      "<class 'pandas.core.frame.DataFrame'>\n",
      "Int64Index: 619 entries, 2778 to 5556\n",
      "Data columns (total 7 columns):\n",
      " #   Column                    Non-Null Count  Dtype   \n",
      "---  ------                    --------------  -----   \n",
      " 0   match                     619 non-null    category\n",
      " 1   attractive_partner        619 non-null    float64 \n",
      " 2   sincere_partner           619 non-null    float64 \n",
      " 3   intelligence_partner      619 non-null    float64 \n",
      " 4   funny_partner             619 non-null    float64 \n",
      " 5   ambition_partner          619 non-null    float64 \n",
      " 6   shared_interests_partner  619 non-null    float64 \n",
      "dtypes: category(1), float64(6)\n",
      "memory usage: 34.6 KB\n"
     ]
    },
    {
     "data": {
      "text/html": [
       "<div>\n",
       "<style scoped>\n",
       "    .dataframe tbody tr th:only-of-type {\n",
       "        vertical-align: middle;\n",
       "    }\n",
       "\n",
       "    .dataframe tbody tr th {\n",
       "        vertical-align: top;\n",
       "    }\n",
       "\n",
       "    .dataframe thead th {\n",
       "        text-align: right;\n",
       "    }\n",
       "</style>\n",
       "<table border=\"1\" class=\"dataframe\">\n",
       "  <thead>\n",
       "    <tr style=\"text-align: right;\">\n",
       "      <th></th>\n",
       "      <th>n_neighbors</th>\n",
       "      <th>mean_test_score</th>\n",
       "      <th>sem_test_score</th>\n",
       "    </tr>\n",
       "  </thead>\n",
       "  <tbody>\n",
       "    <tr>\n",
       "      <th>3</th>\n",
       "      <td>16</td>\n",
       "      <td>0.833712</td>\n",
       "      <td>0.009846</td>\n",
       "    </tr>\n",
       "    <tr>\n",
       "      <th>2</th>\n",
       "      <td>11</td>\n",
       "      <td>0.832073</td>\n",
       "      <td>0.009628</td>\n",
       "    </tr>\n",
       "    <tr>\n",
       "      <th>1</th>\n",
       "      <td>6</td>\n",
       "      <td>0.830407</td>\n",
       "      <td>0.007578</td>\n",
       "    </tr>\n",
       "    <tr>\n",
       "      <th>4</th>\n",
       "      <td>21</td>\n",
       "      <td>0.825595</td>\n",
       "      <td>0.010057</td>\n",
       "    </tr>\n",
       "    <tr>\n",
       "      <th>6</th>\n",
       "      <td>31</td>\n",
       "      <td>0.822343</td>\n",
       "      <td>0.012434</td>\n",
       "    </tr>\n",
       "  </tbody>\n",
       "</table>\n",
       "</div>"
      ],
      "text/plain": [
       "  n_neighbors  mean_test_score  sem_test_score\n",
       "3          16         0.833712        0.009846\n",
       "2          11         0.832073        0.009628\n",
       "1           6         0.830407        0.007578\n",
       "4          21         0.825595        0.010057\n",
       "6          31         0.822343        0.012434"
      ]
     },
     "execution_count": 33,
     "metadata": {},
     "output_type": "execute_result"
    }
   ],
   "source": [
    "# first combination: attractive, intelligence, funny, sincere\n",
    "np.random.seed(1000)\n",
    "\n",
    "speeddating_train, speeddating_test = train_test_split(\n",
    "    speeddating, train_size=0.75,\n",
    "    stratify=speeddating[\"match\"]\n",
    ")\n",
    "speeddating_train.info()\n",
    "\n",
    "speeddating_train[\"match\"].value_counts(normalize=True)\n",
    "\n",
    "# preprocess data\n",
    "speeddating_preprocessor = make_column_transformer(\n",
    "    (StandardScaler(), [\"attractive_partner\", \"intelligence_partner\", \n",
    "                        \"funny_partner\", \"sincere_partner\"])\n",
    ")\n",
    "\n",
    "# make a dataframe for finding the highest accuracy\n",
    "# accuracies grid\n",
    "knn = KNeighborsClassifier()\n",
    "speeddating_tune_pipe = make_pipeline(speeddating_preprocessor, knn)\n",
    "\n",
    "\n",
    "parameter_grid = {\n",
    "    \"kneighborsclassifier__n_neighbors\": range(1, 100, 5),\n",
    "}\n",
    "\n",
    "speeddating_tune_grid = GridSearchCV(\n",
    "    estimator=speeddating_tune_pipe,\n",
    "    param_grid=parameter_grid,\n",
    "    cv=10\n",
    ")\n",
    "\n",
    "accuracies_grid = pd.DataFrame(\n",
    "             speeddating_tune_grid\n",
    "             .fit(speeddating_train.loc[:, [\"attractive_partner\", \"intelligence_partner\",\n",
    "                                            \"funny_partner\", \"sincere_partner\"]],\n",
    "                  speeddating_train[\"match\"]\n",
    "            ).cv_results_)\n",
    "\n",
    "\n",
    "accuracies_grid = accuracies_grid[[\"param_kneighborsclassifier__n_neighbors\", \n",
    "                                   \"mean_test_score\", \"std_test_score\"]\n",
    "              ].assign(\n",
    "                  sem_test_score = accuracies_grid[\"std_test_score\"] / 10**(1/2)\n",
    "              ).rename(\n",
    "                  columns = {\"param_kneighborsclassifier__n_neighbors\" : \"n_neighbors\"}\n",
    "              ).drop(\n",
    "                  columns = [\"std_test_score\"]\n",
    "              )\n",
    "accuracies_grid.sort_values(by=\"mean_test_score\",ascending=False).head(5)"
   ]
  },
  {
   "cell_type": "markdown",
   "id": "e90fc383-977c-420b-95f2-bbbd2dfb0417",
   "metadata": {},
   "source": [
    "After splitting the training data into another subtraining and validation sets, a preprocessor was made and GridSearchCV was used to tune the data.\n",
    "\n",
    "Using the tuned grid, an accuracies grid was made with the columns for the k value ordered in descending order in terms of mean test score. The k value with the highest accuracy is 16 for the first combination."
   ]
  },
  {
   "cell_type": "code",
   "execution_count": 16,
   "id": "46e1d776-2712-4f4e-a592-e835e324dfe0",
   "metadata": {},
   "outputs": [
    {
     "data": {
      "text/plain": [
       "0.8"
      ]
     },
     "execution_count": 16,
     "metadata": {},
     "output_type": "execute_result"
    }
   ],
   "source": [
    "np.random.seed(1000)\n",
    "# now use k=16 to tune data and test accuracy of model\n",
    "# use a split of the training set for validation set\n",
    "# create the 25/75 split of the *training data* into sub-training and validation\n",
    "speeddating_subtrain, speeddating_validation = train_test_split(\n",
    "    speeddating_train, test_size=0.25\n",
    ")\n",
    "\n",
    "# fit the model on the sub-training data\n",
    "knn = KNeighborsClassifier(n_neighbors=16) \n",
    "X = speeddating_subtrain.loc[:, [\"attractive_partner\",\"intelligence_partner\",\n",
    "                                 \"funny_partner\", \"sincere_partner\"]]\n",
    "y = speeddating_subtrain[\"match\"]\n",
    "knn_fit = make_pipeline(speeddating_preprocessor, knn).fit(X, y)\n",
    "\n",
    "# compute the score on validation data\n",
    "acc = knn_fit.score(\n",
    "    speeddating_validation.loc[:, [\"attractive_partner\",\"intelligence_partner\",\n",
    "                                   \"funny_partner\", \"sincere_partner\"]],\n",
    "    speeddating_validation[\"match\"]\n",
    ")\n",
    "acc"
   ]
  },
  {
   "cell_type": "markdown",
   "id": "314beb1a-8380-455f-82d7-da458d75c294",
   "metadata": {},
   "source": [
    "We get an accuracy score of 0.8 which is not a low score, but we will try other combinations of predictors to see if they have a higher accuracy score."
   ]
  },
  {
   "cell_type": "markdown",
   "id": "79afc8ad-22bb-4f7d-bc1b-c8477d3bc42a",
   "metadata": {},
   "source": [
    "#### second combination: sincere, intelligence, shared interests, ambition "
   ]
  },
  {
   "cell_type": "code",
   "execution_count": 17,
   "id": "8269c9ed-cccd-461d-901d-47786b83403c",
   "metadata": {},
   "outputs": [
    {
     "data": {
      "text/html": [
       "<div>\n",
       "<style scoped>\n",
       "    .dataframe tbody tr th:only-of-type {\n",
       "        vertical-align: middle;\n",
       "    }\n",
       "\n",
       "    .dataframe tbody tr th {\n",
       "        vertical-align: top;\n",
       "    }\n",
       "\n",
       "    .dataframe thead th {\n",
       "        text-align: right;\n",
       "    }\n",
       "</style>\n",
       "<table border=\"1\" class=\"dataframe\">\n",
       "  <thead>\n",
       "    <tr style=\"text-align: right;\">\n",
       "      <th></th>\n",
       "      <th>n_neighbors</th>\n",
       "      <th>mean_test_score</th>\n",
       "      <th>sem_test_score</th>\n",
       "    </tr>\n",
       "  </thead>\n",
       "  <tbody>\n",
       "    <tr>\n",
       "      <th>11</th>\n",
       "      <td>56</td>\n",
       "      <td>0.822290</td>\n",
       "      <td>0.003238</td>\n",
       "    </tr>\n",
       "    <tr>\n",
       "      <th>1</th>\n",
       "      <td>6</td>\n",
       "      <td>0.820730</td>\n",
       "      <td>0.007617</td>\n",
       "    </tr>\n",
       "    <tr>\n",
       "      <th>10</th>\n",
       "      <td>51</td>\n",
       "      <td>0.820677</td>\n",
       "      <td>0.002743</td>\n",
       "    </tr>\n",
       "    <tr>\n",
       "      <th>12</th>\n",
       "      <td>61</td>\n",
       "      <td>0.820677</td>\n",
       "      <td>0.002743</td>\n",
       "    </tr>\n",
       "    <tr>\n",
       "      <th>18</th>\n",
       "      <td>91</td>\n",
       "      <td>0.819064</td>\n",
       "      <td>0.002013</td>\n",
       "    </tr>\n",
       "  </tbody>\n",
       "</table>\n",
       "</div>"
      ],
      "text/plain": [
       "   n_neighbors  mean_test_score  sem_test_score\n",
       "11          56         0.822290        0.003238\n",
       "1            6         0.820730        0.007617\n",
       "10          51         0.820677        0.002743\n",
       "12          61         0.820677        0.002743\n",
       "18          91         0.819064        0.002013"
      ]
     },
     "execution_count": 17,
     "metadata": {},
     "output_type": "execute_result"
    }
   ],
   "source": [
    "# second combination: sincere, intelligence, shared interests, ambition \n",
    "np.random.seed(1000)\n",
    "\n",
    "# preprocess data\n",
    "speeddating_preprocessor = make_column_transformer(\n",
    "    (StandardScaler(), [\"sincere_partner\",\"intelligence_partner\",\n",
    "                        \"shared_interests_partner\", \"ambition_partner\"])\n",
    ")\n",
    "\n",
    "# make a dataframe for finding the highest accuracy\n",
    "# accuracies grid\n",
    "knn = KNeighborsClassifier()\n",
    "speeddating_tune_pipe = make_pipeline(speeddating_preprocessor, knn)\n",
    "\n",
    "\n",
    "parameter_grid = {\n",
    "    \"kneighborsclassifier__n_neighbors\": range(1, 100, 5),\n",
    "}\n",
    "\n",
    "speeddating_tune_grid = GridSearchCV(\n",
    "    estimator=speeddating_tune_pipe,\n",
    "    param_grid=parameter_grid,\n",
    "    cv=10\n",
    ")\n",
    "\n",
    "accuracies_grid = pd.DataFrame(\n",
    "             speeddating_tune_grid\n",
    "             .fit(speeddating_train.loc[:, [\"sincere_partner\",\"intelligence_partner\",\n",
    "                                            \"shared_interests_partner\", \"ambition_partner\"]],\n",
    "                  speeddating_train[\"match\"]\n",
    "            ).cv_results_)\n",
    "\n",
    "\n",
    "accuracies_grid = accuracies_grid[[\"param_kneighborsclassifier__n_neighbors\", \n",
    "                                   \"mean_test_score\", \"std_test_score\"]\n",
    "              ].assign(\n",
    "                  sem_test_score = accuracies_grid[\"std_test_score\"] / 10**(1/2)\n",
    "              ).rename(\n",
    "                  columns = {\"param_kneighborsclassifier__n_neighbors\" : \"n_neighbors\"}\n",
    "              ).drop(\n",
    "                  columns = [\"std_test_score\"]\n",
    "              )\n",
    "accuracies_grid.sort_values(by=\"mean_test_score\",ascending=False).head(5)"
   ]
  },
  {
   "cell_type": "markdown",
   "id": "842934a1-94ec-4b6f-be56-03e5e8506da3",
   "metadata": {},
   "source": [
    "Our second combination of the predictors \"\"sincere_partner\",\"intelligence_partner\",\"shared_interests_partner\", and \"ambition_partner\" was found to have the k value of 56 for the highest accuracy. It is a rather large number compared to the previous k value of 16, but it was found to have a better accuracy than k=6 when we tune the data and test the model. "
   ]
  },
  {
   "cell_type": "code",
   "execution_count": 18,
   "id": "c3a2012e-1142-4821-a310-d5be812b189c",
   "metadata": {},
   "outputs": [
    {
     "data": {
      "text/plain": [
       "0.8064516129032258"
      ]
     },
     "execution_count": 18,
     "metadata": {},
     "output_type": "execute_result"
    }
   ],
   "source": [
    "np.random.seed(1000)\n",
    "# k=56 has the highest accuracy\n",
    "# k=6 had accuracy of 0.8 and k=56 has 0.845\n",
    "# use a split of the training set for validation set\n",
    "# create the 25/75 split of the *training data* into sub-training and validation\n",
    "speeddating_subtrain, speeddating_validation = train_test_split(\n",
    "    speeddating_train, test_size=0.25\n",
    ")\n",
    "\n",
    "# fit the model on the sub-training data\n",
    "knn = KNeighborsClassifier(n_neighbors=56) \n",
    "X = speeddating_subtrain.loc[:, [\"sincere_partner\",\"intelligence_partner\",\n",
    "                                 \"shared_interests_partner\", \"ambition_partner\"]]\n",
    "y = speeddating_subtrain[\"match\"]\n",
    "knn_fit = make_pipeline(speeddating_preprocessor, knn).fit(X, y)\n",
    "\n",
    "# compute the score on validation data\n",
    "acc = knn_fit.score(\n",
    "    speeddating_validation.loc[:, [\"sincere_partner\",\"intelligence_partner\",\n",
    "                                   \"shared_interests_partner\", \"ambition_partner\"]],\n",
    "    speeddating_validation[\"match\"]\n",
    ")\n",
    "acc"
   ]
  },
  {
   "cell_type": "markdown",
   "id": "0ca03443-d7d6-4ca8-81c2-742ade876ad3",
   "metadata": {},
   "source": [
    "The second combination gives us the accuracy of 0.806, which is higher than the first combination."
   ]
  },
  {
   "cell_type": "markdown",
   "id": "fbfcf97b-1a99-4d8e-936d-2b5db1bc2404",
   "metadata": {},
   "source": [
    "#### third combination: attractiveness, funny, shared_interests, intelligence"
   ]
  },
  {
   "cell_type": "code",
   "execution_count": 19,
   "id": "27a8c87f-a33d-4c8f-b2b1-54c4ef216986",
   "metadata": {},
   "outputs": [
    {
     "data": {
      "text/html": [
       "<div>\n",
       "<style scoped>\n",
       "    .dataframe tbody tr th:only-of-type {\n",
       "        vertical-align: middle;\n",
       "    }\n",
       "\n",
       "    .dataframe tbody tr th {\n",
       "        vertical-align: top;\n",
       "    }\n",
       "\n",
       "    .dataframe thead th {\n",
       "        text-align: right;\n",
       "    }\n",
       "</style>\n",
       "<table border=\"1\" class=\"dataframe\">\n",
       "  <thead>\n",
       "    <tr style=\"text-align: right;\">\n",
       "      <th></th>\n",
       "      <th>n_neighbors</th>\n",
       "      <th>mean_test_score</th>\n",
       "      <th>sem_test_score</th>\n",
       "    </tr>\n",
       "  </thead>\n",
       "  <tbody>\n",
       "    <tr>\n",
       "      <th>10</th>\n",
       "      <td>51</td>\n",
       "      <td>0.822316</td>\n",
       "      <td>0.005022</td>\n",
       "    </tr>\n",
       "    <tr>\n",
       "      <th>2</th>\n",
       "      <td>11</td>\n",
       "      <td>0.822316</td>\n",
       "      <td>0.007158</td>\n",
       "    </tr>\n",
       "    <tr>\n",
       "      <th>11</th>\n",
       "      <td>56</td>\n",
       "      <td>0.820703</td>\n",
       "      <td>0.002582</td>\n",
       "    </tr>\n",
       "    <tr>\n",
       "      <th>18</th>\n",
       "      <td>91</td>\n",
       "      <td>0.819064</td>\n",
       "      <td>0.002013</td>\n",
       "    </tr>\n",
       "    <tr>\n",
       "      <th>17</th>\n",
       "      <td>86</td>\n",
       "      <td>0.819064</td>\n",
       "      <td>0.002013</td>\n",
       "    </tr>\n",
       "  </tbody>\n",
       "</table>\n",
       "</div>"
      ],
      "text/plain": [
       "   n_neighbors  mean_test_score  sem_test_score\n",
       "10          51         0.822316        0.005022\n",
       "2           11         0.822316        0.007158\n",
       "11          56         0.820703        0.002582\n",
       "18          91         0.819064        0.002013\n",
       "17          86         0.819064        0.002013"
      ]
     },
     "execution_count": 19,
     "metadata": {},
     "output_type": "execute_result"
    }
   ],
   "source": [
    "# third combination: attractiveness, funny, shared_interests, intelligence\n",
    "np.random.seed(1000)\n",
    "\n",
    "# preprocess data\n",
    "speeddating_preprocessor = make_column_transformer(\n",
    "    (StandardScaler(), [\"attractive_partner\",\"intelligence_partner\",\n",
    "                        \"funny_partner\", \"shared_interests_partner\"])\n",
    ")\n",
    "\n",
    "# make a dataframe for finding the highest accuracy\n",
    "# accuracies grid\n",
    "knn = KNeighborsClassifier()\n",
    "speeddating_tune_pipe = make_pipeline(speeddating_preprocessor, knn)\n",
    "\n",
    "\n",
    "parameter_grid = {\n",
    "    \"kneighborsclassifier__n_neighbors\": range(1, 100, 5),\n",
    "}\n",
    "\n",
    "speeddating_tune_grid = GridSearchCV(\n",
    "    estimator=speeddating_tune_pipe,\n",
    "    param_grid=parameter_grid,\n",
    "    cv=10\n",
    ")\n",
    "\n",
    "accuracies_grid = pd.DataFrame(\n",
    "             speeddating_tune_grid\n",
    "             .fit(speeddating_train.loc[:, [\"attractive_partner\", \"intelligence_partner\",\n",
    "                                            \"funny_partner\", \"shared_interests_partner\"]],\n",
    "                  speeddating_train[\"match\"]\n",
    "            ).cv_results_)\n",
    "\n",
    "\n",
    "accuracies_grid = accuracies_grid[[\"param_kneighborsclassifier__n_neighbors\", \n",
    "                                   \"mean_test_score\", \"std_test_score\"]\n",
    "              ].assign(\n",
    "                  sem_test_score = accuracies_grid[\"std_test_score\"] / 10**(1/2)\n",
    "              ).rename(\n",
    "                  columns = {\"param_kneighborsclassifier__n_neighbors\" : \"n_neighbors\"}\n",
    "              ).drop(\n",
    "                  columns = [\"std_test_score\"]\n",
    "              )\n",
    "accuracies_grid.sort_values(by=\"mean_test_score\",ascending=False).head(5)"
   ]
  },
  {
   "cell_type": "code",
   "execution_count": 20,
   "id": "c8949f13-26a8-4df1-a758-a9b4fa7ee963",
   "metadata": {},
   "outputs": [
    {
     "data": {
      "text/plain": [
       "0.8"
      ]
     },
     "execution_count": 20,
     "metadata": {},
     "output_type": "execute_result"
    }
   ],
   "source": [
    "np.random.seed(1000)\n",
    "# k=6 has the highest accuracy\n",
    "speeddating_subtrain, speeddating_validation = train_test_split(\n",
    "    speeddating_train, test_size=0.25\n",
    ")\n",
    "\n",
    "# fit the model on the sub-training data\n",
    "knn = KNeighborsClassifier(n_neighbors=51) \n",
    "X = speeddating_subtrain.loc[:, [\"attractive_partner\",\"intelligence_partner\",\n",
    "                                \"funny_partner\", \"shared_interests_partner\"]]\n",
    "y = speeddating_subtrain[\"match\"]\n",
    "knn_fit = make_pipeline(speeddating_preprocessor, knn).fit(X, y)\n",
    "\n",
    "# compute the score on validation data\n",
    "acc = knn_fit.score(\n",
    "    speeddating_validation.loc[:, [\"attractive_partner\",\"intelligence_partner\",\n",
    "                                    \"funny_partner\", \"shared_interests_partner\"]],\n",
    "    speeddating_validation[\"match\"]\n",
    ")\n",
    "acc"
   ]
  },
  {
   "cell_type": "markdown",
   "id": "60168e0c-f34b-49b2-ad80-8de69a7a3327",
   "metadata": {},
   "source": [
    "The third combination gives us an accuracy of 0.8, which is higher than both of the previous accuracies."
   ]
  },
  {
   "cell_type": "markdown",
   "id": "d8f83e55-8054-489a-9a6b-cf79e6465a72",
   "metadata": {},
   "source": [
    "#### fourth combination: attractiveness, intelligence, funny, sincere, shared interests"
   ]
  },
  {
   "cell_type": "code",
   "execution_count": 21,
   "id": "82ba3624-39d8-4d9f-be02-cf27b2f25411",
   "metadata": {},
   "outputs": [
    {
     "data": {
      "text/html": [
       "<div>\n",
       "<style scoped>\n",
       "    .dataframe tbody tr th:only-of-type {\n",
       "        vertical-align: middle;\n",
       "    }\n",
       "\n",
       "    .dataframe tbody tr th {\n",
       "        vertical-align: top;\n",
       "    }\n",
       "\n",
       "    .dataframe thead th {\n",
       "        text-align: right;\n",
       "    }\n",
       "</style>\n",
       "<table border=\"1\" class=\"dataframe\">\n",
       "  <thead>\n",
       "    <tr style=\"text-align: right;\">\n",
       "      <th></th>\n",
       "      <th>n_neighbors</th>\n",
       "      <th>mean_test_score</th>\n",
       "      <th>sem_test_score</th>\n",
       "    </tr>\n",
       "  </thead>\n",
       "  <tbody>\n",
       "    <tr>\n",
       "      <th>1</th>\n",
       "      <td>6</td>\n",
       "      <td>0.838498</td>\n",
       "      <td>0.007477</td>\n",
       "    </tr>\n",
       "    <tr>\n",
       "      <th>2</th>\n",
       "      <td>11</td>\n",
       "      <td>0.832047</td>\n",
       "      <td>0.007866</td>\n",
       "    </tr>\n",
       "    <tr>\n",
       "      <th>3</th>\n",
       "      <td>16</td>\n",
       "      <td>0.819090</td>\n",
       "      <td>0.010357</td>\n",
       "    </tr>\n",
       "    <tr>\n",
       "      <th>19</th>\n",
       "      <td>96</td>\n",
       "      <td>0.819064</td>\n",
       "      <td>0.002013</td>\n",
       "    </tr>\n",
       "    <tr>\n",
       "      <th>15</th>\n",
       "      <td>76</td>\n",
       "      <td>0.819064</td>\n",
       "      <td>0.002013</td>\n",
       "    </tr>\n",
       "  </tbody>\n",
       "</table>\n",
       "</div>"
      ],
      "text/plain": [
       "   n_neighbors  mean_test_score  sem_test_score\n",
       "1            6         0.838498        0.007477\n",
       "2           11         0.832047        0.007866\n",
       "3           16         0.819090        0.010357\n",
       "19          96         0.819064        0.002013\n",
       "15          76         0.819064        0.002013"
      ]
     },
     "execution_count": 21,
     "metadata": {},
     "output_type": "execute_result"
    }
   ],
   "source": [
    "# fourth combination: attractiveness, intelligence, funny, sincere, shared interests\n",
    "np.random.seed(1000)\n",
    "\n",
    "# preprocess data\n",
    "speeddating_preprocessor = make_column_transformer(\n",
    "    (StandardScaler(), [\"attractive_partner\",  \"sincere_partner\",\"intelligence_partner\", \n",
    "                        \"funny_partner\",\"shared_interests_partner\"])\n",
    ")\n",
    "\n",
    "# make a dataframe for finding the highest accuracy\n",
    "# accuracies grid\n",
    "knn = KNeighborsClassifier()\n",
    "speeddating_tune_pipe = make_pipeline(speeddating_preprocessor, knn)\n",
    "\n",
    "\n",
    "parameter_grid = {\n",
    "    \"kneighborsclassifier__n_neighbors\": range(1, 100, 5),\n",
    "}\n",
    "\n",
    "speeddating_tune_grid = GridSearchCV(\n",
    "    estimator=speeddating_tune_pipe,\n",
    "    param_grid=parameter_grid,\n",
    "    cv=10\n",
    ")\n",
    "\n",
    "accuracies_grid = pd.DataFrame(\n",
    "             speeddating_tune_grid\n",
    "             .fit(speeddating_train.loc[:, [\"attractive_partner\",  \"sincere_partner\",\"intelligence_partner\", \n",
    "                                            \"funny_partner\",\"shared_interests_partner\"]],\n",
    "                  speeddating_train[\"match\"]\n",
    "            ).cv_results_)\n",
    "\n",
    "\n",
    "accuracies_grid = accuracies_grid[[\"param_kneighborsclassifier__n_neighbors\", \n",
    "                                   \"mean_test_score\", \"std_test_score\"]\n",
    "              ].assign(\n",
    "                  sem_test_score = accuracies_grid[\"std_test_score\"] / 10**(1/2)\n",
    "              ).rename(\n",
    "                  columns = {\"param_kneighborsclassifier__n_neighbors\" : \"n_neighbors\"}\n",
    "              ).drop(\n",
    "                  columns = [\"std_test_score\"]\n",
    "              )\n",
    "accuracies_grid.sort_values(by=\"mean_test_score\",ascending=False).head(5)"
   ]
  },
  {
   "cell_type": "code",
   "execution_count": 22,
   "id": "6b19fd9a-8f8c-4419-b8aa-2533e2bfe4cc",
   "metadata": {},
   "outputs": [
    {
     "data": {
      "text/plain": [
       "0.8387096774193549"
      ]
     },
     "execution_count": 22,
     "metadata": {},
     "output_type": "execute_result"
    }
   ],
   "source": [
    "np.random.seed(1000)\n",
    "# now use k=6 to find accuracy of model?\n",
    "# use a split of the training set for validation set\n",
    "# create the 25/75 split of the *training data* into sub-training and validation\n",
    "speeddating_subtrain, speeddating_validation = train_test_split(\n",
    "    speeddating_train, test_size=0.25\n",
    ")\n",
    "\n",
    "# fit the model on the sub-training data\n",
    "knn = KNeighborsClassifier(n_neighbors=6) \n",
    "X = speeddating_subtrain.loc[:, [\"attractive_partner\",  \"sincere_partner\",\"intelligence_partner\", \n",
    "                                 \"funny_partner\",\"shared_interests_partner\"]]\n",
    "y = speeddating_subtrain[\"match\"]\n",
    "knn_fit = make_pipeline(speeddating_preprocessor, knn).fit(X, y)\n",
    "\n",
    "# compute the score on validation data\n",
    "acc = knn_fit.score(\n",
    "    speeddating_validation.loc[:, [\"attractive_partner\",  \"sincere_partner\",\"intelligence_partner\", \n",
    "                                   \"funny_partner\",\"shared_interests_partner\"]],\n",
    "    speeddating_validation[\"match\"]\n",
    ")\n",
    "acc"
   ]
  },
  {
   "cell_type": "markdown",
   "id": "766ecabe-8eeb-4e52-a076-88f98d2d2eec",
   "metadata": {},
   "source": [
    "This combination of attributes now has the highest accuracy of 0.839."
   ]
  },
  {
   "cell_type": "markdown",
   "id": "0707b563-2d02-4137-a321-a10ef73ee5b4",
   "metadata": {},
   "source": [
    "#### fifth combination: attractiveness, intelligence, funny, sincere, shared interests, ambition (all six attributes)"
   ]
  },
  {
   "cell_type": "code",
   "execution_count": 23,
   "id": "4cfe29ef-3d1e-4109-b8ff-e414ccf87cb7",
   "metadata": {},
   "outputs": [
    {
     "data": {
      "text/html": [
       "<div>\n",
       "<style scoped>\n",
       "    .dataframe tbody tr th:only-of-type {\n",
       "        vertical-align: middle;\n",
       "    }\n",
       "\n",
       "    .dataframe tbody tr th {\n",
       "        vertical-align: top;\n",
       "    }\n",
       "\n",
       "    .dataframe thead th {\n",
       "        text-align: right;\n",
       "    }\n",
       "</style>\n",
       "<table border=\"1\" class=\"dataframe\">\n",
       "  <thead>\n",
       "    <tr style=\"text-align: right;\">\n",
       "      <th></th>\n",
       "      <th>n_neighbors</th>\n",
       "      <th>mean_test_score</th>\n",
       "      <th>sem_test_score</th>\n",
       "    </tr>\n",
       "  </thead>\n",
       "  <tbody>\n",
       "    <tr>\n",
       "      <th>1</th>\n",
       "      <td>6</td>\n",
       "      <td>0.836832</td>\n",
       "      <td>0.005323</td>\n",
       "    </tr>\n",
       "    <tr>\n",
       "      <th>2</th>\n",
       "      <td>11</td>\n",
       "      <td>0.832047</td>\n",
       "      <td>0.009375</td>\n",
       "    </tr>\n",
       "    <tr>\n",
       "      <th>4</th>\n",
       "      <td>21</td>\n",
       "      <td>0.832020</td>\n",
       "      <td>0.008225</td>\n",
       "    </tr>\n",
       "    <tr>\n",
       "      <th>6</th>\n",
       "      <td>31</td>\n",
       "      <td>0.828768</td>\n",
       "      <td>0.007604</td>\n",
       "    </tr>\n",
       "    <tr>\n",
       "      <th>3</th>\n",
       "      <td>16</td>\n",
       "      <td>0.825542</td>\n",
       "      <td>0.009859</td>\n",
       "    </tr>\n",
       "  </tbody>\n",
       "</table>\n",
       "</div>"
      ],
      "text/plain": [
       "  n_neighbors  mean_test_score  sem_test_score\n",
       "1           6         0.836832        0.005323\n",
       "2          11         0.832047        0.009375\n",
       "4          21         0.832020        0.008225\n",
       "6          31         0.828768        0.007604\n",
       "3          16         0.825542        0.009859"
      ]
     },
     "execution_count": 23,
     "metadata": {},
     "output_type": "execute_result"
    }
   ],
   "source": [
    "# fifth combination: attractiveness, intelligence, funny, sincere, shared interests, ambition (all six attributes)\n",
    "np.random.seed(1000)\n",
    "\n",
    "# preprocess data\n",
    "speeddating_preprocessor = make_column_transformer(\n",
    "    (StandardScaler(), [\"attractive_partner\",  \"sincere_partner\",\"intelligence_partner\", \n",
    "                        \"funny_partner\", \"ambition_partner\", \"shared_interests_partner\"])\n",
    ")\n",
    "\n",
    "# make a dataframe for finding the highest accuracy\n",
    "# accuracies grid\n",
    "knn = KNeighborsClassifier()\n",
    "speeddating_tune_pipe = make_pipeline(speeddating_preprocessor, knn)\n",
    "\n",
    "\n",
    "parameter_grid = {\n",
    "    \"kneighborsclassifier__n_neighbors\": range(1, 100, 5),\n",
    "}\n",
    "\n",
    "speeddating_tune_grid = GridSearchCV(\n",
    "    estimator=speeddating_tune_pipe,\n",
    "    param_grid=parameter_grid,\n",
    "    cv=10\n",
    ")\n",
    "\n",
    "accuracies_grid = pd.DataFrame(\n",
    "             speeddating_tune_grid\n",
    "             .fit(speeddating_train.loc[:, [\"attractive_partner\",  \"sincere_partner\",\"intelligence_partner\", \n",
    "                                            \"funny_partner\",\"ambition_partner\",\"shared_interests_partner\"]],\n",
    "                  speeddating_train[\"match\"]\n",
    "            ).cv_results_)\n",
    "\n",
    "\n",
    "accuracies_grid = accuracies_grid[[\"param_kneighborsclassifier__n_neighbors\", \n",
    "                                   \"mean_test_score\", \"std_test_score\"]\n",
    "              ].assign(\n",
    "                  sem_test_score = accuracies_grid[\"std_test_score\"] / 10**(1/2)\n",
    "              ).rename(\n",
    "                  columns = {\"param_kneighborsclassifier__n_neighbors\" : \"n_neighbors\"}\n",
    "              ).drop(\n",
    "                  columns = [\"std_test_score\"]\n",
    "              )\n",
    "accuracies_grid.sort_values(by=\"mean_test_score\",ascending=False).head(5)"
   ]
  },
  {
   "cell_type": "code",
   "execution_count": 24,
   "id": "a380a2cc-fccd-4463-ab40-465f739e31b9",
   "metadata": {},
   "outputs": [
    {
     "data": {
      "text/plain": [
       "0.8258064516129032"
      ]
     },
     "execution_count": 24,
     "metadata": {},
     "output_type": "execute_result"
    }
   ],
   "source": [
    "np.random.seed(1000)\n",
    "# now use k=6 to find accuracy of model\n",
    "# use a split of the training set for validation set\n",
    "# create the 25/75 split of the *training data* into sub-training and validation\n",
    "speeddating_subtrain, speeddating_validation = train_test_split(\n",
    "    speeddating_train, test_size=0.25\n",
    ")\n",
    "\n",
    "# fit the model on the sub-training data\n",
    "knn = KNeighborsClassifier(n_neighbors=6) \n",
    "X = speeddating_subtrain.loc[:, [\"attractive_partner\",  \"sincere_partner\",\"intelligence_partner\", \n",
    "                                 \"funny_partner\",\"ambition_partner\", \"shared_interests_partner\"]]\n",
    "y = speeddating_subtrain[\"match\"]\n",
    "knn_fit = make_pipeline(speeddating_preprocessor, knn).fit(X, y)\n",
    "\n",
    "# compute the score on validation data\n",
    "acc = knn_fit.score(\n",
    "    speeddating_validation.loc[:, [\"attractive_partner\",  \"sincere_partner\",\"intelligence_partner\", \n",
    "                                   \"funny_partner\",\"ambition_partner\", \"shared_interests_partner\"]],\n",
    "    speeddating_validation[\"match\"]\n",
    ")\n",
    "acc"
   ]
  },
  {
   "cell_type": "markdown",
   "id": "e4ef3c55-8a53-4634-98a9-767e9c2d199b",
   "metadata": {},
   "source": [
    "The final combination of all six attributes has a high accuracy of 0.826, but the previous combination of attributes had a higher accuracy."
   ]
  },
  {
   "cell_type": "code",
   "execution_count": 25,
   "id": "f2c712d0-5840-4336-bcc5-dece30e8aabd",
   "metadata": {},
   "outputs": [
    {
     "data": {
      "text/plain": [
       "<sklearn.metrics._plot.confusion_matrix.ConfusionMatrixDisplay at 0x7f633e9e39a0>"
      ]
     },
     "execution_count": 25,
     "metadata": {},
     "output_type": "execute_result"
    },
    {
     "data": {
      "image/png": "[encoded data removed]",
      "text/plain": [
       "<Figure size 640x480 with 2 Axes>"
      ]
     },
     "metadata": {},
     "output_type": "display_data"
    }
   ],
   "source": [
    "# confusion matrix with selected variables\n",
    "# speeddating_train, speeddating_test = train_test_split(speeddating, test_size=0.25, random_state=123) # set the random state to be 123\n",
    "np.random.seed(1000)\n",
    "speeddating_preprocessor = make_column_transformer(\n",
    "    (StandardScaler(), [\n",
    "        \"attractive_partner\", \"sincere_partner\",\"intelligence_partner\",\"funny_partner\",\"shared_interests_partner\"]),\n",
    ")\n",
    "\n",
    "knn_spec = KNeighborsClassifier(n_neighbors=6)\n",
    "\n",
    "X = speeddating_train[[\n",
    "    \"attractive_partner\", \"sincere_partner\",\"intelligence_partner\",\"funny_partner\",\"shared_interests_partner\"]]\n",
    "y = speeddating_train[\"match\"]\n",
    "\n",
    "speeddating_fit = make_pipeline(speeddating_preprocessor, knn_spec).fit(X, y)\n",
    "\n",
    "speeddating_test_predictions = speeddating_fit.predict(speeddating_test)\n",
    "speeddating_test_predictions = pd.concat(\n",
    "    [\n",
    "        speeddating_test.reset_index(drop=True),\n",
    "        pd.DataFrame(speeddating_test_predictions, columns=[\"predicted\"]),\n",
    "    ],\n",
    "    axis=1,\n",
    ")\n",
    "\n",
    "speeddating_test_predictions\n",
    "\n",
    "\n",
    "speeddating_mat = sklearn.metrics.confusion_matrix(\n",
    "    speeddating_test_predictions[\"match\"],\n",
    "    speeddating_test_predictions[\"predicted\"],\n",
    "    labels=speeddating_fit.classes_,\n",
    ")\n",
    "\n",
    "from sklearn.metrics import ConfusionMatrixDisplay\n",
    "\n",
    "disp = ConfusionMatrixDisplay(\n",
    "    confusion_matrix=speeddating_mat, display_labels=speeddating_fit.classes_\n",
    ")\n",
    "disp.plot()"
   ]
  },
  {
   "cell_type": "markdown",
   "id": "92eb5ee5-421d-4f6e-b8bb-0e8e922605b9",
   "metadata": {},
   "source": [
    "#### using the model on the test set"
   ]
  },
  {
   "cell_type": "code",
   "execution_count": 26,
   "id": "4bb7efab-255f-43bd-b95b-c3bdb4e50705",
   "metadata": {},
   "outputs": [
    {
     "data": {
      "text/plain": [
       "0.832258064516129"
      ]
     },
     "execution_count": 26,
     "metadata": {},
     "output_type": "execute_result"
    }
   ],
   "source": [
    "np.random.seed(1000)\n",
    "\n",
    "speeddating_preprocessor = make_column_transformer(\n",
    "    (StandardScaler(), [\n",
    "        \"attractive_partner\", \"sincere_partner\",\"intelligence_partner\",\"funny_partner\",\"shared_interests_partner\"]),\n",
    ")\n",
    "\n",
    "knn_spec = KNeighborsClassifier(n_neighbors=6)\n",
    "\n",
    "# fit the model on the sub-training data\n",
    "X = speeddating_testing.loc[:, [\"attractive_partner\",  \"sincere_partner\",\"intelligence_partner\", \n",
    "                                 \"funny_partner\",\"shared_interests_partner\"]]\n",
    "y = speeddating_testing[\"match\"]\n",
    "knn_fit = make_pipeline(speeddating_preprocessor, knn_spec).fit(X, y)\n",
    "\n",
    "# compute the score on validation data\n",
    "acc = knn_fit.score(\n",
    "    speeddating_validation.loc[:, [\"attractive_partner\",  \"sincere_partner\",\"intelligence_partner\", \n",
    "                                   \"funny_partner\", \"shared_interests_partner\"]],\n",
    "    speeddating_validation[\"match\"]\n",
    ")\n",
    "acc"
   ]
  },
  {
   "cell_type": "markdown",
   "id": "96b66435-6140-4e7b-8582-846cb764cc5e",
   "metadata": {},
   "source": [
    "## Discussion"
   ]
  },
  {
   "cell_type": "markdown",
   "id": "c00c657f-2f1f-4f5c-b4be-1aa0957b0402",
   "metadata": {},
   "source": [
    "#### Summary of results:"
   ]
  },
  {
   "cell_type": "markdown",
   "id": "7f2cec9d-2f65-494f-aab6-f45def93d71e",
   "metadata": {},
   "source": [
    "#### Expectations and impacts of results:"
   ]
  },
  {
   "cell_type": "markdown",
   "id": "24a7f235-1cef-4939-bfae-58ffc32e95b0",
   "metadata": {},
   "source": [
    "These results were what we expected to find. The research that we found showed that attractiveness was an important aspect of attraction on a speed date, which showed in our results. Our results also showed that it’s difficult to successfully predict when two people will match based on attributes, which was also expected because relationships and interactions between people are very complicated in real life, and rely on many more factors than just six (for example, body language, what mood someone is in, the atmosphere of the date, and many, many more). These findings could encourage further research into the different individual attributes that affect relationships between people in settings like speed dating. These findings could also encourage more experienced data analyzers to build a model with an even higher accuracy for this dataset or datasets similar to form a clearer relationship between individual attributes and whether two people match. Another impact of our findings could be to bring attention to which attributes are favoured when individuals are seeking romantic partners. "
   ]
  },
  {
   "cell_type": "markdown",
   "id": "ce0c2a10-02c7-4aad-8c84-a6d0586d96c1",
   "metadata": {},
   "source": [
    "#### Future questions"
   ]
  },
  {
   "cell_type": "markdown",
   "id": "6f20db92-4b5c-4d04-b3ed-892e02362ed0",
   "metadata": {},
   "source": [
    "These findings could lead to future questions as well, for example, are there more variables or traits that can affect whether two people match or not on a speed date? Are certain types of people more likely to favour particular traits over others? Do external factors of a speed date also affect whether or not two people match (for example, the location, lighting, or speed of the date)? "
   ]
  },
  {
   "cell_type": "markdown",
   "id": "5423e538-4ad2-4558-9fc1-4d76fb74c43f",
   "metadata": {},
   "source": [
    "### Sources/ Citation "
   ]
  },
  {
   "cell_type": "markdown",
   "id": "93c466a6-6b03-4215-8668-96ad04cf9c67",
   "metadata": {},
   "source": [
    "Shanhong, L., Guangjian, Z. (2009). What Leads to Romantic Attraction: Similarity, Reciprocity, Security, or Beauty? Evidence From a Speed-Dating Study. Journal of Personality, 77, 933-964. https://onlinelibrary.wiley.com/doi/full/10.1111/j.1467-6494.2009.00570.x\n",
    "\n",
    "Priyadarshini, T. S. (2018). Machine Learning Approaches To Identify Preferences In An Ideal Match Using Speed Dating Data [MSc Research Project, National College of Ireland]. https://norma.ncirl.ie/3417/1/priyadarshinitarikereshivaprasad.pdf "
   ]
  },
  {
   "cell_type": "markdown",
   "id": "5d5dae9f-cc28-4420-a94d-25f7ae9a44d2",
   "metadata": {},
   "source": [
    "#### messy data wrangling, clean up later"
   ]
  },
  {
   "cell_type": "code",
   "execution_count": 27,
   "id": "4d18b2ee-de33-4bfb-b4f7-53e6d0e0d4c7",
   "metadata": {},
   "outputs": [
    {
     "name": "stdout",
     "output_type": "stream",
     "text": [
      "<class 'pandas.core.frame.DataFrame'>\n",
      "Int64Index: 619 entries, 7267 to 5562\n",
      "Data columns (total 7 columns):\n",
      " #   Column                    Non-Null Count  Dtype   \n",
      "---  ------                    --------------  -----   \n",
      " 0   match                     619 non-null    category\n",
      " 1   attractive_partner        619 non-null    float64 \n",
      " 2   sincere_partner           619 non-null    float64 \n",
      " 3   intelligence_partner      619 non-null    float64 \n",
      " 4   funny_partner             619 non-null    float64 \n",
      " 5   ambition_partner          619 non-null    float64 \n",
      " 6   shared_interests_partner  619 non-null    float64 \n",
      "dtypes: category(1), float64(6)\n",
      "memory usage: 34.6 KB\n"
     ]
    },
    {
     "data": {
      "text/plain": [
       "0.8129032258064516"
      ]
     },
     "execution_count": 27,
     "metadata": {},
     "output_type": "execute_result"
    }
   ],
   "source": [
    "# first combination: attractiveness, intelligence, funny, sincere\n",
    "np.random.seed(1000)\n",
    "\n",
    "speeddating_train, speeddating_test = train_test_split(\n",
    "    speeddating, train_size=0.75,\n",
    "    # stratify=speeddating[\"match\"]\n",
    ")\n",
    "speeddating_train.info()\n",
    "\n",
    "speeddating_train[\"match\"].value_counts(normalize=True)\n",
    "\n",
    "# preprocess data\n",
    "speeddating_preprocessor = make_column_transformer(\n",
    "    (StandardScaler(), [\"attractive_partner\", \"intelligence_partner\", \n",
    "                        \"funny_partner\", \"sincere_partner\"])\n",
    ")\n",
    "\n",
    "# make a dataframe for finding the highest accuracy\n",
    "# accuracies grid\n",
    "knn = KNeighborsClassifier()\n",
    "speeddating_tune_pipe = make_pipeline(speeddating_preprocessor, knn)\n",
    "\n",
    "\n",
    "parameter_grid = {\n",
    "    \"kneighborsclassifier__n_neighbors\": range(1, 100, 5),\n",
    "}\n",
    "\n",
    "speeddating_tune_grid = GridSearchCV(\n",
    "    estimator=speeddating_tune_pipe,\n",
    "    param_grid=parameter_grid,\n",
    "    cv=10\n",
    ")\n",
    "\n",
    "accuracies_grid = pd.DataFrame(\n",
    "             speeddating_tune_grid\n",
    "             .fit(speeddating_train.loc[:, [\"attractive_partner\", \"intelligence_partner\",\n",
    "                                            \"funny_partner\", \"sincere_partner\"]],\n",
    "                  speeddating_train[\"match\"]\n",
    "            ).cv_results_)\n",
    "\n",
    "\n",
    "accuracies_grid = accuracies_grid[[\"param_kneighborsclassifier__n_neighbors\", \n",
    "                                   \"mean_test_score\", \"std_test_score\"]\n",
    "              ].assign(\n",
    "                  sem_test_score = accuracies_grid[\"std_test_score\"] / 10**(1/2)\n",
    "              ).rename(\n",
    "                  columns = {\"param_kneighborsclassifier__n_neighbors\" : \"n_neighbors\"}\n",
    "              ).drop(\n",
    "                  columns = [\"std_test_score\"]\n",
    "              )\n",
    "accuracies_grid\n",
    "\n",
    "\n",
    "\n",
    "\n",
    "# now use k=6 to find accuracy of model?\n",
    "# use a split of the training set for validation set\n",
    "# create the 25/75 split of the *training data* into sub-training and validation\n",
    "speeddating_subtrain, speeddating_validation = train_test_split(\n",
    "    speeddating_train, test_size=0.25\n",
    ")\n",
    "\n",
    "# fit the model on the sub-training data\n",
    "knn = KNeighborsClassifier(n_neighbors=6) \n",
    "X = speeddating_subtrain.loc[:, [\"attractive_partner\",\"intelligence_partner\",\n",
    "                                 \"funny_partner\", \"sincere_partner\"]]\n",
    "y = speeddating_subtrain[\"match\"]\n",
    "knn_fit = make_pipeline(speeddating_preprocessor, knn).fit(X, y)\n",
    "\n",
    "# compute the score on validation data\n",
    "acc = knn_fit.score(\n",
    "    speeddating_validation.loc[:, [\"attractive_partner\",\"intelligence_partner\",\n",
    "                                   \"funny_partner\", \"sincere_partner\"]],\n",
    "    speeddating_validation[\"match\"]\n",
    ")\n",
    "acc"
   ]
  },
  {
   "cell_type": "code",
   "execution_count": 28,
   "id": "dd015419-ccf1-459e-b2b6-bb7476b15d5b",
   "metadata": {},
   "outputs": [
    {
     "data": {
      "text/plain": [
       "0.7935483870967742"
      ]
     },
     "execution_count": 28,
     "metadata": {},
     "output_type": "execute_result"
    }
   ],
   "source": [
    "# second combination: sincere, intelligence, shared interests, ambition \n",
    "np.random.seed(1000)\n",
    "\n",
    "# preprocess data\n",
    "speeddating_preprocessor = make_column_transformer(\n",
    "    (StandardScaler(), [\"sincere_partner\",\"intelligence_partner\",\n",
    "                        \"shared_interests_partner\", \"ambition_partner\"])\n",
    ")\n",
    "\n",
    "# make a dataframe for finding the highest accuracy\n",
    "# accuracies grid\n",
    "knn = KNeighborsClassifier()\n",
    "speeddating_tune_pipe = make_pipeline(speeddating_preprocessor, knn)\n",
    "\n",
    "\n",
    "parameter_grid = {\n",
    "    \"kneighborsclassifier__n_neighbors\": range(1, 100, 5),\n",
    "}\n",
    "\n",
    "speeddating_tune_grid = GridSearchCV(\n",
    "    estimator=speeddating_tune_pipe,\n",
    "    param_grid=parameter_grid,\n",
    "    cv=10\n",
    ")\n",
    "\n",
    "accuracies_grid = pd.DataFrame(\n",
    "             speeddating_tune_grid\n",
    "             .fit(speeddating_train.loc[:, [\"sincere_partner\",\"intelligence_partner\",\n",
    "                                            \"shared_interests_partner\", \"ambition_partner\"]],\n",
    "                  speeddating_train[\"match\"]\n",
    "            ).cv_results_)\n",
    "\n",
    "\n",
    "accuracies_grid = accuracies_grid[[\"param_kneighborsclassifier__n_neighbors\", \n",
    "                                   \"mean_test_score\", \"std_test_score\"]\n",
    "              ].assign(\n",
    "                  sem_test_score = accuracies_grid[\"std_test_score\"] / 10**(1/2)\n",
    "              ).rename(\n",
    "                  columns = {\"param_kneighborsclassifier__n_neighbors\" : \"n_neighbors\"}\n",
    "              ).drop(\n",
    "                  columns = [\"std_test_score\"]\n",
    "              )\n",
    "accuracies_grid\n",
    "\n",
    "\n",
    "\n",
    "\n",
    "# k=56 has the highest accuracy :O\n",
    "# k=6 had accuracy of 0.787 and k=56 has 0.794\n",
    "# use a split of the training set for validation set\n",
    "# create the 25/75 split of the *training data* into sub-training and validation\n",
    "speeddating_subtrain, speeddating_validation = train_test_split(\n",
    "    speeddating_train, test_size=0.25\n",
    ")\n",
    "\n",
    "# fit the model on the sub-training data\n",
    "knn = KNeighborsClassifier(n_neighbors=56) \n",
    "X = speeddating_subtrain.loc[:, [\"sincere_partner\",\"intelligence_partner\",\n",
    "                                 \"shared_interests_partner\", \"ambition_partner\"]]\n",
    "y = speeddating_subtrain[\"match\"]\n",
    "knn_fit = make_pipeline(speeddating_preprocessor, knn).fit(X, y)\n",
    "\n",
    "# compute the score on validation data\n",
    "acc = knn_fit.score(\n",
    "    speeddating_validation.loc[:, [\"sincere_partner\",\"intelligence_partner\",\n",
    "                                   \"shared_interests_partner\", \"ambition_partner\"]],\n",
    "    speeddating_validation[\"match\"]\n",
    ")\n",
    "acc\n",
    "# with stratify: 0.794\n",
    "# without stratify: 0.806"
   ]
  },
  {
   "cell_type": "code",
   "execution_count": 29,
   "id": "9f09ca7a-0550-4f16-8eec-55dae7592296",
   "metadata": {},
   "outputs": [
    {
     "data": {
      "text/plain": [
       "0.7612903225806451"
      ]
     },
     "execution_count": 29,
     "metadata": {},
     "output_type": "execute_result"
    }
   ],
   "source": [
    "# third combination: attractiveness, funny, shared_interests, intelligence\n",
    "np.random.seed(1000)\n",
    "\n",
    "# preprocess data\n",
    "speeddating_preprocessor = make_column_transformer(\n",
    "    (StandardScaler(), [\"intelligence_partner\",\n",
    "                        \"funny_partner\", \"shared_interests_partner\"])\n",
    ")\n",
    "\n",
    "# make a dataframe for finding the highest accuracy\n",
    "# accuracies grid\n",
    "knn = KNeighborsClassifier()\n",
    "speeddating_tune_pipe = make_pipeline(speeddating_preprocessor, knn)\n",
    "\n",
    "\n",
    "parameter_grid = {\n",
    "    \"kneighborsclassifier__n_neighbors\": range(1, 100, 5),\n",
    "}\n",
    "\n",
    "speeddating_tune_grid = GridSearchCV(\n",
    "    estimator=speeddating_tune_pipe,\n",
    "    param_grid=parameter_grid,\n",
    "    cv=10\n",
    ")\n",
    "\n",
    "accuracies_grid = pd.DataFrame(\n",
    "             speeddating_tune_grid\n",
    "             .fit(speeddating_train.loc[:, [\"intelligence_partner\",\n",
    "                                            \"funny_partner\", \"shared_interests_partner\"]],\n",
    "                  speeddating_train[\"match\"]\n",
    "            ).cv_results_)\n",
    "\n",
    "\n",
    "accuracies_grid = accuracies_grid[[\"param_kneighborsclassifier__n_neighbors\", \n",
    "                                   \"mean_test_score\", \"std_test_score\"]\n",
    "              ].assign(\n",
    "                  sem_test_score = accuracies_grid[\"std_test_score\"] / 10**(1/2)\n",
    "              ).rename(\n",
    "                  columns = {\"param_kneighborsclassifier__n_neighbors\" : \"n_neighbors\"}\n",
    "              ).drop(\n",
    "                  columns = [\"std_test_score\"]\n",
    "              )\n",
    "accuracies_grid\n",
    "\n",
    "\n",
    "\n",
    "\n",
    "# k=6 has the highest accuracy\n",
    "\n",
    "# use a split of the training set for validation set\n",
    "# create the 25/75 split of the *training data* into sub-training and validation\n",
    "speeddating_subtrain, speeddating_validation = train_test_split(\n",
    "    speeddating_train, test_size=0.25\n",
    ")\n",
    "\n",
    "# fit the model on the sub-training data\n",
    "knn = KNeighborsClassifier(n_neighbors=6) \n",
    "X = speeddating_subtrain.loc[:, [\"intelligence_partner\",\n",
    "                                \"funny_partner\", \"shared_interests_partner\"]]\n",
    "y = speeddating_subtrain[\"match\"]\n",
    "knn_fit = make_pipeline(speeddating_preprocessor, knn).fit(X, y)\n",
    "\n",
    "# compute the score on validation data\n",
    "acc = knn_fit.score(\n",
    "    speeddating_validation.loc[:, [\"intelligence_partner\",\n",
    "                                    \"funny_partner\", \"shared_interests_partner\"]],\n",
    "    speeddating_validation[\"match\"]\n",
    ")\n",
    "acc\n",
    "# with stratify: 0.8\n",
    "# without stratify: 0.813"
   ]
  },
  {
   "cell_type": "code",
   "execution_count": 30,
   "id": "0278a0bd-3f75-41d9-a06c-f502ea8e5525",
   "metadata": {},
   "outputs": [
    {
     "data": {
      "text/plain": [
       "0.7935483870967742"
      ]
     },
     "execution_count": 30,
     "metadata": {},
     "output_type": "execute_result"
    }
   ],
   "source": [
    "# fourth combination: attractiveness, intelligence, funny, sincere, shared interests\n",
    "np.random.seed(1000)\n",
    "\n",
    "# preprocess data\n",
    "speeddating_preprocessor = make_column_transformer(\n",
    "    (StandardScaler(), [\"attractive_partner\",  \"sincere_partner\",\"intelligence_partner\", \n",
    "                        \"funny_partner\",\"shared_interests_partner\"])\n",
    ")\n",
    "\n",
    "# make a dataframe for finding the highest accuracy\n",
    "# accuracies grid\n",
    "knn = KNeighborsClassifier()\n",
    "speeddating_tune_pipe = make_pipeline(speeddating_preprocessor, knn)\n",
    "\n",
    "\n",
    "parameter_grid = {\n",
    "    \"kneighborsclassifier__n_neighbors\": range(1, 100, 5),\n",
    "}\n",
    "\n",
    "speeddating_tune_grid = GridSearchCV(\n",
    "    estimator=speeddating_tune_pipe,\n",
    "    param_grid=parameter_grid,\n",
    "    cv=10\n",
    ")\n",
    "\n",
    "accuracies_grid = pd.DataFrame(\n",
    "             speeddating_tune_grid\n",
    "             .fit(speeddating_train.loc[:, [\"attractive_partner\",  \"sincere_partner\",\"intelligence_partner\", \n",
    "                                            \"funny_partner\",\"shared_interests_partner\"]],\n",
    "                  speeddating_train[\"match\"]\n",
    "            ).cv_results_)\n",
    "\n",
    "\n",
    "accuracies_grid = accuracies_grid[[\"param_kneighborsclassifier__n_neighbors\", \n",
    "                                   \"mean_test_score\", \"std_test_score\"]\n",
    "              ].assign(\n",
    "                  sem_test_score = accuracies_grid[\"std_test_score\"] / 10**(1/2)\n",
    "              ).rename(\n",
    "                  columns = {\"param_kneighborsclassifier__n_neighbors\" : \"n_neighbors\"}\n",
    "              ).drop(\n",
    "                  columns = [\"std_test_score\"]\n",
    "              )\n",
    "accuracies_grid\n",
    "\n",
    "\n",
    "\n",
    "\n",
    "# now use k=6 to find accuracy of model?\n",
    "# use a split of the training set for validation set\n",
    "# create the 25/75 split of the *training data* into sub-training and validation\n",
    "speeddating_subtrain, speeddating_validation = train_test_split(\n",
    "    speeddating_train, test_size=0.25\n",
    ")\n",
    "\n",
    "# fit the model on the sub-training data\n",
    "knn = KNeighborsClassifier(n_neighbors=6) \n",
    "X = speeddating_subtrain.loc[:, [\"attractive_partner\",  \"sincere_partner\",\"intelligence_partner\", \n",
    "                                 \"funny_partner\",\"shared_interests_partner\"]]\n",
    "y = speeddating_subtrain[\"match\"]\n",
    "knn_fit = make_pipeline(speeddating_preprocessor, knn).fit(X, y)\n",
    "\n",
    "# compute the score on validation data\n",
    "acc = knn_fit.score(\n",
    "    speeddating_validation.loc[:, [\"attractive_partner\",  \"sincere_partner\",\"intelligence_partner\", \n",
    "                                   \"funny_partner\",\"shared_interests_partner\"]],\n",
    "    speeddating_validation[\"match\"]\n",
    ")\n",
    "acc\n",
    "# with stratify: 0.832\n",
    "# without stratify: 0.839"
   ]
  },
  {
   "cell_type": "code",
   "execution_count": 31,
   "id": "3e1ec534-5f8a-4775-bf6e-82eccfa85cee",
   "metadata": {},
   "outputs": [
    {
     "data": {
      "text/plain": [
       "0.7806451612903226"
      ]
     },
     "execution_count": 31,
     "metadata": {},
     "output_type": "execute_result"
    }
   ],
   "source": [
    "# fifth combination: attractiveness, intelligence, funny, sincere, shared interests, ambition (all six attributes)\n",
    "np.random.seed(1000)\n",
    "\n",
    "# preprocess data\n",
    "speeddating_preprocessor = make_column_transformer(\n",
    "    (StandardScaler(), [\"attractive_partner\",  \"sincere_partner\",\"intelligence_partner\", \n",
    "                        \"funny_partner\", \"ambition_partner\", \"shared_interests_partner\"])\n",
    ")\n",
    "\n",
    "# make a dataframe for finding the highest accuracy\n",
    "# accuracies grid\n",
    "knn = KNeighborsClassifier()\n",
    "speeddating_tune_pipe = make_pipeline(speeddating_preprocessor, knn)\n",
    "\n",
    "\n",
    "parameter_grid = {\n",
    "    \"kneighborsclassifier__n_neighbors\": range(1, 100, 5),\n",
    "}\n",
    "\n",
    "speeddating_tune_grid = GridSearchCV(\n",
    "    estimator=speeddating_tune_pipe,\n",
    "    param_grid=parameter_grid,\n",
    "    cv=10\n",
    ")\n",
    "\n",
    "accuracies_grid = pd.DataFrame(\n",
    "             speeddating_tune_grid\n",
    "             .fit(speeddating_train.loc[:, [\"attractive_partner\",  \"sincere_partner\",\"intelligence_partner\", \n",
    "                                            \"funny_partner\",\"ambition_partner\",\"shared_interests_partner\"]],\n",
    "                  speeddating_train[\"match\"]\n",
    "            ).cv_results_)\n",
    "\n",
    "\n",
    "accuracies_grid = accuracies_grid[[\"param_kneighborsclassifier__n_neighbors\", \n",
    "                                   \"mean_test_score\", \"std_test_score\"]\n",
    "              ].assign(\n",
    "                  sem_test_score = accuracies_grid[\"std_test_score\"] / 10**(1/2)\n",
    "              ).rename(\n",
    "                  columns = {\"param_kneighborsclassifier__n_neighbors\" : \"n_neighbors\"}\n",
    "              ).drop(\n",
    "                  columns = [\"std_test_score\"]\n",
    "              )\n",
    "accuracies_grid\n",
    "\n",
    "\n",
    "\n",
    "\n",
    "# now use k=6 to find accuracy of model\n",
    "# use a split of the training set for validation set\n",
    "# create the 25/75 split of the *training data* into sub-training and validation\n",
    "speeddating_subtrain, speeddating_validation = train_test_split(\n",
    "    speeddating_train, test_size=0.25\n",
    ")\n",
    "\n",
    "# fit the model on the sub-training data\n",
    "knn = KNeighborsClassifier(n_neighbors=6) \n",
    "X = speeddating_subtrain.loc[:, [\"attractive_partner\",  \"sincere_partner\",\"intelligence_partner\", \n",
    "                                 \"funny_partner\",\"ambition_partner\", \"shared_interests_partner\"]]\n",
    "y = speeddating_subtrain[\"match\"]\n",
    "knn_fit = make_pipeline(speeddating_preprocessor, knn).fit(X, y)\n",
    "\n",
    "# compute the score on validation data\n",
    "acc = knn_fit.score(\n",
    "    speeddating_validation.loc[:, [\"attractive_partner\",  \"sincere_partner\",\"intelligence_partner\", \n",
    "                                   \"funny_partner\",\"ambition_partner\", \"shared_interests_partner\"]],\n",
    "    speeddating_validation[\"match\"]\n",
    ")\n",
    "acc"
   ]
  },
  {
   "cell_type": "code",
   "execution_count": 32,
   "id": "7b2a79fd-a0b2-4801-a598-3b43be15eba3",
   "metadata": {},
   "outputs": [
    {
     "data": {
      "text/plain": [
       "<sklearn.metrics._plot.confusion_matrix.ConfusionMatrixDisplay at 0x7f633e261900>"
      ]
     },
     "execution_count": 32,
     "metadata": {},
     "output_type": "execute_result"
    },
    {
     "data": {
      "image/png": "[encoded data removed]",
      "text/plain": [
       "<Figure size 640x480 with 2 Axes>"
      ]
     },
     "metadata": {},
     "output_type": "display_data"
    }
   ],
   "source": [
    "# confusion matrix with selected variables\n",
    "# speeddating_train, speeddating_test = train_test_split(speeddating, test_size=0.25, random_state=123) # set the random state to be 123\n",
    "np.random.seed(1000)\n",
    "speeddating_preprocessor = make_column_transformer(\n",
    "    (StandardScaler(), [\n",
    "        \"attractive_partner\", \"sincere_partner\",\"intelligence_partner\", \"funny_partner\", \"shared_interests_partner\"]),\n",
    ")\n",
    "\n",
    "knn_spec = KNeighborsClassifier(n_neighbors=6)\n",
    "\n",
    "X = speeddating_train[[\n",
    "   \"attractive_partner\",  \"sincere_partner\",\"intelligence_partner\", \"funny_partner\",\"shared_interests_partner\"]]\n",
    "y = speeddating_train[\"match\"]\n",
    "\n",
    "speeddating_fit = make_pipeline(speeddating_preprocessor, knn_spec).fit(X, y)\n",
    "\n",
    "speeddating_test_predictions = speeddating_fit.predict(speeddating_test)\n",
    "speeddating_test_predictions = pd.concat(\n",
    "    [\n",
    "        speeddating_test.reset_index(drop=True),\n",
    "        pd.DataFrame(speeddating_test_predictions, columns=[\"predicted\"]),\n",
    "    ],\n",
    "    axis=1,\n",
    ")\n",
    "\n",
    "speeddating_test_predictions\n",
    "\n",
    "\n",
    "speeddating_mat = sklearn.metrics.confusion_matrix(\n",
    "    speeddating_test_predictions[\"match\"],\n",
    "    speeddating_test_predictions[\"predicted\"],\n",
    "    labels=speeddating_fit.classes_,\n",
    ")\n",
    "\n",
    "from sklearn.metrics import ConfusionMatrixDisplay\n",
    "\n",
    "disp = ConfusionMatrixDisplay(\n",
    "    confusion_matrix=speeddating_mat, display_labels=speeddating_fit.classes_\n",
    ")\n",
    "disp.plot()"
   ]
  },
  {
   "cell_type": "code",
   "execution_count": null,
   "id": "decf7c68-70d8-40cc-a2c5-6be4bf66d39f",
   "metadata": {},
   "outputs": [],
   "source": []
  }
 ],
 "metadata": {
  "kernelspec": {
   "display_name": "Python 3 (ipykernel)",
   "language": "python",
   "name": "python3"
  },
  "language_info": {
   "codemirror_mode": {
    "name": "ipython",
    "version": 3
   },
   "file_extension": ".py",
   "mimetype": "text/x-python",
   "name": "python",
   "nbconvert_exporter": "python",
   "pygments_lexer": "ipython3",
   "version": "3.10.8"
  }
 },
 "nbformat": 4,
 "nbformat_minor": 5
}
