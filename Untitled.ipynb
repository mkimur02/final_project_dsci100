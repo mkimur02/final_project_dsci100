{
 "cells": [
  {
   "cell_type": "markdown",
   "id": "6c778e7e-063a-401d-980f-2539b808ab37",
   "metadata": {},
   "source": [
    "# Speed Dating Analysis Report\n",
    "<img src=\"https://images.seattletimes.com/wp-content/uploads/2018/12/speeddating-1205-RGB-1.jpg?d=1200x630\" width = \"600\"/>\n",
    "\n",
    "Source: https://www.seattletimes.com/life/lifestyle/speed-dating-in-the-age-of-swiping-the-irl-dating-trend-is-still-ringing-bells/\n",
    "\n",
    "#### Can we predict whether two heterosexual people matched or not based on 6 attributes after 4 minutes of speed dating? \n",
    "\n",
    "### Introduction:\n",
    "\"Speed dating\" is a matchmaking process that involves two people getting to know one another within a very short time frame (usually less than 10 minutes), and then switching to another person once the time is up. This speedy and energetic approach to meeting other single people may result in a match between two individuals where they both choose to pursue dating. But what factors influence whether or not two people match? <b> Is there a way to predict whether two people will match or not in a speed date based on certain attributes? </b> \n",
    "The Speed Dating dataset posted by Ulrik Thyge Pedersen gathered data from participants in a four-minute speed dating experiment where they were asked to rate their date on six different attributes: attractiveness, sincerity, intelligence, fun, ambition, and shared interests. Using this data, we will attempt to predict whether or not two people will match based on these attributes."
   ]
  },
  {
   "cell_type": "code",
   "execution_count": 5,
   "id": "4628e9f2-c357-49f8-ae3a-12fca0e95580",
   "metadata": {},
   "outputs": [],
   "source": [
    "#Run this cell to import program\n",
    "import altair as alt\n",
    "import pandas as pd\n",
    "import numpy as np\n",
    "import seaborn as sns\n",
    "import matplotlib.pyplot as plt\n",
    "%matplotlib inline\n",
    "import sklearn\n",
    "from sklearn.compose import make_column_transformer\n",
    "from sklearn.metrics.pairwise import euclidean_distances\n",
    "from sklearn.neighbors import KNeighborsClassifier\n",
    "from sklearn.pipeline import Pipeline, make_pipeline\n",
    "from sklearn.preprocessing import OneHotEncoder, StandardScaler\n",
    "from sklearn.model_selection import GridSearchCV, cross_validate, train_test_split"
   ]
  },
  {
   "cell_type": "markdown",
   "id": "6456a3f7-3d8b-49cd-a3cb-e0ebbf6b8ed1",
   "metadata": {},
   "source": [
    "#### Speed Dating Dataframe\n",
    "\n",
    "To begin, we read in the raw data."
   ]
  },
  {
   "cell_type": "code",
   "execution_count": 6,
   "id": "b9cb0691-9acc-4445-97c3-66f90682fbc7",
   "metadata": {},
   "outputs": [
    {
     "data": {
      "text/html": [
       "<div>\n",
       "<style scoped>\n",
       "    .dataframe tbody tr th:only-of-type {\n",
       "        vertical-align: middle;\n",
       "    }\n",
       "\n",
       "    .dataframe tbody tr th {\n",
       "        vertical-align: top;\n",
       "    }\n",
       "\n",
       "    .dataframe thead th {\n",
       "        text-align: right;\n",
       "    }\n",
       "</style>\n",
       "<table border=\"1\" class=\"dataframe\">\n",
       "  <thead>\n",
       "    <tr style=\"text-align: right;\">\n",
       "      <th></th>\n",
       "      <th>has_null</th>\n",
       "      <th>wave</th>\n",
       "      <th>gender</th>\n",
       "      <th>age</th>\n",
       "      <th>age_o</th>\n",
       "      <th>d_age</th>\n",
       "      <th>d_d_age</th>\n",
       "      <th>race</th>\n",
       "      <th>race_o</th>\n",
       "      <th>samerace</th>\n",
       "      <th>...</th>\n",
       "      <th>d_expected_num_interested_in_me</th>\n",
       "      <th>d_expected_num_matches</th>\n",
       "      <th>like</th>\n",
       "      <th>guess_prob_liked</th>\n",
       "      <th>d_like</th>\n",
       "      <th>d_guess_prob_liked</th>\n",
       "      <th>met</th>\n",
       "      <th>decision</th>\n",
       "      <th>decision_o</th>\n",
       "      <th>match</th>\n",
       "    </tr>\n",
       "  </thead>\n",
       "  <tbody>\n",
       "    <tr>\n",
       "      <th>0</th>\n",
       "      <td>b''</td>\n",
       "      <td>1.0</td>\n",
       "      <td>b'female'</td>\n",
       "      <td>21.0</td>\n",
       "      <td>27.0</td>\n",
       "      <td>6.0</td>\n",
       "      <td>b'[4-6]'</td>\n",
       "      <td>b'Asian/Pacific Islander/Asian-American'</td>\n",
       "      <td>b'European/Caucasian-American'</td>\n",
       "      <td>b'0'</td>\n",
       "      <td>...</td>\n",
       "      <td>b'[0-3]'</td>\n",
       "      <td>b'[3-5]'</td>\n",
       "      <td>7.0</td>\n",
       "      <td>6.0</td>\n",
       "      <td>b'[6-8]'</td>\n",
       "      <td>b'[5-6]'</td>\n",
       "      <td>0.0</td>\n",
       "      <td>b'1'</td>\n",
       "      <td>b'0'</td>\n",
       "      <td>b'0'</td>\n",
       "    </tr>\n",
       "    <tr>\n",
       "      <th>1</th>\n",
       "      <td>b''</td>\n",
       "      <td>1.0</td>\n",
       "      <td>b'female'</td>\n",
       "      <td>21.0</td>\n",
       "      <td>22.0</td>\n",
       "      <td>1.0</td>\n",
       "      <td>b'[0-1]'</td>\n",
       "      <td>b'Asian/Pacific Islander/Asian-American'</td>\n",
       "      <td>b'European/Caucasian-American'</td>\n",
       "      <td>b'0'</td>\n",
       "      <td>...</td>\n",
       "      <td>b'[0-3]'</td>\n",
       "      <td>b'[3-5]'</td>\n",
       "      <td>7.0</td>\n",
       "      <td>5.0</td>\n",
       "      <td>b'[6-8]'</td>\n",
       "      <td>b'[5-6]'</td>\n",
       "      <td>1.0</td>\n",
       "      <td>b'1'</td>\n",
       "      <td>b'0'</td>\n",
       "      <td>b'0'</td>\n",
       "    </tr>\n",
       "    <tr>\n",
       "      <th>2</th>\n",
       "      <td>b''</td>\n",
       "      <td>1.0</td>\n",
       "      <td>b'female'</td>\n",
       "      <td>21.0</td>\n",
       "      <td>22.0</td>\n",
       "      <td>1.0</td>\n",
       "      <td>b'[0-1]'</td>\n",
       "      <td>b'Asian/Pacific Islander/Asian-American'</td>\n",
       "      <td>b'Asian/Pacific Islander/Asian-American'</td>\n",
       "      <td>b'1'</td>\n",
       "      <td>...</td>\n",
       "      <td>b'[0-3]'</td>\n",
       "      <td>b'[3-5]'</td>\n",
       "      <td>7.0</td>\n",
       "      <td>NaN</td>\n",
       "      <td>b'[6-8]'</td>\n",
       "      <td>b'[0-4]'</td>\n",
       "      <td>1.0</td>\n",
       "      <td>b'1'</td>\n",
       "      <td>b'1'</td>\n",
       "      <td>b'1'</td>\n",
       "    </tr>\n",
       "    <tr>\n",
       "      <th>3</th>\n",
       "      <td>b''</td>\n",
       "      <td>1.0</td>\n",
       "      <td>b'female'</td>\n",
       "      <td>21.0</td>\n",
       "      <td>23.0</td>\n",
       "      <td>2.0</td>\n",
       "      <td>b'[2-3]'</td>\n",
       "      <td>b'Asian/Pacific Islander/Asian-American'</td>\n",
       "      <td>b'European/Caucasian-American'</td>\n",
       "      <td>b'0'</td>\n",
       "      <td>...</td>\n",
       "      <td>b'[0-3]'</td>\n",
       "      <td>b'[3-5]'</td>\n",
       "      <td>7.0</td>\n",
       "      <td>6.0</td>\n",
       "      <td>b'[6-8]'</td>\n",
       "      <td>b'[5-6]'</td>\n",
       "      <td>0.0</td>\n",
       "      <td>b'1'</td>\n",
       "      <td>b'1'</td>\n",
       "      <td>b'1'</td>\n",
       "    </tr>\n",
       "    <tr>\n",
       "      <th>4</th>\n",
       "      <td>b''</td>\n",
       "      <td>1.0</td>\n",
       "      <td>b'female'</td>\n",
       "      <td>21.0</td>\n",
       "      <td>24.0</td>\n",
       "      <td>3.0</td>\n",
       "      <td>b'[2-3]'</td>\n",
       "      <td>b'Asian/Pacific Islander/Asian-American'</td>\n",
       "      <td>b'Latino/Hispanic American'</td>\n",
       "      <td>b'0'</td>\n",
       "      <td>...</td>\n",
       "      <td>b'[0-3]'</td>\n",
       "      <td>b'[3-5]'</td>\n",
       "      <td>6.0</td>\n",
       "      <td>6.0</td>\n",
       "      <td>b'[6-8]'</td>\n",
       "      <td>b'[5-6]'</td>\n",
       "      <td>0.0</td>\n",
       "      <td>b'1'</td>\n",
       "      <td>b'1'</td>\n",
       "      <td>b'1'</td>\n",
       "    </tr>\n",
       "  </tbody>\n",
       "</table>\n",
       "<p>5 rows × 123 columns</p>\n",
       "</div>"
      ],
      "text/plain": [
       "  has_null  wave     gender   age  age_o  d_age   d_d_age  \\\n",
       "0      b''   1.0  b'female'  21.0   27.0    6.0  b'[4-6]'   \n",
       "1      b''   1.0  b'female'  21.0   22.0    1.0  b'[0-1]'   \n",
       "2      b''   1.0  b'female'  21.0   22.0    1.0  b'[0-1]'   \n",
       "3      b''   1.0  b'female'  21.0   23.0    2.0  b'[2-3]'   \n",
       "4      b''   1.0  b'female'  21.0   24.0    3.0  b'[2-3]'   \n",
       "\n",
       "                                       race  \\\n",
       "0  b'Asian/Pacific Islander/Asian-American'   \n",
       "1  b'Asian/Pacific Islander/Asian-American'   \n",
       "2  b'Asian/Pacific Islander/Asian-American'   \n",
       "3  b'Asian/Pacific Islander/Asian-American'   \n",
       "4  b'Asian/Pacific Islander/Asian-American'   \n",
       "\n",
       "                                     race_o samerace  ...  \\\n",
       "0            b'European/Caucasian-American'     b'0'  ...   \n",
       "1            b'European/Caucasian-American'     b'0'  ...   \n",
       "2  b'Asian/Pacific Islander/Asian-American'     b'1'  ...   \n",
       "3            b'European/Caucasian-American'     b'0'  ...   \n",
       "4               b'Latino/Hispanic American'     b'0'  ...   \n",
       "\n",
       "   d_expected_num_interested_in_me  d_expected_num_matches like  \\\n",
       "0                         b'[0-3]'                b'[3-5]'  7.0   \n",
       "1                         b'[0-3]'                b'[3-5]'  7.0   \n",
       "2                         b'[0-3]'                b'[3-5]'  7.0   \n",
       "3                         b'[0-3]'                b'[3-5]'  7.0   \n",
       "4                         b'[0-3]'                b'[3-5]'  6.0   \n",
       "\n",
       "  guess_prob_liked    d_like  d_guess_prob_liked  met  decision  decision_o  \\\n",
       "0              6.0  b'[6-8]'            b'[5-6]'  0.0      b'1'        b'0'   \n",
       "1              5.0  b'[6-8]'            b'[5-6]'  1.0      b'1'        b'0'   \n",
       "2              NaN  b'[6-8]'            b'[0-4]'  1.0      b'1'        b'1'   \n",
       "3              6.0  b'[6-8]'            b'[5-6]'  0.0      b'1'        b'1'   \n",
       "4              6.0  b'[6-8]'            b'[5-6]'  0.0      b'1'        b'1'   \n",
       "\n",
       "   match  \n",
       "0   b'0'  \n",
       "1   b'0'  \n",
       "2   b'1'  \n",
       "3   b'1'  \n",
       "4   b'1'  \n",
       "\n",
       "[5 rows x 123 columns]"
      ]
     },
     "execution_count": 6,
     "metadata": {},
     "output_type": "execute_result"
    }
   ],
   "source": [
    "import matplotlib.pyplot as plt\n",
    "\n",
    "df_speeddating = pd.read_csv(\"speeddating.csv\")\n",
    "\n",
    "df_speeddating.head(5)"
   ]
  },
  {
   "cell_type": "markdown",
   "id": "66fa8c0a-0ebf-402f-9a54-3548c72ad6e6",
   "metadata": {},
   "source": [
    "#### Cleaning and wrangling data\n",
    "Next, we shall make our speed dating data suitable for our analysis. First, we extract the six attributes (attractive_partner, sincere_partner, intelligence_partner, funny_partner, ambition_partner, shared_interests_partner) columns and the class column (match) that are required for this analysis with []. Then, by using .dropna() method, we remove the rows that contain NULL value, \"NaN\". We will also rename the values of the class column \"match\" from b'0' to \"fail\" and b'1' to \"success\". Moreover, we must convert the \"match\" column stored as an object type to a categorical type. \n"
   ]
  },
  {
   "cell_type": "code",
   "execution_count": 7,
   "id": "fa9a9fbb-f4c4-4d5f-a0f7-e097bbf41b62",
   "metadata": {},
   "outputs": [
    {
     "data": {
      "text/html": [
       "<div>\n",
       "<style scoped>\n",
       "    .dataframe tbody tr th:only-of-type {\n",
       "        vertical-align: middle;\n",
       "    }\n",
       "\n",
       "    .dataframe tbody tr th {\n",
       "        vertical-align: top;\n",
       "    }\n",
       "\n",
       "    .dataframe thead th {\n",
       "        text-align: right;\n",
       "    }\n",
       "</style>\n",
       "<table border=\"1\" class=\"dataframe\">\n",
       "  <thead>\n",
       "    <tr style=\"text-align: right;\">\n",
       "      <th></th>\n",
       "      <th>match</th>\n",
       "      <th>attractive_partner</th>\n",
       "      <th>sincere_partner</th>\n",
       "      <th>intelligence_partner</th>\n",
       "      <th>funny_partner</th>\n",
       "      <th>ambition_partner</th>\n",
       "      <th>shared_interests_partner</th>\n",
       "    </tr>\n",
       "  </thead>\n",
       "  <tbody>\n",
       "    <tr>\n",
       "      <th>3852</th>\n",
       "      <td>fail</td>\n",
       "      <td>9.0</td>\n",
       "      <td>8.0</td>\n",
       "      <td>8.0</td>\n",
       "      <td>8.0</td>\n",
       "      <td>6.0</td>\n",
       "      <td>2.0</td>\n",
       "    </tr>\n",
       "    <tr>\n",
       "      <th>1938</th>\n",
       "      <td>fail</td>\n",
       "      <td>5.0</td>\n",
       "      <td>5.0</td>\n",
       "      <td>6.0</td>\n",
       "      <td>6.0</td>\n",
       "      <td>5.0</td>\n",
       "      <td>5.0</td>\n",
       "    </tr>\n",
       "    <tr>\n",
       "      <th>4879</th>\n",
       "      <td>fail</td>\n",
       "      <td>7.0</td>\n",
       "      <td>5.0</td>\n",
       "      <td>6.0</td>\n",
       "      <td>4.0</td>\n",
       "      <td>5.0</td>\n",
       "      <td>5.0</td>\n",
       "    </tr>\n",
       "    <tr>\n",
       "      <th>1619</th>\n",
       "      <td>fail</td>\n",
       "      <td>7.0</td>\n",
       "      <td>10.0</td>\n",
       "      <td>8.0</td>\n",
       "      <td>7.0</td>\n",
       "      <td>7.0</td>\n",
       "      <td>3.0</td>\n",
       "    </tr>\n",
       "    <tr>\n",
       "      <th>3151</th>\n",
       "      <td>fail</td>\n",
       "      <td>7.0</td>\n",
       "      <td>6.0</td>\n",
       "      <td>7.0</td>\n",
       "      <td>6.0</td>\n",
       "      <td>6.0</td>\n",
       "      <td>5.0</td>\n",
       "    </tr>\n",
       "  </tbody>\n",
       "</table>\n",
       "</div>"
      ],
      "text/plain": [
       "     match  attractive_partner  sincere_partner  intelligence_partner  \\\n",
       "3852  fail                 9.0              8.0                   8.0   \n",
       "1938  fail                 5.0              5.0                   6.0   \n",
       "4879  fail                 7.0              5.0                   6.0   \n",
       "1619  fail                 7.0             10.0                   8.0   \n",
       "3151  fail                 7.0              6.0                   7.0   \n",
       "\n",
       "      funny_partner  ambition_partner  shared_interests_partner  \n",
       "3852            8.0               6.0                       2.0  \n",
       "1938            6.0               5.0                       5.0  \n",
       "4879            4.0               5.0                       5.0  \n",
       "1619            7.0               7.0                       3.0  \n",
       "3151            6.0               6.0                       5.0  "
      ]
     },
     "execution_count": 7,
     "metadata": {},
     "output_type": "execute_result"
    }
   ],
   "source": [
    "speeddating = df_speeddating[[\"match\",\"attractive_partner\", \"sincere_partner\",\"intelligence_partner\", \"funny_partner\", \"ambition_partner\", \"shared_interests_partner\"]]\n",
    "\n",
    "speeddating = speeddating.sample(n=1000, random_state=2023).dropna()\n",
    "\n",
    "speeddating[\"match\"] = speeddating[\"match\"].replace({\"b'0'\":\"fail\",\"b'1'\":\"success\"}).astype(\"category\")\n",
    "# speeddating.set_title(\"\")\n",
    "speeddating.head(5)"
   ]
  },
  {
   "cell_type": "markdown",
   "id": "01f847d2-f522-423e-b11f-83c8c3a93499",
   "metadata": {},
   "source": [
    "#### Summary of Speeddating Data\n",
    "With seven columns, one category type, and six numeric types, we can see that our data is now organised and prepared to be divided into train and test sets using the info function. "
   ]
  },
  {
   "cell_type": "code",
   "execution_count": null,
   "id": "554bbdfa-f316-4ad1-b0bb-79623b926c53",
   "metadata": {},
   "outputs": [],
   "source": [
    "speeddating.info()"
   ]
  },
  {
   "cell_type": "markdown",
   "id": "04318dda-8a50-4a2c-b43e-51832dd2e9db",
   "metadata": {
    "tags": []
   },
   "source": [
    "#### Creating the training and test sets\n",
    "Next, we will split the cleaned speed-dating data into a training and testing set. We will then use the training set to perform an exploratory analysis on the six variables and to explore the dataset. After making the classifier to predict the \"match\" of speed-dating with training set, we use the test set to evaluate the accuracy of the model to predict the \"match\" on new observation. "
   ]
  },
  {
   "cell_type": "code",
   "execution_count": null,
   "id": "d9065991-1e29-4949-b18e-5030e9738391",
   "metadata": {},
   "outputs": [],
   "source": [
    "speeddating_training, speeddating_testing = train_test_split(\n",
    "   speeddating, train_size=0.75, random_state=2023 # do not change the random_state\n",
    ")\n",
    "speeddating_training = pd.DataFrame(speeddating_training)\n",
    "speeddating_training.head(5)"
   ]
  },
  {
   "cell_type": "markdown",
   "id": "9970fee5-965f-4e9c-b4cf-b7c29341cddc",
   "metadata": {},
   "source": [
    "#### Checking the \"match\" data distribution"
   ]
  },
  {
   "cell_type": "code",
   "execution_count": null,
   "id": "2d484f99-a4e2-469b-8a81-00d8f2e74eb0",
   "metadata": {},
   "outputs": [],
   "source": [
    "speeddating_training_dd = speeddating_training.assign(row_number=range(len(speeddating_training)))\n",
    "\n",
    "explore_speeddating = pd.DataFrame()\n",
    "\n",
    "explore_speeddating['count'] = speeddating_training_dd.groupby('match')['row_number'].count()\n",
    "explore_speeddating['percentage'] = 100 * explore_speeddating['count']/len(speeddating_training_dd)\n",
    "\n",
    "explore_speeddating"
   ]
  },
  {
   "cell_type": "markdown",
   "id": "48bd9acc-254e-4acb-bf55-e0c616e831eb",
   "metadata": {},
   "source": [
    "We can see from this table that there is an imbalance in the match class; where 83.0% failed to match and 18.2% was successful. This would be a limitation for our model and its accuracy. Since 83.0% of speed dates failed, our model may have a high accuracy (around 80 percent) because it will correctly predict a lot of failed dates but it will not be very accurate in predicting successful dates."
   ]
  },
  {
   "cell_type": "markdown",
   "id": "802591b3-a4b1-44b1-a03b-b192c5c5afd0",
   "metadata": {},
   "source": [
    "#### Creating Boxplot \n",
    "The distribution of attribute ratings may be viewed using a box plot, which also makes it possible to contrast match outcomes. To determine the impact of each property on the match outcomes, we thus produced six boxplots for each attribute using seaborn.boxplot."
   ]
  },
  {
   "cell_type": "code",
   "execution_count": null,
   "id": "f004cfcd-a30c-41cc-8646-b54b1d7e038b",
   "metadata": {},
   "outputs": [],
   "source": [
    "sns.boxplot(x='match', y='attractive_partner', width=0.25, data=speeddating_training).set(title='Figure 1: Comparison of match results for Attraction Attribute', ylabel=\"Rating of Partner's Attractiveness\", xlabel=\"Match\")"
   ]
  },
  {
   "cell_type": "markdown",
   "id": "907eaea8-5a34-4e71-9924-9c702880cf1e",
   "metadata": {},
   "source": [
    "Interpretation of Figure 1: This boxplot compares the explantory variable \"Partner's Attractiveness\", and the response variable of \"match outcome\". The median shows that on average partner's attractiveness score was two ratings higher for successful matches than failed matches. In this rating scale between 1-10, the category of success having two rating higher than fail suggests that the partner's attractiveness has an influence on match results.  "
   ]
  },
  {
   "cell_type": "code",
   "execution_count": null,
   "id": "013b34bf-346a-479d-bea0-6fcdb9eebf8a",
   "metadata": {},
   "outputs": [],
   "source": [
    "sns.boxplot(x='match', y='sincere_partner', width=0.25, data=speeddating_training).set(title='Figure 2: Comparison of match results for Sincere Attribute', ylabel=\"Rating of Partner's Sincerity\", xlabel=\"Match\")\n",
    "#this plot looks at explantory vairble \"like\"... we see that there is seperation, if they liked their partner they successfully dataset.\n",
    "# we wont include this in the model, it is the same... no impact... "
   ]
  },
  {
   "cell_type": "markdown",
   "id": "1e313b04-bbc9-40c0-917c-bdf061dd8aab",
   "metadata": {},
   "source": [
    "Interpretation of Figure 2: This boxplot compares the explantory variable \"Partner's Sincerity\", and the response variable of \"match outcome\". There is not a lot of overlap between category of fail and category of match success, thus the two groups are different. Rating of Partner's sincerity seems to have influence on match results."
   ]
  },
  {
   "cell_type": "code",
   "execution_count": null,
   "id": "ca7d270d-cffc-4011-961e-4003d13f2004",
   "metadata": {},
   "outputs": [],
   "source": [
    "sns.boxplot(x='match', y='intelligence_partner', width=0.25, data=speeddating_training).set(title='Figure 3: Comparison of match results for Intelligence Attribute', ylabel=\"Rating of Partner's Intelligence\", xlabel=\"Match\")\n",
    "\n",
    "\n",
    "# some overlap but not exact, not include age "
   ]
  },
  {
   "cell_type": "markdown",
   "id": "2f2d63a7-6027-41a9-85dc-645464f228e9",
   "metadata": {},
   "source": [
    "Interpretation of Figure 3: The explanatory variable \"Partner's Intelligence\" and the response variable \"match outcome\" are compared in this boxplot. Similar to figure 2, these non-overlapping boxes and the narrow interquartile range of the success boxplot indicate that higher intellect ratings result in successful matches.  "
   ]
  },
  {
   "cell_type": "code",
   "execution_count": null,
   "id": "d655e1f5-4508-41c9-ad59-c1d5d55e48db",
   "metadata": {},
   "outputs": [],
   "source": [
    "sns.boxplot(x='match', y='funny_partner', width=0.25, data=speeddating_training).set(title='Figure 4: Comparison of match results for Fun Attribute', ylabel=\"Rating of Partner being funny\", xlabel=\"Match\")"
   ]
  },
  {
   "cell_type": "markdown",
   "id": "382e369e-0e5b-4056-a4b4-9fbea8d15b75",
   "metadata": {},
   "source": [
    "Interpretation of Figure 4: median signficant... keep? "
   ]
  },
  {
   "cell_type": "code",
   "execution_count": null,
   "id": "e07a6226-47ce-4d6a-b5c9-f0876b903e0b",
   "metadata": {},
   "outputs": [],
   "source": [
    "sns.boxplot(x='match', y='ambition_partner', width=0.25, data=speeddating_training).set(title='Figure 5: Comparison of match results for Ambition Attribute', ylabel=\"Rating of Partner's Ambition\", xlabel=\"Match\")"
   ]
  },
  {
   "cell_type": "markdown",
   "id": "0f2cbb2e-dda6-462f-ad04-4cd77b8e2e1f",
   "metadata": {},
   "source": [
    "Interpretation of Figure 5: low outlier for success.. drop?"
   ]
  },
  {
   "cell_type": "code",
   "execution_count": null,
   "id": "dde90f3e-0c38-4455-a195-c74669f7f775",
   "metadata": {},
   "outputs": [],
   "source": [
    "sns.boxplot(x='match', y='shared_interests_partner', width=0.25, data=speeddating_training).set(title='Figure 6: Comparison of match results for Shared Interests Attribute', ylabel=\"Rating of Partner's Shared Interests\", xlabel=\"Match\")"
   ]
  },
  {
   "cell_type": "markdown",
   "id": "aa8bee2f-ea49-41bf-aa4f-6f2e9fc188da",
   "metadata": {},
   "source": [
    "Interpretation of Figure 6: median difference is significant... keep ? "
   ]
  },
  {
   "cell_type": "markdown",
   "id": "d43b7b7f-763a-4cc0-bbd5-ab93b60f1af1",
   "metadata": {},
   "source": [
    "##### Hence, relevant attributes include ... will be used for the model."
   ]
  },
  {
   "cell_type": "code",
   "execution_count": null,
   "id": "6615dbdf-4be9-427f-ba33-99ee2b9861c4",
   "metadata": {},
   "outputs": [],
   "source": [
    "#hard to interpret... cannot interpret, \n",
    "#correlation of interests and difference in age by matching, we cannot distingusih classes "
   ]
  },
  {
   "cell_type": "code",
   "execution_count": null,
   "id": "1c719574-3129-4adc-9861-08908fd47c28",
   "metadata": {},
   "outputs": [],
   "source": [
    "#after we build model... cross validation, k-nearest neighbours, set seeds in every cell, \n",
    "#for visualization classfication metrix, even if we have high level of accuracy\n",
    "#we see a lot of false negative due to class imabalance. out side scope of course \n",
    "#research about topic and cite\n",
    "#disccussion(summarize, what impact)\n",
    "\n",
    "# Deciding which columns are significant"
   ]
  },
  {
   "cell_type": "code",
   "execution_count": null,
   "id": "06c6791b-e6dc-4e68-a77a-bfde418687b2",
   "metadata": {},
   "outputs": [],
   "source": [
    "speeddating_train, speeddating_test = train_test_split(speeddating, test_size=0.25, random_state=123) # set the random state to be 123\n",
    "\n",
    "speeddating_preprocessor = make_column_transformer(\n",
    "    (StandardScaler(), [\n",
    "        \"attractive_partner\", \"sincere_partner\",\"intelligence_partner\", \"funny_partner\", \"shared_interests_partner\",\"ambition_partner\"]),\n",
    "    (OneHotEncoder(), [\"match\"])\n",
    ")\n",
    "\n",
    "knn_spec = KNeighborsClassifier(n_neighbors=3)\n",
    "\n",
    "X = speeddating_train[[\n",
    "    \"attractive_partner\", \"sincere_partner\",\"intelligence_partner\", \"funny_partner\", \"shared_interests_partner\",\"ambition_partner\"]]\n",
    "y = speeddating_train[\"match\"]\n",
    "\n",
    "speeddating_fit = make_pipeline(speeddating_preprocessor, knn_spec).fit(X, y)\n",
    "\n",
    "speeddating_test_predictions = speeddating_fit.predict(speeddating_test)\n",
    "speeddating_test_predictions = pd.concat(\n",
    "    [\n",
    "        speeddating_test.reset_index(drop=True),\n",
    "        pd.DataFrame(speeddating_test_predictions, columns=[\"predicted\"]),\n",
    "    ],\n",
    "    axis=1,\n",
    ")\n",
    "\n",
    "speeddating_test_predictions"
   ]
  },
  {
   "cell_type": "code",
   "execution_count": null,
   "id": "74079344-8e82-482f-8367-99219a18e62a",
   "metadata": {},
   "outputs": [],
   "source": [
    "X_test = speeddating_test[[\n",
    "    \"attractive_partner\", \"sincere_partner\",\"intelligence_partner\", \"funny_partner\", \"shared_interests_partner\",\"ambition_partner\"]]\n",
    "y_test = speeddating_test[\"match\"]\n",
    "\n",
    "speeddating_prediction_accuracy = speeddating_fit.score(X_test, y_test)\n",
    "\n",
    "speeddating_prediction_accuracy"
   ]
  },
  {
   "cell_type": "code",
   "execution_count": null,
   "id": "bd45c91f-f849-44c3-b99f-f50615455c4a",
   "metadata": {},
   "outputs": [],
   "source": [
    "speeddating_mat = sklearn.metrics.confusion_matrix(\n",
    "    speeddating_test_predictions[\"match\"],\n",
    "    speeddating_test_predictions[\"predicted\"],\n",
    "    labels=speeddating_fit.classes_,\n",
    ")\n",
    "\n",
    "from sklearn.metrics import ConfusionMatrixDisplay\n",
    "\n",
    "disp = ConfusionMatrixDisplay(\n",
    "    confusion_matrix=speeddating_mat, display_labels=speeddating_fit.classes_\n",
    ")\n",
    "disp.plot()"
   ]
  },
  {
   "cell_type": "code",
   "execution_count": null,
   "id": "b53f5283-5a6d-40ed-b8a0-6ac374349c08",
   "metadata": {},
   "outputs": [],
   "source": [
    "X_val = speeddating_train[[\n",
    "    \"attractive_partner\", \"sincere_partner\",\"intelligence_partner\", \"funny_partner\", \"shared_interests_partner\",\"ambition_partner\"]]\n",
    "y_val = speeddating_train[\"match\"]\n",
    "\n",
    "speeddating_pipe = make_pipeline(speeddating_preprocessor, knn_spec)\n",
    "\n",
    "speeddating_vfold_score = cross_validate(estimator=speeddating_pipe,  cv=5, X=X_val, y=y_val, return_train_score=True,)\n",
    "\n",
    "pd.DataFrame(speeddating_vfold_score)\n",
    "\n",
    "speeddating_metrics_mean = pd.DataFrame(speeddating_vfold_score).mean()\n",
    "speeddating_metrics_std = pd.DataFrame(speeddating_vfold_score).std()"
   ]
  },
  {
   "cell_type": "code",
   "execution_count": null,
   "id": "b4577fa1-aa37-4a21-85d8-c5b9c9518368",
   "metadata": {},
   "outputs": [],
   "source": [
    "# hyperparameter opitmization\n",
    "from sklearn.model_selection import (\n",
    "    GridSearchCV,\n",
    "    RandomizedSearchCV,\n",
    "    cross_validate,\n",
    "    train_test_split,\n",
    "    ParameterGrid)\n",
    "\n",
    "# specify a particular value for the n_neighbors argument\n",
    "# pass the set of values for each parameters you would like to tune\n",
    "param_grid = {\n",
    "  \"kneighborsclassifier__n_neighbors\": range(2,15,1),\n",
    "}\n",
    "\n",
    "# redefine the pipeline to use default values for parameters\n",
    "speeddating_tune_pipe = make_pipeline(\n",
    "  speeddating_preprocessor,\n",
    "  KNeighborsClassifier())\n",
    "\n",
    "# run 5-fold-cross-validations to tune hyperparameters\n",
    "knn_tune_grid = GridSearchCV(\n",
    "  estimator=speeddating_tune_pipe,\n",
    "  param_grid=param_grid,\n",
    "  cv=5\n",
    ")\n",
    "\n",
    "\n",
    "# fit the models to the data\n",
    "# predictors and target\n",
    "X_tune=speeddating_training[[\"attractive_partner\", \"sincere_partner\",\"intelligence_partner\", \"funny_partner\", \"shared_interests_partner\",\"ambition_partner\"]]\n",
    "y_tune=speeddating_training[\"match\"]\n",
    "\n",
    "# assign tuned models\n",
    "knn_model_grid = knn_tune_grid.fit(X_tune, y_tune)\n",
    "\n",
    "\n",
    "# find the cv_results_ and save in dataframe\n",
    "accuracies_grid = pd.DataFrame(knn_model_grid.cv_results_)\n",
    "\n",
    "\n",
    "# use a line plot to find the best value of the number of neighbors\n",
    "accuracy_versus_k_grid = (\n",
    "    alt.Chart(accuracies_grid, title=\"Grid Search\")\n",
    "    .mark_line(point=True)\n",
    "    .encode(\n",
    "        x=alt.X(\n",
    "            \"param_kneighborsclassifier__n_neighbors\",\n",
    "            title=\"Neighbors\",\n",
    "            scale=alt.Scale(zero=False),\n",
    "        ),\n",
    "        y=alt.Y(\n",
    "            \"mean_test_score\", \n",
    "            title=\"Mean Test Score\", \n",
    "            scale=alt.Scale(zero=False)\n",
    "        ),\n",
    "    )\n",
    "    .configure_axis(labelFontSize=10, titleFontSize=15)\n",
    "    .properties(width=400, height=300)\n",
    ")\n",
    "accuracy_versus_k_grid\n"
   ]
  },
  {
   "cell_type": "markdown",
   "id": "2e4494aa-48e4-4fad-980e-4754db450768",
   "metadata": {},
   "source": [
    "The grid search plot shows us that n=6 has the highest accuracy while n=3 has the lowest. Therefore, we will use 6 as the k value for our KNeighborsClassifier"
   ]
  },
  {
   "cell_type": "markdown",
   "id": "ebf041bd-1f2e-42cd-b304-74f129dc090f",
   "metadata": {},
   "source": [
    "#### Cross Validation (CV)"
   ]
  },
  {
   "cell_type": "markdown",
   "id": "916cbe69-a969-4ee6-ba42-705a759403e4",
   "metadata": {},
   "source": [
    "##### CV Accuracy: Attractive of the Partner & Match"
   ]
  },
  {
   "cell_type": "code",
   "execution_count": null,
   "id": "5c6b11a4-5270-45f3-860c-21bb2d7ad88c",
   "metadata": {},
   "outputs": [],
   "source": [
    "np.random.seed(1000)\n",
    "speeddating_preprocessor = make_column_transformer(\n",
    "    (StandardScaler(), [\"attractive_partner\"]),\n",
    ")\n",
    "\n",
    "# create the 25/75 split of the *training data* into sub-training and validation\n",
    "speeddating_subtrain, speeddating_validation = train_test_split(\n",
    "    speeddating_training, test_size=0.25\n",
    ")\n",
    "\n",
    "# fit the model on the sub-training data\n",
    "knn = KNeighborsClassifier(n_neighbors=6) \n",
    "X = speeddating_subtrain.loc[:, [\"attractive_partner\"]]\n",
    "y = speeddating_subtrain[\"match\"]\n",
    "knn_fit = make_pipeline(speeddating_preprocessor, knn).fit(X, y)\n",
    "\n",
    "# compute the score on validation data\n",
    "acc = knn_fit.score(\n",
    "    speeddating_validation.loc[:, [\"attractive_partner\"]],\n",
    "    speeddating_validation[\"match\"]\n",
    ")\n",
    "acc"
   ]
  },
  {
   "cell_type": "markdown",
   "id": "8878d27a-65e4-4e37-b4ee-6cee99aed242",
   "metadata": {},
   "source": [
    "##### CV Accuracy: Intelligence of the Partner & Match"
   ]
  },
  {
   "cell_type": "code",
   "execution_count": null,
   "id": "681b163f-3cc8-46ab-8381-af17808a3083",
   "metadata": {},
   "outputs": [],
   "source": [
    "np.random.seed(1000)\n",
    "speeddating_preprocessor = make_column_transformer(\n",
    "    (StandardScaler(), [\"intelligence_partner\"]),\n",
    ")\n",
    "\n",
    "# create the 25/75 split of the *training data* into sub-training and validation\n",
    "speeddating_subtrain, speeddating_validation = train_test_split(\n",
    "    speeddating_training, test_size=0.25\n",
    ")\n",
    "\n",
    "# fit the model on the sub-training data\n",
    "knn = KNeighborsClassifier(n_neighbors=6) \n",
    "X = speeddating_subtrain.loc[:, [\"intelligence_partner\"]]\n",
    "y = speeddating_subtrain[\"match\"]\n",
    "knn_fit = make_pipeline(speeddating_preprocessor, knn).fit(X, y)\n",
    "\n",
    "# compute the score on validation data\n",
    "acc = knn_fit.score(\n",
    "    speeddating_validation.loc[:, [\"intelligence_partner\"]],\n",
    "    speeddating_validation[\"match\"]\n",
    ")\n",
    "acc"
   ]
  },
  {
   "cell_type": "markdown",
   "id": "18227c4b-2ca9-447b-8e13-1f828e2b9ac8",
   "metadata": {},
   "source": [
    "##### CV Accuracy: Funny attribute of Partner & Match"
   ]
  },
  {
   "cell_type": "code",
   "execution_count": null,
   "id": "1518a3c4-5302-4a4d-9806-f2d76cbbe147",
   "metadata": {},
   "outputs": [],
   "source": [
    "np.random.seed(1000)\n",
    "speeddating_preprocessor = make_column_transformer(\n",
    "    (StandardScaler(), [\"funny_partner\"]),\n",
    ")\n",
    "\n",
    "# create the 25/75 split of the *training data* into sub-training and validation\n",
    "speeddating_subtrain, speeddating_validation = train_test_split(\n",
    "    speeddating_training, test_size=0.25\n",
    ")\n",
    "\n",
    "# fit the model on the sub-training data\n",
    "knn = KNeighborsClassifier(n_neighbors=6) \n",
    "X = speeddating_subtrain.loc[:, [\"funny_partner\"]]\n",
    "y = speeddating_subtrain[\"match\"]\n",
    "knn_fit = make_pipeline(speeddating_preprocessor, knn).fit(X, y)\n",
    "\n",
    "# compute the score on validation data\n",
    "acc = knn_fit.score(\n",
    "    speeddating_validation.loc[:, [\"funny_partner\"]],\n",
    "    speeddating_validation[\"match\"]\n",
    ")\n",
    "acc"
   ]
  },
  {
   "cell_type": "markdown",
   "id": "c6c599e5-04ff-453b-a376-94c986071c31",
   "metadata": {},
   "source": [
    "##### CV Accuracy: Shared Interests attribute of Partner & Match"
   ]
  },
  {
   "cell_type": "code",
   "execution_count": null,
   "id": "ac18b279-7b88-4357-aa43-b917a412a79f",
   "metadata": {},
   "outputs": [],
   "source": [
    "np.random.seed(1000)\n",
    "speeddating_preprocessor = make_column_transformer(\n",
    "    (StandardScaler(), [\"shared_interests_partner\"]),\n",
    ")\n",
    "\n",
    "# create the 25/75 split of the *training data* into sub-training and validation\n",
    "speeddating_subtrain, speeddating_validation = train_test_split(\n",
    "    speeddating_training, test_size=0.25\n",
    ")\n",
    "\n",
    "# fit the model on the sub-training data\n",
    "knn = KNeighborsClassifier(n_neighbors=6) \n",
    "X = speeddating_subtrain.loc[:, [\"shared_interests_partner\"]]\n",
    "y = speeddating_subtrain[\"match\"]\n",
    "knn_fit = make_pipeline(speeddating_preprocessor, knn).fit(X, y)\n",
    "\n",
    "# compute the score on validation data\n",
    "acc = knn_fit.score(\n",
    "    speeddating_validation.loc[:, [\"shared_interests_partner\"]],\n",
    "    speeddating_validation[\"match\"]\n",
    ")\n",
    "acc"
   ]
  },
  {
   "cell_type": "markdown",
   "id": "74e02afc-8a42-47f9-907a-2b29abecb5b3",
   "metadata": {},
   "source": [
    "##### CV Accuracy: Ambition attribute of Partner & Match"
   ]
  },
  {
   "cell_type": "code",
   "execution_count": null,
   "id": "fe2ada54-5b73-4cc2-8ce2-f70ede00195b",
   "metadata": {},
   "outputs": [],
   "source": [
    "np.random.seed(1000)\n",
    "# fit the model on the sub-training data\n",
    "speeddating_preprocessor = make_column_transformer(\n",
    "    (StandardScaler(), [\"ambition_partner\"]),\n",
    ")\n",
    "\n",
    "# create the 25/75 split of the *training data* into sub-training and validation\n",
    "speeddating_subtrain, speeddating_validation = train_test_split(\n",
    "    speeddating_training, test_size=0.25\n",
    ")\n",
    "\n",
    "knn = KNeighborsClassifier(n_neighbors=6) \n",
    "X = speeddating_subtrain.loc[:, [\"ambition_partner\"]]\n",
    "y = speeddating_subtrain[\"match\"]\n",
    "knn_fit = make_pipeline(speeddating_preprocessor, knn).fit(X, y)\n",
    "\n",
    "# compute the score on validation data\n",
    "acc = knn_fit.score(\n",
    "    speeddating_validation.loc[:, [\"ambition_partner\"]],\n",
    "    speeddating_validation[\"match\"]\n",
    ")\n",
    "acc"
   ]
  },
  {
   "cell_type": "markdown",
   "id": "48dd4543-e791-4e27-8ff6-6a906b492d9a",
   "metadata": {},
   "source": [
    "##### CV Accuracy: Sincere attribute of Partner & Match"
   ]
  },
  {
   "cell_type": "code",
   "execution_count": null,
   "id": "09c115b9-d3a4-4b7e-8ab8-ae8399947283",
   "metadata": {},
   "outputs": [],
   "source": [
    "np.random.seed(1000)\n",
    "speeddating_preprocessor = make_column_transformer(\n",
    "    (StandardScaler(), [\"sincere_partner\"]),\n",
    ")\n",
    "\n",
    "# create the 25/75 split of the *training data* into sub-training and validation\n",
    "speeddating_subtrain, speeddating_validation = train_test_split(\n",
    "    speeddating_training, test_size=0.25\n",
    ")\n",
    "\n",
    "# fit the model on the sub-training data\n",
    "knn = KNeighborsClassifier(n_neighbors=6) \n",
    "X = speeddating_subtrain.loc[:, [\"sincere_partner\"]]\n",
    "y = speeddating_subtrain[\"match\"]\n",
    "knn_fit = make_pipeline(speeddating_preprocessor, knn).fit(X, y)\n",
    "\n",
    "# compute the score on validation data\n",
    "acc = knn_fit.score(\n",
    "    speeddating_validation.loc[:, [\"sincere_partner\"]],\n",
    "    speeddating_validation[\"match\"]\n",
    ")\n",
    "acc"
   ]
  },
  {
   "cell_type": "markdown",
   "id": "2b640215-098e-4319-9da3-6e45b2a7ea47",
   "metadata": {},
   "source": [
    "##### CV Accuracy: Sincere, intelligence, ambition, and shared interests attributes of Partner & Match"
   ]
  },
  {
   "cell_type": "code",
   "execution_count": null,
   "id": "4690a17d-d698-407a-b2b6-d5e09688344a",
   "metadata": {},
   "outputs": [],
   "source": [
    "np.random.seed(1000)\n",
    "# fit the model on the sub-training data\n",
    "speeddating_preprocessor = make_column_transformer(\n",
    "    (StandardScaler(), [\"sincere_partner\",\"intelligence_partner\", \"shared_interests_partner\", \"ambition_partner\"]),\n",
    ")\n",
    "\n",
    "# create the 25/75 split of the *training data* into sub-training and validation\n",
    "speeddating_subtrain, speeddating_validation = train_test_split(\n",
    "    speeddating_training, test_size=0.25\n",
    ")\n",
    "\n",
    "knn = KNeighborsClassifier(n_neighbors=6) \n",
    "X = speeddating_subtrain.loc[:, [\"sincere_partner\",\"intelligence_partner\", \"shared_interests_partner\", \"ambition_partner\"]]\n",
    "y = speeddating_subtrain[\"match\"]\n",
    "knn_fit = make_pipeline(speeddating_preprocessor, knn).fit(X, y)\n",
    "\n",
    "# compute the score on validation data\n",
    "acc = knn_fit.score(\n",
    "    speeddating_validation.loc[:, [\"sincere_partner\",\"intelligence_partner\", \"shared_interests_partner\", \"ambition_partner\"]],\n",
    "    speeddating_validation[\"match\"]\n",
    ")\n",
    "acc"
   ]
  },
  {
   "cell_type": "markdown",
   "id": "39405852-3538-4dd4-a7c5-dac4064b2442",
   "metadata": {},
   "source": [
    "When we test the accuracy of the model after dropping the columns of \"attractive_partner\" and \"funny_partner\", leaving us to use the predictors of sincerity, intelligence, ambition, and shared interests, the score was 0.87. This is a fairly high score but since we have found that attractiveness is a strong predictor and shared interests a weak predictor for matching, we will try another model using the additional predictor of \"attractive_partner\" while taking out \"shared_interests_partner\"."
   ]
  },
  {
   "cell_type": "code",
   "execution_count": null,
   "id": "0921649e-1139-4d92-a3eb-8903cc965283",
   "metadata": {},
   "outputs": [],
   "source": [
    "np.random.seed(1000)\n",
    "# fit the model on the sub-training data\n",
    "speeddating_preprocessor = make_column_transformer(\n",
    "    (StandardScaler(), [\"attractive_partner\",\"sincere_partner\",\"intelligence_partner\", \"ambition_partner\"]),\n",
    ")\n",
    "\n",
    "# create the 25/75 split of the *training data* into sub-training and validation\n",
    "speeddating_subtrain, speeddating_validation = train_test_split(\n",
    "    speeddating_training, test_size=0.25\n",
    ")\n",
    "\n",
    "knn = KNeighborsClassifier(n_neighbors=6) \n",
    "X = speeddating_subtrain.loc[:, [\"attractive_partner\", \"sincere_partner\",\"intelligence_partner\", \"ambition_partner\"]]\n",
    "y = speeddating_subtrain[\"match\"]\n",
    "knn_fit = make_pipeline(speeddating_preprocessor, knn).fit(X, y)\n",
    "\n",
    "# compute the score on validation data\n",
    "acc = knn_fit.score(\n",
    "    speeddating_validation.loc[:, [\"attractive_partner\",\"sincere_partner\",\"intelligence_partner\", \"ambition_partner\"]],\n",
    "    speeddating_validation[\"match\"]\n",
    ")\n",
    "acc"
   ]
  },
  {
   "cell_type": "code",
   "execution_count": null,
   "id": "f91461df-83e4-4af4-9112-22cee200e34e",
   "metadata": {},
   "outputs": [],
   "source": [
    "final_speeddating = speeddating[[\"sincere_partner\",\"intelligence_partner\", \"shared_interests_partner\", \"ambition_partner\", \"match\"]]\n",
    "final_speeddating.head(5)"
   ]
  },
  {
   "cell_type": "code",
   "execution_count": null,
   "id": "0f1219a9-75a7-4e86-8423-25721097c08a",
   "metadata": {},
   "outputs": [],
   "source": [
    "final_speeddating_train, final_speeddating_test = train_test_split(final_speeddating, test_size=0.25, random_state=123) # set the random state to be 123\n"
   ]
  },
  {
   "cell_type": "markdown",
   "id": "96b66435-6140-4e7b-8582-846cb764cc5e",
   "metadata": {},
   "source": [
    "## Discussion"
   ]
  },
  {
   "cell_type": "markdown",
   "id": "c00c657f-2f1f-4f5c-b4be-1aa0957b0402",
   "metadata": {},
   "source": [
    "#### Summary of results:"
   ]
  },
  {
   "cell_type": "markdown",
   "id": "7f2cec9d-2f65-494f-aab6-f45def93d71e",
   "metadata": {},
   "source": [
    "#### Expectations and impacts of results:"
   ]
  },
  {
   "cell_type": "markdown",
   "id": "ce0c2a10-02c7-4aad-8c84-a6d0586d96c1",
   "metadata": {},
   "source": [
    "#### Future questions"
   ]
  },
  {
   "cell_type": "code",
   "execution_count": null,
   "id": "502f2db5-b2bd-487e-baa6-a32d2b3e4a94",
   "metadata": {},
   "outputs": [],
   "source": []
  },
  {
   "cell_type": "markdown",
   "id": "5423e538-4ad2-4558-9fc1-4d76fb74c43f",
   "metadata": {},
   "source": [
    "### Sources/ Citation "
   ]
  },
  {
   "cell_type": "code",
   "execution_count": null,
   "id": "cc8ba639-e9cf-402a-83dc-872826803ffd",
   "metadata": {},
   "outputs": [],
   "source": []
  },
  {
   "cell_type": "markdown",
   "id": "5d5dae9f-cc28-4420-a94d-25f7ae9a44d2",
   "metadata": {},
   "source": [
    "#### messy data wrangling, clean up later"
   ]
  },
  {
   "cell_type": "code",
   "execution_count": 10,
   "id": "4d18b2ee-de33-4bfb-b4f7-53e6d0e0d4c7",
   "metadata": {},
   "outputs": [
    {
     "name": "stdout",
     "output_type": "stream",
     "text": [
      "<class 'pandas.core.frame.DataFrame'>\n",
      "Int64Index: 619 entries, 2778 to 5556\n",
      "Data columns (total 7 columns):\n",
      " #   Column                    Non-Null Count  Dtype   \n",
      "---  ------                    --------------  -----   \n",
      " 0   match                     619 non-null    category\n",
      " 1   attractive_partner        619 non-null    float64 \n",
      " 2   sincere_partner           619 non-null    float64 \n",
      " 3   intelligence_partner      619 non-null    float64 \n",
      " 4   funny_partner             619 non-null    float64 \n",
      " 5   ambition_partner          619 non-null    float64 \n",
      " 6   shared_interests_partner  619 non-null    float64 \n",
      "dtypes: category(1), float64(6)\n",
      "memory usage: 34.6 KB\n"
     ]
    },
    {
     "data": {
      "text/plain": [
       "0.8129032258064516"
      ]
     },
     "execution_count": 10,
     "metadata": {},
     "output_type": "execute_result"
    }
   ],
   "source": [
    "# first combination: attractiveness, intelligence, funny, sincere\n",
    "np.random.seed(1000)\n",
    "\n",
    "speeddating_train, speeddating_test = train_test_split(\n",
    "    speeddating, train_size=0.75, stratify=speeddating[\"match\"]\n",
    ")\n",
    "speeddating_train.info()\n",
    "\n",
    "speeddating_train[\"match\"].value_counts(normalize=True)\n",
    "\n",
    "# preprocess data\n",
    "speeddating_preprocessor = make_column_transformer(\n",
    "    (StandardScaler(), [\"attractive_partner\", \"intelligence_partner\", \n",
    "                        \"funny_partner\", \"sincere_partner\"])\n",
    ")\n",
    "\n",
    "# make a dataframe for finding the highest accuracy\n",
    "# accuracies grid\n",
    "knn = KNeighborsClassifier()\n",
    "speeddating_tune_pipe = make_pipeline(speeddating_preprocessor, knn)\n",
    "\n",
    "\n",
    "parameter_grid = {\n",
    "    \"kneighborsclassifier__n_neighbors\": range(1, 100, 5),\n",
    "}\n",
    "\n",
    "speeddating_tune_grid = GridSearchCV(\n",
    "    estimator=speeddating_tune_pipe,\n",
    "    param_grid=parameter_grid,\n",
    "    cv=10\n",
    ")\n",
    "\n",
    "accuracies_grid = pd.DataFrame(\n",
    "             speeddating_tune_grid\n",
    "             .fit(speeddating_train.loc[:, [\"attractive_partner\", \"intelligence_partner\",\n",
    "                                            \"funny_partner\", \"sincere_partner\"]],\n",
    "                  speeddating_train[\"match\"]\n",
    "            ).cv_results_)\n",
    "\n",
    "\n",
    "accuracies_grid = accuracies_grid[[\"param_kneighborsclassifier__n_neighbors\", \n",
    "                                   \"mean_test_score\", \"std_test_score\"]\n",
    "              ].assign(\n",
    "                  sem_test_score = accuracies_grid[\"std_test_score\"] / 10**(1/2)\n",
    "              ).rename(\n",
    "                  columns = {\"param_kneighborsclassifier__n_neighbors\" : \"n_neighbors\"}\n",
    "              ).drop(\n",
    "                  columns = [\"std_test_score\"]\n",
    "              )\n",
    "accuracies_grid\n",
    "\n",
    "\n",
    "\n",
    "\n",
    "# now use k=6 to find accuracy of model?\n",
    "# use a split of the training set for validation set\n",
    "# create the 25/75 split of the *training data* into sub-training and validation\n",
    "speeddating_subtrain, speeddating_validation = train_test_split(\n",
    "    speeddating_train, test_size=0.25\n",
    ")\n",
    "\n",
    "# fit the model on the sub-training data\n",
    "knn = KNeighborsClassifier(n_neighbors=6) \n",
    "X = speeddating_subtrain.loc[:, [\"attractive_partner\",\"intelligence_partner\",\n",
    "                                 \"funny_partner\", \"sincere_partner\"]]\n",
    "y = speeddating_subtrain[\"match\"]\n",
    "knn_fit = make_pipeline(speeddating_preprocessor, knn).fit(X, y)\n",
    "\n",
    "# compute the score on validation data\n",
    "acc = knn_fit.score(\n",
    "    speeddating_validation.loc[:, [\"attractive_partner\",\"intelligence_partner\",\n",
    "                                   \"funny_partner\", \"sincere_partner\"]],\n",
    "    speeddating_validation[\"match\"]\n",
    ")\n",
    "acc"
   ]
  },
  {
   "cell_type": "code",
   "execution_count": 17,
   "id": "dd015419-ccf1-459e-b2b6-bb7476b15d5b",
   "metadata": {},
   "outputs": [
    {
     "name": "stdout",
     "output_type": "stream",
     "text": [
      "<class 'pandas.core.frame.DataFrame'>\n",
      "Int64Index: 619 entries, 2778 to 5556\n",
      "Data columns (total 7 columns):\n",
      " #   Column                    Non-Null Count  Dtype   \n",
      "---  ------                    --------------  -----   \n",
      " 0   match                     619 non-null    category\n",
      " 1   attractive_partner        619 non-null    float64 \n",
      " 2   sincere_partner           619 non-null    float64 \n",
      " 3   intelligence_partner      619 non-null    float64 \n",
      " 4   funny_partner             619 non-null    float64 \n",
      " 5   ambition_partner          619 non-null    float64 \n",
      " 6   shared_interests_partner  619 non-null    float64 \n",
      "dtypes: category(1), float64(6)\n",
      "memory usage: 34.6 KB\n"
     ]
    },
    {
     "data": {
      "text/plain": [
       "0.7935483870967742"
      ]
     },
     "execution_count": 17,
     "metadata": {},
     "output_type": "execute_result"
    }
   ],
   "source": [
    "# second combination: sincere, intelligence, shared interests, ambition \n",
    "np.random.seed(1000)\n",
    "\n",
    "speeddating_train, speeddating_test = train_test_split(\n",
    "    speeddating, train_size=0.75, stratify=speeddating[\"match\"]\n",
    ")\n",
    "speeddating_train.info()\n",
    "\n",
    "speeddating_train[\"match\"].value_counts(normalize=True)\n",
    "\n",
    "# preprocess data\n",
    "speeddating_preprocessor = make_column_transformer(\n",
    "    (StandardScaler(), [\"sincere_partner\",\"intelligence_partner\",\n",
    "                        \"shared_interests_partner\", \"ambition_partner\"])\n",
    ")\n",
    "\n",
    "# make a dataframe for finding the highest accuracy\n",
    "# accuracies grid\n",
    "knn = KNeighborsClassifier()\n",
    "speeddating_tune_pipe = make_pipeline(speeddating_preprocessor, knn)\n",
    "\n",
    "\n",
    "parameter_grid = {\n",
    "    \"kneighborsclassifier__n_neighbors\": range(1, 100, 5),\n",
    "}\n",
    "\n",
    "speeddating_tune_grid = GridSearchCV(\n",
    "    estimator=speeddating_tune_pipe,\n",
    "    param_grid=parameter_grid,\n",
    "    cv=10\n",
    ")\n",
    "\n",
    "accuracies_grid = pd.DataFrame(\n",
    "             speeddating_tune_grid\n",
    "             .fit(speeddating_train.loc[:, [\"sincere_partner\",\"intelligence_partner\",\n",
    "                                            \"shared_interests_partner\", \"ambition_partner\"]],\n",
    "                  speeddating_train[\"match\"]\n",
    "            ).cv_results_)\n",
    "\n",
    "\n",
    "accuracies_grid = accuracies_grid[[\"param_kneighborsclassifier__n_neighbors\", \n",
    "                                   \"mean_test_score\", \"std_test_score\"]\n",
    "              ].assign(\n",
    "                  sem_test_score = accuracies_grid[\"std_test_score\"] / 10**(1/2)\n",
    "              ).rename(\n",
    "                  columns = {\"param_kneighborsclassifier__n_neighbors\" : \"n_neighbors\"}\n",
    "              ).drop(\n",
    "                  columns = [\"std_test_score\"]\n",
    "              )\n",
    "accuracies_grid\n",
    "\n",
    "\n",
    "\n",
    "\n",
    "# k=56 has the highest accuracy :O\n",
    "# k=6 had accuracy of 0.787 and k=56 has 0.794\n",
    "# use a split of the training set for validation set\n",
    "# create the 25/75 split of the *training data* into sub-training and validation\n",
    "speeddating_subtrain, speeddating_validation = train_test_split(\n",
    "    speeddating_train, test_size=0.25\n",
    ")\n",
    "\n",
    "# fit the model on the sub-training data\n",
    "knn = KNeighborsClassifier(n_neighbors=56) \n",
    "X = speeddating_subtrain.loc[:, [\"sincere_partner\",\"intelligence_partner\",\n",
    "                                 \"shared_interests_partner\", \"ambition_partner\"]]\n",
    "y = speeddating_subtrain[\"match\"]\n",
    "knn_fit = make_pipeline(speeddating_preprocessor, knn).fit(X, y)\n",
    "\n",
    "# compute the score on validation data\n",
    "acc = knn_fit.score(\n",
    "    speeddating_validation.loc[:, [\"sincere_partner\",\"intelligence_partner\",\n",
    "                                   \"shared_interests_partner\", \"ambition_partner\"]],\n",
    "    speeddating_validation[\"match\"]\n",
    ")\n",
    "acc"
   ]
  },
  {
   "cell_type": "code",
   "execution_count": 22,
   "id": "9f09ca7a-0550-4f16-8eec-55dae7592296",
   "metadata": {},
   "outputs": [
    {
     "name": "stdout",
     "output_type": "stream",
     "text": [
      "<class 'pandas.core.frame.DataFrame'>\n",
      "Int64Index: 619 entries, 2778 to 5556\n",
      "Data columns (total 7 columns):\n",
      " #   Column                    Non-Null Count  Dtype   \n",
      "---  ------                    --------------  -----   \n",
      " 0   match                     619 non-null    category\n",
      " 1   attractive_partner        619 non-null    float64 \n",
      " 2   sincere_partner           619 non-null    float64 \n",
      " 3   intelligence_partner      619 non-null    float64 \n",
      " 4   funny_partner             619 non-null    float64 \n",
      " 5   ambition_partner          619 non-null    float64 \n",
      " 6   shared_interests_partner  619 non-null    float64 \n",
      "dtypes: category(1), float64(6)\n",
      "memory usage: 34.6 KB\n"
     ]
    },
    {
     "data": {
      "text/plain": [
       "0.7935483870967742"
      ]
     },
     "execution_count": 22,
     "metadata": {},
     "output_type": "execute_result"
    }
   ],
   "source": [
    "# third combination: attractiveness, funny, shared_interests, intelligence\n",
    "np.random.seed(1000)\n",
    "\n",
    "speeddating_train, speeddating_test = train_test_split(\n",
    "    speeddating, train_size=0.75, stratify=speeddating[\"match\"]\n",
    ")\n",
    "speeddating_train.info()\n",
    "\n",
    "speeddating_train[\"match\"].value_counts(normalize=True)\n",
    "\n",
    "# preprocess data\n",
    "speeddating_preprocessor = make_column_transformer(\n",
    "    (StandardScaler(), [\"attractive_partner\",\"intelligence_partner\",\n",
    "                        \"funny_partner\", \"shared_interests_partner\"])\n",
    ")\n",
    "\n",
    "# make a dataframe for finding the highest accuracy\n",
    "# accuracies grid\n",
    "knn = KNeighborsClassifier()\n",
    "speeddating_tune_pipe = make_pipeline(speeddating_preprocessor, knn)\n",
    "\n",
    "\n",
    "parameter_grid = {\n",
    "    \"kneighborsclassifier__n_neighbors\": range(1, 100, 5),\n",
    "}\n",
    "\n",
    "speeddating_tune_grid = GridSearchCV(\n",
    "    estimator=speeddating_tune_pipe,\n",
    "    param_grid=parameter_grid,\n",
    "    cv=10\n",
    ")\n",
    "\n",
    "accuracies_grid = pd.DataFrame(\n",
    "             speeddating_tune_grid\n",
    "             .fit(speeddating_train.loc[:, [\"attractive_partner\",\"intelligence_partner\",\n",
    "                                            \"funny_partner\", \"shared_interests_partner\"]],\n",
    "                  speeddating_train[\"match\"]\n",
    "            ).cv_results_)\n",
    "\n",
    "\n",
    "accuracies_grid = accuracies_grid[[\"param_kneighborsclassifier__n_neighbors\", \n",
    "                                   \"mean_test_score\", \"std_test_score\"]\n",
    "              ].assign(\n",
    "                  sem_test_score = accuracies_grid[\"std_test_score\"] / 10**(1/2)\n",
    "              ).rename(\n",
    "                  columns = {\"param_kneighborsclassifier__n_neighbors\" : \"n_neighbors\"}\n",
    "              ).drop(\n",
    "                  columns = [\"std_test_score\"]\n",
    "              )\n",
    "accuracies_grid\n",
    "\n",
    "\n",
    "\n",
    "\n",
    "# k=51 and k=11 have the highest accuracy but k=51 has the lower std\n",
    "\n",
    "# use a split of the training set for validation set\n",
    "# create the 25/75 split of the *training data* into sub-training and validation\n",
    "speeddating_subtrain, speeddating_validation = train_test_split(\n",
    "    speeddating_train, test_size=0.25\n",
    ")\n",
    "\n",
    "# fit the model on the sub-training data\n",
    "knn = KNeighborsClassifier(n_neighbors=51) \n",
    "X = speeddating_subtrain.loc[:, [\"attractive_partner\",\"intelligence_partner\",\n",
    "                                \"funny_partner\", \"shared_interests_partner\"]]\n",
    "y = speeddating_subtrain[\"match\"]\n",
    "knn_fit = make_pipeline(speeddating_preprocessor, knn).fit(X, y)\n",
    "\n",
    "# compute the score on validation data\n",
    "acc = knn_fit.score(\n",
    "    speeddating_validation.loc[:, [\"attractive_partner\",\"intelligence_partner\",\n",
    "                                    \"funny_partner\", \"shared_interests_partner\"]],\n",
    "    speeddating_validation[\"match\"]\n",
    ")\n",
    "acc"
   ]
  },
  {
   "cell_type": "code",
   "execution_count": null,
   "id": "0278a0bd-3f75-41d9-a06c-f502ea8e5525",
   "metadata": {},
   "outputs": [],
   "source": []
  }
 ],
 "metadata": {
  "kernelspec": {
   "display_name": "Python 3 (ipykernel)",
   "language": "python",
   "name": "python3"
  },
  "language_info": {
   "codemirror_mode": {
    "name": "ipython",
    "version": 3
   },
   "file_extension": ".py",
   "mimetype": "text/x-python",
   "name": "python",
   "nbconvert_exporter": "python",
   "pygments_lexer": "ipython3",
   "version": "3.10.8"
  }
 },
 "nbformat": 4,
 "nbformat_minor": 5
}
