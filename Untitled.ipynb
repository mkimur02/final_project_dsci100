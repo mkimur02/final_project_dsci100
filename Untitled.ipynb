{
 "cells": [
  {
   "cell_type": "markdown",
   "id": "6c778e7e-063a-401d-980f-2539b808ab37",
   "metadata": {},
   "source": [
    "# Speed Dating Analysis Report\n",
    "#### Can we predict whether two heterosexual people matched or not based on 6 attributes after 4 minutes of speed dating? \n",
    "\n",
    "### Introduction:\n",
    "\"Speed dating\" is a matchmaking process that involves two people getting to know each other within a very short time frame (usually less than 10 minutes), and then switching to another person once the time is up. This fast-paced and energetic way of meeting other single people can potentially lead to a match between two people, where they both wish to continue dating. But what factors influence wether or not two people match? <b> Is there a way to predict wether two people will match or not in a speed date based on certain attributes? </b> The Speed Dating dataset posted by Ulrik Thyge Pedersen gathered data from participants in a four minute speed dating experiment where they were asked to rate their date on six different attributes: attractiveness, sincerity, intelligence, fun, ambition, and shared interests. Using this data, we will attempt to predict wether or not two people will match based on these attributes.\n",
    "\n",
    "\n",
    "### Methods:\n",
    "list method EDA? narrate code, interpret. \n",
    "\n",
    "#### Disscussion: \n",
    "add limitation: algorithum and metric accuracy, imbalance of class balance.\n",
    "future ideas:... \n",
    "#### Sources/ Citation \n"
   ]
  },
  {
   "cell_type": "code",
   "execution_count": 1,
   "id": "4628e9f2-c357-49f8-ae3a-12fca0e95580",
   "metadata": {},
   "outputs": [],
   "source": [
    "#Run this cell to import program\n",
    "import altair as alt\n",
    "import pandas as pd\n",
    "import numpy as np\n",
    "import seaborn as sns\n",
    "import matplotlib.pyplot as plt\n",
    "%matplotlib inline\n",
    "import sklearn\n",
    "from sklearn.compose import make_column_transformer\n",
    "from sklearn.metrics.pairwise import euclidean_distances\n",
    "from sklearn.neighbors import KNeighborsClassifier\n",
    "from sklearn.pipeline import Pipeline, make_pipeline\n",
    "from sklearn.preprocessing import OneHotEncoder, StandardScaler\n",
    "from sklearn.model_selection import GridSearchCV, cross_validate, train_test_split"
   ]
  },
  {
   "cell_type": "markdown",
   "id": "6456a3f7-3d8b-49cd-a3cb-e0ebbf6b8ed1",
   "metadata": {},
   "source": [
    "#### Unclean Speed Dating Dataframe"
   ]
  },
  {
   "cell_type": "markdown",
   "id": "a2ae10cd-d143-40d2-956f-95d3eba0aa0b",
   "metadata": {},
   "source": [
    "To begin, we read in the raw data."
   ]
  },
  {
   "cell_type": "code",
   "execution_count": 2,
   "id": "b9cb0691-9acc-4445-97c3-66f90682fbc7",
   "metadata": {},
   "outputs": [
    {
     "data": {
      "text/html": [
       "<div>\n",
       "<style scoped>\n",
       "    .dataframe tbody tr th:only-of-type {\n",
       "        vertical-align: middle;\n",
       "    }\n",
       "\n",
       "    .dataframe tbody tr th {\n",
       "        vertical-align: top;\n",
       "    }\n",
       "\n",
       "    .dataframe thead th {\n",
       "        text-align: right;\n",
       "    }\n",
       "</style>\n",
       "<table border=\"1\" class=\"dataframe\">\n",
       "  <thead>\n",
       "    <tr style=\"text-align: right;\">\n",
       "      <th></th>\n",
       "      <th>has_null</th>\n",
       "      <th>wave</th>\n",
       "      <th>gender</th>\n",
       "      <th>age</th>\n",
       "      <th>age_o</th>\n",
       "      <th>d_age</th>\n",
       "      <th>d_d_age</th>\n",
       "      <th>race</th>\n",
       "      <th>race_o</th>\n",
       "      <th>samerace</th>\n",
       "      <th>...</th>\n",
       "      <th>d_expected_num_interested_in_me</th>\n",
       "      <th>d_expected_num_matches</th>\n",
       "      <th>like</th>\n",
       "      <th>guess_prob_liked</th>\n",
       "      <th>d_like</th>\n",
       "      <th>d_guess_prob_liked</th>\n",
       "      <th>met</th>\n",
       "      <th>decision</th>\n",
       "      <th>decision_o</th>\n",
       "      <th>match</th>\n",
       "    </tr>\n",
       "  </thead>\n",
       "  <tbody>\n",
       "    <tr>\n",
       "      <th>0</th>\n",
       "      <td>b''</td>\n",
       "      <td>1.0</td>\n",
       "      <td>b'female'</td>\n",
       "      <td>21.0</td>\n",
       "      <td>27.0</td>\n",
       "      <td>6.0</td>\n",
       "      <td>b'[4-6]'</td>\n",
       "      <td>b'Asian/Pacific Islander/Asian-American'</td>\n",
       "      <td>b'European/Caucasian-American'</td>\n",
       "      <td>b'0'</td>\n",
       "      <td>...</td>\n",
       "      <td>b'[0-3]'</td>\n",
       "      <td>b'[3-5]'</td>\n",
       "      <td>7.0</td>\n",
       "      <td>6.0</td>\n",
       "      <td>b'[6-8]'</td>\n",
       "      <td>b'[5-6]'</td>\n",
       "      <td>0.0</td>\n",
       "      <td>b'1'</td>\n",
       "      <td>b'0'</td>\n",
       "      <td>b'0'</td>\n",
       "    </tr>\n",
       "    <tr>\n",
       "      <th>1</th>\n",
       "      <td>b''</td>\n",
       "      <td>1.0</td>\n",
       "      <td>b'female'</td>\n",
       "      <td>21.0</td>\n",
       "      <td>22.0</td>\n",
       "      <td>1.0</td>\n",
       "      <td>b'[0-1]'</td>\n",
       "      <td>b'Asian/Pacific Islander/Asian-American'</td>\n",
       "      <td>b'European/Caucasian-American'</td>\n",
       "      <td>b'0'</td>\n",
       "      <td>...</td>\n",
       "      <td>b'[0-3]'</td>\n",
       "      <td>b'[3-5]'</td>\n",
       "      <td>7.0</td>\n",
       "      <td>5.0</td>\n",
       "      <td>b'[6-8]'</td>\n",
       "      <td>b'[5-6]'</td>\n",
       "      <td>1.0</td>\n",
       "      <td>b'1'</td>\n",
       "      <td>b'0'</td>\n",
       "      <td>b'0'</td>\n",
       "    </tr>\n",
       "    <tr>\n",
       "      <th>2</th>\n",
       "      <td>b''</td>\n",
       "      <td>1.0</td>\n",
       "      <td>b'female'</td>\n",
       "      <td>21.0</td>\n",
       "      <td>22.0</td>\n",
       "      <td>1.0</td>\n",
       "      <td>b'[0-1]'</td>\n",
       "      <td>b'Asian/Pacific Islander/Asian-American'</td>\n",
       "      <td>b'Asian/Pacific Islander/Asian-American'</td>\n",
       "      <td>b'1'</td>\n",
       "      <td>...</td>\n",
       "      <td>b'[0-3]'</td>\n",
       "      <td>b'[3-5]'</td>\n",
       "      <td>7.0</td>\n",
       "      <td>NaN</td>\n",
       "      <td>b'[6-8]'</td>\n",
       "      <td>b'[0-4]'</td>\n",
       "      <td>1.0</td>\n",
       "      <td>b'1'</td>\n",
       "      <td>b'1'</td>\n",
       "      <td>b'1'</td>\n",
       "    </tr>\n",
       "    <tr>\n",
       "      <th>3</th>\n",
       "      <td>b''</td>\n",
       "      <td>1.0</td>\n",
       "      <td>b'female'</td>\n",
       "      <td>21.0</td>\n",
       "      <td>23.0</td>\n",
       "      <td>2.0</td>\n",
       "      <td>b'[2-3]'</td>\n",
       "      <td>b'Asian/Pacific Islander/Asian-American'</td>\n",
       "      <td>b'European/Caucasian-American'</td>\n",
       "      <td>b'0'</td>\n",
       "      <td>...</td>\n",
       "      <td>b'[0-3]'</td>\n",
       "      <td>b'[3-5]'</td>\n",
       "      <td>7.0</td>\n",
       "      <td>6.0</td>\n",
       "      <td>b'[6-8]'</td>\n",
       "      <td>b'[5-6]'</td>\n",
       "      <td>0.0</td>\n",
       "      <td>b'1'</td>\n",
       "      <td>b'1'</td>\n",
       "      <td>b'1'</td>\n",
       "    </tr>\n",
       "    <tr>\n",
       "      <th>4</th>\n",
       "      <td>b''</td>\n",
       "      <td>1.0</td>\n",
       "      <td>b'female'</td>\n",
       "      <td>21.0</td>\n",
       "      <td>24.0</td>\n",
       "      <td>3.0</td>\n",
       "      <td>b'[2-3]'</td>\n",
       "      <td>b'Asian/Pacific Islander/Asian-American'</td>\n",
       "      <td>b'Latino/Hispanic American'</td>\n",
       "      <td>b'0'</td>\n",
       "      <td>...</td>\n",
       "      <td>b'[0-3]'</td>\n",
       "      <td>b'[3-5]'</td>\n",
       "      <td>6.0</td>\n",
       "      <td>6.0</td>\n",
       "      <td>b'[6-8]'</td>\n",
       "      <td>b'[5-6]'</td>\n",
       "      <td>0.0</td>\n",
       "      <td>b'1'</td>\n",
       "      <td>b'1'</td>\n",
       "      <td>b'1'</td>\n",
       "    </tr>\n",
       "    <tr>\n",
       "      <th>...</th>\n",
       "      <td>...</td>\n",
       "      <td>...</td>\n",
       "      <td>...</td>\n",
       "      <td>...</td>\n",
       "      <td>...</td>\n",
       "      <td>...</td>\n",
       "      <td>...</td>\n",
       "      <td>...</td>\n",
       "      <td>...</td>\n",
       "      <td>...</td>\n",
       "      <td>...</td>\n",
       "      <td>...</td>\n",
       "      <td>...</td>\n",
       "      <td>...</td>\n",
       "      <td>...</td>\n",
       "      <td>...</td>\n",
       "      <td>...</td>\n",
       "      <td>...</td>\n",
       "      <td>...</td>\n",
       "      <td>...</td>\n",
       "      <td>...</td>\n",
       "    </tr>\n",
       "    <tr>\n",
       "      <th>8373</th>\n",
       "      <td>b''</td>\n",
       "      <td>21.0</td>\n",
       "      <td>b'male'</td>\n",
       "      <td>25.0</td>\n",
       "      <td>26.0</td>\n",
       "      <td>1.0</td>\n",
       "      <td>b'[0-1]'</td>\n",
       "      <td>b'European/Caucasian-American'</td>\n",
       "      <td>b'Latino/Hispanic American'</td>\n",
       "      <td>b'0'</td>\n",
       "      <td>...</td>\n",
       "      <td>b'[0-3]'</td>\n",
       "      <td>b'[3-5]'</td>\n",
       "      <td>2.0</td>\n",
       "      <td>5.0</td>\n",
       "      <td>b'[0-5]'</td>\n",
       "      <td>b'[5-6]'</td>\n",
       "      <td>0.0</td>\n",
       "      <td>b'0'</td>\n",
       "      <td>b'1'</td>\n",
       "      <td>b'0'</td>\n",
       "    </tr>\n",
       "    <tr>\n",
       "      <th>8374</th>\n",
       "      <td>b''</td>\n",
       "      <td>21.0</td>\n",
       "      <td>b'male'</td>\n",
       "      <td>25.0</td>\n",
       "      <td>24.0</td>\n",
       "      <td>1.0</td>\n",
       "      <td>b'[0-1]'</td>\n",
       "      <td>b'European/Caucasian-American'</td>\n",
       "      <td>b'Other'</td>\n",
       "      <td>b'0'</td>\n",
       "      <td>...</td>\n",
       "      <td>b'[0-3]'</td>\n",
       "      <td>b'[3-5]'</td>\n",
       "      <td>4.0</td>\n",
       "      <td>4.0</td>\n",
       "      <td>b'[0-5]'</td>\n",
       "      <td>b'[0-4]'</td>\n",
       "      <td>0.0</td>\n",
       "      <td>b'0'</td>\n",
       "      <td>b'0'</td>\n",
       "      <td>b'0'</td>\n",
       "    </tr>\n",
       "    <tr>\n",
       "      <th>8375</th>\n",
       "      <td>b''</td>\n",
       "      <td>21.0</td>\n",
       "      <td>b'male'</td>\n",
       "      <td>25.0</td>\n",
       "      <td>29.0</td>\n",
       "      <td>4.0</td>\n",
       "      <td>b'[4-6]'</td>\n",
       "      <td>b'European/Caucasian-American'</td>\n",
       "      <td>b'Latino/Hispanic American'</td>\n",
       "      <td>b'0'</td>\n",
       "      <td>...</td>\n",
       "      <td>b'[0-3]'</td>\n",
       "      <td>b'[3-5]'</td>\n",
       "      <td>6.0</td>\n",
       "      <td>5.0</td>\n",
       "      <td>b'[6-8]'</td>\n",
       "      <td>b'[5-6]'</td>\n",
       "      <td>0.0</td>\n",
       "      <td>b'0'</td>\n",
       "      <td>b'0'</td>\n",
       "      <td>b'0'</td>\n",
       "    </tr>\n",
       "    <tr>\n",
       "      <th>8376</th>\n",
       "      <td>b''</td>\n",
       "      <td>21.0</td>\n",
       "      <td>b'male'</td>\n",
       "      <td>25.0</td>\n",
       "      <td>22.0</td>\n",
       "      <td>3.0</td>\n",
       "      <td>b'[2-3]'</td>\n",
       "      <td>b'European/Caucasian-American'</td>\n",
       "      <td>b'Asian/Pacific Islander/Asian-American'</td>\n",
       "      <td>b'0'</td>\n",
       "      <td>...</td>\n",
       "      <td>b'[0-3]'</td>\n",
       "      <td>b'[3-5]'</td>\n",
       "      <td>5.0</td>\n",
       "      <td>5.0</td>\n",
       "      <td>b'[0-5]'</td>\n",
       "      <td>b'[5-6]'</td>\n",
       "      <td>0.0</td>\n",
       "      <td>b'0'</td>\n",
       "      <td>b'1'</td>\n",
       "      <td>b'0'</td>\n",
       "    </tr>\n",
       "    <tr>\n",
       "      <th>8377</th>\n",
       "      <td>b''</td>\n",
       "      <td>21.0</td>\n",
       "      <td>b'male'</td>\n",
       "      <td>25.0</td>\n",
       "      <td>22.0</td>\n",
       "      <td>3.0</td>\n",
       "      <td>b'[2-3]'</td>\n",
       "      <td>b'European/Caucasian-American'</td>\n",
       "      <td>b'Asian/Pacific Islander/Asian-American'</td>\n",
       "      <td>b'0'</td>\n",
       "      <td>...</td>\n",
       "      <td>b'[0-3]'</td>\n",
       "      <td>b'[3-5]'</td>\n",
       "      <td>4.0</td>\n",
       "      <td>5.0</td>\n",
       "      <td>b'[0-5]'</td>\n",
       "      <td>b'[5-6]'</td>\n",
       "      <td>0.0</td>\n",
       "      <td>b'0'</td>\n",
       "      <td>b'1'</td>\n",
       "      <td>b'0'</td>\n",
       "    </tr>\n",
       "  </tbody>\n",
       "</table>\n",
       "<p>8378 rows × 123 columns</p>\n",
       "</div>"
      ],
      "text/plain": [
       "     has_null  wave     gender   age  age_o  d_age   d_d_age  \\\n",
       "0         b''   1.0  b'female'  21.0   27.0    6.0  b'[4-6]'   \n",
       "1         b''   1.0  b'female'  21.0   22.0    1.0  b'[0-1]'   \n",
       "2         b''   1.0  b'female'  21.0   22.0    1.0  b'[0-1]'   \n",
       "3         b''   1.0  b'female'  21.0   23.0    2.0  b'[2-3]'   \n",
       "4         b''   1.0  b'female'  21.0   24.0    3.0  b'[2-3]'   \n",
       "...       ...   ...        ...   ...    ...    ...       ...   \n",
       "8373      b''  21.0    b'male'  25.0   26.0    1.0  b'[0-1]'   \n",
       "8374      b''  21.0    b'male'  25.0   24.0    1.0  b'[0-1]'   \n",
       "8375      b''  21.0    b'male'  25.0   29.0    4.0  b'[4-6]'   \n",
       "8376      b''  21.0    b'male'  25.0   22.0    3.0  b'[2-3]'   \n",
       "8377      b''  21.0    b'male'  25.0   22.0    3.0  b'[2-3]'   \n",
       "\n",
       "                                          race  \\\n",
       "0     b'Asian/Pacific Islander/Asian-American'   \n",
       "1     b'Asian/Pacific Islander/Asian-American'   \n",
       "2     b'Asian/Pacific Islander/Asian-American'   \n",
       "3     b'Asian/Pacific Islander/Asian-American'   \n",
       "4     b'Asian/Pacific Islander/Asian-American'   \n",
       "...                                        ...   \n",
       "8373            b'European/Caucasian-American'   \n",
       "8374            b'European/Caucasian-American'   \n",
       "8375            b'European/Caucasian-American'   \n",
       "8376            b'European/Caucasian-American'   \n",
       "8377            b'European/Caucasian-American'   \n",
       "\n",
       "                                        race_o samerace  ...  \\\n",
       "0               b'European/Caucasian-American'     b'0'  ...   \n",
       "1               b'European/Caucasian-American'     b'0'  ...   \n",
       "2     b'Asian/Pacific Islander/Asian-American'     b'1'  ...   \n",
       "3               b'European/Caucasian-American'     b'0'  ...   \n",
       "4                  b'Latino/Hispanic American'     b'0'  ...   \n",
       "...                                        ...      ...  ...   \n",
       "8373               b'Latino/Hispanic American'     b'0'  ...   \n",
       "8374                                  b'Other'     b'0'  ...   \n",
       "8375               b'Latino/Hispanic American'     b'0'  ...   \n",
       "8376  b'Asian/Pacific Islander/Asian-American'     b'0'  ...   \n",
       "8377  b'Asian/Pacific Islander/Asian-American'     b'0'  ...   \n",
       "\n",
       "      d_expected_num_interested_in_me  d_expected_num_matches like  \\\n",
       "0                            b'[0-3]'                b'[3-5]'  7.0   \n",
       "1                            b'[0-3]'                b'[3-5]'  7.0   \n",
       "2                            b'[0-3]'                b'[3-5]'  7.0   \n",
       "3                            b'[0-3]'                b'[3-5]'  7.0   \n",
       "4                            b'[0-3]'                b'[3-5]'  6.0   \n",
       "...                               ...                     ...  ...   \n",
       "8373                         b'[0-3]'                b'[3-5]'  2.0   \n",
       "8374                         b'[0-3]'                b'[3-5]'  4.0   \n",
       "8375                         b'[0-3]'                b'[3-5]'  6.0   \n",
       "8376                         b'[0-3]'                b'[3-5]'  5.0   \n",
       "8377                         b'[0-3]'                b'[3-5]'  4.0   \n",
       "\n",
       "     guess_prob_liked    d_like  d_guess_prob_liked  met  decision  \\\n",
       "0                 6.0  b'[6-8]'            b'[5-6]'  0.0      b'1'   \n",
       "1                 5.0  b'[6-8]'            b'[5-6]'  1.0      b'1'   \n",
       "2                 NaN  b'[6-8]'            b'[0-4]'  1.0      b'1'   \n",
       "3                 6.0  b'[6-8]'            b'[5-6]'  0.0      b'1'   \n",
       "4                 6.0  b'[6-8]'            b'[5-6]'  0.0      b'1'   \n",
       "...               ...       ...                 ...  ...       ...   \n",
       "8373              5.0  b'[0-5]'            b'[5-6]'  0.0      b'0'   \n",
       "8374              4.0  b'[0-5]'            b'[0-4]'  0.0      b'0'   \n",
       "8375              5.0  b'[6-8]'            b'[5-6]'  0.0      b'0'   \n",
       "8376              5.0  b'[0-5]'            b'[5-6]'  0.0      b'0'   \n",
       "8377              5.0  b'[0-5]'            b'[5-6]'  0.0      b'0'   \n",
       "\n",
       "      decision_o  match  \n",
       "0           b'0'   b'0'  \n",
       "1           b'0'   b'0'  \n",
       "2           b'1'   b'1'  \n",
       "3           b'1'   b'1'  \n",
       "4           b'1'   b'1'  \n",
       "...          ...    ...  \n",
       "8373        b'1'   b'0'  \n",
       "8374        b'0'   b'0'  \n",
       "8375        b'0'   b'0'  \n",
       "8376        b'1'   b'0'  \n",
       "8377        b'1'   b'0'  \n",
       "\n",
       "[8378 rows x 123 columns]"
      ]
     },
     "execution_count": 2,
     "metadata": {},
     "output_type": "execute_result"
    }
   ],
   "source": [
    "df_speeddating = pd.read_csv(\"speeddating.csv\")\n",
    "df_speeddating"
   ]
  },
  {
   "cell_type": "markdown",
   "id": "66fa8c0a-0ebf-402f-9a54-3548c72ad6e6",
   "metadata": {},
   "source": [
    "#### Cleaned Speed Dating Dataset\n",
    "Next, we need to clean the dataset. We are selecting the 6 attributes (attractive_partner, sincere_partner, intelligence_partner, funny_partner, ambition_partner, shared_interests_partner) column and class column (match). Then, removing of \"NaN\" through .dropna(). Moreover, rename the class column from b'0' to \"fail\" and b'1' to \"success\", while also changing the data type to cateforical. **Add"
   ]
  },
  {
   "cell_type": "code",
   "execution_count": 3,
   "id": "fa9a9fbb-f4c4-4d5f-a0f7-e097bbf41b62",
   "metadata": {},
   "outputs": [
    {
     "data": {
      "text/html": [
       "<div>\n",
       "<style scoped>\n",
       "    .dataframe tbody tr th:only-of-type {\n",
       "        vertical-align: middle;\n",
       "    }\n",
       "\n",
       "    .dataframe tbody tr th {\n",
       "        vertical-align: top;\n",
       "    }\n",
       "\n",
       "    .dataframe thead th {\n",
       "        text-align: right;\n",
       "    }\n",
       "</style>\n",
       "<table border=\"1\" class=\"dataframe\">\n",
       "  <thead>\n",
       "    <tr style=\"text-align: right;\">\n",
       "      <th></th>\n",
       "      <th>match</th>\n",
       "      <th>attractive_partner</th>\n",
       "      <th>sincere_partner</th>\n",
       "      <th>intelligence_partner</th>\n",
       "      <th>funny_partner</th>\n",
       "      <th>ambition_partner</th>\n",
       "      <th>shared_interests_partner</th>\n",
       "    </tr>\n",
       "  </thead>\n",
       "  <tbody>\n",
       "    <tr>\n",
       "      <th>3852</th>\n",
       "      <td>fail</td>\n",
       "      <td>9.0</td>\n",
       "      <td>8.0</td>\n",
       "      <td>8.0</td>\n",
       "      <td>8.0</td>\n",
       "      <td>6.0</td>\n",
       "      <td>2.0</td>\n",
       "    </tr>\n",
       "    <tr>\n",
       "      <th>1938</th>\n",
       "      <td>fail</td>\n",
       "      <td>5.0</td>\n",
       "      <td>5.0</td>\n",
       "      <td>6.0</td>\n",
       "      <td>6.0</td>\n",
       "      <td>5.0</td>\n",
       "      <td>5.0</td>\n",
       "    </tr>\n",
       "    <tr>\n",
       "      <th>4879</th>\n",
       "      <td>fail</td>\n",
       "      <td>7.0</td>\n",
       "      <td>5.0</td>\n",
       "      <td>6.0</td>\n",
       "      <td>4.0</td>\n",
       "      <td>5.0</td>\n",
       "      <td>5.0</td>\n",
       "    </tr>\n",
       "    <tr>\n",
       "      <th>1619</th>\n",
       "      <td>fail</td>\n",
       "      <td>7.0</td>\n",
       "      <td>10.0</td>\n",
       "      <td>8.0</td>\n",
       "      <td>7.0</td>\n",
       "      <td>7.0</td>\n",
       "      <td>3.0</td>\n",
       "    </tr>\n",
       "    <tr>\n",
       "      <th>3151</th>\n",
       "      <td>fail</td>\n",
       "      <td>7.0</td>\n",
       "      <td>6.0</td>\n",
       "      <td>7.0</td>\n",
       "      <td>6.0</td>\n",
       "      <td>6.0</td>\n",
       "      <td>5.0</td>\n",
       "    </tr>\n",
       "    <tr>\n",
       "      <th>56</th>\n",
       "      <td>fail</td>\n",
       "      <td>8.0</td>\n",
       "      <td>8.0</td>\n",
       "      <td>8.0</td>\n",
       "      <td>8.0</td>\n",
       "      <td>3.0</td>\n",
       "      <td>4.0</td>\n",
       "    </tr>\n",
       "    <tr>\n",
       "      <th>1798</th>\n",
       "      <td>fail</td>\n",
       "      <td>5.0</td>\n",
       "      <td>7.0</td>\n",
       "      <td>7.0</td>\n",
       "      <td>2.0</td>\n",
       "      <td>5.0</td>\n",
       "      <td>2.0</td>\n",
       "    </tr>\n",
       "    <tr>\n",
       "      <th>5185</th>\n",
       "      <td>fail</td>\n",
       "      <td>6.0</td>\n",
       "      <td>6.0</td>\n",
       "      <td>6.0</td>\n",
       "      <td>6.0</td>\n",
       "      <td>5.0</td>\n",
       "      <td>6.0</td>\n",
       "    </tr>\n",
       "    <tr>\n",
       "      <th>6065</th>\n",
       "      <td>fail</td>\n",
       "      <td>7.0</td>\n",
       "      <td>8.0</td>\n",
       "      <td>8.0</td>\n",
       "      <td>7.0</td>\n",
       "      <td>8.0</td>\n",
       "      <td>6.0</td>\n",
       "    </tr>\n",
       "    <tr>\n",
       "      <th>6800</th>\n",
       "      <td>fail</td>\n",
       "      <td>5.0</td>\n",
       "      <td>4.0</td>\n",
       "      <td>6.0</td>\n",
       "      <td>4.0</td>\n",
       "      <td>6.0</td>\n",
       "      <td>6.0</td>\n",
       "    </tr>\n",
       "  </tbody>\n",
       "</table>\n",
       "</div>"
      ],
      "text/plain": [
       "     match  attractive_partner  sincere_partner  intelligence_partner  \\\n",
       "3852  fail                 9.0              8.0                   8.0   \n",
       "1938  fail                 5.0              5.0                   6.0   \n",
       "4879  fail                 7.0              5.0                   6.0   \n",
       "1619  fail                 7.0             10.0                   8.0   \n",
       "3151  fail                 7.0              6.0                   7.0   \n",
       "56    fail                 8.0              8.0                   8.0   \n",
       "1798  fail                 5.0              7.0                   7.0   \n",
       "5185  fail                 6.0              6.0                   6.0   \n",
       "6065  fail                 7.0              8.0                   8.0   \n",
       "6800  fail                 5.0              4.0                   6.0   \n",
       "\n",
       "      funny_partner  ambition_partner  shared_interests_partner  \n",
       "3852            8.0               6.0                       2.0  \n",
       "1938            6.0               5.0                       5.0  \n",
       "4879            4.0               5.0                       5.0  \n",
       "1619            7.0               7.0                       3.0  \n",
       "3151            6.0               6.0                       5.0  \n",
       "56              8.0               3.0                       4.0  \n",
       "1798            2.0               5.0                       2.0  \n",
       "5185            6.0               5.0                       6.0  \n",
       "6065            7.0               8.0                       6.0  \n",
       "6800            4.0               6.0                       6.0  "
      ]
     },
     "execution_count": 3,
     "metadata": {},
     "output_type": "execute_result"
    }
   ],
   "source": [
    "speeddating = df_speeddating[[\"match\",\"attractive_partner\", \"sincere_partner\",\"intelligence_partner\", \"funny_partner\", \"ambition_partner\", \"shared_interests_partner\"]]\n",
    "speeddating = speeddating.sample(n=1000, random_state=2023).dropna()\n",
    "speeddating[\"match\"] = speeddating[\"match\"].replace({\"b'0'\":\"fail\",\"b'1'\":\"success\"}).astype(\"category\")\n",
    "\n",
    "speeddating.head(10)"
   ]
  },
  {
   "cell_type": "markdown",
   "id": "04318dda-8a50-4a2c-b43e-51832dd2e9db",
   "metadata": {},
   "source": [
    "#### Splitting data into train/test sets\n",
    "Next, we will split the data into a training and testing set. We will then use the training set to perform an exploratory analysis on the six variables and to explore the dataset."
   ]
  },
  {
   "cell_type": "code",
   "execution_count": 4,
   "id": "d9065991-1e29-4949-b18e-5030e9738391",
   "metadata": {},
   "outputs": [
    {
     "data": {
      "text/html": [
       "<div>\n",
       "<style scoped>\n",
       "    .dataframe tbody tr th:only-of-type {\n",
       "        vertical-align: middle;\n",
       "    }\n",
       "\n",
       "    .dataframe tbody tr th {\n",
       "        vertical-align: top;\n",
       "    }\n",
       "\n",
       "    .dataframe thead th {\n",
       "        text-align: right;\n",
       "    }\n",
       "</style>\n",
       "<table border=\"1\" class=\"dataframe\">\n",
       "  <thead>\n",
       "    <tr style=\"text-align: right;\">\n",
       "      <th></th>\n",
       "      <th>match</th>\n",
       "      <th>attractive_partner</th>\n",
       "      <th>sincere_partner</th>\n",
       "      <th>intelligence_partner</th>\n",
       "      <th>funny_partner</th>\n",
       "      <th>ambition_partner</th>\n",
       "      <th>shared_interests_partner</th>\n",
       "    </tr>\n",
       "  </thead>\n",
       "  <tbody>\n",
       "    <tr>\n",
       "      <th>1219</th>\n",
       "      <td>success</td>\n",
       "      <td>8.0</td>\n",
       "      <td>10.0</td>\n",
       "      <td>8.0</td>\n",
       "      <td>9.0</td>\n",
       "      <td>8.0</td>\n",
       "      <td>8.0</td>\n",
       "    </tr>\n",
       "    <tr>\n",
       "      <th>446</th>\n",
       "      <td>fail</td>\n",
       "      <td>2.0</td>\n",
       "      <td>5.0</td>\n",
       "      <td>4.0</td>\n",
       "      <td>3.0</td>\n",
       "      <td>4.0</td>\n",
       "      <td>2.0</td>\n",
       "    </tr>\n",
       "    <tr>\n",
       "      <th>1214</th>\n",
       "      <td>fail</td>\n",
       "      <td>2.0</td>\n",
       "      <td>3.0</td>\n",
       "      <td>4.0</td>\n",
       "      <td>5.0</td>\n",
       "      <td>4.0</td>\n",
       "      <td>2.0</td>\n",
       "    </tr>\n",
       "    <tr>\n",
       "      <th>6729</th>\n",
       "      <td>fail</td>\n",
       "      <td>5.0</td>\n",
       "      <td>5.0</td>\n",
       "      <td>8.0</td>\n",
       "      <td>6.0</td>\n",
       "      <td>9.0</td>\n",
       "      <td>3.0</td>\n",
       "    </tr>\n",
       "    <tr>\n",
       "      <th>6186</th>\n",
       "      <td>fail</td>\n",
       "      <td>8.0</td>\n",
       "      <td>7.0</td>\n",
       "      <td>6.0</td>\n",
       "      <td>8.0</td>\n",
       "      <td>6.0</td>\n",
       "      <td>7.0</td>\n",
       "    </tr>\n",
       "    <tr>\n",
       "      <th>5734</th>\n",
       "      <td>fail</td>\n",
       "      <td>8.0</td>\n",
       "      <td>7.0</td>\n",
       "      <td>7.0</td>\n",
       "      <td>6.0</td>\n",
       "      <td>5.0</td>\n",
       "      <td>4.0</td>\n",
       "    </tr>\n",
       "    <tr>\n",
       "      <th>5224</th>\n",
       "      <td>success</td>\n",
       "      <td>6.0</td>\n",
       "      <td>8.0</td>\n",
       "      <td>8.0</td>\n",
       "      <td>7.0</td>\n",
       "      <td>7.0</td>\n",
       "      <td>8.0</td>\n",
       "    </tr>\n",
       "    <tr>\n",
       "      <th>4187</th>\n",
       "      <td>fail</td>\n",
       "      <td>6.0</td>\n",
       "      <td>7.0</td>\n",
       "      <td>9.0</td>\n",
       "      <td>5.0</td>\n",
       "      <td>9.0</td>\n",
       "      <td>5.0</td>\n",
       "    </tr>\n",
       "    <tr>\n",
       "      <th>7281</th>\n",
       "      <td>fail</td>\n",
       "      <td>8.0</td>\n",
       "      <td>7.0</td>\n",
       "      <td>9.0</td>\n",
       "      <td>6.0</td>\n",
       "      <td>10.0</td>\n",
       "      <td>10.0</td>\n",
       "    </tr>\n",
       "    <tr>\n",
       "      <th>7847</th>\n",
       "      <td>fail</td>\n",
       "      <td>3.0</td>\n",
       "      <td>1.0</td>\n",
       "      <td>2.0</td>\n",
       "      <td>2.0</td>\n",
       "      <td>2.0</td>\n",
       "      <td>1.0</td>\n",
       "    </tr>\n",
       "  </tbody>\n",
       "</table>\n",
       "</div>"
      ],
      "text/plain": [
       "        match  attractive_partner  sincere_partner  intelligence_partner  \\\n",
       "1219  success                 8.0             10.0                   8.0   \n",
       "446      fail                 2.0              5.0                   4.0   \n",
       "1214     fail                 2.0              3.0                   4.0   \n",
       "6729     fail                 5.0              5.0                   8.0   \n",
       "6186     fail                 8.0              7.0                   6.0   \n",
       "5734     fail                 8.0              7.0                   7.0   \n",
       "5224  success                 6.0              8.0                   8.0   \n",
       "4187     fail                 6.0              7.0                   9.0   \n",
       "7281     fail                 8.0              7.0                   9.0   \n",
       "7847     fail                 3.0              1.0                   2.0   \n",
       "\n",
       "      funny_partner  ambition_partner  shared_interests_partner  \n",
       "1219            9.0               8.0                       8.0  \n",
       "446             3.0               4.0                       2.0  \n",
       "1214            5.0               4.0                       2.0  \n",
       "6729            6.0               9.0                       3.0  \n",
       "6186            8.0               6.0                       7.0  \n",
       "5734            6.0               5.0                       4.0  \n",
       "5224            7.0               7.0                       8.0  \n",
       "4187            5.0               9.0                       5.0  \n",
       "7281            6.0              10.0                      10.0  \n",
       "7847            2.0               2.0                       1.0  "
      ]
     },
     "execution_count": 4,
     "metadata": {},
     "output_type": "execute_result"
    }
   ],
   "source": [
    "speeddating_training, speeddating_testing = train_test_split(\n",
    "   speeddating, train_size=0.75, random_state=2023 # do not change the random_state\n",
    ")\n",
    "speeddating_training = pd.DataFrame(speeddating_training)\n",
    "speeddating_training.head(10)"
   ]
  },
  {
   "cell_type": "markdown",
   "id": "9970fee5-965f-4e9c-b4cf-b7c29341cddc",
   "metadata": {},
   "source": [
    "#### Checking the \"match\" data distribution. "
   ]
  },
  {
   "cell_type": "code",
   "execution_count": 5,
   "id": "2d484f99-a4e2-469b-8a81-00d8f2e74eb0",
   "metadata": {},
   "outputs": [
    {
     "data": {
      "text/html": [
       "<div>\n",
       "<style scoped>\n",
       "    .dataframe tbody tr th:only-of-type {\n",
       "        vertical-align: middle;\n",
       "    }\n",
       "\n",
       "    .dataframe tbody tr th {\n",
       "        vertical-align: top;\n",
       "    }\n",
       "\n",
       "    .dataframe thead th {\n",
       "        text-align: right;\n",
       "    }\n",
       "</style>\n",
       "<table border=\"1\" class=\"dataframe\">\n",
       "  <thead>\n",
       "    <tr style=\"text-align: right;\">\n",
       "      <th></th>\n",
       "      <th>count</th>\n",
       "      <th>percentage</th>\n",
       "    </tr>\n",
       "    <tr>\n",
       "      <th>match</th>\n",
       "      <th></th>\n",
       "      <th></th>\n",
       "    </tr>\n",
       "  </thead>\n",
       "  <tbody>\n",
       "    <tr>\n",
       "      <th>fail</th>\n",
       "      <td>514</td>\n",
       "      <td>83.037157</td>\n",
       "    </tr>\n",
       "    <tr>\n",
       "      <th>success</th>\n",
       "      <td>105</td>\n",
       "      <td>16.962843</td>\n",
       "    </tr>\n",
       "  </tbody>\n",
       "</table>\n",
       "</div>"
      ],
      "text/plain": [
       "         count  percentage\n",
       "match                     \n",
       "fail       514   83.037157\n",
       "success    105   16.962843"
      ]
     },
     "execution_count": 5,
     "metadata": {},
     "output_type": "execute_result"
    }
   ],
   "source": [
    "speeddating_training_dd = speeddating_training.assign(row_number=range(len(speeddating_training)))\n",
    "\n",
    "explore_speeddating = pd.DataFrame()\n",
    "\n",
    "explore_speeddating['count'] = speeddating_training_dd.groupby('match')['row_number'].count()\n",
    "explore_speeddating['percentage'] = 100 * explore_speeddating['count']/len(speeddating_training_dd)\n",
    "\n",
    "explore_speeddating"
   ]
  },
  {
   "cell_type": "markdown",
   "id": "48bd9acc-254e-4acb-bf55-e0c616e831eb",
   "metadata": {},
   "source": [
    "We can see from this table that there is an imbalance in the match class; where 83.0% failed to match and 18.2% was successful. This would be a limitation for our model and its accuracy. Since 83.0% of speed dates failed, our model may have a high accuracy (around 80 percent) because it will correctly predict a lot of failed dates but it will not be very accurate in predicting successful dates."
   ]
  },
  {
   "cell_type": "markdown",
   "id": "802591b3-a4b1-44b1-a03b-b192c5c5afd0",
   "metadata": {},
   "source": [
    "#### Boxplot\n",
    "6 boxplot for each attribute is made to observe how data attribute impact the match result. "
   ]
  },
  {
   "cell_type": "code",
   "execution_count": 6,
   "id": "f004cfcd-a30c-41cc-8646-b54b1d7e038b",
   "metadata": {},
   "outputs": [
    {
     "data": {
      "text/plain": [
       "[Text(0.5, 1.0, 'Figure 1: Comparison of match results for Attraction Attribute'),\n",
       " Text(0, 0.5, \"Rating of Partner's Attractiveness\"),\n",
       " Text(0.5, 0, 'Match')]"
      ]
     },
     "execution_count": 6,
     "metadata": {},
     "output_type": "execute_result"
    },
    {
     "data": {
      "image/png": "[encoded data removed]",
      "text/plain": [
       "<Figure size 640x480 with 1 Axes>"
      ]
     },
     "metadata": {},
     "output_type": "display_data"
    }
   ],
   "source": [
    "sns.boxplot(x='match', y='attractive_partner', width=0.25, data=speeddating_training).set(title='Figure 1: Comparison of match results for Attraction Attribute', ylabel=\"Rating of Partner's Attractiveness\", xlabel=\"Match\")"
   ]
  },
  {
   "cell_type": "markdown",
   "id": "907eaea8-5a34-4e71-9924-9c702880cf1e",
   "metadata": {},
   "source": [
    "Interpretation of Figure 1: This boxplot compares the explantory variable \"Partner's Attractiveness\", and the response variable of \"match outcome\". The median shows that on average partner's attractiveness score was two ratings higher for successful matches than failed matches. In this rating scale between 1-10, the category of success having two rating higher than fail suggests that the partner's attractiveness has an influence on match results.  "
   ]
  },
  {
   "cell_type": "code",
   "execution_count": 7,
   "id": "013b34bf-346a-479d-bea0-6fcdb9eebf8a",
   "metadata": {},
   "outputs": [
    {
     "data": {
      "text/plain": [
       "[Text(0.5, 1.0, 'Figure 2: Comparison of match results for Sincere Attribute'),\n",
       " Text(0, 0.5, \"Rating of Partner's Sincerity\"),\n",
       " Text(0.5, 0, 'Match')]"
      ]
     },
     "execution_count": 7,
     "metadata": {},
     "output_type": "execute_result"
    },
    {
     "data": {
      "image/png": "[encoded data removed]",
      "text/plain": [
       "<Figure size 640x480 with 1 Axes>"
      ]
     },
     "metadata": {},
     "output_type": "display_data"
    }
   ],
   "source": [
    "sns.boxplot(x='match', y='sincere_partner', width=0.25, data=speeddating_training).set(title='Figure 2: Comparison of match results for Sincere Attribute', ylabel=\"Rating of Partner's Sincerity\", xlabel=\"Match\")\n",
    "# interpretation (1-2 sentence), how to make the model, \n",
    "#this plot looks at explantory vairble \"like\"... we see that there is seperation, if they liked their partner they successfully dataset.\n",
    "# we wont include this in the model, it is the same... no impact... "
   ]
  },
  {
   "cell_type": "markdown",
   "id": "1e313b04-bbc9-40c0-917c-bdf061dd8aab",
   "metadata": {},
   "source": [
    "Interpretation of Figure 2: Outliers low in success match, means not accurate drop? "
   ]
  },
  {
   "cell_type": "code",
   "execution_count": 8,
   "id": "ca7d270d-cffc-4011-961e-4003d13f2004",
   "metadata": {},
   "outputs": [
    {
     "data": {
      "text/plain": [
       "[Text(0.5, 1.0, 'Figure 3: Comparison of match results for Intelligence Attribute'),\n",
       " Text(0, 0.5, \"Rating of Partner's Intelligence\"),\n",
       " Text(0.5, 0, 'Match')]"
      ]
     },
     "execution_count": 8,
     "metadata": {},
     "output_type": "execute_result"
    },
    {
     "data": {
      "image/png": "[encoded data removed]",
      "text/plain": [
       "<Figure size 640x480 with 1 Axes>"
      ]
     },
     "metadata": {},
     "output_type": "display_data"
    }
   ],
   "source": [
    "sns.boxplot(x='match', y='intelligence_partner', width=0.25, data=speeddating_training).set(title='Figure 3: Comparison of match results for Intelligence Attribute', ylabel=\"Rating of Partner's Intelligence\", xlabel=\"Match\")\n",
    "\n",
    "\n",
    "# some overlap but not exact, not include age "
   ]
  },
  {
   "cell_type": "markdown",
   "id": "2f2d63a7-6027-41a9-85dc-645464f228e9",
   "metadata": {},
   "source": [
    "Interpretation of Figure 3: "
   ]
  },
  {
   "cell_type": "code",
   "execution_count": 9,
   "id": "d655e1f5-4508-41c9-ad59-c1d5d55e48db",
   "metadata": {},
   "outputs": [
    {
     "data": {
      "text/plain": [
       "[Text(0.5, 1.0, 'Figure 4: Comparison of match results for Fun Attribute'),\n",
       " Text(0, 0.5, 'Rating of Partner being funny'),\n",
       " Text(0.5, 0, 'Match')]"
      ]
     },
     "execution_count": 9,
     "metadata": {},
     "output_type": "execute_result"
    },
    {
     "data": {
      "image/png": "[encoded data removed]",
      "text/plain": [
       "<Figure size 640x480 with 1 Axes>"
      ]
     },
     "metadata": {},
     "output_type": "display_data"
    }
   ],
   "source": [
    "sns.boxplot(x='match', y='funny_partner', width=0.25, data=speeddating_training).set(title='Figure 4: Comparison of match results for Fun Attribute', ylabel=\"Rating of Partner being funny\", xlabel=\"Match\")"
   ]
  },
  {
   "cell_type": "markdown",
   "id": "382e369e-0e5b-4056-a4b4-9fbea8d15b75",
   "metadata": {},
   "source": [
    "Interpretation of Figure 4: median signficant... keep? "
   ]
  },
  {
   "cell_type": "code",
   "execution_count": 10,
   "id": "e07a6226-47ce-4d6a-b5c9-f0876b903e0b",
   "metadata": {},
   "outputs": [
    {
     "data": {
      "text/plain": [
       "[Text(0.5, 1.0, 'Figure 5: Comparison of match results for Ambition Attribute'),\n",
       " Text(0, 0.5, \"Rating of Partner's Ambition\"),\n",
       " Text(0.5, 0, 'Match')]"
      ]
     },
     "execution_count": 10,
     "metadata": {},
     "output_type": "execute_result"
    },
    {
     "data": {
      "image/png": "[encoded data removed]",
      "text/plain": [
       "<Figure size 640x480 with 1 Axes>"
      ]
     },
     "metadata": {},
     "output_type": "display_data"
    }
   ],
   "source": [
    "sns.boxplot(x='match', y='ambition_partner', width=0.25, data=speeddating_training).set(title='Figure 5: Comparison of match results for Ambition Attribute', ylabel=\"Rating of Partner's Ambition\", xlabel=\"Match\")"
   ]
  },
  {
   "cell_type": "markdown",
   "id": "0f2cbb2e-dda6-462f-ad04-4cd77b8e2e1f",
   "metadata": {},
   "source": [
    "Interpretation of Figure 5: low outlier for success.. drop?"
   ]
  },
  {
   "cell_type": "code",
   "execution_count": 11,
   "id": "dde90f3e-0c38-4455-a195-c74669f7f775",
   "metadata": {},
   "outputs": [
    {
     "data": {
      "text/plain": [
       "[Text(0.5, 1.0, 'Figure 6: Comparison of match results for Shared Interests Attribute'),\n",
       " Text(0, 0.5, \"Rating of Partner's Shared Interests\"),\n",
       " Text(0.5, 0, 'Match')]"
      ]
     },
     "execution_count": 11,
     "metadata": {},
     "output_type": "execute_result"
    },
    {
     "data": {
      "image/png": "[encoded data removed]",
      "text/plain": [
       "<Figure size 640x480 with 1 Axes>"
      ]
     },
     "metadata": {},
     "output_type": "display_data"
    }
   ],
   "source": [
    "sns.boxplot(x='match', y='shared_interests_partner', width=0.25, data=speeddating_training).set(title='Figure 6: Comparison of match results for Shared Interests Attribute', ylabel=\"Rating of Partner's Shared Interests\", xlabel=\"Match\")"
   ]
  },
  {
   "cell_type": "markdown",
   "id": "aa8bee2f-ea49-41bf-aa4f-6f2e9fc188da",
   "metadata": {},
   "source": [
    "Interpretation of Figure 6: median difference is significant... keep ? "
   ]
  },
  {
   "cell_type": "markdown",
   "id": "d43b7b7f-763a-4cc0-bbd5-ab93b60f1af1",
   "metadata": {},
   "source": [
    "##### Hence, relevant attributes include ... will be used for the model."
   ]
  },
  {
   "cell_type": "code",
   "execution_count": 12,
   "id": "6615dbdf-4be9-427f-ba33-99ee2b9861c4",
   "metadata": {},
   "outputs": [],
   "source": [
    "#hard to interpret... cannot interpret, \n",
    "#correlation of interests and difference in age by matching, we cannot distingusih classes "
   ]
  },
  {
   "cell_type": "code",
   "execution_count": 13,
   "id": "1c719574-3129-4adc-9861-08908fd47c28",
   "metadata": {},
   "outputs": [],
   "source": [
    "#after we build model... cross validation, k-nearest neighbours, set seeds in every cell, \n",
    "#for visualization classfication metrix, even if we have high level of accuracy\n",
    "#we see a lot of false negative due to class imabalance. out side scope of course \n",
    "#research about topic and cite\n",
    "#disccussion(summarize, what impact)\n",
    "\n",
    "# Deciding which columns are significant\n",
    "#speeddating_cleaned = speeddating[[\"match\", \"attractive_partner\", \"sincere_partner\", \"intelligence_partner\", \"funny_partner\", \"shared_interests_partner\"]]\n",
    "#speeddating_cleaned.head(5)"
   ]
  },
  {
   "cell_type": "code",
   "execution_count": 14,
   "id": "06c6791b-e6dc-4e68-a77a-bfde418687b2",
   "metadata": {},
   "outputs": [
    {
     "data": {
      "text/html": [
       "<div>\n",
       "<style scoped>\n",
       "    .dataframe tbody tr th:only-of-type {\n",
       "        vertical-align: middle;\n",
       "    }\n",
       "\n",
       "    .dataframe tbody tr th {\n",
       "        vertical-align: top;\n",
       "    }\n",
       "\n",
       "    .dataframe thead th {\n",
       "        text-align: right;\n",
       "    }\n",
       "</style>\n",
       "<table border=\"1\" class=\"dataframe\">\n",
       "  <thead>\n",
       "    <tr style=\"text-align: right;\">\n",
       "      <th></th>\n",
       "      <th>match</th>\n",
       "      <th>attractive_partner</th>\n",
       "      <th>sincere_partner</th>\n",
       "      <th>intelligence_partner</th>\n",
       "      <th>funny_partner</th>\n",
       "      <th>ambition_partner</th>\n",
       "      <th>shared_interests_partner</th>\n",
       "      <th>predicted</th>\n",
       "    </tr>\n",
       "  </thead>\n",
       "  <tbody>\n",
       "    <tr>\n",
       "      <th>0</th>\n",
       "      <td>fail</td>\n",
       "      <td>5.0</td>\n",
       "      <td>4.0</td>\n",
       "      <td>7.0</td>\n",
       "      <td>6.0</td>\n",
       "      <td>7.0</td>\n",
       "      <td>6.0</td>\n",
       "      <td>fail</td>\n",
       "    </tr>\n",
       "    <tr>\n",
       "      <th>1</th>\n",
       "      <td>success</td>\n",
       "      <td>9.0</td>\n",
       "      <td>10.0</td>\n",
       "      <td>10.0</td>\n",
       "      <td>8.0</td>\n",
       "      <td>8.0</td>\n",
       "      <td>8.0</td>\n",
       "      <td>fail</td>\n",
       "    </tr>\n",
       "    <tr>\n",
       "      <th>2</th>\n",
       "      <td>fail</td>\n",
       "      <td>5.0</td>\n",
       "      <td>7.0</td>\n",
       "      <td>9.0</td>\n",
       "      <td>7.0</td>\n",
       "      <td>5.0</td>\n",
       "      <td>4.0</td>\n",
       "      <td>fail</td>\n",
       "    </tr>\n",
       "    <tr>\n",
       "      <th>3</th>\n",
       "      <td>success</td>\n",
       "      <td>10.0</td>\n",
       "      <td>10.0</td>\n",
       "      <td>10.0</td>\n",
       "      <td>10.0</td>\n",
       "      <td>10.0</td>\n",
       "      <td>10.0</td>\n",
       "      <td>success</td>\n",
       "    </tr>\n",
       "    <tr>\n",
       "      <th>4</th>\n",
       "      <td>fail</td>\n",
       "      <td>6.0</td>\n",
       "      <td>7.0</td>\n",
       "      <td>7.0</td>\n",
       "      <td>6.0</td>\n",
       "      <td>6.0</td>\n",
       "      <td>5.0</td>\n",
       "      <td>fail</td>\n",
       "    </tr>\n",
       "    <tr>\n",
       "      <th>...</th>\n",
       "      <td>...</td>\n",
       "      <td>...</td>\n",
       "      <td>...</td>\n",
       "      <td>...</td>\n",
       "      <td>...</td>\n",
       "      <td>...</td>\n",
       "      <td>...</td>\n",
       "      <td>...</td>\n",
       "    </tr>\n",
       "    <tr>\n",
       "      <th>202</th>\n",
       "      <td>fail</td>\n",
       "      <td>5.0</td>\n",
       "      <td>7.0</td>\n",
       "      <td>7.0</td>\n",
       "      <td>7.0</td>\n",
       "      <td>5.0</td>\n",
       "      <td>8.0</td>\n",
       "      <td>fail</td>\n",
       "    </tr>\n",
       "    <tr>\n",
       "      <th>203</th>\n",
       "      <td>fail</td>\n",
       "      <td>6.0</td>\n",
       "      <td>6.0</td>\n",
       "      <td>6.0</td>\n",
       "      <td>6.0</td>\n",
       "      <td>6.0</td>\n",
       "      <td>6.0</td>\n",
       "      <td>fail</td>\n",
       "    </tr>\n",
       "    <tr>\n",
       "      <th>204</th>\n",
       "      <td>fail</td>\n",
       "      <td>7.0</td>\n",
       "      <td>8.0</td>\n",
       "      <td>8.0</td>\n",
       "      <td>7.0</td>\n",
       "      <td>7.0</td>\n",
       "      <td>6.0</td>\n",
       "      <td>fail</td>\n",
       "    </tr>\n",
       "    <tr>\n",
       "      <th>205</th>\n",
       "      <td>fail</td>\n",
       "      <td>6.0</td>\n",
       "      <td>8.0</td>\n",
       "      <td>7.0</td>\n",
       "      <td>5.0</td>\n",
       "      <td>8.0</td>\n",
       "      <td>7.0</td>\n",
       "      <td>fail</td>\n",
       "    </tr>\n",
       "    <tr>\n",
       "      <th>206</th>\n",
       "      <td>fail</td>\n",
       "      <td>5.0</td>\n",
       "      <td>8.0</td>\n",
       "      <td>7.0</td>\n",
       "      <td>0.0</td>\n",
       "      <td>5.0</td>\n",
       "      <td>0.0</td>\n",
       "      <td>fail</td>\n",
       "    </tr>\n",
       "  </tbody>\n",
       "</table>\n",
       "<p>207 rows × 8 columns</p>\n",
       "</div>"
      ],
      "text/plain": [
       "       match  attractive_partner  sincere_partner  intelligence_partner  \\\n",
       "0       fail                 5.0              4.0                   7.0   \n",
       "1    success                 9.0             10.0                  10.0   \n",
       "2       fail                 5.0              7.0                   9.0   \n",
       "3    success                10.0             10.0                  10.0   \n",
       "4       fail                 6.0              7.0                   7.0   \n",
       "..       ...                 ...              ...                   ...   \n",
       "202     fail                 5.0              7.0                   7.0   \n",
       "203     fail                 6.0              6.0                   6.0   \n",
       "204     fail                 7.0              8.0                   8.0   \n",
       "205     fail                 6.0              8.0                   7.0   \n",
       "206     fail                 5.0              8.0                   7.0   \n",
       "\n",
       "     funny_partner  ambition_partner  shared_interests_partner predicted  \n",
       "0              6.0               7.0                       6.0      fail  \n",
       "1              8.0               8.0                       8.0      fail  \n",
       "2              7.0               5.0                       4.0      fail  \n",
       "3             10.0              10.0                      10.0   success  \n",
       "4              6.0               6.0                       5.0      fail  \n",
       "..             ...               ...                       ...       ...  \n",
       "202            7.0               5.0                       8.0      fail  \n",
       "203            6.0               6.0                       6.0      fail  \n",
       "204            7.0               7.0                       6.0      fail  \n",
       "205            5.0               8.0                       7.0      fail  \n",
       "206            0.0               5.0                       0.0      fail  \n",
       "\n",
       "[207 rows x 8 columns]"
      ]
     },
     "execution_count": 14,
     "metadata": {},
     "output_type": "execute_result"
    }
   ],
   "source": [
    "speeddating_train, speeddating_test = train_test_split(speeddating, test_size=0.25, random_state=123) # set the random state to be 123\n",
    "\n",
    "speeddating_preprocessor = make_column_transformer(\n",
    "    (StandardScaler(), [\n",
    "        \"attractive_partner\", \"sincere_partner\",\"intelligence_partner\", \"funny_partner\", \"shared_interests_partner\",\"ambition_partner\"]),\n",
    ")\n",
    "\n",
    "knn_spec = KNeighborsClassifier(n_neighbors=3)\n",
    "\n",
    "X = speeddating_train[[\n",
    "    \"attractive_partner\", \"sincere_partner\",\"intelligence_partner\", \"funny_partner\", \"shared_interests_partner\",\"ambition_partner\"]]\n",
    "y = speeddating_train[\"match\"]\n",
    "\n",
    "speeddating_fit = make_pipeline(speeddating_preprocessor, knn_spec).fit(X, y)\n",
    "\n",
    "speeddating_test_predictions = speeddating_fit.predict(speeddating_test)\n",
    "speeddating_test_predictions = pd.concat(\n",
    "    [\n",
    "        speeddating_test.reset_index(drop=True),\n",
    "        pd.DataFrame(speeddating_test_predictions, columns=[\"predicted\"]),\n",
    "    ],\n",
    "    axis=1,\n",
    ")\n",
    "\n",
    "speeddating_test_predictions"
   ]
  },
  {
   "cell_type": "code",
   "execution_count": 15,
   "id": "74079344-8e82-482f-8367-99219a18e62a",
   "metadata": {},
   "outputs": [
    {
     "data": {
      "text/plain": [
       "0.821256038647343"
      ]
     },
     "execution_count": 15,
     "metadata": {},
     "output_type": "execute_result"
    }
   ],
   "source": [
    "X_test = speeddating_test[[\n",
    "    \"attractive_partner\", \"sincere_partner\",\"intelligence_partner\", \"funny_partner\", \"shared_interests_partner\",\"ambition_partner\"]]\n",
    "y_test = speeddating_test[\"match\"]\n",
    "\n",
    "speeddating_prediction_accuracy = speeddating_fit.score(X_test, y_test)\n",
    "\n",
    "speeddating_prediction_accuracy"
   ]
  },
  {
   "cell_type": "code",
   "execution_count": 16,
   "id": "bd45c91f-f849-44c3-b99f-f50615455c4a",
   "metadata": {},
   "outputs": [
    {
     "data": {
      "text/plain": [
       "<sklearn.metrics._plot.confusion_matrix.ConfusionMatrixDisplay at 0x7f5a61f41fc0>"
      ]
     },
     "execution_count": 16,
     "metadata": {},
     "output_type": "execute_result"
    },
    {
     "data": {
      "image/png": "[encoded data removed]",
      "text/plain": [
       "<Figure size 640x480 with 2 Axes>"
      ]
     },
     "metadata": {},
     "output_type": "display_data"
    }
   ],
   "source": [
    "speeddating_mat = sklearn.metrics.confusion_matrix(\n",
    "    speeddating_test_predictions[\"match\"],\n",
    "    speeddating_test_predictions[\"predicted\"],\n",
    "    labels=speeddating_fit.classes_,\n",
    ")\n",
    "\n",
    "from sklearn.metrics import ConfusionMatrixDisplay\n",
    "\n",
    "disp = ConfusionMatrixDisplay(\n",
    "    confusion_matrix=speeddating_mat, display_labels=speeddating_fit.classes_\n",
    ")\n",
    "disp.plot()"
   ]
  },
  {
   "cell_type": "code",
   "execution_count": 17,
   "id": "b53f5283-5a6d-40ed-b8a0-6ac374349c08",
   "metadata": {},
   "outputs": [],
   "source": [
    "X_val = speeddating_train[[\n",
    "    \"attractive_partner\", \"sincere_partner\",\"intelligence_partner\", \"funny_partner\", \"shared_interests_partner\",\"ambition_partner\"]]\n",
    "y_val = speeddating_train[\"match\"]\n",
    "\n",
    "speeddating_pipe = make_pipeline(speeddating_preprocessor, knn_spec)\n",
    "\n",
    "speeddating_vfold_score = cross_validate(estimator=speeddating_pipe,  cv=5, X=X_val, y=y_val, return_train_score=True,)\n",
    "\n",
    "pd.DataFrame(speeddating_vfold_score)\n",
    "\n",
    "speeddating_metrics_mean = pd.DataFrame(speeddating_vfold_score).mean()\n",
    "speeddating_metrics_std = pd.DataFrame(speeddating_vfold_score).std()"
   ]
  },
  {
   "cell_type": "code",
   "execution_count": 27,
   "id": "b4577fa1-aa37-4a21-85d8-c5b9c9518368",
   "metadata": {},
   "outputs": [
    {
     "name": "stderr",
     "output_type": "stream",
     "text": [
      "/opt/conda/lib/python3.10/site-packages/altair/utils/core.py:317: FutureWarning: iteritems is deprecated and will be removed in a future version. Use .items instead.\n",
      "  for col_name, dtype in df.dtypes.iteritems():\n"
     ]
    },
    {
     "data": {
      "text/html": [
       "\n",
       "<div id=\"altair-viz-6af8c570c5a0488e99576d9ea9ae13b1\"></div>\n",
       "<script type=\"text/javascript\">\n",
       "  var VEGA_DEBUG = (typeof VEGA_DEBUG == \"undefined\") ? {} : VEGA_DEBUG;\n",
       "  (function(spec, embedOpt){\n",
       "    let outputDiv = document.currentScript.previousElementSibling;\n",
       "    if (outputDiv.id !== \"altair-viz-6af8c570c5a0488e99576d9ea9ae13b1\") {\n",
       "      outputDiv = document.getElementById(\"altair-viz-6af8c570c5a0488e99576d9ea9ae13b1\");\n",
       "    }\n",
       "    const paths = {\n",
       "      \"vega\": \"https://cdn.jsdelivr.net/npm//vega@5?noext\",\n",
       "      \"vega-lib\": \"https://cdn.jsdelivr.net/npm//vega-lib?noext\",\n",
       "      \"vega-lite\": \"https://cdn.jsdelivr.net/npm//vega-lite@4.17.0?noext\",\n",
       "      \"vega-embed\": \"https://cdn.jsdelivr.net/npm//vega-embed@6?noext\",\n",
       "    };\n",
       "\n",
       "    function maybeLoadScript(lib, version) {\n",
       "      var key = `${lib.replace(\"-\", \"\")}_version`;\n",
       "      return (VEGA_DEBUG[key] == version) ?\n",
       "        Promise.resolve(paths[lib]) :\n",
       "        new Promise(function(resolve, reject) {\n",
       "          var s = document.createElement('script');\n",
       "          document.getElementsByTagName(\"head\")[0].appendChild(s);\n",
       "          s.async = true;\n",
       "          s.onload = () => {\n",
       "            VEGA_DEBUG[key] = version;\n",
       "            return resolve(paths[lib]);\n",
       "          };\n",
       "          s.onerror = () => reject(`Error loading script: ${paths[lib]}`);\n",
       "          s.src = paths[lib];\n",
       "        });\n",
       "    }\n",
       "\n",
       "    function showError(err) {\n",
       "      outputDiv.innerHTML = `<div class=\"error\" style=\"color:red;\">${err}</div>`;\n",
       "      throw err;\n",
       "    }\n",
       "\n",
       "    function displayChart(vegaEmbed) {\n",
       "      vegaEmbed(outputDiv, spec, embedOpt)\n",
       "        .catch(err => showError(`Javascript Error: ${err.message}<br>This usually means there's a typo in your chart specification. See the javascript console for the full traceback.`));\n",
       "    }\n",
       "\n",
       "    if(typeof define === \"function\" && define.amd) {\n",
       "      requirejs.config({paths});\n",
       "      require([\"vega-embed\"], displayChart, err => showError(`Error loading script: ${err.message}`));\n",
       "    } else {\n",
       "      maybeLoadScript(\"vega\", \"5\")\n",
       "        .then(() => maybeLoadScript(\"vega-lite\", \"4.17.0\"))\n",
       "        .then(() => maybeLoadScript(\"vega-embed\", \"6\"))\n",
       "        .catch(showError)\n",
       "        .then(() => displayChart(vegaEmbed));\n",
       "    }\n",
       "  })({\"config\": {\"view\": {\"continuousWidth\": 400, \"continuousHeight\": 300}, \"axis\": {\"labelFontSize\": 10, \"titleFontSize\": 15}}, \"data\": {\"name\": \"data-6a3757894b9fd1dac0b21bc388562d66\"}, \"mark\": {\"type\": \"line\", \"point\": true}, \"encoding\": {\"x\": {\"field\": \"param_kneighborsclassifier__n_neighbors\", \"scale\": {\"zero\": false}, \"title\": \"Neighbors\", \"type\": \"quantitative\"}, \"y\": {\"field\": \"mean_test_score\", \"scale\": {\"zero\": false}, \"title\": \"Mean Test Score\", \"type\": \"quantitative\"}}, \"height\": 300, \"title\": \"Grid Search\", \"width\": 400, \"$schema\": \"https://vega.github.io/schema/vega-lite/v4.17.0.json\", \"datasets\": {\"data-6a3757894b9fd1dac0b21bc388562d66\": [{\"mean_fit_time\": 0.008432388305664062, \"std_fit_time\": 0.0007016204371435289, \"mean_score_time\": 0.013655138015747071, \"std_score_time\": 0.00026883922514201353, \"param_kneighborsclassifier__n_neighbors\": 2, \"params\": {\"kneighborsclassifier__n_neighbors\": 2}, \"split0_test_score\": 0.7903225806451613, \"split1_test_score\": 0.8387096774193549, \"split2_test_score\": 0.8306451612903226, \"split3_test_score\": 0.8145161290322581, \"split4_test_score\": 0.8292682926829268, \"mean_test_score\": 0.8206923682140047, \"std_test_score\": 0.017074530323992365, \"rank_test_score\": 11}, {\"mean_fit_time\": 0.008097696304321288, \"std_fit_time\": 0.00032000617358442663, \"mean_score_time\": 0.01362142562866211, \"std_score_time\": 0.0002115779505923203, \"param_kneighborsclassifier__n_neighbors\": 3, \"params\": {\"kneighborsclassifier__n_neighbors\": 3}, \"split0_test_score\": 0.8064516129032258, \"split1_test_score\": 0.8387096774193549, \"split2_test_score\": 0.7983870967741935, \"split3_test_score\": 0.8064516129032258, \"split4_test_score\": 0.8373983739837398, \"mean_test_score\": 0.8174796747967481, \"std_test_score\": 0.017060072816138916, \"rank_test_score\": 12}, {\"mean_fit_time\": 0.007709407806396484, \"std_fit_time\": 0.00010701097021149627, \"mean_score_time\": 0.013512897491455077, \"std_score_time\": 0.00017456293938070927, \"param_kneighborsclassifier__n_neighbors\": 4, \"params\": {\"kneighborsclassifier__n_neighbors\": 4}, \"split0_test_score\": 0.8145161290322581, \"split1_test_score\": 0.8467741935483871, \"split2_test_score\": 0.8145161290322581, \"split3_test_score\": 0.8225806451612904, \"split4_test_score\": 0.8373983739837398, \"mean_test_score\": 0.8271570941515869, \"std_test_score\": 0.012886010127276496, \"rank_test_score\": 9}, {\"mean_fit_time\": 0.007741594314575195, \"std_fit_time\": 0.00014988286705532765, \"mean_score_time\": 0.013624191284179688, \"std_score_time\": 0.00024050259530103543, \"param_kneighborsclassifier__n_neighbors\": 5, \"params\": {\"kneighborsclassifier__n_neighbors\": 5}, \"split0_test_score\": 0.8145161290322581, \"split1_test_score\": 0.8548387096774194, \"split2_test_score\": 0.7903225806451613, \"split3_test_score\": 0.8145161290322581, \"split4_test_score\": 0.8048780487804879, \"mean_test_score\": 0.8158143194335169, \"std_test_score\": 0.021427572857392368, \"rank_test_score\": 13}, {\"mean_fit_time\": 0.0077550411224365234, \"std_fit_time\": 4.393298212886264e-05, \"mean_score_time\": 0.013572216033935547, \"std_score_time\": 0.000285389011060743, \"param_kneighborsclassifier__n_neighbors\": 6, \"params\": {\"kneighborsclassifier__n_neighbors\": 6}, \"split0_test_score\": 0.8306451612903226, \"split1_test_score\": 0.8467741935483871, \"split2_test_score\": 0.8387096774193549, \"split3_test_score\": 0.8387096774193549, \"split4_test_score\": 0.8211382113821138, \"mean_test_score\": 0.8351953842119066, \"std_test_score\": 0.008684215286934962, \"rank_test_score\": 7}, {\"mean_fit_time\": 0.007508039474487305, \"std_fit_time\": 0.00011108781030506236, \"mean_score_time\": 0.013364219665527343, \"std_score_time\": 0.0002452636200677243, \"param_kneighborsclassifier__n_neighbors\": 7, \"params\": {\"kneighborsclassifier__n_neighbors\": 7}, \"split0_test_score\": 0.8225806451612904, \"split1_test_score\": 0.8629032258064516, \"split2_test_score\": 0.8225806451612904, \"split3_test_score\": 0.8225806451612904, \"split4_test_score\": 0.7967479674796748, \"mean_test_score\": 0.8254786257539996, \"std_test_score\": 0.021219077682638227, \"rank_test_score\": 10}, {\"mean_fit_time\": 0.007402992248535157, \"std_fit_time\": 5.7782472838777284e-05, \"mean_score_time\": 0.013068246841430663, \"std_score_time\": 0.0001805705823605264, \"param_kneighborsclassifier__n_neighbors\": 8, \"params\": {\"kneighborsclassifier__n_neighbors\": 8}, \"split0_test_score\": 0.8225806451612904, \"split1_test_score\": 0.8467741935483871, \"split2_test_score\": 0.8387096774193549, \"split3_test_score\": 0.8225806451612904, \"split4_test_score\": 0.8455284552845529, \"mean_test_score\": 0.8352347233149752, \"std_test_score\": 0.01069062191826068, \"rank_test_score\": 5}, {\"mean_fit_time\": 0.007356166839599609, \"std_fit_time\": 0.00017151316231195268, \"mean_score_time\": 0.012983274459838868, \"std_score_time\": 0.0003676946764757971, \"param_kneighborsclassifier__n_neighbors\": 9, \"params\": {\"kneighborsclassifier__n_neighbors\": 9}, \"split0_test_score\": 0.8225806451612904, \"split1_test_score\": 0.8467741935483871, \"split2_test_score\": 0.8225806451612904, \"split3_test_score\": 0.8387096774193549, \"split4_test_score\": 0.8292682926829268, \"mean_test_score\": 0.8319826907946499, \"std_test_score\": 0.009467901394239923, \"rank_test_score\": 8}, {\"mean_fit_time\": 0.006903171539306641, \"std_fit_time\": 0.00018688385231176302, \"mean_score_time\": 0.012496042251586913, \"std_score_time\": 0.00071765813139061, \"param_kneighborsclassifier__n_neighbors\": 10, \"params\": {\"kneighborsclassifier__n_neighbors\": 10}, \"split0_test_score\": 0.8306451612903226, \"split1_test_score\": 0.8467741935483871, \"split2_test_score\": 0.8387096774193549, \"split3_test_score\": 0.8387096774193549, \"split4_test_score\": 0.8292682926829268, \"mean_test_score\": 0.8368214004720693, \"std_test_score\": 0.006346410597871026, \"rank_test_score\": 3}, {\"mean_fit_time\": 0.007111978530883789, \"std_fit_time\": 0.00023634848263454468, \"mean_score_time\": 0.01300506591796875, \"std_score_time\": 0.00036316055084218107, \"param_kneighborsclassifier__n_neighbors\": 11, \"params\": {\"kneighborsclassifier__n_neighbors\": 11}, \"split0_test_score\": 0.8387096774193549, \"split1_test_score\": 0.8467741935483871, \"split2_test_score\": 0.8387096774193549, \"split3_test_score\": 0.8467741935483871, \"split4_test_score\": 0.8130081300813008, \"mean_test_score\": 0.8367951744033568, \"std_test_score\": 0.012428320621626653, \"rank_test_score\": 4}, {\"mean_fit_time\": 0.007275533676147461, \"std_fit_time\": 0.0002449278785989167, \"mean_score_time\": 0.013294839859008789, \"std_score_time\": 0.00034982587367968004, \"param_kneighborsclassifier__n_neighbors\": 12, \"params\": {\"kneighborsclassifier__n_neighbors\": 12}, \"split0_test_score\": 0.8387096774193549, \"split1_test_score\": 0.8467741935483871, \"split2_test_score\": 0.8306451612903226, \"split3_test_score\": 0.8306451612903226, \"split4_test_score\": 0.8292682926829268, \"mean_test_score\": 0.8352084972462628, \"std_test_score\": 0.006677689628984806, \"rank_test_score\": 6}, {\"mean_fit_time\": 0.007163143157958985, \"std_fit_time\": 0.0002305536309412377, \"mean_score_time\": 0.012847280502319336, \"std_score_time\": 0.0004856984646990165, \"param_kneighborsclassifier__n_neighbors\": 13, \"params\": {\"kneighborsclassifier__n_neighbors\": 13}, \"split0_test_score\": 0.8387096774193549, \"split1_test_score\": 0.8467741935483871, \"split2_test_score\": 0.8306451612903226, \"split3_test_score\": 0.8306451612903226, \"split4_test_score\": 0.8373983739837398, \"mean_test_score\": 0.8368345135064252, \"std_test_score\": 0.005987446523932472, \"rank_test_score\": 2}, {\"mean_fit_time\": 0.006712675094604492, \"std_fit_time\": 0.00025711707784761747, \"mean_score_time\": 0.012175846099853515, \"std_score_time\": 0.0006106366929489331, \"param_kneighborsclassifier__n_neighbors\": 14, \"params\": {\"kneighborsclassifier__n_neighbors\": 14}, \"split0_test_score\": 0.8387096774193549, \"split1_test_score\": 0.8467741935483871, \"split2_test_score\": 0.8467741935483871, \"split3_test_score\": 0.8306451612903226, \"split4_test_score\": 0.8373983739837398, \"mean_test_score\": 0.8400603199580383, \"std_test_score\": 0.006127113538200732, \"rank_test_score\": 1}]}}, {\"mode\": \"vega-lite\"});\n",
       "</script>"
      ],
      "text/plain": [
       "alt.Chart(...)"
      ]
     },
     "execution_count": 27,
     "metadata": {},
     "output_type": "execute_result"
    }
   ],
   "source": [
    "# hyperparameter opitmization\n",
    "from sklearn.model_selection import (\n",
    "    GridSearchCV,\n",
    "    RandomizedSearchCV,\n",
    "    cross_validate,\n",
    "    train_test_split,\n",
    "    ParameterGrid)\n",
    "\n",
    "# specify a particular value for the n_neighbors argument\n",
    "# pass the set of values for each parameters you would like to tune\n",
    "param_grid = {\n",
    "  \"kneighborsclassifier__n_neighbors\": range(2,15,1),\n",
    "}\n",
    "\n",
    "# redefine the pipeline to use default values for parameters\n",
    "speeddating_tune_pipe = make_pipeline(\n",
    "  speeddating_preprocessor,\n",
    "  KNeighborsClassifier())\n",
    "\n",
    "# run 5-fold-cross-validations to tune hyperparameters\n",
    "knn_tune_grid = GridSearchCV(\n",
    "  estimator=speeddating_tune_pipe,\n",
    "  param_grid=param_grid,\n",
    "  cv=5\n",
    ")\n",
    "\n",
    "\n",
    "# fit the models to the data\n",
    "# predictors and target\n",
    "X_tune=speeddating_training[[\"attractive_partner\", \"sincere_partner\",\"intelligence_partner\", \"funny_partner\", \"shared_interests_partner\",\"ambition_partner\"]]\n",
    "y_tune=speeddating_training[\"match\"]\n",
    "\n",
    "# assign tuned models\n",
    "knn_model_grid = knn_tune_grid.fit(X_tune, y_tune)\n",
    "\n",
    "\n",
    "# find the cv_results_ and save in dataframe\n",
    "accuracies_grid = pd.DataFrame(knn_model_grid.cv_results_)\n",
    "\n",
    "\n",
    "# use a line plot to find the best value of the number of neighbors\n",
    "accuracy_versus_k_grid = (\n",
    "    alt.Chart(accuracies_grid, title=\"Grid Search\")\n",
    "    .mark_line(point=True)\n",
    "    .encode(\n",
    "        x=alt.X(\n",
    "            \"param_kneighborsclassifier__n_neighbors\",\n",
    "            title=\"Neighbors\",\n",
    "            scale=alt.Scale(zero=False),\n",
    "        ),\n",
    "        y=alt.Y(\n",
    "            \"mean_test_score\", \n",
    "            title=\"Mean Test Score\", \n",
    "            scale=alt.Scale(zero=False)\n",
    "        ),\n",
    "    )\n",
    "    .configure_axis(labelFontSize=10, titleFontSize=15)\n",
    "    .properties(width=400, height=300)\n",
    ")\n",
    "accuracy_versus_k_grid\n"
   ]
  },
  {
   "cell_type": "markdown",
   "id": "ebf041bd-1f2e-42cd-b304-74f129dc090f",
   "metadata": {},
   "source": [
    "#### Cross Validation (CV)"
   ]
  },
  {
   "cell_type": "markdown",
   "id": "916cbe69-a969-4ee6-ba42-705a759403e4",
   "metadata": {},
   "source": [
    "##### CV Accuracy: Attractive Partner & Match"
   ]
  },
  {
   "cell_type": "code",
   "execution_count": 28,
   "id": "5c6b11a4-5270-45f3-860c-21bb2d7ad88c",
   "metadata": {},
   "outputs": [
    {
     "data": {
      "text/plain": [
       "0.8387096774193549"
      ]
     },
     "execution_count": 28,
     "metadata": {},
     "output_type": "execute_result"
    }
   ],
   "source": [
    "np.random.seed(1000)\n",
    "speeddating_preprocessor = make_column_transformer(\n",
    "    (StandardScaler(), [\"attractive_partner\"]),\n",
    ")\n",
    "\n",
    "# create the 25/75 split of the *training data* into sub-training and validation\n",
    "speeddating_subtrain, speeddating_validation = train_test_split(\n",
    "    speeddating_training, test_size=0.25\n",
    ")\n",
    "\n",
    "# fit the model on the sub-training data\n",
    "knn = KNeighborsClassifier(n_neighbors=6) \n",
    "X = speeddating_subtrain.loc[:, [\"attractive_partner\"]]\n",
    "y = speeddating_subtrain[\"match\"]\n",
    "knn_fit = make_pipeline(speeddating_preprocessor, knn).fit(X, y)\n",
    "\n",
    "# compute the score on validation data\n",
    "acc = knn_fit.score(\n",
    "    speeddating_validation.loc[:, [\"attractive_partner\"]],\n",
    "    speeddating_validation[\"match\"]\n",
    ")\n",
    "acc"
   ]
  },
  {
   "cell_type": "markdown",
   "id": "8878d27a-65e4-4e37-b4ee-6cee99aed242",
   "metadata": {},
   "source": [
    "##### CV Accuracy: Intelligence Partner & Match"
   ]
  },
  {
   "cell_type": "code",
   "execution_count": 21,
   "id": "681b163f-3cc8-46ab-8381-af17808a3083",
   "metadata": {},
   "outputs": [
    {
     "data": {
      "text/plain": [
       "0.8516129032258064"
      ]
     },
     "execution_count": 29,
     "metadata": {},
     "output_type": "execute_result"
    }
   ],
   "source": [
    "np.random.seed(1000)\n",
    "speeddating_preprocessor = make_column_transformer(\n",
    "    (StandardScaler(), [\"intelligence_partner\"]),\n",
    ")\n",
    "\n",
    "# create the 25/75 split of the *training data* into sub-training and validation\n",
    "speeddating_subtrain, speeddating_validation = train_test_split(\n",
    "    speeddating_training, test_size=0.25\n",
    ")\n",
    "\n",
    "# fit the model on the sub-training data\n",
    "knn = KNeighborsClassifier(n_neighbors=6) \n",
    "X = speeddating_subtrain.loc[:, [\"intelligence_partner\"]]\n",
    "y = speeddating_subtrain[\"match\"]\n",
    "knn_fit = make_pipeline(speeddating_preprocessor, knn).fit(X, y)\n",
    "\n",
    "# compute the score on validation data\n",
    "acc = knn_fit.score(\n",
    "    speeddating_validation.loc[:, [\"intelligence_partner\"]],\n",
    "    speeddating_validation[\"match\"]\n",
    ")\n",
    "acc"
   ]
  },
  {
   "cell_type": "code",
   "execution_count": 22,
   "id": "1518a3c4-5302-4a4d-9806-f2d76cbbe147",
   "metadata": {},
   "outputs": [
    {
     "data": {
      "text/plain": [
       "0.8193548387096774"
      ]
     },
     "execution_count": 30,
     "metadata": {},
     "output_type": "execute_result"
    }
   ],
   "source": [
    "np.random.seed(1000)\n",
    "speeddating_preprocessor = make_column_transformer(\n",
    "    (StandardScaler(), [\"funny_partner\"]),\n",
    ")\n",
    "\n",
    "# create the 25/75 split of the *training data* into sub-training and validation\n",
    "speeddating_subtrain, speeddating_validation = train_test_split(\n",
    "    speeddating_training, test_size=0.25\n",
    ")\n",
    "\n",
    "# fit the model on the sub-training data\n",
    "knn = KNeighborsClassifier(n_neighbors=6) \n",
    "X = speeddating_subtrain.loc[:, [\"funny_partner\"]]\n",
    "y = speeddating_subtrain[\"match\"]\n",
    "knn_fit = make_pipeline(speeddating_preprocessor, knn).fit(X, y)\n",
    "\n",
    "# compute the score on validation data\n",
    "acc = knn_fit.score(\n",
    "    speeddating_validation.loc[:, [\"funny_partner\"]],\n",
    "    speeddating_validation[\"match\"]\n",
    ")\n",
    "acc"
   ]
  },
  {
   "cell_type": "code",
   "execution_count": 23,
   "id": "ac18b279-7b88-4357-aa43-b917a412a79f",
   "metadata": {},
   "outputs": [
    {
     "data": {
      "text/plain": [
       "0.864516129032258"
      ]
     },
     "execution_count": 31,
     "metadata": {},
     "output_type": "execute_result"
    }
   ],
   "source": [
    "np.random.seed(1000)\n",
    "speeddating_preprocessor = make_column_transformer(\n",
    "    (StandardScaler(), [\"shared_interests_partner\"]),\n",
    ")\n",
    "\n",
    "# create the 25/75 split of the *training data* into sub-training and validation\n",
    "speeddating_subtrain, speeddating_validation = train_test_split(\n",
    "    speeddating_training, test_size=0.25\n",
    ")\n",
    "\n",
    "# fit the model on the sub-training data\n",
    "knn = KNeighborsClassifier(n_neighbors=6) \n",
    "X = speeddating_subtrain.loc[:, [\"shared_interests_partner\"]]\n",
    "y = speeddating_subtrain[\"match\"]\n",
    "knn_fit = make_pipeline(speeddating_preprocessor, knn).fit(X, y)\n",
    "\n",
    "# compute the score on validation data\n",
    "acc = knn_fit.score(\n",
    "    speeddating_validation.loc[:, [\"shared_interests_partner\"]],\n",
    "    speeddating_validation[\"match\"]\n",
    ")\n",
    "acc"
   ]
  },
  {
   "cell_type": "code",
   "execution_count": 24,
   "id": "fe2ada54-5b73-4cc2-8ce2-f70ede00195b",
   "metadata": {},
   "outputs": [
    {
     "data": {
      "text/plain": [
       "0.8516129032258064"
      ]
     },
     "execution_count": 32,
     "metadata": {},
     "output_type": "execute_result"
    }
   ],
   "source": [
    "np.random.seed(1000)\n",
    "# fit the model on the sub-training data\n",
    "speeddating_preprocessor = make_column_transformer(\n",
    "    (StandardScaler(), [\"ambition_partner\"]),\n",
    ")\n",
    "\n",
    "# create the 25/75 split of the *training data* into sub-training and validation\n",
    "speeddating_subtrain, speeddating_validation = train_test_split(\n",
    "    speeddating_training, test_size=0.25\n",
    ")\n",
    "\n",
    "knn = KNeighborsClassifier(n_neighbors=6) \n",
    "X = speeddating_subtrain.loc[:, [\"ambition_partner\"]]\n",
    "y = speeddating_subtrain[\"match\"]\n",
    "knn_fit = make_pipeline(speeddating_preprocessor, knn).fit(X, y)\n",
    "\n",
    "# compute the score on validation data\n",
    "acc = knn_fit.score(\n",
    "    speeddating_validation.loc[:, [\"ambition_partner\"]],\n",
    "    speeddating_validation[\"match\"]\n",
    ")\n",
    "acc"
   ]
  },
  {
   "cell_type": "code",
   "execution_count": 25,
   "id": "09c115b9-d3a4-4b7e-8ab8-ae8399947283",
   "metadata": {},
   "outputs": [
    {
     "data": {
      "text/plain": [
       "0.8516129032258064"
      ]
     },
     "execution_count": 33,
     "metadata": {},
     "output_type": "execute_result"
    }
   ],
   "source": [
    "np.random.seed(1000)\n",
    "# fit the model on the sub-training data\n",
    "speeddating_preprocessor = make_column_transformer(\n",
    "    (StandardScaler(), [\"ambition_partner\"]),\n",
    ")\n",
    "\n",
    "# create the 25/75 split of the *training data* into sub-training and validation\n",
    "speeddating_subtrain, speeddating_validation = train_test_split(\n",
    "    speeddating_training, test_size=0.25\n",
    ")\n",
    "\n",
    "knn = KNeighborsClassifier(n_neighbors=6) \n",
    "X = speeddating_subtrain.loc[:, [\"ambition_partner\"]]\n",
    "y = speeddating_subtrain[\"match\"]\n",
    "knn_fit = make_pipeline(speeddating_preprocessor, knn).fit(X, y)\n",
    "\n",
    "# compute the score on validation data\n",
    "acc = knn_fit.score(\n",
    "    speeddating_validation.loc[:, [\"ambition_partner\"]],\n",
    "    speeddating_validation[\"match\"]\n",
    ")\n",
    "acc"
   ]
  },
  {
   "cell_type": "code",
   "execution_count": 26,
   "id": "4690a17d-d698-407a-b2b6-d5e09688344a",
   "metadata": {},
   "outputs": [
    {
     "data": {
      "text/plain": [
       "0.8709677419354839"
      ]
     },
     "execution_count": 34,
     "metadata": {},
     "output_type": "execute_result"
    }
   ],
   "source": [
    "np.random.seed(1000)\n",
    "# fit the model on the sub-training data\n",
    "speeddating_preprocessor = make_column_transformer(\n",
    "    (StandardScaler(), [\"sincere_partner\",\"intelligence_partner\", \"shared_interests_partner\", \"ambition_partner\"]),\n",
    ")\n",
    "\n",
    "# create the 25/75 split of the *training data* into sub-training and validation\n",
    "speeddating_subtrain, speeddating_validation = train_test_split(\n",
    "    speeddating_training, test_size=0.25\n",
    ")\n",
    "\n",
    "knn = KNeighborsClassifier(n_neighbors=6) \n",
    "X = speeddating_subtrain.loc[:, [\"sincere_partner\",\"intelligence_partner\", \"shared_interests_partner\", \"ambition_partner\"]]\n",
    "y = speeddating_subtrain[\"match\"]\n",
    "knn_fit = make_pipeline(speeddating_preprocessor, knn).fit(X, y)\n",
    "\n",
    "# compute the score on validation data\n",
    "acc = knn_fit.score(\n",
    "    speeddating_validation.loc[:, [\"sincere_partner\",\"intelligence_partner\", \"shared_interests_partner\", \"ambition_partner\"]],\n",
    "    speeddating_validation[\"match\"]\n",
    ")\n",
    "acc"
   ]
  },
  {
   "cell_type": "code",
   "execution_count": null,
   "id": "0be72778-634b-42b7-9929-8ec7a63d5ef0",
   "metadata": {},
   "outputs": [],
   "source": []
  }
 ],
 "metadata": {
  "kernelspec": {
   "display_name": "Python 3 (ipykernel)",
   "language": "python",
   "name": "python3"
  },
  "language_info": {
   "codemirror_mode": {
    "name": "ipython",
    "version": 3
   },
   "file_extension": ".py",
   "mimetype": "text/x-python",
   "name": "python",
   "nbconvert_exporter": "python",
   "pygments_lexer": "ipython3",
   "version": "3.10.8"
  }
 },
 "nbformat": 4,
 "nbformat_minor": 5
}
